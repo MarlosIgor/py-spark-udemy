{
 "cells": [
  {
   "cell_type": "code",
   "execution_count": 3,
   "id": "1a12bb4e-adec-488f-bdb7-59bdd296d75a",
   "metadata": {},
   "outputs": [],
   "source": [
    "from pyspark.sql import SparkSession\n",
    "import pyspark.sql.functions as F"
   ]
  },
  {
   "cell_type": "code",
   "execution_count": 4,
   "id": "bb02c3f6-6886-470f-a598-3387956b46da",
   "metadata": {},
   "outputs": [],
   "source": [
    "spark = (\n",
    "    SparkSession.builder\n",
    "    .appName(\"Curso de PySpark\")\n",
    "    .config(\"spark.sql.repl.eagerEval.enabled\", True)\n",
    "    .getOrCreate()\n",
    ")"
   ]
  },
  {
   "cell_type": "code",
   "execution_count": 5,
   "id": "2ce523a5-834c-41a3-a9e3-d70f5dbc60c7",
   "metadata": {},
   "outputs": [
    {
     "data": {
      "text/html": [
       "\n",
       "            <div>\n",
       "                <p><b>SparkSession - in-memory</b></p>\n",
       "                \n",
       "        <div>\n",
       "            <p><b>SparkContext</b></p>\n",
       "\n",
       "            <p><a href=\"http://COLTWFGLFV04:4040\">Spark UI</a></p>\n",
       "\n",
       "            <dl>\n",
       "              <dt>Version</dt>\n",
       "                <dd><code>v3.5.5</code></dd>\n",
       "              <dt>Master</dt>\n",
       "                <dd><code>local[*]</code></dd>\n",
       "              <dt>AppName</dt>\n",
       "                <dd><code>Curso de PySpark</code></dd>\n",
       "            </dl>\n",
       "        </div>\n",
       "        \n",
       "            </div>\n",
       "        "
      ],
      "text/plain": [
       "<pyspark.sql.session.SparkSession at 0x264cd097320>"
      ]
     },
     "execution_count": 5,
     "metadata": {},
     "output_type": "execute_result"
    }
   ],
   "source": [
    "spark"
   ]
  },
  {
   "cell_type": "code",
   "execution_count": 6,
   "id": "ea581347-3161-4fee-a6ba-a3e51365139d",
   "metadata": {},
   "outputs": [],
   "source": [
    "path = \"C:/Users/marlos.barros/Cursos/pyspark_na_pratica/DATASETS/LOGINS.parquet\""
   ]
  },
  {
   "cell_type": "code",
   "execution_count": 7,
   "id": "7a77e6c5-e674-4eb9-97f6-7e2679319aef",
   "metadata": {},
   "outputs": [],
   "source": [
    "df = spark.read.format(\"parquet\").load(path)"
   ]
  },
  {
   "cell_type": "code",
   "execution_count": 8,
   "id": "dd0d4bd8-cdab-4938-8600-409bfc8e58de",
   "metadata": {
    "scrolled": true
   },
   "outputs": [
    {
     "data": {
      "text/html": [
       "<table border='1'>\n",
       "<tr><th>cpf</th><th>email</th><th>senha</th><th>data_de_nascimento</th><th>estado</th><th>data_cadastro</th><th>ipv4</th><th>cor_favorita</th><th>profissao</th><th>telefone</th></tr>\n",
       "<tr><td>981.507.362-12</td><td>pedro-lucas53@gma...</td><td>+7^7E%xFBc</td><td>2006-12-18</td><td>RR</td><td>2023-02-26</td><td>99.107.250.210</td><td>Roxo</td><td>Jogador De Golfe</td><td>31 7785-4046</td></tr>\n",
       "<tr><td>493.705.168-75</td><td>rezendeisaac@hotm...</td><td>_O_2GRnGOe</td><td>1992-06-17</td><td>GO</td><td>2023-02-16</td><td>197.11.26.213</td><td>Ciano</td><td>Atleta De Arremes...</td><td>(031) 0803-6753</td></tr>\n",
       "<tr><td>398.471.625-73</td><td>felipepires@uol.c...</td><td>*Aw5EOAvy9</td><td>1921-11-11</td><td>MG</td><td>2023-01-02</td><td>181.90.63.58</td><td>Azul</td><td>Papiloscopista</td><td>11 9674-0553</td></tr>\n",
       "<tr><td>092.618.354-06</td><td>stellamoraes@bol....</td><td>mw0AWYAs#s</td><td>2021-06-01</td><td>AC</td><td>2023-01-08</td><td>26.121.127.94</td><td>Marrom</td><td>Aeromo&ccedil;a</td><td>+55 (071) 3033 9177</td></tr>\n",
       "<tr><td>509.427.136-99</td><td>wcarvalho@ig.com.br</td><td>pGD%!2Pq5X</td><td>1969-10-28</td><td>AP</td><td>2023-02-14</td><td>76.184.52.163</td><td>Laranja</td><td>Fonoaudi&oacute;logo</td><td>+55 (071) 6272 2468</td></tr>\n",
       "<tr><td>218.795.460-94</td><td>da-conceicaodavi-...</td><td>uhBbFxPA&amp;9</td><td>1986-05-19</td><td>MG</td><td>2023-03-07</td><td>192.93.0.24</td><td>Rosa</td><td>Taxista</td><td>+55 84 0652 9691</td></tr>\n",
       "<tr><td>715.836.940-48</td><td>efreitas@bol.com.br</td><td>s#q9VZt&amp;xl</td><td>2018-04-20</td><td>MG</td><td>2023-01-13</td><td>76.251.188.148</td><td>Branco</td><td>Produtor De Audio...</td><td>+55 (084) 1363 0052</td></tr>\n",
       "<tr><td>475.698.032-56</td><td>wnunes@bol.com.br</td><td>_8az1W%n7g</td><td>1996-05-12</td><td>SE</td><td>2023-02-04</td><td>139.196.176.154</td><td>Azul</td><td>Cadeirinha</td><td>(071) 1640-3388</td></tr>\n",
       "<tr><td>217.639.540-99</td><td>jribeiro@bol.com.br</td><td>MEf1X7fj_0</td><td>2021-10-05</td><td>PA</td><td>2023-03-02</td><td>71.22.224.5</td><td>Marrom</td><td>Ge&oacute;logo</td><td>21 1432 4092</td></tr>\n",
       "<tr><td>261.938.750-77</td><td>murilo05@gmail.com</td><td>Te&amp;gO7GkKs</td><td>1917-01-05</td><td>MT</td><td>2023-02-21</td><td>136.54.123.165</td><td>Marrom</td><td>T&eacute;cnico De Som</td><td>+55 (084) 5878-3346</td></tr>\n",
       "<tr><td>520.831.796-68</td><td>joaquim57@ig.com.br</td><td>&amp;2E1NY+ARc</td><td>1912-05-25</td><td>BA</td><td>2023-01-25</td><td>78.196.255.126</td><td>Rosa</td><td>Esteticista</td><td>41 7914-3753</td></tr>\n",
       "<tr><td>413.087.526-44</td><td>alexiada-rocha@ig...</td><td>@f@!Z!2c*2</td><td>1920-05-26</td><td>MS</td><td>2023-02-18</td><td>182.61.65.201</td><td>Laranja</td><td>Microfonista</td><td>(021) 3739-2944</td></tr>\n",
       "<tr><td>509.287.143-14</td><td>pmendes@gmail.com</td><td>M+^XDBfe(2</td><td>1938-03-11</td><td>RR</td><td>2023-01-19</td><td>61.234.208.17</td><td>Verde Claro</td><td>Fiscal</td><td>+55 (084) 5940-1932</td></tr>\n",
       "<tr><td>563.170.492-70</td><td>renan46@bol.com.br</td><td>Rp%2pVqfe$</td><td>1922-09-01</td><td>PA</td><td>2023-02-01</td><td>122.203.83.177</td><td>Verde Escuro</td><td>Contabilista</td><td>+55 41 6248 5773</td></tr>\n",
       "<tr><td>098.712.346-78</td><td>manuelada-rosa@ho...</td><td>#hEIEOztQ3</td><td>2013-01-10</td><td>SE</td><td>2023-01-07</td><td>175.18.73.211</td><td>Violeta</td><td>Seguidor De Compras</td><td>51 0278 0564</td></tr>\n",
       "<tr><td>345.709.261-34</td><td>usales@ig.com.br</td><td>b_8xaY$ozJ</td><td>1992-10-16</td><td>AM</td><td>2023-01-05</td><td>97.93.29.75</td><td>Rosa</td><td>Almirante</td><td>(084) 8993-4521</td></tr>\n",
       "<tr><td>318.254.906-51</td><td>pereiranicolas@ho...</td><td>YA9I85Wb+2</td><td>1945-11-18</td><td>MA</td><td>2023-01-24</td><td>182.195.33.137</td><td>Amarelo</td><td>Consultor De Moda</td><td>(084) 4591 3795</td></tr>\n",
       "<tr><td>610.287.453-62</td><td>cardosolivia@ig.c...</td><td>yXkDW7Ebh*</td><td>1915-11-15</td><td>GO</td><td>2023-01-22</td><td>195.194.63.184</td><td>Laranja</td><td>Barbeiro</td><td>+55 61 8967-9563</td></tr>\n",
       "<tr><td>615.790.842-49</td><td>brenda39@ig.com.br</td><td>XS$84Hpsnw</td><td>1964-02-01</td><td>RJ</td><td>2023-02-16</td><td>21.252.226.29</td><td>Branco</td><td>Promotor De Vendas</td><td>+55 (021) 4751 2004</td></tr>\n",
       "<tr><td>624.095.138-24</td><td>luizapeixoto@gmai...</td><td>TbKy82Kda$</td><td>1959-02-01</td><td>DF</td><td>2023-02-25</td><td>105.107.23.13</td><td>Ciano</td><td>Implantodontista</td><td>84 1293 1906</td></tr>\n",
       "</table>\n",
       "only showing top 20 rows\n"
      ],
      "text/plain": [
       "+--------------+--------------------+----------+------------------+------+-------------+---------------+------------+--------------------+-------------------+\n",
       "|           cpf|               email|     senha|data_de_nascimento|estado|data_cadastro|           ipv4|cor_favorita|           profissao|           telefone|\n",
       "+--------------+--------------------+----------+------------------+------+-------------+---------------+------------+--------------------+-------------------+\n",
       "|981.507.362-12|pedro-lucas53@gma...|+7^7E%xFBc|        2006-12-18|    RR|   2023-02-26| 99.107.250.210|        Roxo|    Jogador De Golfe|       31 7785-4046|\n",
       "|493.705.168-75|rezendeisaac@hotm...|_O_2GRnGOe|        1992-06-17|    GO|   2023-02-16|  197.11.26.213|       Ciano|Atleta De Arremes...|    (031) 0803-6753|\n",
       "|398.471.625-73|felipepires@uol.c...|*Aw5EOAvy9|        1921-11-11|    MG|   2023-01-02|   181.90.63.58|        Azul|      Papiloscopista|       11 9674-0553|\n",
       "|092.618.354-06|stellamoraes@bol....|mw0AWYAs#s|        2021-06-01|    AC|   2023-01-08|  26.121.127.94|      Marrom|            Aeromoça|+55 (071) 3033 9177|\n",
       "|509.427.136-99| wcarvalho@ig.com.br|pGD%!2Pq5X|        1969-10-28|    AP|   2023-02-14|  76.184.52.163|     Laranja|       Fonoaudiólogo|+55 (071) 6272 2468|\n",
       "|218.795.460-94|da-conceicaodavi-...|uhBbFxPA&9|        1986-05-19|    MG|   2023-03-07|    192.93.0.24|        Rosa|             Taxista|   +55 84 0652 9691|\n",
       "|715.836.940-48| efreitas@bol.com.br|s#q9VZt&xl|        2018-04-20|    MG|   2023-01-13| 76.251.188.148|      Branco|Produtor De Audio...|+55 (084) 1363 0052|\n",
       "|475.698.032-56|   wnunes@bol.com.br|_8az1W%n7g|        1996-05-12|    SE|   2023-02-04|139.196.176.154|        Azul|          Cadeirinha|    (071) 1640-3388|\n",
       "|217.639.540-99| jribeiro@bol.com.br|MEf1X7fj_0|        2021-10-05|    PA|   2023-03-02|    71.22.224.5|      Marrom|             Geólogo|       21 1432 4092|\n",
       "|261.938.750-77|  murilo05@gmail.com|Te&gO7GkKs|        1917-01-05|    MT|   2023-02-21| 136.54.123.165|      Marrom|      Técnico De Som|+55 (084) 5878-3346|\n",
       "|520.831.796-68| joaquim57@ig.com.br|&2E1NY+ARc|        1912-05-25|    BA|   2023-01-25| 78.196.255.126|        Rosa|         Esteticista|       41 7914-3753|\n",
       "|413.087.526-44|alexiada-rocha@ig...|@f@!Z!2c*2|        1920-05-26|    MS|   2023-02-18|  182.61.65.201|     Laranja|        Microfonista|    (021) 3739-2944|\n",
       "|509.287.143-14|   pmendes@gmail.com|M+^XDBfe(2|        1938-03-11|    RR|   2023-01-19|  61.234.208.17| Verde Claro|              Fiscal|+55 (084) 5940-1932|\n",
       "|563.170.492-70|  renan46@bol.com.br|Rp%2pVqfe$|        1922-09-01|    PA|   2023-02-01| 122.203.83.177|Verde Escuro|        Contabilista|   +55 41 6248 5773|\n",
       "|098.712.346-78|manuelada-rosa@ho...|#hEIEOztQ3|        2013-01-10|    SE|   2023-01-07|  175.18.73.211|     Violeta| Seguidor De Compras|       51 0278 0564|\n",
       "|345.709.261-34|    usales@ig.com.br|b_8xaY$ozJ|        1992-10-16|    AM|   2023-01-05|    97.93.29.75|        Rosa|           Almirante|    (084) 8993-4521|\n",
       "|318.254.906-51|pereiranicolas@ho...|YA9I85Wb+2|        1945-11-18|    MA|   2023-01-24| 182.195.33.137|     Amarelo|   Consultor De Moda|    (084) 4591 3795|\n",
       "|610.287.453-62|cardosolivia@ig.c...|yXkDW7Ebh*|        1915-11-15|    GO|   2023-01-22| 195.194.63.184|     Laranja|            Barbeiro|   +55 61 8967-9563|\n",
       "|615.790.842-49|  brenda39@ig.com.br|XS$84Hpsnw|        1964-02-01|    RJ|   2023-02-16|  21.252.226.29|      Branco|  Promotor De Vendas|+55 (021) 4751 2004|\n",
       "|624.095.138-24|luizapeixoto@gmai...|TbKy82Kda$|        1959-02-01|    DF|   2023-02-25|  105.107.23.13|       Ciano|    Implantodontista|       84 1293 1906|\n",
       "+--------------+--------------------+----------+------------------+------+-------------+---------------+------------+--------------------+-------------------+\n",
       "only showing top 20 rows"
      ]
     },
     "execution_count": 8,
     "metadata": {},
     "output_type": "execute_result"
    }
   ],
   "source": [
    "df"
   ]
  },
  {
   "cell_type": "markdown",
   "id": "3c4e1b16-1bc6-42f2-98e0-564bbd80221d",
   "metadata": {},
   "source": [
    "### Consulta SQL com spark.sql e DataFrame como parâmetro\n",
    "- Função: Executa uma consulta **SQL** diretamente no DataFrame **df**, filtrando as linhas onde a coluna estado está entre **\"PE\"** e **\"MG\"**. A função **spark.sql** permite a integração entre código **SQL** e **PySpark**, usando **{tabela}** como um placeholder para o DataFrame **df**."
   ]
  },
  {
   "cell_type": "code",
   "execution_count": 9,
   "id": "04f03045-071b-4391-8ac7-a86f3e4e094e",
   "metadata": {
    "scrolled": true
   },
   "outputs": [
    {
     "data": {
      "text/html": [
       "<table border='1'>\n",
       "<tr><th>cpf</th><th>email</th><th>senha</th><th>data_de_nascimento</th><th>estado</th><th>data_cadastro</th><th>ipv4</th><th>cor_favorita</th><th>profissao</th><th>telefone</th></tr>\n",
       "<tr><td>398.471.625-73</td><td>felipepires@uol.c...</td><td>*Aw5EOAvy9</td><td>1921-11-11</td><td>MG</td><td>2023-01-02</td><td>181.90.63.58</td><td>Azul</td><td>Papiloscopista</td><td>11 9674-0553</td></tr>\n",
       "<tr><td>218.795.460-94</td><td>da-conceicaodavi-...</td><td>uhBbFxPA&amp;9</td><td>1986-05-19</td><td>MG</td><td>2023-03-07</td><td>192.93.0.24</td><td>Rosa</td><td>Taxista</td><td>+55 84 0652 9691</td></tr>\n",
       "<tr><td>715.836.940-48</td><td>efreitas@bol.com.br</td><td>s#q9VZt&amp;xl</td><td>2018-04-20</td><td>MG</td><td>2023-01-13</td><td>76.251.188.148</td><td>Branco</td><td>Produtor De Audio...</td><td>+55 (084) 1363 0052</td></tr>\n",
       "<tr><td>348.215.690-51</td><td>omoreira@bol.com.br</td><td>!8maDkdVnY</td><td>2008-10-24</td><td>MG</td><td>2023-02-20</td><td>177.2.242.176</td><td>Verde Escuro</td><td>Adestrador De Ani...</td><td>+55 61 3217-9930</td></tr>\n",
       "<tr><td>875.130.249-79</td><td>da-rocharebeca@ho...</td><td>FlOoH0I6)6</td><td>1972-10-05</td><td>PE</td><td>2023-02-11</td><td>126.171.28.31</td><td>Violeta</td><td>Modelista</td><td>+55 84 1130-9822</td></tr>\n",
       "<tr><td>308.942.751-60</td><td>hpires@gmail.com</td><td>#^yq9HIt0h</td><td>1996-03-08</td><td>PE</td><td>2023-02-14</td><td>139.209.144.207</td><td>Ciano</td><td>Estofador</td><td>+55 31 1784 8068</td></tr>\n",
       "<tr><td>739.628.014-13</td><td>iaraujo@uol.com.br</td><td>DX+C7FQw*d</td><td>1991-03-05</td><td>PE</td><td>2023-03-02</td><td>12.226.164.38</td><td>Roxo</td><td>Retificador</td><td>51 6855 2871</td></tr>\n",
       "<tr><td>089.276.145-85</td><td>caua85@yahoo.com.br</td><td>8V%T2eBfi(</td><td>1939-12-30</td><td>PE</td><td>2023-03-11</td><td>110.188.83.186</td><td>Verde</td><td>Comiss&aacute;rio De Bordo</td><td>84 6794 1208</td></tr>\n",
       "<tr><td>943.185.762-64</td><td>melissa97@bol.com.br</td><td>MBlZ9BOwp(</td><td>1953-06-09</td><td>PE</td><td>2023-01-16</td><td>97.254.23.196</td><td>Azul</td><td>F&iacute;sico</td><td>31 6169-0705</td></tr>\n",
       "<tr><td>856.320.419-05</td><td>scampos@bol.com.br</td><td>@*rkAfImD1</td><td>1997-06-08</td><td>PE</td><td>2023-01-31</td><td>175.72.45.212</td><td>Cinza</td><td>Designer De Inter...</td><td>+55 11 5760 0473</td></tr>\n",
       "<tr><td>943.516.028-05</td><td>davidas-neves@yah...</td><td>%G3O8WBl%q</td><td>1944-04-21</td><td>PE</td><td>2023-02-01</td><td>166.78.158.170</td><td>Cinza</td><td>Soci&oacute;logo</td><td>61 8308 7207</td></tr>\n",
       "<tr><td>482.713.059-05</td><td>biancasilveira@uo...</td><td>OLyPf6U7*2</td><td>1990-03-16</td><td>PE</td><td>2023-01-05</td><td>168.182.87.73</td><td>Violeta</td><td>T&eacute;cnico De Gesso</td><td>+55 (021) 0118-1450</td></tr>\n",
       "<tr><td>137.964.520-43</td><td>natalia72@ig.com.br</td><td>i71MdCj2*^</td><td>1939-06-26</td><td>MG</td><td>2023-02-03</td><td>141.28.225.40</td><td>Branco</td><td>Espeleologista</td><td>(041) 8471 8007</td></tr>\n",
       "<tr><td>216.058.974-85</td><td>bribeiro@yahoo.co...</td><td>7cb)4Jgt5*</td><td>1912-05-23</td><td>PE</td><td>2023-01-15</td><td>73.118.46.165</td><td>Preto</td><td>Pianista</td><td>+55 (031) 2307-4369</td></tr>\n",
       "<tr><td>790.482.315-23</td><td>noaharagao@hotmai...</td><td>#i_LhbOX52</td><td>1922-03-19</td><td>MG</td><td>2023-01-25</td><td>170.188.237.119</td><td>Preto</td><td>Empacotador</td><td>+55 (031) 9156-3903</td></tr>\n",
       "<tr><td>872.041.936-87</td><td>fsilva@yahoo.com.br</td><td>B+E9r_CkU^</td><td>1926-05-20</td><td>MG</td><td>2023-01-04</td><td>220.1.100.77</td><td>Marrom</td><td>Mec&acirc;nico De V&ocirc;o</td><td>(031) 9834-4568</td></tr>\n",
       "<tr><td>832.714.650-53</td><td>ijesus@gmail.com</td><td>JLr@1Mlr!Z</td><td>1983-05-21</td><td>MG</td><td>2023-01-25</td><td>84.142.120.51</td><td>Roxo</td><td>Ministro</td><td>81 9463-7374</td></tr>\n",
       "<tr><td>529.610.873-68</td><td>barbosajuliana@bo...</td><td>$!3Td!uO%^</td><td>2016-09-03</td><td>MG</td><td>2023-02-15</td><td>85.36.21.190</td><td>Amarelo</td><td>Lenhador</td><td>(061) 3713 1708</td></tr>\n",
       "<tr><td>379.642.518-64</td><td>davi03@hotmail.com</td><td>*kOCR0bUW4</td><td>1954-01-28</td><td>PE</td><td>2023-01-06</td><td>29.17.38.236</td><td>Laranja</td><td>Engenheiro De Com...</td><td>+55 71 4927-4694</td></tr>\n",
       "<tr><td>134.985.067-57</td><td>yago35@bol.com.br</td><td>Mcp&amp;6MYtbL</td><td>1993-12-03</td><td>PE</td><td>2023-02-14</td><td>10.67.124.77</td><td>Magenta</td><td>Engenheiro Mecatr...</td><td>81 5269-9143</td></tr>\n",
       "</table>\n",
       "only showing top 20 rows\n"
      ],
      "text/plain": [
       "+--------------+--------------------+----------+------------------+------+-------------+---------------+------------+--------------------+-------------------+\n",
       "|           cpf|               email|     senha|data_de_nascimento|estado|data_cadastro|           ipv4|cor_favorita|           profissao|           telefone|\n",
       "+--------------+--------------------+----------+------------------+------+-------------+---------------+------------+--------------------+-------------------+\n",
       "|398.471.625-73|felipepires@uol.c...|*Aw5EOAvy9|        1921-11-11|    MG|   2023-01-02|   181.90.63.58|        Azul|      Papiloscopista|       11 9674-0553|\n",
       "|218.795.460-94|da-conceicaodavi-...|uhBbFxPA&9|        1986-05-19|    MG|   2023-03-07|    192.93.0.24|        Rosa|             Taxista|   +55 84 0652 9691|\n",
       "|715.836.940-48| efreitas@bol.com.br|s#q9VZt&xl|        2018-04-20|    MG|   2023-01-13| 76.251.188.148|      Branco|Produtor De Audio...|+55 (084) 1363 0052|\n",
       "|348.215.690-51| omoreira@bol.com.br|!8maDkdVnY|        2008-10-24|    MG|   2023-02-20|  177.2.242.176|Verde Escuro|Adestrador De Ani...|   +55 61 3217-9930|\n",
       "|875.130.249-79|da-rocharebeca@ho...|FlOoH0I6)6|        1972-10-05|    PE|   2023-02-11|  126.171.28.31|     Violeta|           Modelista|   +55 84 1130-9822|\n",
       "|308.942.751-60|    hpires@gmail.com|#^yq9HIt0h|        1996-03-08|    PE|   2023-02-14|139.209.144.207|       Ciano|           Estofador|   +55 31 1784 8068|\n",
       "|739.628.014-13|  iaraujo@uol.com.br|DX+C7FQw*d|        1991-03-05|    PE|   2023-03-02|  12.226.164.38|        Roxo|         Retificador|       51 6855 2871|\n",
       "|089.276.145-85| caua85@yahoo.com.br|8V%T2eBfi(|        1939-12-30|    PE|   2023-03-11| 110.188.83.186|       Verde| Comissário De Bordo|       84 6794 1208|\n",
       "|943.185.762-64|melissa97@bol.com.br|MBlZ9BOwp(|        1953-06-09|    PE|   2023-01-16|  97.254.23.196|        Azul|              Físico|       31 6169-0705|\n",
       "|856.320.419-05|  scampos@bol.com.br|@*rkAfImD1|        1997-06-08|    PE|   2023-01-31|  175.72.45.212|       Cinza|Designer De Inter...|   +55 11 5760 0473|\n",
       "|943.516.028-05|davidas-neves@yah...|%G3O8WBl%q|        1944-04-21|    PE|   2023-02-01| 166.78.158.170|       Cinza|           Sociólogo|       61 8308 7207|\n",
       "|482.713.059-05|biancasilveira@uo...|OLyPf6U7*2|        1990-03-16|    PE|   2023-01-05|  168.182.87.73|     Violeta|    Técnico De Gesso|+55 (021) 0118-1450|\n",
       "|137.964.520-43| natalia72@ig.com.br|i71MdCj2*^|        1939-06-26|    MG|   2023-02-03|  141.28.225.40|      Branco|      Espeleologista|    (041) 8471 8007|\n",
       "|216.058.974-85|bribeiro@yahoo.co...|7cb)4Jgt5*|        1912-05-23|    PE|   2023-01-15|  73.118.46.165|       Preto|            Pianista|+55 (031) 2307-4369|\n",
       "|790.482.315-23|noaharagao@hotmai...|#i_LhbOX52|        1922-03-19|    MG|   2023-01-25|170.188.237.119|       Preto|         Empacotador|+55 (031) 9156-3903|\n",
       "|872.041.936-87| fsilva@yahoo.com.br|B+E9r_CkU^|        1926-05-20|    MG|   2023-01-04|   220.1.100.77|      Marrom|     Mecânico De Vôo|    (031) 9834-4568|\n",
       "|832.714.650-53|    ijesus@gmail.com|JLr@1Mlr!Z|        1983-05-21|    MG|   2023-01-25|  84.142.120.51|        Roxo|            Ministro|       81 9463-7374|\n",
       "|529.610.873-68|barbosajuliana@bo...|$!3Td!uO%^|        2016-09-03|    MG|   2023-02-15|   85.36.21.190|     Amarelo|            Lenhador|    (061) 3713 1708|\n",
       "|379.642.518-64|  davi03@hotmail.com|*kOCR0bUW4|        1954-01-28|    PE|   2023-01-06|   29.17.38.236|     Laranja|Engenheiro De Com...|   +55 71 4927-4694|\n",
       "|134.985.067-57|   yago35@bol.com.br|Mcp&6MYtbL|        1993-12-03|    PE|   2023-02-14|   10.67.124.77|     Magenta|Engenheiro Mecatr...|       81 5269-9143|\n",
       "+--------------+--------------------+----------+------------------+------+-------------+---------------+------------+--------------------+-------------------+\n",
       "only showing top 20 rows"
      ]
     },
     "execution_count": 9,
     "metadata": {},
     "output_type": "execute_result"
    }
   ],
   "source": [
    "spark.sql('''\n",
    "    select *\n",
    "    from {tabela}\n",
    "    where estado in (\"PE\", \"MG\")\n",
    "''', tabela = df)"
   ]
  },
  {
   "cell_type": "markdown",
   "id": "24c2d7f0-f82b-45e5-9b67-f26d02bfc879",
   "metadata": {},
   "source": [
    "### Filtrando com filter e Registrando a Tabela Temporária\n",
    "- Função: Filtra o DataFrame **df** para incluir apenas as linhas onde a coluna estado está entre **\"PE\"** e **\"MG\"**. Após o filtro, o DataFrame resultante é registrado como uma tabela temporária com o nome **tabela_pe_mg**, permitindo que seja referenciada em consultas SQL subsequentes."
   ]
  },
  {
   "cell_type": "code",
   "execution_count": 10,
   "id": "2a134693-3826-4155-803c-e4be711b6f51",
   "metadata": {},
   "outputs": [
    {
     "name": "stderr",
     "output_type": "stream",
     "text": [
      "C:\\Users\\marlos.barros\\AppData\\Local\\anaconda3\\Lib\\site-packages\\pyspark\\sql\\dataframe.py:329: FutureWarning: Deprecated in 2.0, use createOrReplaceTempView instead.\n",
      "  warnings.warn(\"Deprecated in 2.0, use createOrReplaceTempView instead.\", FutureWarning)\n"
     ]
    }
   ],
   "source": [
    "tabela_pe_mg = (\n",
    "    df.filter(F.col(\"estado\").isin(\"PE\", \"MG\"))\n",
    "    .registerTempTable(\"tabela_pe_mg\")\n",
    ")"
   ]
  },
  {
   "cell_type": "markdown",
   "id": "c27a0a15-58ca-4e89-9c76-b5b2f974e608",
   "metadata": {},
   "source": [
    "### Consulta SQL em Tabela Temporária\n",
    "- Função: Executa uma nova consulta SQL diretamente na tabela temporária **tabela_pe_mg**, filtrando novamente as linhas onde **estado** está entre **\"PE\"** e **\"MG\"**. Como a tabela já foi previamente filtrada e registrada, essa consulta SQL refina ainda mais os dados, caso necessário."
   ]
  },
  {
   "cell_type": "code",
   "execution_count": 11,
   "id": "af5bfdbd-0f3b-4988-8a7e-64f1784a874f",
   "metadata": {
    "scrolled": true
   },
   "outputs": [
    {
     "data": {
      "text/html": [
       "<table border='1'>\n",
       "<tr><th>cpf</th><th>email</th><th>senha</th><th>data_de_nascimento</th><th>estado</th><th>data_cadastro</th><th>ipv4</th><th>cor_favorita</th><th>profissao</th><th>telefone</th></tr>\n",
       "<tr><td>398.471.625-73</td><td>felipepires@uol.c...</td><td>*Aw5EOAvy9</td><td>1921-11-11</td><td>MG</td><td>2023-01-02</td><td>181.90.63.58</td><td>Azul</td><td>Papiloscopista</td><td>11 9674-0553</td></tr>\n",
       "<tr><td>218.795.460-94</td><td>da-conceicaodavi-...</td><td>uhBbFxPA&amp;9</td><td>1986-05-19</td><td>MG</td><td>2023-03-07</td><td>192.93.0.24</td><td>Rosa</td><td>Taxista</td><td>+55 84 0652 9691</td></tr>\n",
       "<tr><td>715.836.940-48</td><td>efreitas@bol.com.br</td><td>s#q9VZt&amp;xl</td><td>2018-04-20</td><td>MG</td><td>2023-01-13</td><td>76.251.188.148</td><td>Branco</td><td>Produtor De Audio...</td><td>+55 (084) 1363 0052</td></tr>\n",
       "<tr><td>348.215.690-51</td><td>omoreira@bol.com.br</td><td>!8maDkdVnY</td><td>2008-10-24</td><td>MG</td><td>2023-02-20</td><td>177.2.242.176</td><td>Verde Escuro</td><td>Adestrador De Ani...</td><td>+55 61 3217-9930</td></tr>\n",
       "<tr><td>875.130.249-79</td><td>da-rocharebeca@ho...</td><td>FlOoH0I6)6</td><td>1972-10-05</td><td>PE</td><td>2023-02-11</td><td>126.171.28.31</td><td>Violeta</td><td>Modelista</td><td>+55 84 1130-9822</td></tr>\n",
       "<tr><td>308.942.751-60</td><td>hpires@gmail.com</td><td>#^yq9HIt0h</td><td>1996-03-08</td><td>PE</td><td>2023-02-14</td><td>139.209.144.207</td><td>Ciano</td><td>Estofador</td><td>+55 31 1784 8068</td></tr>\n",
       "<tr><td>739.628.014-13</td><td>iaraujo@uol.com.br</td><td>DX+C7FQw*d</td><td>1991-03-05</td><td>PE</td><td>2023-03-02</td><td>12.226.164.38</td><td>Roxo</td><td>Retificador</td><td>51 6855 2871</td></tr>\n",
       "<tr><td>089.276.145-85</td><td>caua85@yahoo.com.br</td><td>8V%T2eBfi(</td><td>1939-12-30</td><td>PE</td><td>2023-03-11</td><td>110.188.83.186</td><td>Verde</td><td>Comiss&aacute;rio De Bordo</td><td>84 6794 1208</td></tr>\n",
       "<tr><td>943.185.762-64</td><td>melissa97@bol.com.br</td><td>MBlZ9BOwp(</td><td>1953-06-09</td><td>PE</td><td>2023-01-16</td><td>97.254.23.196</td><td>Azul</td><td>F&iacute;sico</td><td>31 6169-0705</td></tr>\n",
       "<tr><td>856.320.419-05</td><td>scampos@bol.com.br</td><td>@*rkAfImD1</td><td>1997-06-08</td><td>PE</td><td>2023-01-31</td><td>175.72.45.212</td><td>Cinza</td><td>Designer De Inter...</td><td>+55 11 5760 0473</td></tr>\n",
       "<tr><td>943.516.028-05</td><td>davidas-neves@yah...</td><td>%G3O8WBl%q</td><td>1944-04-21</td><td>PE</td><td>2023-02-01</td><td>166.78.158.170</td><td>Cinza</td><td>Soci&oacute;logo</td><td>61 8308 7207</td></tr>\n",
       "<tr><td>482.713.059-05</td><td>biancasilveira@uo...</td><td>OLyPf6U7*2</td><td>1990-03-16</td><td>PE</td><td>2023-01-05</td><td>168.182.87.73</td><td>Violeta</td><td>T&eacute;cnico De Gesso</td><td>+55 (021) 0118-1450</td></tr>\n",
       "<tr><td>137.964.520-43</td><td>natalia72@ig.com.br</td><td>i71MdCj2*^</td><td>1939-06-26</td><td>MG</td><td>2023-02-03</td><td>141.28.225.40</td><td>Branco</td><td>Espeleologista</td><td>(041) 8471 8007</td></tr>\n",
       "<tr><td>216.058.974-85</td><td>bribeiro@yahoo.co...</td><td>7cb)4Jgt5*</td><td>1912-05-23</td><td>PE</td><td>2023-01-15</td><td>73.118.46.165</td><td>Preto</td><td>Pianista</td><td>+55 (031) 2307-4369</td></tr>\n",
       "<tr><td>790.482.315-23</td><td>noaharagao@hotmai...</td><td>#i_LhbOX52</td><td>1922-03-19</td><td>MG</td><td>2023-01-25</td><td>170.188.237.119</td><td>Preto</td><td>Empacotador</td><td>+55 (031) 9156-3903</td></tr>\n",
       "<tr><td>872.041.936-87</td><td>fsilva@yahoo.com.br</td><td>B+E9r_CkU^</td><td>1926-05-20</td><td>MG</td><td>2023-01-04</td><td>220.1.100.77</td><td>Marrom</td><td>Mec&acirc;nico De V&ocirc;o</td><td>(031) 9834-4568</td></tr>\n",
       "<tr><td>832.714.650-53</td><td>ijesus@gmail.com</td><td>JLr@1Mlr!Z</td><td>1983-05-21</td><td>MG</td><td>2023-01-25</td><td>84.142.120.51</td><td>Roxo</td><td>Ministro</td><td>81 9463-7374</td></tr>\n",
       "<tr><td>529.610.873-68</td><td>barbosajuliana@bo...</td><td>$!3Td!uO%^</td><td>2016-09-03</td><td>MG</td><td>2023-02-15</td><td>85.36.21.190</td><td>Amarelo</td><td>Lenhador</td><td>(061) 3713 1708</td></tr>\n",
       "<tr><td>379.642.518-64</td><td>davi03@hotmail.com</td><td>*kOCR0bUW4</td><td>1954-01-28</td><td>PE</td><td>2023-01-06</td><td>29.17.38.236</td><td>Laranja</td><td>Engenheiro De Com...</td><td>+55 71 4927-4694</td></tr>\n",
       "<tr><td>134.985.067-57</td><td>yago35@bol.com.br</td><td>Mcp&amp;6MYtbL</td><td>1993-12-03</td><td>PE</td><td>2023-02-14</td><td>10.67.124.77</td><td>Magenta</td><td>Engenheiro Mecatr...</td><td>81 5269-9143</td></tr>\n",
       "</table>\n",
       "only showing top 20 rows\n"
      ],
      "text/plain": [
       "+--------------+--------------------+----------+------------------+------+-------------+---------------+------------+--------------------+-------------------+\n",
       "|           cpf|               email|     senha|data_de_nascimento|estado|data_cadastro|           ipv4|cor_favorita|           profissao|           telefone|\n",
       "+--------------+--------------------+----------+------------------+------+-------------+---------------+------------+--------------------+-------------------+\n",
       "|398.471.625-73|felipepires@uol.c...|*Aw5EOAvy9|        1921-11-11|    MG|   2023-01-02|   181.90.63.58|        Azul|      Papiloscopista|       11 9674-0553|\n",
       "|218.795.460-94|da-conceicaodavi-...|uhBbFxPA&9|        1986-05-19|    MG|   2023-03-07|    192.93.0.24|        Rosa|             Taxista|   +55 84 0652 9691|\n",
       "|715.836.940-48| efreitas@bol.com.br|s#q9VZt&xl|        2018-04-20|    MG|   2023-01-13| 76.251.188.148|      Branco|Produtor De Audio...|+55 (084) 1363 0052|\n",
       "|348.215.690-51| omoreira@bol.com.br|!8maDkdVnY|        2008-10-24|    MG|   2023-02-20|  177.2.242.176|Verde Escuro|Adestrador De Ani...|   +55 61 3217-9930|\n",
       "|875.130.249-79|da-rocharebeca@ho...|FlOoH0I6)6|        1972-10-05|    PE|   2023-02-11|  126.171.28.31|     Violeta|           Modelista|   +55 84 1130-9822|\n",
       "|308.942.751-60|    hpires@gmail.com|#^yq9HIt0h|        1996-03-08|    PE|   2023-02-14|139.209.144.207|       Ciano|           Estofador|   +55 31 1784 8068|\n",
       "|739.628.014-13|  iaraujo@uol.com.br|DX+C7FQw*d|        1991-03-05|    PE|   2023-03-02|  12.226.164.38|        Roxo|         Retificador|       51 6855 2871|\n",
       "|089.276.145-85| caua85@yahoo.com.br|8V%T2eBfi(|        1939-12-30|    PE|   2023-03-11| 110.188.83.186|       Verde| Comissário De Bordo|       84 6794 1208|\n",
       "|943.185.762-64|melissa97@bol.com.br|MBlZ9BOwp(|        1953-06-09|    PE|   2023-01-16|  97.254.23.196|        Azul|              Físico|       31 6169-0705|\n",
       "|856.320.419-05|  scampos@bol.com.br|@*rkAfImD1|        1997-06-08|    PE|   2023-01-31|  175.72.45.212|       Cinza|Designer De Inter...|   +55 11 5760 0473|\n",
       "|943.516.028-05|davidas-neves@yah...|%G3O8WBl%q|        1944-04-21|    PE|   2023-02-01| 166.78.158.170|       Cinza|           Sociólogo|       61 8308 7207|\n",
       "|482.713.059-05|biancasilveira@uo...|OLyPf6U7*2|        1990-03-16|    PE|   2023-01-05|  168.182.87.73|     Violeta|    Técnico De Gesso|+55 (021) 0118-1450|\n",
       "|137.964.520-43| natalia72@ig.com.br|i71MdCj2*^|        1939-06-26|    MG|   2023-02-03|  141.28.225.40|      Branco|      Espeleologista|    (041) 8471 8007|\n",
       "|216.058.974-85|bribeiro@yahoo.co...|7cb)4Jgt5*|        1912-05-23|    PE|   2023-01-15|  73.118.46.165|       Preto|            Pianista|+55 (031) 2307-4369|\n",
       "|790.482.315-23|noaharagao@hotmai...|#i_LhbOX52|        1922-03-19|    MG|   2023-01-25|170.188.237.119|       Preto|         Empacotador|+55 (031) 9156-3903|\n",
       "|872.041.936-87| fsilva@yahoo.com.br|B+E9r_CkU^|        1926-05-20|    MG|   2023-01-04|   220.1.100.77|      Marrom|     Mecânico De Vôo|    (031) 9834-4568|\n",
       "|832.714.650-53|    ijesus@gmail.com|JLr@1Mlr!Z|        1983-05-21|    MG|   2023-01-25|  84.142.120.51|        Roxo|            Ministro|       81 9463-7374|\n",
       "|529.610.873-68|barbosajuliana@bo...|$!3Td!uO%^|        2016-09-03|    MG|   2023-02-15|   85.36.21.190|     Amarelo|            Lenhador|    (061) 3713 1708|\n",
       "|379.642.518-64|  davi03@hotmail.com|*kOCR0bUW4|        1954-01-28|    PE|   2023-01-06|   29.17.38.236|     Laranja|Engenheiro De Com...|   +55 71 4927-4694|\n",
       "|134.985.067-57|   yago35@bol.com.br|Mcp&6MYtbL|        1993-12-03|    PE|   2023-02-14|   10.67.124.77|     Magenta|Engenheiro Mecatr...|       81 5269-9143|\n",
       "+--------------+--------------------+----------+------------------+------+-------------+---------------+------------+--------------------+-------------------+\n",
       "only showing top 20 rows"
      ]
     },
     "execution_count": 11,
     "metadata": {},
     "output_type": "execute_result"
    }
   ],
   "source": [
    "spark.sql('''\n",
    "    select *\n",
    "    from tabela_pe_mg\n",
    "    where estado in (\"PE\", \"MG\")\n",
    "''')"
   ]
  }
 ],
 "metadata": {
  "kernelspec": {
   "display_name": "Python 3 (ipykernel)",
   "language": "python",
   "name": "python3"
  },
  "language_info": {
   "codemirror_mode": {
    "name": "ipython",
    "version": 3
   },
   "file_extension": ".py",
   "mimetype": "text/x-python",
   "name": "python",
   "nbconvert_exporter": "python",
   "pygments_lexer": "ipython3",
   "version": "3.12.7"
  }
 },
 "nbformat": 4,
 "nbformat_minor": 5
}
