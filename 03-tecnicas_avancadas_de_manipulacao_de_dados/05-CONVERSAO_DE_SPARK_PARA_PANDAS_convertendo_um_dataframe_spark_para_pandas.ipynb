{
 "cells": [
  {
   "cell_type": "code",
   "execution_count": 6,
   "id": "d020122a-e90a-406b-ab89-316541acc435",
   "metadata": {},
   "outputs": [],
   "source": [
    "from pyspark.sql import SparkSession\n",
    "import pyspark.sql.functions as F"
   ]
  },
  {
   "cell_type": "code",
   "execution_count": 7,
   "id": "66fd6404-599a-49a4-809c-400ddd060b6d",
   "metadata": {},
   "outputs": [],
   "source": [
    "spark = (\n",
    "    SparkSession.builder\n",
    "    .appName(\"Curso de PySpark\")\n",
    "    .config(\"spark.sql.repl.eagerEval.enabled\", True)\n",
    "    .getOrCreate()\n",
    ")"
   ]
  },
  {
   "cell_type": "code",
   "execution_count": 8,
   "id": "0b83f83b-6233-4676-a1a9-dee02738e654",
   "metadata": {},
   "outputs": [
    {
     "data": {
      "text/html": [
       "\n",
       "            <div>\n",
       "                <p><b>SparkSession - in-memory</b></p>\n",
       "                \n",
       "        <div>\n",
       "            <p><b>SparkContext</b></p>\n",
       "\n",
       "            <p><a href=\"http://COLTWFGLFV04:4040\">Spark UI</a></p>\n",
       "\n",
       "            <dl>\n",
       "              <dt>Version</dt>\n",
       "                <dd><code>v3.5.5</code></dd>\n",
       "              <dt>Master</dt>\n",
       "                <dd><code>local[*]</code></dd>\n",
       "              <dt>AppName</dt>\n",
       "                <dd><code>Curso de PySpark</code></dd>\n",
       "            </dl>\n",
       "        </div>\n",
       "        \n",
       "            </div>\n",
       "        "
      ],
      "text/plain": [
       "<pyspark.sql.session.SparkSession at 0x1392ca92030>"
      ]
     },
     "execution_count": 8,
     "metadata": {},
     "output_type": "execute_result"
    }
   ],
   "source": [
    "spark"
   ]
  },
  {
   "cell_type": "code",
   "execution_count": 9,
   "id": "488b23fc-b1b4-4f02-a5c0-39d9976195b5",
   "metadata": {},
   "outputs": [],
   "source": [
    "path = \"C:/Users/marlos.barros/Cursos/pyspark_na_pratica/DATASETS/LOGINS.parquet\""
   ]
  },
  {
   "cell_type": "code",
   "execution_count": 10,
   "id": "6740df73-bffa-49d5-b641-1eb2b57511dd",
   "metadata": {},
   "outputs": [],
   "source": [
    "df = spark.read.format(\"parquet\").load(path)"
   ]
  },
  {
   "cell_type": "code",
   "execution_count": 11,
   "id": "eaa52b40-86f6-4027-a801-e1d088c4b431",
   "metadata": {
    "scrolled": true
   },
   "outputs": [
    {
     "name": "stdout",
     "output_type": "stream",
     "text": [
      "root\n",
      " |-- cpf: string (nullable = true)\n",
      " |-- email: string (nullable = true)\n",
      " |-- senha: string (nullable = true)\n",
      " |-- data_de_nascimento: date (nullable = true)\n",
      " |-- estado: string (nullable = true)\n",
      " |-- data_cadastro: date (nullable = true)\n",
      " |-- ipv4: string (nullable = true)\n",
      " |-- cor_favorita: string (nullable = true)\n",
      " |-- profissao: string (nullable = true)\n",
      " |-- telefone: string (nullable = true)\n",
      "\n"
     ]
    }
   ],
   "source": [
    "df.printSchema()"
   ]
  },
  {
   "cell_type": "code",
   "execution_count": 12,
   "id": "d42e97d4-51de-421d-a703-45c0dfdd3b2d",
   "metadata": {},
   "outputs": [
    {
     "data": {
      "text/plain": [
       "pyspark.sql.dataframe.DataFrame"
      ]
     },
     "execution_count": 12,
     "metadata": {},
     "output_type": "execute_result"
    }
   ],
   "source": [
    "type(df)"
   ]
  },
  {
   "cell_type": "markdown",
   "id": "0f13e645-1b5f-4d2d-86c3-436f2c172dd4",
   "metadata": {},
   "source": [
    "### Converter DataFrame PySpark para Pandas\n",
    "- Função: Converte um **DataFrame do PySpark** para um **DataFrame do Pandas**. Essa operação coleta os dados do **PySpark** e os transfere para o **Pandas**, o que pode ser útil para realizar análises locais mais simples ou para salvar o resultado em formatos compatíveis com **Pandas**, como **CSV** ou **Excel**."
   ]
  },
  {
   "cell_type": "code",
   "execution_count": 13,
   "id": "cea1c809-2337-475d-8f52-3e2a27bac8f1",
   "metadata": {
    "scrolled": true
   },
   "outputs": [],
   "source": [
    "pdf = df.toPandas()"
   ]
  },
  {
   "cell_type": "code",
   "execution_count": 14,
   "id": "6025eed9-cb39-4238-be33-6ca838667980",
   "metadata": {},
   "outputs": [
    {
     "data": {
      "text/plain": [
       "pandas.core.frame.DataFrame"
      ]
     },
     "execution_count": 14,
     "metadata": {},
     "output_type": "execute_result"
    }
   ],
   "source": [
    "type(pdf)"
   ]
  },
  {
   "cell_type": "code",
   "execution_count": 18,
   "id": "8b1896ef-2e96-4613-a7af-25db51297a0f",
   "metadata": {
    "scrolled": true
   },
   "outputs": [
    {
     "data": {
      "text/html": [
       "<div>\n",
       "<style scoped>\n",
       "    .dataframe tbody tr th:only-of-type {\n",
       "        vertical-align: middle;\n",
       "    }\n",
       "\n",
       "    .dataframe tbody tr th {\n",
       "        vertical-align: top;\n",
       "    }\n",
       "\n",
       "    .dataframe thead th {\n",
       "        text-align: right;\n",
       "    }\n",
       "</style>\n",
       "<table border=\"1\" class=\"dataframe\">\n",
       "  <thead>\n",
       "    <tr style=\"text-align: right;\">\n",
       "      <th></th>\n",
       "      <th>cpf</th>\n",
       "      <th>email</th>\n",
       "      <th>senha</th>\n",
       "      <th>data_de_nascimento</th>\n",
       "      <th>estado</th>\n",
       "      <th>data_cadastro</th>\n",
       "      <th>ipv4</th>\n",
       "      <th>cor_favorita</th>\n",
       "      <th>profissao</th>\n",
       "      <th>telefone</th>\n",
       "    </tr>\n",
       "  </thead>\n",
       "  <tbody>\n",
       "    <tr>\n",
       "      <th>0</th>\n",
       "      <td>981.507.362-12</td>\n",
       "      <td>pedro-lucas53@gmail.com</td>\n",
       "      <td>+7^7E%xFBc</td>\n",
       "      <td>2006-12-18</td>\n",
       "      <td>RR</td>\n",
       "      <td>2023-02-26</td>\n",
       "      <td>99.107.250.210</td>\n",
       "      <td>Roxo</td>\n",
       "      <td>Jogador De Golfe</td>\n",
       "      <td>31 7785-4046</td>\n",
       "    </tr>\n",
       "    <tr>\n",
       "      <th>1</th>\n",
       "      <td>493.705.168-75</td>\n",
       "      <td>rezendeisaac@hotmail.com</td>\n",
       "      <td>_O_2GRnGOe</td>\n",
       "      <td>1992-06-17</td>\n",
       "      <td>GO</td>\n",
       "      <td>2023-02-16</td>\n",
       "      <td>197.11.26.213</td>\n",
       "      <td>Ciano</td>\n",
       "      <td>Atleta De Arremesso De Peso</td>\n",
       "      <td>(031) 0803-6753</td>\n",
       "    </tr>\n",
       "    <tr>\n",
       "      <th>2</th>\n",
       "      <td>398.471.625-73</td>\n",
       "      <td>felipepires@uol.com.br</td>\n",
       "      <td>*Aw5EOAvy9</td>\n",
       "      <td>1921-11-11</td>\n",
       "      <td>MG</td>\n",
       "      <td>2023-01-02</td>\n",
       "      <td>181.90.63.58</td>\n",
       "      <td>Azul</td>\n",
       "      <td>Papiloscopista</td>\n",
       "      <td>11 9674-0553</td>\n",
       "    </tr>\n",
       "    <tr>\n",
       "      <th>3</th>\n",
       "      <td>092.618.354-06</td>\n",
       "      <td>stellamoraes@bol.com.br</td>\n",
       "      <td>mw0AWYAs#s</td>\n",
       "      <td>2021-06-01</td>\n",
       "      <td>AC</td>\n",
       "      <td>2023-01-08</td>\n",
       "      <td>26.121.127.94</td>\n",
       "      <td>Marrom</td>\n",
       "      <td>Aeromoça</td>\n",
       "      <td>+55 (071) 3033 9177</td>\n",
       "    </tr>\n",
       "    <tr>\n",
       "      <th>4</th>\n",
       "      <td>509.427.136-99</td>\n",
       "      <td>wcarvalho@ig.com.br</td>\n",
       "      <td>pGD%!2Pq5X</td>\n",
       "      <td>1969-10-28</td>\n",
       "      <td>AP</td>\n",
       "      <td>2023-02-14</td>\n",
       "      <td>76.184.52.163</td>\n",
       "      <td>Laranja</td>\n",
       "      <td>Fonoaudiólogo</td>\n",
       "      <td>+55 (071) 6272 2468</td>\n",
       "    </tr>\n",
       "    <tr>\n",
       "      <th>...</th>\n",
       "      <td>...</td>\n",
       "      <td>...</td>\n",
       "      <td>...</td>\n",
       "      <td>...</td>\n",
       "      <td>...</td>\n",
       "      <td>...</td>\n",
       "      <td>...</td>\n",
       "      <td>...</td>\n",
       "      <td>...</td>\n",
       "      <td>...</td>\n",
       "    </tr>\n",
       "    <tr>\n",
       "      <th>995</th>\n",
       "      <td>073.128.546-80</td>\n",
       "      <td>nicolas11@hotmail.com</td>\n",
       "      <td>hp%24OQsr(</td>\n",
       "      <td>1913-04-05</td>\n",
       "      <td>AL</td>\n",
       "      <td>2023-02-12</td>\n",
       "      <td>132.202.220.34</td>\n",
       "      <td>Verde Claro</td>\n",
       "      <td>Ortodontista</td>\n",
       "      <td>(031) 3563 5055</td>\n",
       "    </tr>\n",
       "    <tr>\n",
       "      <th>996</th>\n",
       "      <td>841.950.263-42</td>\n",
       "      <td>francisco14@bol.com.br</td>\n",
       "      <td>6^02PPwbKM</td>\n",
       "      <td>1928-07-01</td>\n",
       "      <td>ES</td>\n",
       "      <td>2023-01-02</td>\n",
       "      <td>71.49.101.55</td>\n",
       "      <td>Azul</td>\n",
       "      <td>Tecnólogo Em Esporte E Lazer</td>\n",
       "      <td>+55 (061) 0639 3574</td>\n",
       "    </tr>\n",
       "    <tr>\n",
       "      <th>997</th>\n",
       "      <td>175.682.043-08</td>\n",
       "      <td>barbara51@hotmail.com</td>\n",
       "      <td>E5B6wYv8!i</td>\n",
       "      <td>1945-08-21</td>\n",
       "      <td>AM</td>\n",
       "      <td>2023-01-09</td>\n",
       "      <td>141.223.84.73</td>\n",
       "      <td>Violeta</td>\n",
       "      <td>Musicoterapeuta</td>\n",
       "      <td>(051) 6399-9536</td>\n",
       "    </tr>\n",
       "    <tr>\n",
       "      <th>998</th>\n",
       "      <td>570.263.819-03</td>\n",
       "      <td>imendes@yahoo.com.br</td>\n",
       "      <td>^17tb#Fym_</td>\n",
       "      <td>1929-05-18</td>\n",
       "      <td>AL</td>\n",
       "      <td>2023-01-16</td>\n",
       "      <td>55.128.117.22</td>\n",
       "      <td>Rosa</td>\n",
       "      <td>Pastilheiro</td>\n",
       "      <td>81 0564-6409</td>\n",
       "    </tr>\n",
       "    <tr>\n",
       "      <th>999</th>\n",
       "      <td>651.278.304-26</td>\n",
       "      <td>erick64@uol.com.br</td>\n",
       "      <td>VM9B65Ebc+</td>\n",
       "      <td>1973-01-17</td>\n",
       "      <td>BA</td>\n",
       "      <td>2023-02-09</td>\n",
       "      <td>62.164.220.163</td>\n",
       "      <td>Azul Escuro</td>\n",
       "      <td>Implantodontista</td>\n",
       "      <td>(011) 4344 1564</td>\n",
       "    </tr>\n",
       "  </tbody>\n",
       "</table>\n",
       "<p>1000 rows × 10 columns</p>\n",
       "</div>"
      ],
      "text/plain": [
       "                cpf                     email       senha data_de_nascimento  \\\n",
       "0    981.507.362-12   pedro-lucas53@gmail.com  +7^7E%xFBc         2006-12-18   \n",
       "1    493.705.168-75  rezendeisaac@hotmail.com  _O_2GRnGOe         1992-06-17   \n",
       "2    398.471.625-73    felipepires@uol.com.br  *Aw5EOAvy9         1921-11-11   \n",
       "3    092.618.354-06   stellamoraes@bol.com.br  mw0AWYAs#s         2021-06-01   \n",
       "4    509.427.136-99       wcarvalho@ig.com.br  pGD%!2Pq5X         1969-10-28   \n",
       "..              ...                       ...         ...                ...   \n",
       "995  073.128.546-80     nicolas11@hotmail.com  hp%24OQsr(         1913-04-05   \n",
       "996  841.950.263-42    francisco14@bol.com.br  6^02PPwbKM         1928-07-01   \n",
       "997  175.682.043-08     barbara51@hotmail.com  E5B6wYv8!i         1945-08-21   \n",
       "998  570.263.819-03      imendes@yahoo.com.br  ^17tb#Fym_         1929-05-18   \n",
       "999  651.278.304-26        erick64@uol.com.br  VM9B65Ebc+         1973-01-17   \n",
       "\n",
       "    estado data_cadastro            ipv4 cor_favorita  \\\n",
       "0       RR    2023-02-26  99.107.250.210         Roxo   \n",
       "1       GO    2023-02-16   197.11.26.213        Ciano   \n",
       "2       MG    2023-01-02    181.90.63.58         Azul   \n",
       "3       AC    2023-01-08   26.121.127.94       Marrom   \n",
       "4       AP    2023-02-14   76.184.52.163      Laranja   \n",
       "..     ...           ...             ...          ...   \n",
       "995     AL    2023-02-12  132.202.220.34  Verde Claro   \n",
       "996     ES    2023-01-02    71.49.101.55         Azul   \n",
       "997     AM    2023-01-09   141.223.84.73      Violeta   \n",
       "998     AL    2023-01-16   55.128.117.22         Rosa   \n",
       "999     BA    2023-02-09  62.164.220.163  Azul Escuro   \n",
       "\n",
       "                        profissao             telefone  \n",
       "0                Jogador De Golfe         31 7785-4046  \n",
       "1     Atleta De Arremesso De Peso      (031) 0803-6753  \n",
       "2                  Papiloscopista         11 9674-0553  \n",
       "3                        Aeromoça  +55 (071) 3033 9177  \n",
       "4                   Fonoaudiólogo  +55 (071) 6272 2468  \n",
       "..                            ...                  ...  \n",
       "995                  Ortodontista      (031) 3563 5055  \n",
       "996  Tecnólogo Em Esporte E Lazer  +55 (061) 0639 3574  \n",
       "997               Musicoterapeuta      (051) 6399-9536  \n",
       "998                   Pastilheiro         81 0564-6409  \n",
       "999              Implantodontista      (011) 4344 1564  \n",
       "\n",
       "[1000 rows x 10 columns]"
      ]
     },
     "execution_count": 18,
     "metadata": {},
     "output_type": "execute_result"
    }
   ],
   "source": [
    "pdf"
   ]
  },
  {
   "cell_type": "markdown",
   "id": "cf21f441-4e76-4aef-a93a-206fd90c328c",
   "metadata": {},
   "source": [
    "### Criar DataFrame Pandas a partir de um DataFrame PySpark coletado\n",
    "Função: Coleta os dados de um **DataFrame PySpark** com o método **collect()**, o que **retorna uma lista de linhas**, e então cria um **DataFrame do Pandas** com essas linhas. Os nomes das colunas são mantidos usando o atributo **df.columns**."
   ]
  },
  {
   "cell_type": "code",
   "execution_count": 15,
   "id": "1380dd24-3162-4b7e-a23e-9166f02b5d7f",
   "metadata": {
    "scrolled": true
   },
   "outputs": [
    {
     "name": "stdout",
     "output_type": "stream",
     "text": [
      "Requirement already satisfied: pd in c:\\users\\marlos.barros\\appdata\\local\\anaconda3\\lib\\site-packages (0.0.4)\n"
     ]
    }
   ],
   "source": [
    "!pip install pd"
   ]
  },
  {
   "cell_type": "code",
   "execution_count": 16,
   "id": "b5117181-eb08-4390-9392-5d474527ca39",
   "metadata": {},
   "outputs": [],
   "source": [
    "import pandas as pd"
   ]
  },
  {
   "cell_type": "code",
   "execution_count": 17,
   "id": "ca37a77c-3f5a-4008-b95f-b12c3d3fcd0f",
   "metadata": {
    "scrolled": true
   },
   "outputs": [
    {
     "data": {
      "text/html": [
       "<div>\n",
       "<style scoped>\n",
       "    .dataframe tbody tr th:only-of-type {\n",
       "        vertical-align: middle;\n",
       "    }\n",
       "\n",
       "    .dataframe tbody tr th {\n",
       "        vertical-align: top;\n",
       "    }\n",
       "\n",
       "    .dataframe thead th {\n",
       "        text-align: right;\n",
       "    }\n",
       "</style>\n",
       "<table border=\"1\" class=\"dataframe\">\n",
       "  <thead>\n",
       "    <tr style=\"text-align: right;\">\n",
       "      <th></th>\n",
       "      <th>cpf</th>\n",
       "      <th>email</th>\n",
       "      <th>senha</th>\n",
       "      <th>data_de_nascimento</th>\n",
       "      <th>estado</th>\n",
       "      <th>data_cadastro</th>\n",
       "      <th>ipv4</th>\n",
       "      <th>cor_favorita</th>\n",
       "      <th>profissao</th>\n",
       "      <th>telefone</th>\n",
       "    </tr>\n",
       "  </thead>\n",
       "  <tbody>\n",
       "    <tr>\n",
       "      <th>0</th>\n",
       "      <td>981.507.362-12</td>\n",
       "      <td>pedro-lucas53@gmail.com</td>\n",
       "      <td>+7^7E%xFBc</td>\n",
       "      <td>2006-12-18</td>\n",
       "      <td>RR</td>\n",
       "      <td>2023-02-26</td>\n",
       "      <td>99.107.250.210</td>\n",
       "      <td>Roxo</td>\n",
       "      <td>Jogador De Golfe</td>\n",
       "      <td>31 7785-4046</td>\n",
       "    </tr>\n",
       "    <tr>\n",
       "      <th>1</th>\n",
       "      <td>493.705.168-75</td>\n",
       "      <td>rezendeisaac@hotmail.com</td>\n",
       "      <td>_O_2GRnGOe</td>\n",
       "      <td>1992-06-17</td>\n",
       "      <td>GO</td>\n",
       "      <td>2023-02-16</td>\n",
       "      <td>197.11.26.213</td>\n",
       "      <td>Ciano</td>\n",
       "      <td>Atleta De Arremesso De Peso</td>\n",
       "      <td>(031) 0803-6753</td>\n",
       "    </tr>\n",
       "    <tr>\n",
       "      <th>2</th>\n",
       "      <td>398.471.625-73</td>\n",
       "      <td>felipepires@uol.com.br</td>\n",
       "      <td>*Aw5EOAvy9</td>\n",
       "      <td>1921-11-11</td>\n",
       "      <td>MG</td>\n",
       "      <td>2023-01-02</td>\n",
       "      <td>181.90.63.58</td>\n",
       "      <td>Azul</td>\n",
       "      <td>Papiloscopista</td>\n",
       "      <td>11 9674-0553</td>\n",
       "    </tr>\n",
       "    <tr>\n",
       "      <th>3</th>\n",
       "      <td>092.618.354-06</td>\n",
       "      <td>stellamoraes@bol.com.br</td>\n",
       "      <td>mw0AWYAs#s</td>\n",
       "      <td>2021-06-01</td>\n",
       "      <td>AC</td>\n",
       "      <td>2023-01-08</td>\n",
       "      <td>26.121.127.94</td>\n",
       "      <td>Marrom</td>\n",
       "      <td>Aeromoça</td>\n",
       "      <td>+55 (071) 3033 9177</td>\n",
       "    </tr>\n",
       "    <tr>\n",
       "      <th>4</th>\n",
       "      <td>509.427.136-99</td>\n",
       "      <td>wcarvalho@ig.com.br</td>\n",
       "      <td>pGD%!2Pq5X</td>\n",
       "      <td>1969-10-28</td>\n",
       "      <td>AP</td>\n",
       "      <td>2023-02-14</td>\n",
       "      <td>76.184.52.163</td>\n",
       "      <td>Laranja</td>\n",
       "      <td>Fonoaudiólogo</td>\n",
       "      <td>+55 (071) 6272 2468</td>\n",
       "    </tr>\n",
       "    <tr>\n",
       "      <th>...</th>\n",
       "      <td>...</td>\n",
       "      <td>...</td>\n",
       "      <td>...</td>\n",
       "      <td>...</td>\n",
       "      <td>...</td>\n",
       "      <td>...</td>\n",
       "      <td>...</td>\n",
       "      <td>...</td>\n",
       "      <td>...</td>\n",
       "      <td>...</td>\n",
       "    </tr>\n",
       "    <tr>\n",
       "      <th>995</th>\n",
       "      <td>073.128.546-80</td>\n",
       "      <td>nicolas11@hotmail.com</td>\n",
       "      <td>hp%24OQsr(</td>\n",
       "      <td>1913-04-05</td>\n",
       "      <td>AL</td>\n",
       "      <td>2023-02-12</td>\n",
       "      <td>132.202.220.34</td>\n",
       "      <td>Verde Claro</td>\n",
       "      <td>Ortodontista</td>\n",
       "      <td>(031) 3563 5055</td>\n",
       "    </tr>\n",
       "    <tr>\n",
       "      <th>996</th>\n",
       "      <td>841.950.263-42</td>\n",
       "      <td>francisco14@bol.com.br</td>\n",
       "      <td>6^02PPwbKM</td>\n",
       "      <td>1928-07-01</td>\n",
       "      <td>ES</td>\n",
       "      <td>2023-01-02</td>\n",
       "      <td>71.49.101.55</td>\n",
       "      <td>Azul</td>\n",
       "      <td>Tecnólogo Em Esporte E Lazer</td>\n",
       "      <td>+55 (061) 0639 3574</td>\n",
       "    </tr>\n",
       "    <tr>\n",
       "      <th>997</th>\n",
       "      <td>175.682.043-08</td>\n",
       "      <td>barbara51@hotmail.com</td>\n",
       "      <td>E5B6wYv8!i</td>\n",
       "      <td>1945-08-21</td>\n",
       "      <td>AM</td>\n",
       "      <td>2023-01-09</td>\n",
       "      <td>141.223.84.73</td>\n",
       "      <td>Violeta</td>\n",
       "      <td>Musicoterapeuta</td>\n",
       "      <td>(051) 6399-9536</td>\n",
       "    </tr>\n",
       "    <tr>\n",
       "      <th>998</th>\n",
       "      <td>570.263.819-03</td>\n",
       "      <td>imendes@yahoo.com.br</td>\n",
       "      <td>^17tb#Fym_</td>\n",
       "      <td>1929-05-18</td>\n",
       "      <td>AL</td>\n",
       "      <td>2023-01-16</td>\n",
       "      <td>55.128.117.22</td>\n",
       "      <td>Rosa</td>\n",
       "      <td>Pastilheiro</td>\n",
       "      <td>81 0564-6409</td>\n",
       "    </tr>\n",
       "    <tr>\n",
       "      <th>999</th>\n",
       "      <td>651.278.304-26</td>\n",
       "      <td>erick64@uol.com.br</td>\n",
       "      <td>VM9B65Ebc+</td>\n",
       "      <td>1973-01-17</td>\n",
       "      <td>BA</td>\n",
       "      <td>2023-02-09</td>\n",
       "      <td>62.164.220.163</td>\n",
       "      <td>Azul Escuro</td>\n",
       "      <td>Implantodontista</td>\n",
       "      <td>(011) 4344 1564</td>\n",
       "    </tr>\n",
       "  </tbody>\n",
       "</table>\n",
       "<p>1000 rows × 10 columns</p>\n",
       "</div>"
      ],
      "text/plain": [
       "                cpf                     email       senha data_de_nascimento  \\\n",
       "0    981.507.362-12   pedro-lucas53@gmail.com  +7^7E%xFBc         2006-12-18   \n",
       "1    493.705.168-75  rezendeisaac@hotmail.com  _O_2GRnGOe         1992-06-17   \n",
       "2    398.471.625-73    felipepires@uol.com.br  *Aw5EOAvy9         1921-11-11   \n",
       "3    092.618.354-06   stellamoraes@bol.com.br  mw0AWYAs#s         2021-06-01   \n",
       "4    509.427.136-99       wcarvalho@ig.com.br  pGD%!2Pq5X         1969-10-28   \n",
       "..              ...                       ...         ...                ...   \n",
       "995  073.128.546-80     nicolas11@hotmail.com  hp%24OQsr(         1913-04-05   \n",
       "996  841.950.263-42    francisco14@bol.com.br  6^02PPwbKM         1928-07-01   \n",
       "997  175.682.043-08     barbara51@hotmail.com  E5B6wYv8!i         1945-08-21   \n",
       "998  570.263.819-03      imendes@yahoo.com.br  ^17tb#Fym_         1929-05-18   \n",
       "999  651.278.304-26        erick64@uol.com.br  VM9B65Ebc+         1973-01-17   \n",
       "\n",
       "    estado data_cadastro            ipv4 cor_favorita  \\\n",
       "0       RR    2023-02-26  99.107.250.210         Roxo   \n",
       "1       GO    2023-02-16   197.11.26.213        Ciano   \n",
       "2       MG    2023-01-02    181.90.63.58         Azul   \n",
       "3       AC    2023-01-08   26.121.127.94       Marrom   \n",
       "4       AP    2023-02-14   76.184.52.163      Laranja   \n",
       "..     ...           ...             ...          ...   \n",
       "995     AL    2023-02-12  132.202.220.34  Verde Claro   \n",
       "996     ES    2023-01-02    71.49.101.55         Azul   \n",
       "997     AM    2023-01-09   141.223.84.73      Violeta   \n",
       "998     AL    2023-01-16   55.128.117.22         Rosa   \n",
       "999     BA    2023-02-09  62.164.220.163  Azul Escuro   \n",
       "\n",
       "                        profissao             telefone  \n",
       "0                Jogador De Golfe         31 7785-4046  \n",
       "1     Atleta De Arremesso De Peso      (031) 0803-6753  \n",
       "2                  Papiloscopista         11 9674-0553  \n",
       "3                        Aeromoça  +55 (071) 3033 9177  \n",
       "4                   Fonoaudiólogo  +55 (071) 6272 2468  \n",
       "..                            ...                  ...  \n",
       "995                  Ortodontista      (031) 3563 5055  \n",
       "996  Tecnólogo Em Esporte E Lazer  +55 (061) 0639 3574  \n",
       "997               Musicoterapeuta      (051) 6399-9536  \n",
       "998                   Pastilheiro         81 0564-6409  \n",
       "999              Implantodontista      (011) 4344 1564  \n",
       "\n",
       "[1000 rows x 10 columns]"
      ]
     },
     "execution_count": 17,
     "metadata": {},
     "output_type": "execute_result"
    }
   ],
   "source": [
    "pd.DataFrame(df.collect(), columns=df.columns)"
   ]
  },
  {
   "cell_type": "markdown",
   "id": "bb05e516-0870-4055-99c2-02e5a158e127",
   "metadata": {},
   "source": [
    "### Converter DataFrame Pandas para PySpark usando PySpark Pandas (Koalas)\n",
    "- Função: **Converte um DataFrame do Pandas (pdf)** de volta para um **DataFrame do PySpark**. Usando o pacote **pyspark.pandas (anteriormente conhecido como Koalas)**, você pode interagir facilmente entre os dois formatos de DataFrames, facilitando a transição entre operações de análise em **Pandas** e operações de **big data em PySpark**."
   ]
  },
  {
   "cell_type": "code",
   "execution_count": 31,
   "id": "05a34aed-2e8c-4b7f-8484-58a489ab53b1",
   "metadata": {
    "scrolled": true
   },
   "outputs": [],
   "source": [
    "import pyspark.pandas as ps"
   ]
  },
  {
   "cell_type": "code",
   "execution_count": 39,
   "id": "4fbfad8b-5fcd-4ec0-8c23-a5367c78ae94",
   "metadata": {},
   "outputs": [
    {
     "name": "stderr",
     "output_type": "stream",
     "text": [
      "C:\\Users\\marlos.barros\\AppData\\Local\\anaconda3\\Lib\\site-packages\\pyspark\\pandas\\utils.py:1016: PandasAPIOnSparkAdviceWarning: If `index_col` is not specified for `to_spark`, the existing index is lost when converting to Spark DataFrame.\n",
      "  warnings.warn(message, PandasAPIOnSparkAdviceWarning)\n"
     ]
    }
   ],
   "source": [
    "df_2 = ps.DataFrame(pdf).to_spark()"
   ]
  },
  {
   "cell_type": "code",
   "execution_count": 40,
   "id": "bedddf41-485b-43ec-a18d-02050418edf7",
   "metadata": {},
   "outputs": [
    {
     "data": {
      "text/plain": [
       "pyspark.sql.dataframe.DataFrame"
      ]
     },
     "execution_count": 40,
     "metadata": {},
     "output_type": "execute_result"
    }
   ],
   "source": [
    "type(df_2)"
   ]
  },
  {
   "cell_type": "code",
   "execution_count": null,
   "id": "f9cae903-c257-4671-aff5-922c7bed95f2",
   "metadata": {},
   "outputs": [],
   "source": [
    "df_2"
   ]
  }
 ],
 "metadata": {
  "kernelspec": {
   "display_name": "Python 3 (ipykernel)",
   "language": "python",
   "name": "python3"
  },
  "language_info": {
   "codemirror_mode": {
    "name": "ipython",
    "version": 3
   },
   "file_extension": ".py",
   "mimetype": "text/x-python",
   "name": "python",
   "nbconvert_exporter": "python",
   "pygments_lexer": "ipython3",
   "version": "3.12.7"
  }
 },
 "nbformat": 4,
 "nbformat_minor": 5
}
