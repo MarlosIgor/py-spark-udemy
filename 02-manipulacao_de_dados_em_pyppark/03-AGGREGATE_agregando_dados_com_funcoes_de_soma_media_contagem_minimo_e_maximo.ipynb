{
 "cells": [
  {
   "cell_type": "code",
   "execution_count": 8,
   "id": "35392bd5-139f-4840-9e80-554cd0286439",
   "metadata": {},
   "outputs": [],
   "source": [
    "from pyspark.sql import SparkSession\n",
    "import pyspark.sql.functions as F"
   ]
  },
  {
   "cell_type": "code",
   "execution_count": 9,
   "id": "8fff3f1b-31cb-49c0-a006-629ff548b736",
   "metadata": {},
   "outputs": [],
   "source": [
    "spark = (\n",
    "    SparkSession.builder\n",
    "    .appName(\"Curso de PySpark\")\n",
    "    .config(\"spark.sql.repl.eagerEval.enabled\", True)\n",
    "    .getOrCreate()\n",
    ")"
   ]
  },
  {
   "cell_type": "code",
   "execution_count": 10,
   "id": "910adeb2-56e1-46d7-9cba-bf386058c99a",
   "metadata": {},
   "outputs": [
    {
     "data": {
      "text/html": [
       "\n",
       "            <div>\n",
       "                <p><b>SparkSession - in-memory</b></p>\n",
       "                \n",
       "        <div>\n",
       "            <p><b>SparkContext</b></p>\n",
       "\n",
       "            <p><a href=\"http://COLTWFGLFV04:4043\">Spark UI</a></p>\n",
       "\n",
       "            <dl>\n",
       "              <dt>Version</dt>\n",
       "                <dd><code>v3.5.5</code></dd>\n",
       "              <dt>Master</dt>\n",
       "                <dd><code>local[*]</code></dd>\n",
       "              <dt>AppName</dt>\n",
       "                <dd><code>Curso de PySpark</code></dd>\n",
       "            </dl>\n",
       "        </div>\n",
       "        \n",
       "            </div>\n",
       "        "
      ],
      "text/plain": [
       "<pyspark.sql.session.SparkSession at 0x25f39e92030>"
      ]
     },
     "execution_count": 10,
     "metadata": {},
     "output_type": "execute_result"
    }
   ],
   "source": [
    "spark"
   ]
  },
  {
   "cell_type": "code",
   "execution_count": 11,
   "id": "8d477130-a5cd-4931-b218-8939ec27c9fa",
   "metadata": {},
   "outputs": [],
   "source": [
    "path = \"C:/Users/marlos.barros/Cursos/pyspark_na_pratica/DATASETS/LOGINS.parquet\""
   ]
  },
  {
   "cell_type": "code",
   "execution_count": 16,
   "id": "5785adb8-57b1-4b92-bef1-a7148970b505",
   "metadata": {},
   "outputs": [],
   "source": [
    "df = spark.read.format(\"parquet\").load(path).limit(5)"
   ]
  },
  {
   "cell_type": "code",
   "execution_count": 17,
   "id": "1a95ba35-3326-41aa-895b-309a074f360e",
   "metadata": {
    "scrolled": true
   },
   "outputs": [
    {
     "name": "stdout",
     "output_type": "stream",
     "text": [
      "root\n",
      " |-- cpf: string (nullable = true)\n",
      " |-- email: string (nullable = true)\n",
      " |-- senha: string (nullable = true)\n",
      " |-- data_de_nascimento: date (nullable = true)\n",
      " |-- estado: string (nullable = true)\n",
      " |-- data_cadastro: date (nullable = true)\n",
      " |-- ipv4: string (nullable = true)\n",
      " |-- cor_favorita: string (nullable = true)\n",
      " |-- profissao: string (nullable = true)\n",
      " |-- telefone: string (nullable = true)\n",
      "\n"
     ]
    }
   ],
   "source": [
    "df.printSchema()"
   ]
  },
  {
   "cell_type": "markdown",
   "id": "a6b0bf6e-6845-4370-a7c0-83e0a15dd9a0",
   "metadata": {},
   "source": [
    "### Criação da Coluna num com dayofmonth\n",
    "- Função: Cria uma nova coluna chamada **\"num\"** que extrai o **dia** do **mês** da coluna **\"data_de_nascimento\"**. Por exemplo, se a **data de nascimento** for** 2025-03-17**, a coluna **\"num\"** conterá o valor **17**."
   ]
  },
  {
   "cell_type": "code",
   "execution_count": 18,
   "id": "bc483517-1516-406a-abdc-5e387e2cef14",
   "metadata": {},
   "outputs": [],
   "source": [
    "df = df.withColumn(\"num\", F.dayofmonth(F.col(\"data_de_nascimento\")))"
   ]
  },
  {
   "cell_type": "code",
   "execution_count": 19,
   "id": "d3583885-2335-448a-841c-16509737678d",
   "metadata": {
    "scrolled": true
   },
   "outputs": [
    {
     "name": "stdout",
     "output_type": "stream",
     "text": [
      "root\n",
      " |-- cpf: string (nullable = true)\n",
      " |-- email: string (nullable = true)\n",
      " |-- senha: string (nullable = true)\n",
      " |-- data_de_nascimento: date (nullable = true)\n",
      " |-- estado: string (nullable = true)\n",
      " |-- data_cadastro: date (nullable = true)\n",
      " |-- ipv4: string (nullable = true)\n",
      " |-- cor_favorita: string (nullable = true)\n",
      " |-- profissao: string (nullable = true)\n",
      " |-- telefone: string (nullable = true)\n",
      " |-- num: integer (nullable = true)\n",
      "\n"
     ]
    }
   ],
   "source": [
    "df.printSchema()"
   ]
  },
  {
   "cell_type": "markdown",
   "id": "752ad84e-6ad7-4c1a-98d5-98eee1fc89ea",
   "metadata": {},
   "source": [
    "### Agrupamento por **cor_favorita** com várias agregações\n",
    "- Função: Agrupa o DataFrame pela coluna **\"cor_favorita\"** e aplica várias funções de agregação na coluna **\"num\"**:\n",
    "    - **F.count(\"*\")**: Conta o número **total** de registros em cada grupo de **\"cor_favorita\"**.\n",
    "    - **F.sum(\"num\")**: Soma os valores da coluna **\"num\"** para cada grupo de **\"cor_favorita\"**.\n",
    "    - **F.avg(\"num\")**: Calcula a **média** dos valores de **\"num\"** em cada grupo de **\"cor_favorita\"**.\n",
    "    - **F.max(\"num\")**: Retorna o **maior** valor de **\"num\"** para cada grupo.\n",
    "    - **F.min(\"num\")**: Retorna o **menor** valor de **\"num\"** para cada grupo.\n",
    "    - **F.stddev(\"num\")**: Calcula o **desvio padrão** dos valores de **\"num\"** para cada grupo."
   ]
  },
  {
   "cell_type": "code",
   "execution_count": 20,
   "id": "66c45b05-2ff5-495d-b534-de113842d72d",
   "metadata": {
    "scrolled": true
   },
   "outputs": [
    {
     "data": {
      "text/html": [
       "<table border='1'>\n",
       "<tr><th>cor_favorita</th><th>count(1)</th><th>sum(num)</th><th>avg(num)</th><th>max(num)</th><th>min(num)</th><th>stddev(num)</th></tr>\n",
       "<tr><td>Roxo</td><td>1</td><td>18</td><td>18.0</td><td>18</td><td>18</td><td>NULL</td></tr>\n",
       "<tr><td>Ciano</td><td>1</td><td>17</td><td>17.0</td><td>17</td><td>17</td><td>NULL</td></tr>\n",
       "<tr><td>Azul</td><td>1</td><td>11</td><td>11.0</td><td>11</td><td>11</td><td>NULL</td></tr>\n",
       "<tr><td>Marrom</td><td>1</td><td>1</td><td>1.0</td><td>1</td><td>1</td><td>NULL</td></tr>\n",
       "<tr><td>Laranja</td><td>1</td><td>28</td><td>28.0</td><td>28</td><td>28</td><td>NULL</td></tr>\n",
       "</table>\n"
      ],
      "text/plain": [
       "+------------+--------+--------+--------+--------+--------+-----------+\n",
       "|cor_favorita|count(1)|sum(num)|avg(num)|max(num)|min(num)|stddev(num)|\n",
       "+------------+--------+--------+--------+--------+--------+-----------+\n",
       "|        Roxo|       1|      18|    18.0|      18|      18|       NULL|\n",
       "|       Ciano|       1|      17|    17.0|      17|      17|       NULL|\n",
       "|        Azul|       1|      11|    11.0|      11|      11|       NULL|\n",
       "|      Marrom|       1|       1|     1.0|       1|       1|       NULL|\n",
       "|     Laranja|       1|      28|    28.0|      28|      28|       NULL|\n",
       "+------------+--------+--------+--------+--------+--------+-----------+"
      ]
     },
     "execution_count": 20,
     "metadata": {},
     "output_type": "execute_result"
    }
   ],
   "source": [
    "df.groupBy(F.col(\"cor_favorita\")).agg(F.count(\"*\"), F.sum(\"num\"), F.avg(\"num\"), F.max(\"num\"), F.min(\"num\"), F.stddev(\"num\"))"
   ]
  },
  {
   "cell_type": "markdown",
   "id": "2c8a3845-ce90-481b-b049-b5dc83a19a74",
   "metadata": {},
   "source": [
    "### Agrupamento por **cor_favorita** com dicionário de agregações\n",
    "- Função: Este comando também agrupa o DataFrame pela coluna **\"cor_favorita\"**, mas utiliza um **dicionário** para definir as agregações.\n",
    "    - **\"*\": \"count\"**: **Conta** o número **total** de registros para cada grupo de **\"cor_favorita\"**.\n",
    "    - **\"num\": \"sum\"**: **Soma** os valores da coluna **\"num\"** para cada grupo de **\"cor_favorita\"**."
   ]
  },
  {
   "cell_type": "code",
   "execution_count": 21,
   "id": "c863ff17-af1f-4103-9fbd-153e4d4830b7",
   "metadata": {
    "scrolled": true
   },
   "outputs": [
    {
     "data": {
      "text/html": [
       "<table border='1'>\n",
       "<tr><th>cor_favorita</th><th>sum(num)</th><th>count(1)</th></tr>\n",
       "<tr><td>Roxo</td><td>18</td><td>1</td></tr>\n",
       "<tr><td>Ciano</td><td>17</td><td>1</td></tr>\n",
       "<tr><td>Azul</td><td>11</td><td>1</td></tr>\n",
       "<tr><td>Marrom</td><td>1</td><td>1</td></tr>\n",
       "<tr><td>Laranja</td><td>28</td><td>1</td></tr>\n",
       "</table>\n"
      ],
      "text/plain": [
       "+------------+--------+--------+\n",
       "|cor_favorita|sum(num)|count(1)|\n",
       "+------------+--------+--------+\n",
       "|        Roxo|      18|       1|\n",
       "|       Ciano|      17|       1|\n",
       "|        Azul|      11|       1|\n",
       "|      Marrom|       1|       1|\n",
       "|     Laranja|      28|       1|\n",
       "+------------+--------+--------+"
      ]
     },
     "execution_count": 21,
     "metadata": {},
     "output_type": "execute_result"
    }
   ],
   "source": [
    "df.groupBy(F.col(\"cor_favorita\")).agg({\"*\": \"count\", \"num\": \"sum\"})"
   ]
  }
 ],
 "metadata": {
  "kernelspec": {
   "display_name": "Python 3 (ipykernel)",
   "language": "python",
   "name": "python3"
  },
  "language_info": {
   "codemirror_mode": {
    "name": "ipython",
    "version": 3
   },
   "file_extension": ".py",
   "mimetype": "text/x-python",
   "name": "python",
   "nbconvert_exporter": "python",
   "pygments_lexer": "ipython3",
   "version": "3.12.7"
  }
 },
 "nbformat": 4,
 "nbformat_minor": 5
}
