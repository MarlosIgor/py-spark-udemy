{
 "cells": [
  {
   "cell_type": "code",
   "execution_count": 1,
   "id": "86ce9e6e-f32e-4c92-840f-8607a8856f70",
   "metadata": {},
   "outputs": [],
   "source": [
    "from pyspark.sql import SparkSession\n",
    "import pyspark.sql.functions as F"
   ]
  },
  {
   "cell_type": "code",
   "execution_count": 2,
   "id": "5349eaf8-11df-48e1-92ea-179971e7ac83",
   "metadata": {},
   "outputs": [],
   "source": [
    "spark = (\n",
    "    SparkSession.builder\n",
    "    .appName(\"Curso de PySpark\")\n",
    "    .config(\"spark.sql.repl.eagerEval.enabled\", True)\n",
    "    .getOrCreate()\n",
    ")"
   ]
  },
  {
   "cell_type": "code",
   "execution_count": 3,
   "id": "69b18643-7dde-46b5-b7db-c0a0a52949af",
   "metadata": {},
   "outputs": [
    {
     "data": {
      "text/html": [
       "\n",
       "            <div>\n",
       "                <p><b>SparkSession - in-memory</b></p>\n",
       "                \n",
       "        <div>\n",
       "            <p><b>SparkContext</b></p>\n",
       "\n",
       "            <p><a href=\"http://COLTWFGLFV04:4045\">Spark UI</a></p>\n",
       "\n",
       "            <dl>\n",
       "              <dt>Version</dt>\n",
       "                <dd><code>v3.5.5</code></dd>\n",
       "              <dt>Master</dt>\n",
       "                <dd><code>local[*]</code></dd>\n",
       "              <dt>AppName</dt>\n",
       "                <dd><code>Curso de PySpark</code></dd>\n",
       "            </dl>\n",
       "        </div>\n",
       "        \n",
       "            </div>\n",
       "        "
      ],
      "text/plain": [
       "<pyspark.sql.session.SparkSession at 0x22c0e428da0>"
      ]
     },
     "execution_count": 3,
     "metadata": {},
     "output_type": "execute_result"
    }
   ],
   "source": [
    "spark"
   ]
  },
  {
   "cell_type": "code",
   "execution_count": 4,
   "id": "a424462b-eb16-4658-90f4-4b9e59bf86bb",
   "metadata": {},
   "outputs": [],
   "source": [
    "path = \"C:/Users/marlos.barros/Cursos/pyspark_na_pratica/DATASETS/LOGINS.parquet\""
   ]
  },
  {
   "cell_type": "code",
   "execution_count": 98,
   "id": "d62ac97c-1a64-4199-aaa5-6704c9a43fad",
   "metadata": {},
   "outputs": [],
   "source": [
    "df = spark.read.format(\"parquet\").load(path)"
   ]
  },
  {
   "cell_type": "code",
   "execution_count": 99,
   "id": "868abc2b-28d3-4879-b4af-10b64ec22b1d",
   "metadata": {},
   "outputs": [
    {
     "name": "stdout",
     "output_type": "stream",
     "text": [
      "root\n",
      " |-- cpf: string (nullable = true)\n",
      " |-- email: string (nullable = true)\n",
      " |-- senha: string (nullable = true)\n",
      " |-- data_de_nascimento: date (nullable = true)\n",
      " |-- estado: string (nullable = true)\n",
      " |-- data_cadastro: date (nullable = true)\n",
      " |-- ipv4: string (nullable = true)\n",
      " |-- cor_favorita: string (nullable = true)\n",
      " |-- profissao: string (nullable = true)\n",
      " |-- telefone: string (nullable = true)\n",
      "\n"
     ]
    }
   ],
   "source": [
    "df.printSchema()"
   ]
  },
  {
   "cell_type": "markdown",
   "id": "114cbeee-d11c-411e-ac75-8f3c02f3c689",
   "metadata": {},
   "source": [
    "### Remover espaços de um número de telefone\n",
    "- Função: Esta função cria uma nova coluna chamada **tel** onde todos os espaços presentes na coluna **telefone** são removidos. Usa-se **regexp_replace()** para substituir os espaços por uma string vazia."
   ]
  },
  {
   "cell_type": "code",
   "execution_count": 100,
   "id": "2b69ab8c-96e7-4be6-84a6-4bbf197e9701",
   "metadata": {
    "scrolled": true
   },
   "outputs": [
    {
     "data": {
      "text/html": [
       "<table border='1'>\n",
       "<tr><th>cpf</th><th>email</th><th>senha</th><th>data_de_nascimento</th><th>estado</th><th>data_cadastro</th><th>ipv4</th><th>cor_favorita</th><th>profissao</th><th>telefone</th><th>tel</th></tr>\n",
       "<tr><td>981.507.362-12</td><td>pedro-lucas53@gma...</td><td>+7^7E%xFBc</td><td>2006-12-18</td><td>RR</td><td>2023-02-26</td><td>99.107.250.210</td><td>Roxo</td><td>Jogador De Golfe</td><td>31 7785-4046</td><td>317785-4046</td></tr>\n",
       "<tr><td>493.705.168-75</td><td>rezendeisaac@hotm...</td><td>_O_2GRnGOe</td><td>1992-06-17</td><td>GO</td><td>2023-02-16</td><td>197.11.26.213</td><td>Ciano</td><td>Atleta De Arremes...</td><td>(031) 0803-6753</td><td>(031)0803-6753</td></tr>\n",
       "<tr><td>398.471.625-73</td><td>felipepires@uol.c...</td><td>*Aw5EOAvy9</td><td>1921-11-11</td><td>MG</td><td>2023-01-02</td><td>181.90.63.58</td><td>Azul</td><td>Papiloscopista</td><td>11 9674-0553</td><td>119674-0553</td></tr>\n",
       "<tr><td>092.618.354-06</td><td>stellamoraes@bol....</td><td>mw0AWYAs#s</td><td>2021-06-01</td><td>AC</td><td>2023-01-08</td><td>26.121.127.94</td><td>Marrom</td><td>Aeromo&ccedil;a</td><td>+55 (071) 3033 9177</td><td>+55(071)30339177</td></tr>\n",
       "<tr><td>509.427.136-99</td><td>wcarvalho@ig.com.br</td><td>pGD%!2Pq5X</td><td>1969-10-28</td><td>AP</td><td>2023-02-14</td><td>76.184.52.163</td><td>Laranja</td><td>Fonoaudi&oacute;logo</td><td>+55 (071) 6272 2468</td><td>+55(071)62722468</td></tr>\n",
       "<tr><td>218.795.460-94</td><td>da-conceicaodavi-...</td><td>uhBbFxPA&amp;9</td><td>1986-05-19</td><td>MG</td><td>2023-03-07</td><td>192.93.0.24</td><td>Rosa</td><td>Taxista</td><td>+55 84 0652 9691</td><td>+558406529691</td></tr>\n",
       "<tr><td>715.836.940-48</td><td>efreitas@bol.com.br</td><td>s#q9VZt&amp;xl</td><td>2018-04-20</td><td>MG</td><td>2023-01-13</td><td>76.251.188.148</td><td>Branco</td><td>Produtor De Audio...</td><td>+55 (084) 1363 0052</td><td>+55(084)13630052</td></tr>\n",
       "<tr><td>475.698.032-56</td><td>wnunes@bol.com.br</td><td>_8az1W%n7g</td><td>1996-05-12</td><td>SE</td><td>2023-02-04</td><td>139.196.176.154</td><td>Azul</td><td>Cadeirinha</td><td>(071) 1640-3388</td><td>(071)1640-3388</td></tr>\n",
       "<tr><td>217.639.540-99</td><td>jribeiro@bol.com.br</td><td>MEf1X7fj_0</td><td>2021-10-05</td><td>PA</td><td>2023-03-02</td><td>71.22.224.5</td><td>Marrom</td><td>Ge&oacute;logo</td><td>21 1432 4092</td><td>2114324092</td></tr>\n",
       "<tr><td>261.938.750-77</td><td>murilo05@gmail.com</td><td>Te&amp;gO7GkKs</td><td>1917-01-05</td><td>MT</td><td>2023-02-21</td><td>136.54.123.165</td><td>Marrom</td><td>T&eacute;cnico De Som</td><td>+55 (084) 5878-3346</td><td>+55(084)5878-3346</td></tr>\n",
       "<tr><td>520.831.796-68</td><td>joaquim57@ig.com.br</td><td>&amp;2E1NY+ARc</td><td>1912-05-25</td><td>BA</td><td>2023-01-25</td><td>78.196.255.126</td><td>Rosa</td><td>Esteticista</td><td>41 7914-3753</td><td>417914-3753</td></tr>\n",
       "<tr><td>413.087.526-44</td><td>alexiada-rocha@ig...</td><td>@f@!Z!2c*2</td><td>1920-05-26</td><td>MS</td><td>2023-02-18</td><td>182.61.65.201</td><td>Laranja</td><td>Microfonista</td><td>(021) 3739-2944</td><td>(021)3739-2944</td></tr>\n",
       "<tr><td>509.287.143-14</td><td>pmendes@gmail.com</td><td>M+^XDBfe(2</td><td>1938-03-11</td><td>RR</td><td>2023-01-19</td><td>61.234.208.17</td><td>Verde Claro</td><td>Fiscal</td><td>+55 (084) 5940-1932</td><td>+55(084)5940-1932</td></tr>\n",
       "<tr><td>563.170.492-70</td><td>renan46@bol.com.br</td><td>Rp%2pVqfe$</td><td>1922-09-01</td><td>PA</td><td>2023-02-01</td><td>122.203.83.177</td><td>Verde Escuro</td><td>Contabilista</td><td>+55 41 6248 5773</td><td>+554162485773</td></tr>\n",
       "<tr><td>098.712.346-78</td><td>manuelada-rosa@ho...</td><td>#hEIEOztQ3</td><td>2013-01-10</td><td>SE</td><td>2023-01-07</td><td>175.18.73.211</td><td>Violeta</td><td>Seguidor De Compras</td><td>51 0278 0564</td><td>5102780564</td></tr>\n",
       "<tr><td>345.709.261-34</td><td>usales@ig.com.br</td><td>b_8xaY$ozJ</td><td>1992-10-16</td><td>AM</td><td>2023-01-05</td><td>97.93.29.75</td><td>Rosa</td><td>Almirante</td><td>(084) 8993-4521</td><td>(084)8993-4521</td></tr>\n",
       "<tr><td>318.254.906-51</td><td>pereiranicolas@ho...</td><td>YA9I85Wb+2</td><td>1945-11-18</td><td>MA</td><td>2023-01-24</td><td>182.195.33.137</td><td>Amarelo</td><td>Consultor De Moda</td><td>(084) 4591 3795</td><td>(084)45913795</td></tr>\n",
       "<tr><td>610.287.453-62</td><td>cardosolivia@ig.c...</td><td>yXkDW7Ebh*</td><td>1915-11-15</td><td>GO</td><td>2023-01-22</td><td>195.194.63.184</td><td>Laranja</td><td>Barbeiro</td><td>+55 61 8967-9563</td><td>+55618967-9563</td></tr>\n",
       "<tr><td>615.790.842-49</td><td>brenda39@ig.com.br</td><td>XS$84Hpsnw</td><td>1964-02-01</td><td>RJ</td><td>2023-02-16</td><td>21.252.226.29</td><td>Branco</td><td>Promotor De Vendas</td><td>+55 (021) 4751 2004</td><td>+55(021)47512004</td></tr>\n",
       "<tr><td>624.095.138-24</td><td>luizapeixoto@gmai...</td><td>TbKy82Kda$</td><td>1959-02-01</td><td>DF</td><td>2023-02-25</td><td>105.107.23.13</td><td>Ciano</td><td>Implantodontista</td><td>84 1293 1906</td><td>8412931906</td></tr>\n",
       "</table>\n",
       "only showing top 20 rows\n"
      ],
      "text/plain": [
       "+--------------+--------------------+----------+------------------+------+-------------+---------------+------------+--------------------+-------------------+-----------------+\n",
       "|           cpf|               email|     senha|data_de_nascimento|estado|data_cadastro|           ipv4|cor_favorita|           profissao|           telefone|              tel|\n",
       "+--------------+--------------------+----------+------------------+------+-------------+---------------+------------+--------------------+-------------------+-----------------+\n",
       "|981.507.362-12|pedro-lucas53@gma...|+7^7E%xFBc|        2006-12-18|    RR|   2023-02-26| 99.107.250.210|        Roxo|    Jogador De Golfe|       31 7785-4046|      317785-4046|\n",
       "|493.705.168-75|rezendeisaac@hotm...|_O_2GRnGOe|        1992-06-17|    GO|   2023-02-16|  197.11.26.213|       Ciano|Atleta De Arremes...|    (031) 0803-6753|   (031)0803-6753|\n",
       "|398.471.625-73|felipepires@uol.c...|*Aw5EOAvy9|        1921-11-11|    MG|   2023-01-02|   181.90.63.58|        Azul|      Papiloscopista|       11 9674-0553|      119674-0553|\n",
       "|092.618.354-06|stellamoraes@bol....|mw0AWYAs#s|        2021-06-01|    AC|   2023-01-08|  26.121.127.94|      Marrom|            Aeromoça|+55 (071) 3033 9177| +55(071)30339177|\n",
       "|509.427.136-99| wcarvalho@ig.com.br|pGD%!2Pq5X|        1969-10-28|    AP|   2023-02-14|  76.184.52.163|     Laranja|       Fonoaudiólogo|+55 (071) 6272 2468| +55(071)62722468|\n",
       "|218.795.460-94|da-conceicaodavi-...|uhBbFxPA&9|        1986-05-19|    MG|   2023-03-07|    192.93.0.24|        Rosa|             Taxista|   +55 84 0652 9691|    +558406529691|\n",
       "|715.836.940-48| efreitas@bol.com.br|s#q9VZt&xl|        2018-04-20|    MG|   2023-01-13| 76.251.188.148|      Branco|Produtor De Audio...|+55 (084) 1363 0052| +55(084)13630052|\n",
       "|475.698.032-56|   wnunes@bol.com.br|_8az1W%n7g|        1996-05-12|    SE|   2023-02-04|139.196.176.154|        Azul|          Cadeirinha|    (071) 1640-3388|   (071)1640-3388|\n",
       "|217.639.540-99| jribeiro@bol.com.br|MEf1X7fj_0|        2021-10-05|    PA|   2023-03-02|    71.22.224.5|      Marrom|             Geólogo|       21 1432 4092|       2114324092|\n",
       "|261.938.750-77|  murilo05@gmail.com|Te&gO7GkKs|        1917-01-05|    MT|   2023-02-21| 136.54.123.165|      Marrom|      Técnico De Som|+55 (084) 5878-3346|+55(084)5878-3346|\n",
       "|520.831.796-68| joaquim57@ig.com.br|&2E1NY+ARc|        1912-05-25|    BA|   2023-01-25| 78.196.255.126|        Rosa|         Esteticista|       41 7914-3753|      417914-3753|\n",
       "|413.087.526-44|alexiada-rocha@ig...|@f@!Z!2c*2|        1920-05-26|    MS|   2023-02-18|  182.61.65.201|     Laranja|        Microfonista|    (021) 3739-2944|   (021)3739-2944|\n",
       "|509.287.143-14|   pmendes@gmail.com|M+^XDBfe(2|        1938-03-11|    RR|   2023-01-19|  61.234.208.17| Verde Claro|              Fiscal|+55 (084) 5940-1932|+55(084)5940-1932|\n",
       "|563.170.492-70|  renan46@bol.com.br|Rp%2pVqfe$|        1922-09-01|    PA|   2023-02-01| 122.203.83.177|Verde Escuro|        Contabilista|   +55 41 6248 5773|    +554162485773|\n",
       "|098.712.346-78|manuelada-rosa@ho...|#hEIEOztQ3|        2013-01-10|    SE|   2023-01-07|  175.18.73.211|     Violeta| Seguidor De Compras|       51 0278 0564|       5102780564|\n",
       "|345.709.261-34|    usales@ig.com.br|b_8xaY$ozJ|        1992-10-16|    AM|   2023-01-05|    97.93.29.75|        Rosa|           Almirante|    (084) 8993-4521|   (084)8993-4521|\n",
       "|318.254.906-51|pereiranicolas@ho...|YA9I85Wb+2|        1945-11-18|    MA|   2023-01-24| 182.195.33.137|     Amarelo|   Consultor De Moda|    (084) 4591 3795|    (084)45913795|\n",
       "|610.287.453-62|cardosolivia@ig.c...|yXkDW7Ebh*|        1915-11-15|    GO|   2023-01-22| 195.194.63.184|     Laranja|            Barbeiro|   +55 61 8967-9563|   +55618967-9563|\n",
       "|615.790.842-49|  brenda39@ig.com.br|XS$84Hpsnw|        1964-02-01|    RJ|   2023-02-16|  21.252.226.29|      Branco|  Promotor De Vendas|+55 (021) 4751 2004| +55(021)47512004|\n",
       "|624.095.138-24|luizapeixoto@gmai...|TbKy82Kda$|        1959-02-01|    DF|   2023-02-25|  105.107.23.13|       Ciano|    Implantodontista|       84 1293 1906|       8412931906|\n",
       "+--------------+--------------------+----------+------------------+------+-------------+---------------+------------+--------------------+-------------------+-----------------+\n",
       "only showing top 20 rows"
      ]
     },
     "execution_count": 100,
     "metadata": {},
     "output_type": "execute_result"
    }
   ],
   "source": [
    "(\n",
    "    df\n",
    "    .withColumn(\"tel\", F.regexp_replace(F.col(\"telefone\"), \" \", \"\"))\n",
    ")"
   ]
  },
  {
   "cell_type": "markdown",
   "id": "540f8732-5543-4776-a477-b29039b23ebd",
   "metadata": {},
   "source": [
    "### Remover espaços e converter o telefone para inteiro\n",
    "- Função: Esta função remove os espaços do **telefone** e, em seguida, converte o valor resultante para o tipo **int** usando **.cast(\"int\")**. Isso é útil para garantir que o número de **telefone** seja tratado como um valor numérico."
   ]
  },
  {
   "cell_type": "code",
   "execution_count": 101,
   "id": "cf7a84a3-1069-41d1-aa4b-9ddacc4b2236",
   "metadata": {
    "scrolled": true
   },
   "outputs": [
    {
     "data": {
      "text/html": [
       "<table border='1'>\n",
       "<tr><th>cpf</th><th>email</th><th>senha</th><th>data_de_nascimento</th><th>estado</th><th>data_cadastro</th><th>ipv4</th><th>cor_favorita</th><th>profissao</th><th>telefone</th><th>tel</th></tr>\n",
       "<tr><td>981.507.362-12</td><td>pedro-lucas53@gma...</td><td>+7^7E%xFBc</td><td>2006-12-18</td><td>RR</td><td>2023-02-26</td><td>99.107.250.210</td><td>Roxo</td><td>Jogador De Golfe</td><td>31 7785-4046</td><td>NULL</td></tr>\n",
       "<tr><td>493.705.168-75</td><td>rezendeisaac@hotm...</td><td>_O_2GRnGOe</td><td>1992-06-17</td><td>GO</td><td>2023-02-16</td><td>197.11.26.213</td><td>Ciano</td><td>Atleta De Arremes...</td><td>(031) 0803-6753</td><td>NULL</td></tr>\n",
       "<tr><td>398.471.625-73</td><td>felipepires@uol.c...</td><td>*Aw5EOAvy9</td><td>1921-11-11</td><td>MG</td><td>2023-01-02</td><td>181.90.63.58</td><td>Azul</td><td>Papiloscopista</td><td>11 9674-0553</td><td>NULL</td></tr>\n",
       "<tr><td>092.618.354-06</td><td>stellamoraes@bol....</td><td>mw0AWYAs#s</td><td>2021-06-01</td><td>AC</td><td>2023-01-08</td><td>26.121.127.94</td><td>Marrom</td><td>Aeromo&ccedil;a</td><td>+55 (071) 3033 9177</td><td>NULL</td></tr>\n",
       "<tr><td>509.427.136-99</td><td>wcarvalho@ig.com.br</td><td>pGD%!2Pq5X</td><td>1969-10-28</td><td>AP</td><td>2023-02-14</td><td>76.184.52.163</td><td>Laranja</td><td>Fonoaudi&oacute;logo</td><td>+55 (071) 6272 2468</td><td>NULL</td></tr>\n",
       "<tr><td>218.795.460-94</td><td>da-conceicaodavi-...</td><td>uhBbFxPA&amp;9</td><td>1986-05-19</td><td>MG</td><td>2023-03-07</td><td>192.93.0.24</td><td>Rosa</td><td>Taxista</td><td>+55 84 0652 9691</td><td>NULL</td></tr>\n",
       "<tr><td>715.836.940-48</td><td>efreitas@bol.com.br</td><td>s#q9VZt&amp;xl</td><td>2018-04-20</td><td>MG</td><td>2023-01-13</td><td>76.251.188.148</td><td>Branco</td><td>Produtor De Audio...</td><td>+55 (084) 1363 0052</td><td>NULL</td></tr>\n",
       "<tr><td>475.698.032-56</td><td>wnunes@bol.com.br</td><td>_8az1W%n7g</td><td>1996-05-12</td><td>SE</td><td>2023-02-04</td><td>139.196.176.154</td><td>Azul</td><td>Cadeirinha</td><td>(071) 1640-3388</td><td>NULL</td></tr>\n",
       "<tr><td>217.639.540-99</td><td>jribeiro@bol.com.br</td><td>MEf1X7fj_0</td><td>2021-10-05</td><td>PA</td><td>2023-03-02</td><td>71.22.224.5</td><td>Marrom</td><td>Ge&oacute;logo</td><td>21 1432 4092</td><td>2114324092</td></tr>\n",
       "<tr><td>261.938.750-77</td><td>murilo05@gmail.com</td><td>Te&amp;gO7GkKs</td><td>1917-01-05</td><td>MT</td><td>2023-02-21</td><td>136.54.123.165</td><td>Marrom</td><td>T&eacute;cnico De Som</td><td>+55 (084) 5878-3346</td><td>NULL</td></tr>\n",
       "<tr><td>520.831.796-68</td><td>joaquim57@ig.com.br</td><td>&amp;2E1NY+ARc</td><td>1912-05-25</td><td>BA</td><td>2023-01-25</td><td>78.196.255.126</td><td>Rosa</td><td>Esteticista</td><td>41 7914-3753</td><td>NULL</td></tr>\n",
       "<tr><td>413.087.526-44</td><td>alexiada-rocha@ig...</td><td>@f@!Z!2c*2</td><td>1920-05-26</td><td>MS</td><td>2023-02-18</td><td>182.61.65.201</td><td>Laranja</td><td>Microfonista</td><td>(021) 3739-2944</td><td>NULL</td></tr>\n",
       "<tr><td>509.287.143-14</td><td>pmendes@gmail.com</td><td>M+^XDBfe(2</td><td>1938-03-11</td><td>RR</td><td>2023-01-19</td><td>61.234.208.17</td><td>Verde Claro</td><td>Fiscal</td><td>+55 (084) 5940-1932</td><td>NULL</td></tr>\n",
       "<tr><td>563.170.492-70</td><td>renan46@bol.com.br</td><td>Rp%2pVqfe$</td><td>1922-09-01</td><td>PA</td><td>2023-02-01</td><td>122.203.83.177</td><td>Verde Escuro</td><td>Contabilista</td><td>+55 41 6248 5773</td><td>NULL</td></tr>\n",
       "<tr><td>098.712.346-78</td><td>manuelada-rosa@ho...</td><td>#hEIEOztQ3</td><td>2013-01-10</td><td>SE</td><td>2023-01-07</td><td>175.18.73.211</td><td>Violeta</td><td>Seguidor De Compras</td><td>51 0278 0564</td><td>NULL</td></tr>\n",
       "<tr><td>345.709.261-34</td><td>usales@ig.com.br</td><td>b_8xaY$ozJ</td><td>1992-10-16</td><td>AM</td><td>2023-01-05</td><td>97.93.29.75</td><td>Rosa</td><td>Almirante</td><td>(084) 8993-4521</td><td>NULL</td></tr>\n",
       "<tr><td>318.254.906-51</td><td>pereiranicolas@ho...</td><td>YA9I85Wb+2</td><td>1945-11-18</td><td>MA</td><td>2023-01-24</td><td>182.195.33.137</td><td>Amarelo</td><td>Consultor De Moda</td><td>(084) 4591 3795</td><td>NULL</td></tr>\n",
       "<tr><td>610.287.453-62</td><td>cardosolivia@ig.c...</td><td>yXkDW7Ebh*</td><td>1915-11-15</td><td>GO</td><td>2023-01-22</td><td>195.194.63.184</td><td>Laranja</td><td>Barbeiro</td><td>+55 61 8967-9563</td><td>NULL</td></tr>\n",
       "<tr><td>615.790.842-49</td><td>brenda39@ig.com.br</td><td>XS$84Hpsnw</td><td>1964-02-01</td><td>RJ</td><td>2023-02-16</td><td>21.252.226.29</td><td>Branco</td><td>Promotor De Vendas</td><td>+55 (021) 4751 2004</td><td>NULL</td></tr>\n",
       "<tr><td>624.095.138-24</td><td>luizapeixoto@gmai...</td><td>TbKy82Kda$</td><td>1959-02-01</td><td>DF</td><td>2023-02-25</td><td>105.107.23.13</td><td>Ciano</td><td>Implantodontista</td><td>84 1293 1906</td><td>NULL</td></tr>\n",
       "</table>\n",
       "only showing top 20 rows\n"
      ],
      "text/plain": [
       "+--------------+--------------------+----------+------------------+------+-------------+---------------+------------+--------------------+-------------------+----------+\n",
       "|           cpf|               email|     senha|data_de_nascimento|estado|data_cadastro|           ipv4|cor_favorita|           profissao|           telefone|       tel|\n",
       "+--------------+--------------------+----------+------------------+------+-------------+---------------+------------+--------------------+-------------------+----------+\n",
       "|981.507.362-12|pedro-lucas53@gma...|+7^7E%xFBc|        2006-12-18|    RR|   2023-02-26| 99.107.250.210|        Roxo|    Jogador De Golfe|       31 7785-4046|      NULL|\n",
       "|493.705.168-75|rezendeisaac@hotm...|_O_2GRnGOe|        1992-06-17|    GO|   2023-02-16|  197.11.26.213|       Ciano|Atleta De Arremes...|    (031) 0803-6753|      NULL|\n",
       "|398.471.625-73|felipepires@uol.c...|*Aw5EOAvy9|        1921-11-11|    MG|   2023-01-02|   181.90.63.58|        Azul|      Papiloscopista|       11 9674-0553|      NULL|\n",
       "|092.618.354-06|stellamoraes@bol....|mw0AWYAs#s|        2021-06-01|    AC|   2023-01-08|  26.121.127.94|      Marrom|            Aeromoça|+55 (071) 3033 9177|      NULL|\n",
       "|509.427.136-99| wcarvalho@ig.com.br|pGD%!2Pq5X|        1969-10-28|    AP|   2023-02-14|  76.184.52.163|     Laranja|       Fonoaudiólogo|+55 (071) 6272 2468|      NULL|\n",
       "|218.795.460-94|da-conceicaodavi-...|uhBbFxPA&9|        1986-05-19|    MG|   2023-03-07|    192.93.0.24|        Rosa|             Taxista|   +55 84 0652 9691|      NULL|\n",
       "|715.836.940-48| efreitas@bol.com.br|s#q9VZt&xl|        2018-04-20|    MG|   2023-01-13| 76.251.188.148|      Branco|Produtor De Audio...|+55 (084) 1363 0052|      NULL|\n",
       "|475.698.032-56|   wnunes@bol.com.br|_8az1W%n7g|        1996-05-12|    SE|   2023-02-04|139.196.176.154|        Azul|          Cadeirinha|    (071) 1640-3388|      NULL|\n",
       "|217.639.540-99| jribeiro@bol.com.br|MEf1X7fj_0|        2021-10-05|    PA|   2023-03-02|    71.22.224.5|      Marrom|             Geólogo|       21 1432 4092|2114324092|\n",
       "|261.938.750-77|  murilo05@gmail.com|Te&gO7GkKs|        1917-01-05|    MT|   2023-02-21| 136.54.123.165|      Marrom|      Técnico De Som|+55 (084) 5878-3346|      NULL|\n",
       "|520.831.796-68| joaquim57@ig.com.br|&2E1NY+ARc|        1912-05-25|    BA|   2023-01-25| 78.196.255.126|        Rosa|         Esteticista|       41 7914-3753|      NULL|\n",
       "|413.087.526-44|alexiada-rocha@ig...|@f@!Z!2c*2|        1920-05-26|    MS|   2023-02-18|  182.61.65.201|     Laranja|        Microfonista|    (021) 3739-2944|      NULL|\n",
       "|509.287.143-14|   pmendes@gmail.com|M+^XDBfe(2|        1938-03-11|    RR|   2023-01-19|  61.234.208.17| Verde Claro|              Fiscal|+55 (084) 5940-1932|      NULL|\n",
       "|563.170.492-70|  renan46@bol.com.br|Rp%2pVqfe$|        1922-09-01|    PA|   2023-02-01| 122.203.83.177|Verde Escuro|        Contabilista|   +55 41 6248 5773|      NULL|\n",
       "|098.712.346-78|manuelada-rosa@ho...|#hEIEOztQ3|        2013-01-10|    SE|   2023-01-07|  175.18.73.211|     Violeta| Seguidor De Compras|       51 0278 0564|      NULL|\n",
       "|345.709.261-34|    usales@ig.com.br|b_8xaY$ozJ|        1992-10-16|    AM|   2023-01-05|    97.93.29.75|        Rosa|           Almirante|    (084) 8993-4521|      NULL|\n",
       "|318.254.906-51|pereiranicolas@ho...|YA9I85Wb+2|        1945-11-18|    MA|   2023-01-24| 182.195.33.137|     Amarelo|   Consultor De Moda|    (084) 4591 3795|      NULL|\n",
       "|610.287.453-62|cardosolivia@ig.c...|yXkDW7Ebh*|        1915-11-15|    GO|   2023-01-22| 195.194.63.184|     Laranja|            Barbeiro|   +55 61 8967-9563|      NULL|\n",
       "|615.790.842-49|  brenda39@ig.com.br|XS$84Hpsnw|        1964-02-01|    RJ|   2023-02-16|  21.252.226.29|      Branco|  Promotor De Vendas|+55 (021) 4751 2004|      NULL|\n",
       "|624.095.138-24|luizapeixoto@gmai...|TbKy82Kda$|        1959-02-01|    DF|   2023-02-25|  105.107.23.13|       Ciano|    Implantodontista|       84 1293 1906|      NULL|\n",
       "+--------------+--------------------+----------+------------------+------+-------------+---------------+------------+--------------------+-------------------+----------+\n",
       "only showing top 20 rows"
      ]
     },
     "execution_count": 101,
     "metadata": {},
     "output_type": "execute_result"
    }
   ],
   "source": [
    "(\n",
    "    df\n",
    "    .withColumn(\"tel\", F.regexp_replace(F.col(\"telefone\"), \" \", \"\").cast(\"int\"))\n",
    ")"
   ]
  },
  {
   "cell_type": "markdown",
   "id": "912ef57d-f4af-4f8b-8bec-1486a990ff12",
   "metadata": {},
   "source": [
    "### Remover caracteres não numéricos de números de telefone\n",
    "- Função: Cria uma nova coluna **tel** removendo todos os caracteres que não sejam dígitos **(números)** da coluna **telefone**, utilizando a expressão regular **\\\\D**, que captura qualquer caractere que não seja um número."
   ]
  },
  {
   "cell_type": "code",
   "execution_count": 102,
   "id": "ecbe1086-9b27-4c64-b639-06a238f688cc",
   "metadata": {
    "scrolled": true
   },
   "outputs": [
    {
     "data": {
      "text/html": [
       "<table border='1'>\n",
       "<tr><th>cpf</th><th>email</th><th>senha</th><th>data_de_nascimento</th><th>estado</th><th>data_cadastro</th><th>ipv4</th><th>cor_favorita</th><th>profissao</th><th>telefone</th><th>tel</th></tr>\n",
       "<tr><td>981.507.362-12</td><td>pedro-lucas53@gma...</td><td>+7^7E%xFBc</td><td>2006-12-18</td><td>RR</td><td>2023-02-26</td><td>99.107.250.210</td><td>Roxo</td><td>Jogador De Golfe</td><td>31 7785-4046</td><td>3177854046</td></tr>\n",
       "<tr><td>493.705.168-75</td><td>rezendeisaac@hotm...</td><td>_O_2GRnGOe</td><td>1992-06-17</td><td>GO</td><td>2023-02-16</td><td>197.11.26.213</td><td>Ciano</td><td>Atleta De Arremes...</td><td>(031) 0803-6753</td><td>03108036753</td></tr>\n",
       "<tr><td>398.471.625-73</td><td>felipepires@uol.c...</td><td>*Aw5EOAvy9</td><td>1921-11-11</td><td>MG</td><td>2023-01-02</td><td>181.90.63.58</td><td>Azul</td><td>Papiloscopista</td><td>11 9674-0553</td><td>1196740553</td></tr>\n",
       "<tr><td>092.618.354-06</td><td>stellamoraes@bol....</td><td>mw0AWYAs#s</td><td>2021-06-01</td><td>AC</td><td>2023-01-08</td><td>26.121.127.94</td><td>Marrom</td><td>Aeromo&ccedil;a</td><td>+55 (071) 3033 9177</td><td>5507130339177</td></tr>\n",
       "<tr><td>509.427.136-99</td><td>wcarvalho@ig.com.br</td><td>pGD%!2Pq5X</td><td>1969-10-28</td><td>AP</td><td>2023-02-14</td><td>76.184.52.163</td><td>Laranja</td><td>Fonoaudi&oacute;logo</td><td>+55 (071) 6272 2468</td><td>5507162722468</td></tr>\n",
       "<tr><td>218.795.460-94</td><td>da-conceicaodavi-...</td><td>uhBbFxPA&amp;9</td><td>1986-05-19</td><td>MG</td><td>2023-03-07</td><td>192.93.0.24</td><td>Rosa</td><td>Taxista</td><td>+55 84 0652 9691</td><td>558406529691</td></tr>\n",
       "<tr><td>715.836.940-48</td><td>efreitas@bol.com.br</td><td>s#q9VZt&amp;xl</td><td>2018-04-20</td><td>MG</td><td>2023-01-13</td><td>76.251.188.148</td><td>Branco</td><td>Produtor De Audio...</td><td>+55 (084) 1363 0052</td><td>5508413630052</td></tr>\n",
       "<tr><td>475.698.032-56</td><td>wnunes@bol.com.br</td><td>_8az1W%n7g</td><td>1996-05-12</td><td>SE</td><td>2023-02-04</td><td>139.196.176.154</td><td>Azul</td><td>Cadeirinha</td><td>(071) 1640-3388</td><td>07116403388</td></tr>\n",
       "<tr><td>217.639.540-99</td><td>jribeiro@bol.com.br</td><td>MEf1X7fj_0</td><td>2021-10-05</td><td>PA</td><td>2023-03-02</td><td>71.22.224.5</td><td>Marrom</td><td>Ge&oacute;logo</td><td>21 1432 4092</td><td>2114324092</td></tr>\n",
       "<tr><td>261.938.750-77</td><td>murilo05@gmail.com</td><td>Te&amp;gO7GkKs</td><td>1917-01-05</td><td>MT</td><td>2023-02-21</td><td>136.54.123.165</td><td>Marrom</td><td>T&eacute;cnico De Som</td><td>+55 (084) 5878-3346</td><td>5508458783346</td></tr>\n",
       "<tr><td>520.831.796-68</td><td>joaquim57@ig.com.br</td><td>&amp;2E1NY+ARc</td><td>1912-05-25</td><td>BA</td><td>2023-01-25</td><td>78.196.255.126</td><td>Rosa</td><td>Esteticista</td><td>41 7914-3753</td><td>4179143753</td></tr>\n",
       "<tr><td>413.087.526-44</td><td>alexiada-rocha@ig...</td><td>@f@!Z!2c*2</td><td>1920-05-26</td><td>MS</td><td>2023-02-18</td><td>182.61.65.201</td><td>Laranja</td><td>Microfonista</td><td>(021) 3739-2944</td><td>02137392944</td></tr>\n",
       "<tr><td>509.287.143-14</td><td>pmendes@gmail.com</td><td>M+^XDBfe(2</td><td>1938-03-11</td><td>RR</td><td>2023-01-19</td><td>61.234.208.17</td><td>Verde Claro</td><td>Fiscal</td><td>+55 (084) 5940-1932</td><td>5508459401932</td></tr>\n",
       "<tr><td>563.170.492-70</td><td>renan46@bol.com.br</td><td>Rp%2pVqfe$</td><td>1922-09-01</td><td>PA</td><td>2023-02-01</td><td>122.203.83.177</td><td>Verde Escuro</td><td>Contabilista</td><td>+55 41 6248 5773</td><td>554162485773</td></tr>\n",
       "<tr><td>098.712.346-78</td><td>manuelada-rosa@ho...</td><td>#hEIEOztQ3</td><td>2013-01-10</td><td>SE</td><td>2023-01-07</td><td>175.18.73.211</td><td>Violeta</td><td>Seguidor De Compras</td><td>51 0278 0564</td><td>5102780564</td></tr>\n",
       "<tr><td>345.709.261-34</td><td>usales@ig.com.br</td><td>b_8xaY$ozJ</td><td>1992-10-16</td><td>AM</td><td>2023-01-05</td><td>97.93.29.75</td><td>Rosa</td><td>Almirante</td><td>(084) 8993-4521</td><td>08489934521</td></tr>\n",
       "<tr><td>318.254.906-51</td><td>pereiranicolas@ho...</td><td>YA9I85Wb+2</td><td>1945-11-18</td><td>MA</td><td>2023-01-24</td><td>182.195.33.137</td><td>Amarelo</td><td>Consultor De Moda</td><td>(084) 4591 3795</td><td>08445913795</td></tr>\n",
       "<tr><td>610.287.453-62</td><td>cardosolivia@ig.c...</td><td>yXkDW7Ebh*</td><td>1915-11-15</td><td>GO</td><td>2023-01-22</td><td>195.194.63.184</td><td>Laranja</td><td>Barbeiro</td><td>+55 61 8967-9563</td><td>556189679563</td></tr>\n",
       "<tr><td>615.790.842-49</td><td>brenda39@ig.com.br</td><td>XS$84Hpsnw</td><td>1964-02-01</td><td>RJ</td><td>2023-02-16</td><td>21.252.226.29</td><td>Branco</td><td>Promotor De Vendas</td><td>+55 (021) 4751 2004</td><td>5502147512004</td></tr>\n",
       "<tr><td>624.095.138-24</td><td>luizapeixoto@gmai...</td><td>TbKy82Kda$</td><td>1959-02-01</td><td>DF</td><td>2023-02-25</td><td>105.107.23.13</td><td>Ciano</td><td>Implantodontista</td><td>84 1293 1906</td><td>8412931906</td></tr>\n",
       "</table>\n",
       "only showing top 20 rows\n"
      ],
      "text/plain": [
       "+--------------+--------------------+----------+------------------+------+-------------+---------------+------------+--------------------+-------------------+-------------+\n",
       "|           cpf|               email|     senha|data_de_nascimento|estado|data_cadastro|           ipv4|cor_favorita|           profissao|           telefone|          tel|\n",
       "+--------------+--------------------+----------+------------------+------+-------------+---------------+------------+--------------------+-------------------+-------------+\n",
       "|981.507.362-12|pedro-lucas53@gma...|+7^7E%xFBc|        2006-12-18|    RR|   2023-02-26| 99.107.250.210|        Roxo|    Jogador De Golfe|       31 7785-4046|   3177854046|\n",
       "|493.705.168-75|rezendeisaac@hotm...|_O_2GRnGOe|        1992-06-17|    GO|   2023-02-16|  197.11.26.213|       Ciano|Atleta De Arremes...|    (031) 0803-6753|  03108036753|\n",
       "|398.471.625-73|felipepires@uol.c...|*Aw5EOAvy9|        1921-11-11|    MG|   2023-01-02|   181.90.63.58|        Azul|      Papiloscopista|       11 9674-0553|   1196740553|\n",
       "|092.618.354-06|stellamoraes@bol....|mw0AWYAs#s|        2021-06-01|    AC|   2023-01-08|  26.121.127.94|      Marrom|            Aeromoça|+55 (071) 3033 9177|5507130339177|\n",
       "|509.427.136-99| wcarvalho@ig.com.br|pGD%!2Pq5X|        1969-10-28|    AP|   2023-02-14|  76.184.52.163|     Laranja|       Fonoaudiólogo|+55 (071) 6272 2468|5507162722468|\n",
       "|218.795.460-94|da-conceicaodavi-...|uhBbFxPA&9|        1986-05-19|    MG|   2023-03-07|    192.93.0.24|        Rosa|             Taxista|   +55 84 0652 9691| 558406529691|\n",
       "|715.836.940-48| efreitas@bol.com.br|s#q9VZt&xl|        2018-04-20|    MG|   2023-01-13| 76.251.188.148|      Branco|Produtor De Audio...|+55 (084) 1363 0052|5508413630052|\n",
       "|475.698.032-56|   wnunes@bol.com.br|_8az1W%n7g|        1996-05-12|    SE|   2023-02-04|139.196.176.154|        Azul|          Cadeirinha|    (071) 1640-3388|  07116403388|\n",
       "|217.639.540-99| jribeiro@bol.com.br|MEf1X7fj_0|        2021-10-05|    PA|   2023-03-02|    71.22.224.5|      Marrom|             Geólogo|       21 1432 4092|   2114324092|\n",
       "|261.938.750-77|  murilo05@gmail.com|Te&gO7GkKs|        1917-01-05|    MT|   2023-02-21| 136.54.123.165|      Marrom|      Técnico De Som|+55 (084) 5878-3346|5508458783346|\n",
       "|520.831.796-68| joaquim57@ig.com.br|&2E1NY+ARc|        1912-05-25|    BA|   2023-01-25| 78.196.255.126|        Rosa|         Esteticista|       41 7914-3753|   4179143753|\n",
       "|413.087.526-44|alexiada-rocha@ig...|@f@!Z!2c*2|        1920-05-26|    MS|   2023-02-18|  182.61.65.201|     Laranja|        Microfonista|    (021) 3739-2944|  02137392944|\n",
       "|509.287.143-14|   pmendes@gmail.com|M+^XDBfe(2|        1938-03-11|    RR|   2023-01-19|  61.234.208.17| Verde Claro|              Fiscal|+55 (084) 5940-1932|5508459401932|\n",
       "|563.170.492-70|  renan46@bol.com.br|Rp%2pVqfe$|        1922-09-01|    PA|   2023-02-01| 122.203.83.177|Verde Escuro|        Contabilista|   +55 41 6248 5773| 554162485773|\n",
       "|098.712.346-78|manuelada-rosa@ho...|#hEIEOztQ3|        2013-01-10|    SE|   2023-01-07|  175.18.73.211|     Violeta| Seguidor De Compras|       51 0278 0564|   5102780564|\n",
       "|345.709.261-34|    usales@ig.com.br|b_8xaY$ozJ|        1992-10-16|    AM|   2023-01-05|    97.93.29.75|        Rosa|           Almirante|    (084) 8993-4521|  08489934521|\n",
       "|318.254.906-51|pereiranicolas@ho...|YA9I85Wb+2|        1945-11-18|    MA|   2023-01-24| 182.195.33.137|     Amarelo|   Consultor De Moda|    (084) 4591 3795|  08445913795|\n",
       "|610.287.453-62|cardosolivia@ig.c...|yXkDW7Ebh*|        1915-11-15|    GO|   2023-01-22| 195.194.63.184|     Laranja|            Barbeiro|   +55 61 8967-9563| 556189679563|\n",
       "|615.790.842-49|  brenda39@ig.com.br|XS$84Hpsnw|        1964-02-01|    RJ|   2023-02-16|  21.252.226.29|      Branco|  Promotor De Vendas|+55 (021) 4751 2004|5502147512004|\n",
       "|624.095.138-24|luizapeixoto@gmai...|TbKy82Kda$|        1959-02-01|    DF|   2023-02-25|  105.107.23.13|       Ciano|    Implantodontista|       84 1293 1906|   8412931906|\n",
       "+--------------+--------------------+----------+------------------+------+-------------+---------------+------------+--------------------+-------------------+-------------+\n",
       "only showing top 20 rows"
      ]
     },
     "execution_count": 102,
     "metadata": {},
     "output_type": "execute_result"
    }
   ],
   "source": [
    "(\n",
    "    df\n",
    "    .withColumn(\"tel\", F.regexp_replace(F.col(\"telefone\"), \"\\\\D\", \"\"))\n",
    ")"
   ]
  },
  {
   "cell_type": "markdown",
   "id": "368a2778-4801-4ad4-8c8f-9930d3068dde",
   "metadata": {},
   "source": [
    "### Ordenar por telefone e senha\n",
    "- Função: Após **remover** os caracteres não numéricos do **telefone**, o DataFrame é ordenado primeiro em **ordem crescente** pela coluna **tel** (telefone) e depois em **ordem decrescente** pela coluna **senha**."
   ]
  },
  {
   "cell_type": "code",
   "execution_count": 103,
   "id": "d2dcfeca-d04f-4e0a-8814-151a07431d09",
   "metadata": {
    "scrolled": true
   },
   "outputs": [
    {
     "data": {
      "text/html": [
       "<table border='1'>\n",
       "<tr><th>cpf</th><th>email</th><th>senha</th><th>data_de_nascimento</th><th>estado</th><th>data_cadastro</th><th>ipv4</th><th>cor_favorita</th><th>profissao</th><th>telefone</th><th>tel</th></tr>\n",
       "<tr><td>136.894.750-66</td><td>barrossarah@bol.c...</td><td>zm1eLH9t%o</td><td>1975-05-21</td><td>CE</td><td>2023-01-11</td><td>79.204.112.52</td><td>Magenta</td><td>Auxiliar De Servi...</td><td>11 7350 7069</td><td>1173507069</td></tr>\n",
       "<tr><td>618.239.504-42</td><td>da-motalorenzo@bo...</td><td>zV2Hi*+o&amp;!</td><td>2013-10-22</td><td>RR</td><td>2023-03-04</td><td>129.75.72.165</td><td>Azul Escuro</td><td>Webdesigner</td><td>81 6469 4935</td><td>8164694935</td></tr>\n",
       "<tr><td>856.149.032-24</td><td>moreiracaue@uol.c...</td><td>zSR5%axe*8</td><td>2016-06-13</td><td>MT</td><td>2023-01-25</td><td>23.194.38.202</td><td>Verde</td><td>Gandula</td><td>+55 (051) 8388 8248</td><td>5505183888248</td></tr>\n",
       "<tr><td>482.063.597-29</td><td>zgomes@uol.com.br</td><td>zIEEb2Oma^</td><td>1990-04-25</td><td>PI</td><td>2023-03-05</td><td>152.70.106.84</td><td>Verde Escuro</td><td>Baterista</td><td>+55 (061) 9491 2341</td><td>5506194912341</td></tr>\n",
       "<tr><td>765.918.204-85</td><td>oda-mota@gmail.com</td><td>zGw4(ICj#4</td><td>2018-01-06</td><td>BA</td><td>2023-02-26</td><td>104.88.230.94</td><td>Azul Escuro</td><td>Jangadeiro</td><td>+55 61 3812-9121</td><td>556138129121</td></tr>\n",
       "<tr><td>724.308.165-71</td><td>da-conceicaoisis@...</td><td>zCw%U8Cjvi</td><td>1923-09-23</td><td>PA</td><td>2023-02-28</td><td>191.99.251.3</td><td>Laranja</td><td>Aeronauta</td><td>(011) 2033 8920</td><td>01120338920</td></tr>\n",
       "<tr><td>731.602.589-12</td><td>castromirella@yah...</td><td>z9qQ0X_m%@</td><td>1935-04-06</td><td>SC</td><td>2023-01-24</td><td>125.137.127.84</td><td>Ciano</td><td>Cortador De Cana-...</td><td>21 1503 8540</td><td>2115038540</td></tr>\n",
       "<tr><td>670.823.459-92</td><td>souzanatalia@uol....</td><td>z0M3XLfg+_</td><td>1969-10-02</td><td>RS</td><td>2023-02-08</td><td>204.114.208.57</td><td>Rosa</td><td>M&atilde;e Social</td><td>31 8656 3339</td><td>3186563339</td></tr>\n",
       "<tr><td>496.532.870-10</td><td>thiago86@ig.com.br</td><td>z#6DPO(r_v</td><td>1976-03-05</td><td>RR</td><td>2023-01-10</td><td>163.52.38.240</td><td>Marrom</td><td>Economista Dom&eacute;stico</td><td>+55 (051) 0924-4736</td><td>5505109244736</td></tr>\n",
       "<tr><td>237.845.019-23</td><td>enzoda-mata@uol.c...</td><td>ys*5O3g05)</td><td>1979-10-12</td><td>SC</td><td>2023-01-27</td><td>146.178.243.248</td><td>Magenta</td><td>Ortoptista</td><td>+55 21 9808 5208</td><td>552198085208</td></tr>\n",
       "<tr><td>384.970.521-88</td><td>laurada-rocha@ig....</td><td>yn!@9P8u4v</td><td>1994-03-25</td><td>GO</td><td>2023-01-11</td><td>27.198.78.198</td><td>Branco</td><td>Diplomata</td><td>(011) 3464 4721</td><td>01134644721</td></tr>\n",
       "<tr><td>706.135.948-00</td><td>ana-vitoriafernan...</td><td>ye!oooXy$0</td><td>1935-05-09</td><td>MG</td><td>2023-02-11</td><td>103.28.141.203</td><td>Amarelo</td><td>Cientista De Alim...</td><td>71 0827-8838</td><td>7108278838</td></tr>\n",
       "<tr><td>621.307.485-62</td><td>nnunes@bol.com.br</td><td>yc$3eCx@HG</td><td>1918-12-23</td><td>TO</td><td>2023-03-13</td><td>21.249.245.30</td><td>Amarelo</td><td>T&eacute;cnico Em Radiol...</td><td>41 0125-2478</td><td>4101252478</td></tr>\n",
       "<tr><td>610.287.453-62</td><td>cardosolivia@ig.c...</td><td>yXkDW7Ebh*</td><td>1915-11-15</td><td>GO</td><td>2023-01-22</td><td>195.194.63.184</td><td>Laranja</td><td>Barbeiro</td><td>+55 61 8967-9563</td><td>556189679563</td></tr>\n",
       "<tr><td>631.524.890-05</td><td>alicia95@ig.com.br</td><td>ySH4*YDv#i</td><td>1985-04-13</td><td>MS</td><td>2023-03-09</td><td>35.69.58.7</td><td>Ciano</td><td>Dublador</td><td>+55 71 2435-3716</td><td>557124353716</td></tr>\n",
       "<tr><td>371.849.256-37</td><td>bsouza@ig.com.br</td><td>y8JpBdaD#)</td><td>1978-04-13</td><td>GO</td><td>2023-02-11</td><td>47.173.23.135</td><td>Marrom</td><td>Mec&acirc;nico</td><td>+55 61 0987 5226</td><td>556109875226</td></tr>\n",
       "<tr><td>745.629.108-01</td><td>martinserick@ig.c...</td><td>y7BhI+yh*N</td><td>1989-02-20</td><td>PA</td><td>2023-03-01</td><td>65.195.13.246</td><td>Azul</td><td>Deputado</td><td>+55 31 8942-5174</td><td>553189425174</td></tr>\n",
       "<tr><td>279.806.354-00</td><td>vianaigor@uol.com.br</td><td>y52dV55x*c</td><td>1947-11-30</td><td>MG</td><td>2023-02-28</td><td>223.84.98.58</td><td>Ciano</td><td>Engenheiro Aeron&aacute;...</td><td>11 8011-2481</td><td>1180112481</td></tr>\n",
       "<tr><td>857.031.426-44</td><td>cardosoaugusto@bo...</td><td>y0pW*^n1_d</td><td>2014-08-03</td><td>DF</td><td>2023-02-12</td><td>121.29.109.125</td><td>Verde Escuro</td><td>Produtor Editorial</td><td>+55 (011) 4368 9998</td><td>5501143689998</td></tr>\n",
       "<tr><td>097.823.154-60</td><td>da-pazmurilo@ig.c...</td><td>y&amp;$1C7Ad(6</td><td>2009-08-23</td><td>CE</td><td>2023-02-22</td><td>135.133.178.19</td><td>Magenta</td><td>Amolador De Ferra...</td><td>(061) 5011 5240</td><td>06150115240</td></tr>\n",
       "</table>\n",
       "only showing top 20 rows\n"
      ],
      "text/plain": [
       "+--------------+--------------------+----------+------------------+------+-------------+---------------+------------+--------------------+-------------------+-------------+\n",
       "|           cpf|               email|     senha|data_de_nascimento|estado|data_cadastro|           ipv4|cor_favorita|           profissao|           telefone|          tel|\n",
       "+--------------+--------------------+----------+------------------+------+-------------+---------------+------------+--------------------+-------------------+-------------+\n",
       "|136.894.750-66|barrossarah@bol.c...|zm1eLH9t%o|        1975-05-21|    CE|   2023-01-11|  79.204.112.52|     Magenta|Auxiliar De Servi...|       11 7350 7069|   1173507069|\n",
       "|618.239.504-42|da-motalorenzo@bo...|zV2Hi*+o&!|        2013-10-22|    RR|   2023-03-04|  129.75.72.165| Azul Escuro|         Webdesigner|       81 6469 4935|   8164694935|\n",
       "|856.149.032-24|moreiracaue@uol.c...|zSR5%axe*8|        2016-06-13|    MT|   2023-01-25|  23.194.38.202|       Verde|             Gandula|+55 (051) 8388 8248|5505183888248|\n",
       "|482.063.597-29|   zgomes@uol.com.br|zIEEb2Oma^|        1990-04-25|    PI|   2023-03-05|  152.70.106.84|Verde Escuro|           Baterista|+55 (061) 9491 2341|5506194912341|\n",
       "|765.918.204-85|  oda-mota@gmail.com|zGw4(ICj#4|        2018-01-06|    BA|   2023-02-26|  104.88.230.94| Azul Escuro|          Jangadeiro|   +55 61 3812-9121| 556138129121|\n",
       "|724.308.165-71|da-conceicaoisis@...|zCw%U8Cjvi|        1923-09-23|    PA|   2023-02-28|   191.99.251.3|     Laranja|           Aeronauta|    (011) 2033 8920|  01120338920|\n",
       "|731.602.589-12|castromirella@yah...|z9qQ0X_m%@|        1935-04-06|    SC|   2023-01-24| 125.137.127.84|       Ciano|Cortador De Cana-...|       21 1503 8540|   2115038540|\n",
       "|670.823.459-92|souzanatalia@uol....|z0M3XLfg+_|        1969-10-02|    RS|   2023-02-08| 204.114.208.57|        Rosa|          Mãe Social|       31 8656 3339|   3186563339|\n",
       "|496.532.870-10|  thiago86@ig.com.br|z#6DPO(r_v|        1976-03-05|    RR|   2023-01-10|  163.52.38.240|      Marrom|Economista Doméstico|+55 (051) 0924-4736|5505109244736|\n",
       "|237.845.019-23|enzoda-mata@uol.c...|ys*5O3g05)|        1979-10-12|    SC|   2023-01-27|146.178.243.248|     Magenta|          Ortoptista|   +55 21 9808 5208| 552198085208|\n",
       "|384.970.521-88|laurada-rocha@ig....|yn!@9P8u4v|        1994-03-25|    GO|   2023-01-11|  27.198.78.198|      Branco|           Diplomata|    (011) 3464 4721|  01134644721|\n",
       "|706.135.948-00|ana-vitoriafernan...|ye!oooXy$0|        1935-05-09|    MG|   2023-02-11| 103.28.141.203|     Amarelo|Cientista De Alim...|       71 0827-8838|   7108278838|\n",
       "|621.307.485-62|   nnunes@bol.com.br|yc$3eCx@HG|        1918-12-23|    TO|   2023-03-13|  21.249.245.30|     Amarelo|Técnico Em Radiol...|       41 0125-2478|   4101252478|\n",
       "|610.287.453-62|cardosolivia@ig.c...|yXkDW7Ebh*|        1915-11-15|    GO|   2023-01-22| 195.194.63.184|     Laranja|            Barbeiro|   +55 61 8967-9563| 556189679563|\n",
       "|631.524.890-05|  alicia95@ig.com.br|ySH4*YDv#i|        1985-04-13|    MS|   2023-03-09|     35.69.58.7|       Ciano|            Dublador|   +55 71 2435-3716| 557124353716|\n",
       "|371.849.256-37|    bsouza@ig.com.br|y8JpBdaD#)|        1978-04-13|    GO|   2023-02-11|  47.173.23.135|      Marrom|            Mecânico|   +55 61 0987 5226| 556109875226|\n",
       "|745.629.108-01|martinserick@ig.c...|y7BhI+yh*N|        1989-02-20|    PA|   2023-03-01|  65.195.13.246|        Azul|            Deputado|   +55 31 8942-5174| 553189425174|\n",
       "|279.806.354-00|vianaigor@uol.com.br|y52dV55x*c|        1947-11-30|    MG|   2023-02-28|   223.84.98.58|       Ciano|Engenheiro Aeroná...|       11 8011-2481|   1180112481|\n",
       "|857.031.426-44|cardosoaugusto@bo...|y0pW*^n1_d|        2014-08-03|    DF|   2023-02-12| 121.29.109.125|Verde Escuro|  Produtor Editorial|+55 (011) 4368 9998|5501143689998|\n",
       "|097.823.154-60|da-pazmurilo@ig.c...|y&$1C7Ad(6|        2009-08-23|    CE|   2023-02-22| 135.133.178.19|     Magenta|Amolador De Ferra...|    (061) 5011 5240|  06150115240|\n",
       "+--------------+--------------------+----------+------------------+------+-------------+---------------+------------+--------------------+-------------------+-------------+\n",
       "only showing top 20 rows"
      ]
     },
     "execution_count": 103,
     "metadata": {},
     "output_type": "execute_result"
    }
   ],
   "source": [
    "(\n",
    "    df\n",
    "    .withColumn(\"tel\", F.regexp_replace(F.col(\"telefone\"), \"\\\\D\", \"\"))\n",
    "    .orderBy(F.asc(F.col(\"tel\")))\n",
    "    .orderBy(F.desc(F.col(\"senha\")))\n",
    ")"
   ]
  },
  {
   "cell_type": "markdown",
   "id": "23e3acc8-4e57-468c-b0e2-b4a91e3e6f38",
   "metadata": {},
   "source": [
    "### Ordenar telefone com valores nulos no final\n",
    "- Função: Ordena os números de **telefone** em **ordem crescente**, mas garante que qualquer valor nulo na coluna **tel** seja movido para o final do DataFrame."
   ]
  },
  {
   "cell_type": "code",
   "execution_count": 104,
   "id": "6bc9e20e-0646-43ae-976c-e07f83465c19",
   "metadata": {
    "scrolled": true
   },
   "outputs": [
    {
     "data": {
      "text/html": [
       "<table border='1'>\n",
       "<tr><th>cpf</th><th>email</th><th>senha</th><th>data_de_nascimento</th><th>estado</th><th>data_cadastro</th><th>ipv4</th><th>cor_favorita</th><th>profissao</th><th>telefone</th><th>tel</th></tr>\n",
       "<tr><td>957.102.438-41</td><td>calebe52@ig.com.br</td><td>3VGXSE)t!6</td><td>1993-04-24</td><td>SE</td><td>2023-01-07</td><td>218.214.242.30</td><td>Roxo</td><td>Profissional De C...</td><td>11 0384 7507</td><td>1103847507</td></tr>\n",
       "<tr><td>869.271.345-73</td><td>miguel76@yahoo.co...</td><td>*Q$JUx5n#3</td><td>2018-03-31</td><td>MA</td><td>2023-02-27</td><td>80.229.217.105</td><td>Cinza</td><td>T&eacute;cnico Em Segura...</td><td>11 1252 6498</td><td>1112526498</td></tr>\n",
       "<tr><td>983.521.760-21</td><td>davi-lucas45@bol....</td><td>uaWqUFiV_4</td><td>1946-07-13</td><td>PI</td><td>2023-03-10</td><td>1.122.154.219</td><td>Roxo</td><td>Ortopedista</td><td>11 1709 2950</td><td>1117092950</td></tr>\n",
       "<tr><td>918.524.730-88</td><td>moreiralivia@uol....</td><td>o3Yi$eNs_n</td><td>1914-01-17</td><td>RJ</td><td>2023-01-22</td><td>63.34.144.217</td><td>Laranja</td><td>Agente De Defesa ...</td><td>11 2462 1478</td><td>1124621478</td></tr>\n",
       "<tr><td>716.548.902-94</td><td>pedro-henriquemou...</td><td>Og!5B2*m)o</td><td>1996-04-10</td><td>GO</td><td>2023-01-07</td><td>25.92.123.244</td><td>Cinza</td><td>Cortador De Cana-...</td><td>11 4184 8361</td><td>1141848361</td></tr>\n",
       "<tr><td>361.280.594-06</td><td>alice20@hotmail.com</td><td>@0JRBP$&amp;j)</td><td>2012-02-08</td><td>SE</td><td>2023-01-02</td><td>129.116.136.189</td><td>Verde Claro</td><td>Otorrinolaringolo...</td><td>11 6808 5565</td><td>1168085565</td></tr>\n",
       "<tr><td>136.894.750-66</td><td>barrossarah@bol.c...</td><td>zm1eLH9t%o</td><td>1975-05-21</td><td>CE</td><td>2023-01-11</td><td>79.204.112.52</td><td>Magenta</td><td>Auxiliar De Servi...</td><td>11 7350 7069</td><td>1173507069</td></tr>\n",
       "<tr><td>265.793.184-73</td><td>jazevedo@ig.com.br</td><td>*aObIfCg@1</td><td>2008-03-07</td><td>AM</td><td>2023-03-01</td><td>182.108.108.197</td><td>Rosa</td><td>Estampador De Tec...</td><td>11 7568 9493</td><td>1175689493</td></tr>\n",
       "<tr><td>514.063.978-57</td><td>cavalcantiviniciu...</td><td>ZyH*9UtWx)</td><td>2011-02-21</td><td>PA</td><td>2023-02-10</td><td>55.111.42.71</td><td>Verde Escuro</td><td>Atu&aacute;rio</td><td>11 7741 4671</td><td>1177414671</td></tr>\n",
       "<tr><td>306.481.975-57</td><td>ana-juliaaraujo@u...</td><td>Vur0uW9xA*</td><td>1936-07-28</td><td>PI</td><td>2023-03-02</td><td>120.103.76.29</td><td>Branco</td><td>Biotecn&oacute;logo</td><td>11 7920 2821</td><td>1179202821</td></tr>\n",
       "<tr><td>172.690.485-76</td><td>csouza@ig.com.br</td><td>&amp;*4(B%z$dd</td><td>1979-09-03</td><td>DF</td><td>2023-02-03</td><td>165.88.248.55</td><td>Branco</td><td>Cientista Pol&iacute;tico</td><td>11 9349 7217</td><td>1193497217</td></tr>\n",
       "<tr><td>539.216.084-06</td><td>benjamin34@uol.co...</td><td>RH^c7vTsX!</td><td>2006-03-28</td><td>DF</td><td>2023-02-08</td><td>6.42.198.179</td><td>Marrom</td><td>Telegrafista</td><td>21 0155 0726</td><td>2101550726</td></tr>\n",
       "<tr><td>217.639.540-99</td><td>jribeiro@bol.com.br</td><td>MEf1X7fj_0</td><td>2021-10-05</td><td>PA</td><td>2023-03-02</td><td>71.22.224.5</td><td>Marrom</td><td>Ge&oacute;logo</td><td>21 1432 4092</td><td>2114324092</td></tr>\n",
       "<tr><td>731.602.589-12</td><td>castromirella@yah...</td><td>z9qQ0X_m%@</td><td>1935-04-06</td><td>SC</td><td>2023-01-24</td><td>125.137.127.84</td><td>Ciano</td><td>Cortador De Cana-...</td><td>21 1503 8540</td><td>2115038540</td></tr>\n",
       "<tr><td>360.179.485-39</td><td>joao-gabriel42@ig...</td><td>K9W5Mcerk(</td><td>2012-12-30</td><td>CE</td><td>2023-02-11</td><td>64.227.160.247</td><td>Amarelo</td><td>Nefrologista</td><td>21 2369 3996</td><td>2123693996</td></tr>\n",
       "<tr><td>748.591.320-41</td><td>nalves@yahoo.com.br</td><td>$U0HLVZti5</td><td>1931-12-14</td><td>RS</td><td>2023-03-01</td><td>131.147.18.150</td><td>Violeta</td><td>Escoteiro</td><td>21 2856 4753</td><td>2128564753</td></tr>\n",
       "<tr><td>130.298.476-40</td><td>arezende@uol.com.br</td><td>#W9^XgvTyR</td><td>2017-09-02</td><td>MA</td><td>2023-03-01</td><td>129.103.171.217</td><td>Rosa</td><td>Pediatra</td><td>21 3144 7568</td><td>2131447568</td></tr>\n",
       "<tr><td>928.701.456-67</td><td>da-cunhaana-julia...</td><td>)2XbB$axPv</td><td>1969-01-24</td><td>PA</td><td>2023-01-12</td><td>187.203.37.154</td><td>Violeta</td><td>Pr&aacute;tico</td><td>21 3348 1594</td><td>2133481594</td></tr>\n",
       "<tr><td>652.439.807-65</td><td>luiza17@bol.com.br</td><td>^c40dFYUq3</td><td>2020-08-28</td><td>RN</td><td>2023-02-07</td><td>223.81.136.76</td><td>Laranja</td><td>Carpinteiro</td><td>21 3405 8122</td><td>2134058122</td></tr>\n",
       "<tr><td>139.758.240-50</td><td>danilo36@hotmail.com</td><td>_AUlAa*b3A</td><td>1956-05-29</td><td>PB</td><td>2023-02-23</td><td>94.189.215.1</td><td>Roxo</td><td>Flanelinha</td><td>21 4367 0610</td><td>2143670610</td></tr>\n",
       "</table>\n",
       "only showing top 20 rows\n"
      ],
      "text/plain": [
       "+--------------+--------------------+----------+------------------+------+-------------+---------------+------------+--------------------+------------+----------+\n",
       "|           cpf|               email|     senha|data_de_nascimento|estado|data_cadastro|           ipv4|cor_favorita|           profissao|    telefone|       tel|\n",
       "+--------------+--------------------+----------+------------------+------+-------------+---------------+------------+--------------------+------------+----------+\n",
       "|957.102.438-41|  calebe52@ig.com.br|3VGXSE)t!6|        1993-04-24|    SE|   2023-01-07| 218.214.242.30|        Roxo|Profissional De C...|11 0384 7507|1103847507|\n",
       "|869.271.345-73|miguel76@yahoo.co...|*Q$JUx5n#3|        2018-03-31|    MA|   2023-02-27| 80.229.217.105|       Cinza|Técnico Em Segura...|11 1252 6498|1112526498|\n",
       "|983.521.760-21|davi-lucas45@bol....|uaWqUFiV_4|        1946-07-13|    PI|   2023-03-10|  1.122.154.219|        Roxo|         Ortopedista|11 1709 2950|1117092950|\n",
       "|918.524.730-88|moreiralivia@uol....|o3Yi$eNs_n|        1914-01-17|    RJ|   2023-01-22|  63.34.144.217|     Laranja|Agente De Defesa ...|11 2462 1478|1124621478|\n",
       "|716.548.902-94|pedro-henriquemou...|Og!5B2*m)o|        1996-04-10|    GO|   2023-01-07|  25.92.123.244|       Cinza|Cortador De Cana-...|11 4184 8361|1141848361|\n",
       "|361.280.594-06| alice20@hotmail.com|@0JRBP$&j)|        2012-02-08|    SE|   2023-01-02|129.116.136.189| Verde Claro|Otorrinolaringolo...|11 6808 5565|1168085565|\n",
       "|136.894.750-66|barrossarah@bol.c...|zm1eLH9t%o|        1975-05-21|    CE|   2023-01-11|  79.204.112.52|     Magenta|Auxiliar De Servi...|11 7350 7069|1173507069|\n",
       "|265.793.184-73|  jazevedo@ig.com.br|*aObIfCg@1|        2008-03-07|    AM|   2023-03-01|182.108.108.197|        Rosa|Estampador De Tec...|11 7568 9493|1175689493|\n",
       "|514.063.978-57|cavalcantiviniciu...|ZyH*9UtWx)|        2011-02-21|    PA|   2023-02-10|   55.111.42.71|Verde Escuro|             Atuário|11 7741 4671|1177414671|\n",
       "|306.481.975-57|ana-juliaaraujo@u...|Vur0uW9xA*|        1936-07-28|    PI|   2023-03-02|  120.103.76.29|      Branco|        Biotecnólogo|11 7920 2821|1179202821|\n",
       "|172.690.485-76|    csouza@ig.com.br|&*4(B%z$dd|        1979-09-03|    DF|   2023-02-03|  165.88.248.55|      Branco|  Cientista Político|11 9349 7217|1193497217|\n",
       "|539.216.084-06|benjamin34@uol.co...|RH^c7vTsX!|        2006-03-28|    DF|   2023-02-08|   6.42.198.179|      Marrom|        Telegrafista|21 0155 0726|2101550726|\n",
       "|217.639.540-99| jribeiro@bol.com.br|MEf1X7fj_0|        2021-10-05|    PA|   2023-03-02|    71.22.224.5|      Marrom|             Geólogo|21 1432 4092|2114324092|\n",
       "|731.602.589-12|castromirella@yah...|z9qQ0X_m%@|        1935-04-06|    SC|   2023-01-24| 125.137.127.84|       Ciano|Cortador De Cana-...|21 1503 8540|2115038540|\n",
       "|360.179.485-39|joao-gabriel42@ig...|K9W5Mcerk(|        2012-12-30|    CE|   2023-02-11| 64.227.160.247|     Amarelo|        Nefrologista|21 2369 3996|2123693996|\n",
       "|748.591.320-41| nalves@yahoo.com.br|$U0HLVZti5|        1931-12-14|    RS|   2023-03-01| 131.147.18.150|     Violeta|           Escoteiro|21 2856 4753|2128564753|\n",
       "|130.298.476-40| arezende@uol.com.br|#W9^XgvTyR|        2017-09-02|    MA|   2023-03-01|129.103.171.217|        Rosa|            Pediatra|21 3144 7568|2131447568|\n",
       "|928.701.456-67|da-cunhaana-julia...|)2XbB$axPv|        1969-01-24|    PA|   2023-01-12| 187.203.37.154|     Violeta|             Prático|21 3348 1594|2133481594|\n",
       "|652.439.807-65|  luiza17@bol.com.br|^c40dFYUq3|        2020-08-28|    RN|   2023-02-07|  223.81.136.76|     Laranja|         Carpinteiro|21 3405 8122|2134058122|\n",
       "|139.758.240-50|danilo36@hotmail.com|_AUlAa*b3A|        1956-05-29|    PB|   2023-02-23|   94.189.215.1|        Roxo|          Flanelinha|21 4367 0610|2143670610|\n",
       "+--------------+--------------------+----------+------------------+------+-------------+---------------+------------+--------------------+------------+----------+\n",
       "only showing top 20 rows"
      ]
     },
     "execution_count": 104,
     "metadata": {},
     "output_type": "execute_result"
    }
   ],
   "source": [
    "(\n",
    "    df\n",
    "    .withColumn(\"tel\", F.regexp_replace(F.col(\"telefone\"), \" \", \"\").cast(\"int\"))\n",
    "    .orderBy(F.asc_nulls_last(F.col(\"tel\")))\n",
    ")"
   ]
  },
  {
   "cell_type": "markdown",
   "id": "c225bc92-4dd1-4dcc-be00-51a944926566",
   "metadata": {},
   "source": [
    "### Ordenar telefone com valores nulos no início\n",
    "- Função: Ordena os números de **telefone** em **ordem crescente**, mas os valores nulos na coluna **tel** são movidos para o início do DataFrame."
   ]
  },
  {
   "cell_type": "code",
   "execution_count": 105,
   "id": "012dbaf4-dd6d-4fc8-bb72-22234c095c84",
   "metadata": {
    "scrolled": true
   },
   "outputs": [
    {
     "data": {
      "text/html": [
       "<table border='1'>\n",
       "<tr><th>cpf</th><th>email</th><th>senha</th><th>data_de_nascimento</th><th>estado</th><th>data_cadastro</th><th>ipv4</th><th>cor_favorita</th><th>profissao</th><th>telefone</th><th>tel</th></tr>\n",
       "<tr><td>786.132.594-64</td><td>vinicius86@yahoo....</td><td>)0UFwLnQeY</td><td>1935-07-29</td><td>MA</td><td>2023-02-25</td><td>142.49.53.78</td><td>Amarelo</td><td>Ge&oacute;logo</td><td>+55 41 8499 1550</td><td>NULL</td></tr>\n",
       "<tr><td>486.970.253-38</td><td>isabelly04@uol.co...</td><td>9n8Gsa#7&amp;*</td><td>1934-11-26</td><td>AM</td><td>2023-03-03</td><td>30.212.117.133</td><td>Ciano</td><td>Triatleta</td><td>+55 51 5926 5593</td><td>NULL</td></tr>\n",
       "<tr><td>957.184.360-10</td><td>thomas46@hotmail.com</td><td>(nHUASneS4</td><td>1993-03-13</td><td>CE</td><td>2023-02-25</td><td>192.177.35.142</td><td>Roxo</td><td>Judoca</td><td>(084) 3806-6915</td><td>NULL</td></tr>\n",
       "<tr><td>493.705.168-75</td><td>rezendeisaac@hotm...</td><td>_O_2GRnGOe</td><td>1992-06-17</td><td>GO</td><td>2023-02-16</td><td>197.11.26.213</td><td>Ciano</td><td>Atleta De Arremes...</td><td>(031) 0803-6753</td><td>NULL</td></tr>\n",
       "<tr><td>573.619.804-57</td><td>hnogueira@ig.com.br</td><td>&amp;9Ejtll$PF</td><td>1949-03-06</td><td>SP</td><td>2023-01-27</td><td>168.162.247.252</td><td>Cinza</td><td>Instalador De Lin...</td><td>(031) 9148 3933</td><td>NULL</td></tr>\n",
       "<tr><td>092.618.354-06</td><td>stellamoraes@bol....</td><td>mw0AWYAs#s</td><td>2021-06-01</td><td>AC</td><td>2023-01-08</td><td>26.121.127.94</td><td>Marrom</td><td>Aeromo&ccedil;a</td><td>+55 (071) 3033 9177</td><td>NULL</td></tr>\n",
       "<tr><td>170.965.428-76</td><td>qdias@gmail.com</td><td>6z5AgU_##v</td><td>1995-08-17</td><td>GO</td><td>2023-02-02</td><td>197.248.140.141</td><td>Verde</td><td>Auditor</td><td>84 9168 0488</td><td>NULL</td></tr>\n",
       "<tr><td>218.795.460-94</td><td>da-conceicaodavi-...</td><td>uhBbFxPA&amp;9</td><td>1986-05-19</td><td>MG</td><td>2023-03-07</td><td>192.93.0.24</td><td>Rosa</td><td>Taxista</td><td>+55 84 0652 9691</td><td>NULL</td></tr>\n",
       "<tr><td>075.291.346-80</td><td>rgoncalves@hotmai...</td><td>!ZL!yIcdt2</td><td>1994-02-18</td><td>SC</td><td>2023-03-04</td><td>118.244.5.155</td><td>Cinza</td><td>Instalador De Lin...</td><td>(021) 0787 3744</td><td>NULL</td></tr>\n",
       "<tr><td>475.698.032-56</td><td>wnunes@bol.com.br</td><td>_8az1W%n7g</td><td>1996-05-12</td><td>SE</td><td>2023-02-04</td><td>139.196.176.154</td><td>Azul</td><td>Cadeirinha</td><td>(071) 1640-3388</td><td>NULL</td></tr>\n",
       "<tr><td>348.215.690-51</td><td>omoreira@bol.com.br</td><td>!8maDkdVnY</td><td>2008-10-24</td><td>MG</td><td>2023-02-20</td><td>177.2.242.176</td><td>Verde Escuro</td><td>Adestrador De Ani...</td><td>+55 61 3217-9930</td><td>NULL</td></tr>\n",
       "<tr><td>261.938.750-77</td><td>murilo05@gmail.com</td><td>Te&amp;gO7GkKs</td><td>1917-01-05</td><td>MT</td><td>2023-02-21</td><td>136.54.123.165</td><td>Marrom</td><td>T&eacute;cnico De Som</td><td>+55 (084) 5878-3346</td><td>NULL</td></tr>\n",
       "<tr><td>875.130.249-79</td><td>da-rocharebeca@ho...</td><td>FlOoH0I6)6</td><td>1972-10-05</td><td>PE</td><td>2023-02-11</td><td>126.171.28.31</td><td>Violeta</td><td>Modelista</td><td>+55 84 1130-9822</td><td>NULL</td></tr>\n",
       "<tr><td>413.087.526-44</td><td>alexiada-rocha@ig...</td><td>@f@!Z!2c*2</td><td>1920-05-26</td><td>MS</td><td>2023-02-18</td><td>182.61.65.201</td><td>Laranja</td><td>Microfonista</td><td>(021) 3739-2944</td><td>NULL</td></tr>\n",
       "<tr><td>439.107.528-88</td><td>costagabriel@gmai...</td><td>^+kLpbkVw2</td><td>1960-01-05</td><td>DF</td><td>2023-02-05</td><td>122.151.20.128</td><td>Amarelo</td><td>Neurocirurgi&atilde;o</td><td>+55 61 4028-1911</td><td>NULL</td></tr>\n",
       "<tr><td>563.170.492-70</td><td>renan46@bol.com.br</td><td>Rp%2pVqfe$</td><td>1922-09-01</td><td>PA</td><td>2023-02-01</td><td>122.203.83.177</td><td>Verde Escuro</td><td>Contabilista</td><td>+55 41 6248 5773</td><td>NULL</td></tr>\n",
       "<tr><td>498.071.356-48</td><td>davi47@bol.com.br</td><td>$XJ)MDIUj7</td><td>1985-08-25</td><td>MA</td><td>2023-03-10</td><td>211.146.130.224</td><td>Azul</td><td>Lenhador</td><td>0800 449 6212</td><td>NULL</td></tr>\n",
       "<tr><td>345.709.261-34</td><td>usales@ig.com.br</td><td>b_8xaY$ozJ</td><td>1992-10-16</td><td>AM</td><td>2023-01-05</td><td>97.93.29.75</td><td>Rosa</td><td>Almirante</td><td>(084) 8993-4521</td><td>NULL</td></tr>\n",
       "<tr><td>740.925.183-23</td><td>leandrodas-neves@...</td><td>_0EL5chQXe</td><td>2012-04-15</td><td>BA</td><td>2023-01-14</td><td>52.7.88.35</td><td>Azul Escuro</td><td>Jogador De H&oacute;quei</td><td>61 3040-6271</td><td>NULL</td></tr>\n",
       "<tr><td>610.287.453-62</td><td>cardosolivia@ig.c...</td><td>yXkDW7Ebh*</td><td>1915-11-15</td><td>GO</td><td>2023-01-22</td><td>195.194.63.184</td><td>Laranja</td><td>Barbeiro</td><td>+55 61 8967-9563</td><td>NULL</td></tr>\n",
       "</table>\n",
       "only showing top 20 rows\n"
      ],
      "text/plain": [
       "+--------------+--------------------+----------+------------------+------+-------------+---------------+------------+--------------------+-------------------+----+\n",
       "|           cpf|               email|     senha|data_de_nascimento|estado|data_cadastro|           ipv4|cor_favorita|           profissao|           telefone| tel|\n",
       "+--------------+--------------------+----------+------------------+------+-------------+---------------+------------+--------------------+-------------------+----+\n",
       "|786.132.594-64|vinicius86@yahoo....|)0UFwLnQeY|        1935-07-29|    MA|   2023-02-25|   142.49.53.78|     Amarelo|             Geólogo|   +55 41 8499 1550|NULL|\n",
       "|486.970.253-38|isabelly04@uol.co...|9n8Gsa#7&*|        1934-11-26|    AM|   2023-03-03| 30.212.117.133|       Ciano|           Triatleta|   +55 51 5926 5593|NULL|\n",
       "|957.184.360-10|thomas46@hotmail.com|(nHUASneS4|        1993-03-13|    CE|   2023-02-25| 192.177.35.142|        Roxo|              Judoca|    (084) 3806-6915|NULL|\n",
       "|493.705.168-75|rezendeisaac@hotm...|_O_2GRnGOe|        1992-06-17|    GO|   2023-02-16|  197.11.26.213|       Ciano|Atleta De Arremes...|    (031) 0803-6753|NULL|\n",
       "|573.619.804-57| hnogueira@ig.com.br|&9Ejtll$PF|        1949-03-06|    SP|   2023-01-27|168.162.247.252|       Cinza|Instalador De Lin...|    (031) 9148 3933|NULL|\n",
       "|092.618.354-06|stellamoraes@bol....|mw0AWYAs#s|        2021-06-01|    AC|   2023-01-08|  26.121.127.94|      Marrom|            Aeromoça|+55 (071) 3033 9177|NULL|\n",
       "|170.965.428-76|     qdias@gmail.com|6z5AgU_##v|        1995-08-17|    GO|   2023-02-02|197.248.140.141|       Verde|             Auditor|       84 9168 0488|NULL|\n",
       "|218.795.460-94|da-conceicaodavi-...|uhBbFxPA&9|        1986-05-19|    MG|   2023-03-07|    192.93.0.24|        Rosa|             Taxista|   +55 84 0652 9691|NULL|\n",
       "|075.291.346-80|rgoncalves@hotmai...|!ZL!yIcdt2|        1994-02-18|    SC|   2023-03-04|  118.244.5.155|       Cinza|Instalador De Lin...|    (021) 0787 3744|NULL|\n",
       "|475.698.032-56|   wnunes@bol.com.br|_8az1W%n7g|        1996-05-12|    SE|   2023-02-04|139.196.176.154|        Azul|          Cadeirinha|    (071) 1640-3388|NULL|\n",
       "|348.215.690-51| omoreira@bol.com.br|!8maDkdVnY|        2008-10-24|    MG|   2023-02-20|  177.2.242.176|Verde Escuro|Adestrador De Ani...|   +55 61 3217-9930|NULL|\n",
       "|261.938.750-77|  murilo05@gmail.com|Te&gO7GkKs|        1917-01-05|    MT|   2023-02-21| 136.54.123.165|      Marrom|      Técnico De Som|+55 (084) 5878-3346|NULL|\n",
       "|875.130.249-79|da-rocharebeca@ho...|FlOoH0I6)6|        1972-10-05|    PE|   2023-02-11|  126.171.28.31|     Violeta|           Modelista|   +55 84 1130-9822|NULL|\n",
       "|413.087.526-44|alexiada-rocha@ig...|@f@!Z!2c*2|        1920-05-26|    MS|   2023-02-18|  182.61.65.201|     Laranja|        Microfonista|    (021) 3739-2944|NULL|\n",
       "|439.107.528-88|costagabriel@gmai...|^+kLpbkVw2|        1960-01-05|    DF|   2023-02-05| 122.151.20.128|     Amarelo|      Neurocirurgião|   +55 61 4028-1911|NULL|\n",
       "|563.170.492-70|  renan46@bol.com.br|Rp%2pVqfe$|        1922-09-01|    PA|   2023-02-01| 122.203.83.177|Verde Escuro|        Contabilista|   +55 41 6248 5773|NULL|\n",
       "|498.071.356-48|   davi47@bol.com.br|$XJ)MDIUj7|        1985-08-25|    MA|   2023-03-10|211.146.130.224|        Azul|            Lenhador|      0800 449 6212|NULL|\n",
       "|345.709.261-34|    usales@ig.com.br|b_8xaY$ozJ|        1992-10-16|    AM|   2023-01-05|    97.93.29.75|        Rosa|           Almirante|    (084) 8993-4521|NULL|\n",
       "|740.925.183-23|leandrodas-neves@...|_0EL5chQXe|        2012-04-15|    BA|   2023-01-14|     52.7.88.35| Azul Escuro|   Jogador De Hóquei|       61 3040-6271|NULL|\n",
       "|610.287.453-62|cardosolivia@ig.c...|yXkDW7Ebh*|        1915-11-15|    GO|   2023-01-22| 195.194.63.184|     Laranja|            Barbeiro|   +55 61 8967-9563|NULL|\n",
       "+--------------+--------------------+----------+------------------+------+-------------+---------------+------------+--------------------+-------------------+----+\n",
       "only showing top 20 rows"
      ]
     },
     "execution_count": 105,
     "metadata": {},
     "output_type": "execute_result"
    }
   ],
   "source": [
    "(\n",
    "    df\n",
    "    .withColumn(\"tel\", F.regexp_replace(F.col(\"telefone\"), \" \", \"\").cast(\"int\"))\n",
    "    .orderBy(F.asc_nulls_first(F.col(\"tel\")))\n",
    ")"
   ]
  },
  {
   "cell_type": "markdown",
   "id": "39cef00e-9ab7-4e79-af95-67d3ec08375a",
   "metadata": {},
   "source": [
    "### Filtrar valores não nulos\n",
    "- Função: Esta função cria uma nova coluna **tel** e filtra o DataFrame para incluir apenas as linhas em que **tel não é nulo**."
   ]
  },
  {
   "cell_type": "code",
   "execution_count": 140,
   "id": "bba2c147-b8d2-46d8-ba14-7ce758116deb",
   "metadata": {
    "scrolled": true
   },
   "outputs": [
    {
     "data": {
      "text/html": [
       "<table border='1'>\n",
       "<tr><th>cpf</th><th>email</th><th>senha</th><th>data_de_nascimento</th><th>estado</th><th>data_cadastro</th><th>ipv4</th><th>cor_favorita</th><th>profissao</th><th>telefone</th><th>tel</th></tr>\n",
       "<tr><td>217.639.540-99</td><td>jribeiro@bol.com.br</td><td>MEf1X7fj_0</td><td>2021-10-05</td><td>PA</td><td>2023-03-02</td><td>71.22.224.5</td><td>Marrom</td><td>Ge&oacute;logo</td><td>21 1432 4092</td><td>2114324092</td></tr>\n",
       "<tr><td>136.894.750-66</td><td>barrossarah@bol.c...</td><td>zm1eLH9t%o</td><td>1975-05-21</td><td>CE</td><td>2023-01-11</td><td>79.204.112.52</td><td>Magenta</td><td>Auxiliar De Servi...</td><td>11 7350 7069</td><td>1173507069</td></tr>\n",
       "<tr><td>748.591.320-41</td><td>nalves@yahoo.com.br</td><td>$U0HLVZti5</td><td>1931-12-14</td><td>RS</td><td>2023-03-01</td><td>131.147.18.150</td><td>Violeta</td><td>Escoteiro</td><td>21 2856 4753</td><td>2128564753</td></tr>\n",
       "<tr><td>265.793.184-73</td><td>jazevedo@ig.com.br</td><td>*aObIfCg@1</td><td>2008-03-07</td><td>AM</td><td>2023-03-01</td><td>182.108.108.197</td><td>Rosa</td><td>Estampador De Tec...</td><td>11 7568 9493</td><td>1175689493</td></tr>\n",
       "<tr><td>918.524.730-88</td><td>moreiralivia@uol....</td><td>o3Yi$eNs_n</td><td>1914-01-17</td><td>RJ</td><td>2023-01-22</td><td>63.34.144.217</td><td>Laranja</td><td>Agente De Defesa ...</td><td>11 2462 1478</td><td>1124621478</td></tr>\n",
       "<tr><td>514.063.978-57</td><td>cavalcantiviniciu...</td><td>ZyH*9UtWx)</td><td>2011-02-21</td><td>PA</td><td>2023-02-10</td><td>55.111.42.71</td><td>Verde Escuro</td><td>Atu&aacute;rio</td><td>11 7741 4671</td><td>1177414671</td></tr>\n",
       "<tr><td>928.701.456-67</td><td>da-cunhaana-julia...</td><td>)2XbB$axPv</td><td>1969-01-24</td><td>PA</td><td>2023-01-12</td><td>187.203.37.154</td><td>Violeta</td><td>Pr&aacute;tico</td><td>21 3348 1594</td><td>2133481594</td></tr>\n",
       "<tr><td>869.271.345-73</td><td>miguel76@yahoo.co...</td><td>*Q$JUx5n#3</td><td>2018-03-31</td><td>MA</td><td>2023-02-27</td><td>80.229.217.105</td><td>Cinza</td><td>T&eacute;cnico Em Segura...</td><td>11 1252 6498</td><td>1112526498</td></tr>\n",
       "<tr><td>361.280.594-06</td><td>alice20@hotmail.com</td><td>@0JRBP$&amp;j)</td><td>2012-02-08</td><td>SE</td><td>2023-01-02</td><td>129.116.136.189</td><td>Verde Claro</td><td>Otorrinolaringolo...</td><td>11 6808 5565</td><td>1168085565</td></tr>\n",
       "<tr><td>716.548.902-94</td><td>pedro-henriquemou...</td><td>Og!5B2*m)o</td><td>1996-04-10</td><td>GO</td><td>2023-01-07</td><td>25.92.123.244</td><td>Cinza</td><td>Cortador De Cana-...</td><td>11 4184 8361</td><td>1141848361</td></tr>\n",
       "<tr><td>360.179.485-39</td><td>joao-gabriel42@ig...</td><td>K9W5Mcerk(</td><td>2012-12-30</td><td>CE</td><td>2023-02-11</td><td>64.227.160.247</td><td>Amarelo</td><td>Nefrologista</td><td>21 2369 3996</td><td>2123693996</td></tr>\n",
       "<tr><td>539.216.084-06</td><td>benjamin34@uol.co...</td><td>RH^c7vTsX!</td><td>2006-03-28</td><td>DF</td><td>2023-02-08</td><td>6.42.198.179</td><td>Marrom</td><td>Telegrafista</td><td>21 0155 0726</td><td>2101550726</td></tr>\n",
       "<tr><td>957.102.438-41</td><td>calebe52@ig.com.br</td><td>3VGXSE)t!6</td><td>1993-04-24</td><td>SE</td><td>2023-01-07</td><td>218.214.242.30</td><td>Roxo</td><td>Profissional De C...</td><td>11 0384 7507</td><td>1103847507</td></tr>\n",
       "<tr><td>306.481.975-57</td><td>ana-juliaaraujo@u...</td><td>Vur0uW9xA*</td><td>1936-07-28</td><td>PI</td><td>2023-03-02</td><td>120.103.76.29</td><td>Branco</td><td>Biotecn&oacute;logo</td><td>11 7920 2821</td><td>1179202821</td></tr>\n",
       "<tr><td>731.602.589-12</td><td>castromirella@yah...</td><td>z9qQ0X_m%@</td><td>1935-04-06</td><td>SC</td><td>2023-01-24</td><td>125.137.127.84</td><td>Ciano</td><td>Cortador De Cana-...</td><td>21 1503 8540</td><td>2115038540</td></tr>\n",
       "<tr><td>983.521.760-21</td><td>davi-lucas45@bol....</td><td>uaWqUFiV_4</td><td>1946-07-13</td><td>PI</td><td>2023-03-10</td><td>1.122.154.219</td><td>Roxo</td><td>Ortopedista</td><td>11 1709 2950</td><td>1117092950</td></tr>\n",
       "<tr><td>172.690.485-76</td><td>csouza@ig.com.br</td><td>&amp;*4(B%z$dd</td><td>1979-09-03</td><td>DF</td><td>2023-02-03</td><td>165.88.248.55</td><td>Branco</td><td>Cientista Pol&iacute;tico</td><td>11 9349 7217</td><td>1193497217</td></tr>\n",
       "<tr><td>652.439.807-65</td><td>luiza17@bol.com.br</td><td>^c40dFYUq3</td><td>2020-08-28</td><td>RN</td><td>2023-02-07</td><td>223.81.136.76</td><td>Laranja</td><td>Carpinteiro</td><td>21 3405 8122</td><td>2134058122</td></tr>\n",
       "<tr><td>139.758.240-50</td><td>danilo36@hotmail.com</td><td>_AUlAa*b3A</td><td>1956-05-29</td><td>PB</td><td>2023-02-23</td><td>94.189.215.1</td><td>Roxo</td><td>Flanelinha</td><td>21 4367 0610</td><td>2143670610</td></tr>\n",
       "<tr><td>130.298.476-40</td><td>arezende@uol.com.br</td><td>#W9^XgvTyR</td><td>2017-09-02</td><td>MA</td><td>2023-03-01</td><td>129.103.171.217</td><td>Rosa</td><td>Pediatra</td><td>21 3144 7568</td><td>2131447568</td></tr>\n",
       "</table>\n"
      ],
      "text/plain": [
       "+--------------+--------------------+----------+------------------+------+-------------+---------------+------------+--------------------+------------+----------+\n",
       "|           cpf|               email|     senha|data_de_nascimento|estado|data_cadastro|           ipv4|cor_favorita|           profissao|    telefone|       tel|\n",
       "+--------------+--------------------+----------+------------------+------+-------------+---------------+------------+--------------------+------------+----------+\n",
       "|217.639.540-99| jribeiro@bol.com.br|MEf1X7fj_0|        2021-10-05|    PA|   2023-03-02|    71.22.224.5|      Marrom|             Geólogo|21 1432 4092|2114324092|\n",
       "|136.894.750-66|barrossarah@bol.c...|zm1eLH9t%o|        1975-05-21|    CE|   2023-01-11|  79.204.112.52|     Magenta|Auxiliar De Servi...|11 7350 7069|1173507069|\n",
       "|748.591.320-41| nalves@yahoo.com.br|$U0HLVZti5|        1931-12-14|    RS|   2023-03-01| 131.147.18.150|     Violeta|           Escoteiro|21 2856 4753|2128564753|\n",
       "|265.793.184-73|  jazevedo@ig.com.br|*aObIfCg@1|        2008-03-07|    AM|   2023-03-01|182.108.108.197|        Rosa|Estampador De Tec...|11 7568 9493|1175689493|\n",
       "|918.524.730-88|moreiralivia@uol....|o3Yi$eNs_n|        1914-01-17|    RJ|   2023-01-22|  63.34.144.217|     Laranja|Agente De Defesa ...|11 2462 1478|1124621478|\n",
       "|514.063.978-57|cavalcantiviniciu...|ZyH*9UtWx)|        2011-02-21|    PA|   2023-02-10|   55.111.42.71|Verde Escuro|             Atuário|11 7741 4671|1177414671|\n",
       "|928.701.456-67|da-cunhaana-julia...|)2XbB$axPv|        1969-01-24|    PA|   2023-01-12| 187.203.37.154|     Violeta|             Prático|21 3348 1594|2133481594|\n",
       "|869.271.345-73|miguel76@yahoo.co...|*Q$JUx5n#3|        2018-03-31|    MA|   2023-02-27| 80.229.217.105|       Cinza|Técnico Em Segura...|11 1252 6498|1112526498|\n",
       "|361.280.594-06| alice20@hotmail.com|@0JRBP$&j)|        2012-02-08|    SE|   2023-01-02|129.116.136.189| Verde Claro|Otorrinolaringolo...|11 6808 5565|1168085565|\n",
       "|716.548.902-94|pedro-henriquemou...|Og!5B2*m)o|        1996-04-10|    GO|   2023-01-07|  25.92.123.244|       Cinza|Cortador De Cana-...|11 4184 8361|1141848361|\n",
       "|360.179.485-39|joao-gabriel42@ig...|K9W5Mcerk(|        2012-12-30|    CE|   2023-02-11| 64.227.160.247|     Amarelo|        Nefrologista|21 2369 3996|2123693996|\n",
       "|539.216.084-06|benjamin34@uol.co...|RH^c7vTsX!|        2006-03-28|    DF|   2023-02-08|   6.42.198.179|      Marrom|        Telegrafista|21 0155 0726|2101550726|\n",
       "|957.102.438-41|  calebe52@ig.com.br|3VGXSE)t!6|        1993-04-24|    SE|   2023-01-07| 218.214.242.30|        Roxo|Profissional De C...|11 0384 7507|1103847507|\n",
       "|306.481.975-57|ana-juliaaraujo@u...|Vur0uW9xA*|        1936-07-28|    PI|   2023-03-02|  120.103.76.29|      Branco|        Biotecnólogo|11 7920 2821|1179202821|\n",
       "|731.602.589-12|castromirella@yah...|z9qQ0X_m%@|        1935-04-06|    SC|   2023-01-24| 125.137.127.84|       Ciano|Cortador De Cana-...|21 1503 8540|2115038540|\n",
       "|983.521.760-21|davi-lucas45@bol....|uaWqUFiV_4|        1946-07-13|    PI|   2023-03-10|  1.122.154.219|        Roxo|         Ortopedista|11 1709 2950|1117092950|\n",
       "|172.690.485-76|    csouza@ig.com.br|&*4(B%z$dd|        1979-09-03|    DF|   2023-02-03|  165.88.248.55|      Branco|  Cientista Político|11 9349 7217|1193497217|\n",
       "|652.439.807-65|  luiza17@bol.com.br|^c40dFYUq3|        2020-08-28|    RN|   2023-02-07|  223.81.136.76|     Laranja|         Carpinteiro|21 3405 8122|2134058122|\n",
       "|139.758.240-50|danilo36@hotmail.com|_AUlAa*b3A|        1956-05-29|    PB|   2023-02-23|   94.189.215.1|        Roxo|          Flanelinha|21 4367 0610|2143670610|\n",
       "|130.298.476-40| arezende@uol.com.br|#W9^XgvTyR|        2017-09-02|    MA|   2023-03-01|129.103.171.217|        Rosa|            Pediatra|21 3144 7568|2131447568|\n",
       "+--------------+--------------------+----------+------------------+------+-------------+---------------+------------+--------------------+------------+----------+"
      ]
     },
     "execution_count": 140,
     "metadata": {},
     "output_type": "execute_result"
    }
   ],
   "source": [
    "(\n",
    "    df\n",
    "    .withColumn(\"tel\", F.regexp_replace(F.col(\"telefone\"), \" \", \"\").cast(\"int\"))\n",
    "    .filter(F.col(\"tel\").isNotNull())\n",
    ")"
   ]
  },
  {
   "cell_type": "markdown",
   "id": "2fa73c55-15f3-4be9-9179-7bb6a25ce341",
   "metadata": {},
   "source": [
    "- O operador **~** inverte a condição, ou seja, seleciona as linhas em que **tel** não é nulo."
   ]
  },
  {
   "cell_type": "code",
   "execution_count": 142,
   "id": "7c444c55-44cf-4cd2-9981-970cb779ad37",
   "metadata": {
    "scrolled": true
   },
   "outputs": [
    {
     "data": {
      "text/html": [
       "<table border='1'>\n",
       "<tr><th>cpf</th><th>email</th><th>senha</th><th>data_de_nascimento</th><th>estado</th><th>data_cadastro</th><th>ipv4</th><th>cor_favorita</th><th>profissao</th><th>telefone</th><th>tel</th></tr>\n",
       "<tr><td>217.639.540-99</td><td>jribeiro@bol.com.br</td><td>MEf1X7fj_0</td><td>2021-10-05</td><td>PA</td><td>2023-03-02</td><td>71.22.224.5</td><td>Marrom</td><td>Ge&oacute;logo</td><td>21 1432 4092</td><td>2114324092</td></tr>\n",
       "<tr><td>136.894.750-66</td><td>barrossarah@bol.c...</td><td>zm1eLH9t%o</td><td>1975-05-21</td><td>CE</td><td>2023-01-11</td><td>79.204.112.52</td><td>Magenta</td><td>Auxiliar De Servi...</td><td>11 7350 7069</td><td>1173507069</td></tr>\n",
       "<tr><td>748.591.320-41</td><td>nalves@yahoo.com.br</td><td>$U0HLVZti5</td><td>1931-12-14</td><td>RS</td><td>2023-03-01</td><td>131.147.18.150</td><td>Violeta</td><td>Escoteiro</td><td>21 2856 4753</td><td>2128564753</td></tr>\n",
       "<tr><td>265.793.184-73</td><td>jazevedo@ig.com.br</td><td>*aObIfCg@1</td><td>2008-03-07</td><td>AM</td><td>2023-03-01</td><td>182.108.108.197</td><td>Rosa</td><td>Estampador De Tec...</td><td>11 7568 9493</td><td>1175689493</td></tr>\n",
       "<tr><td>918.524.730-88</td><td>moreiralivia@uol....</td><td>o3Yi$eNs_n</td><td>1914-01-17</td><td>RJ</td><td>2023-01-22</td><td>63.34.144.217</td><td>Laranja</td><td>Agente De Defesa ...</td><td>11 2462 1478</td><td>1124621478</td></tr>\n",
       "<tr><td>514.063.978-57</td><td>cavalcantiviniciu...</td><td>ZyH*9UtWx)</td><td>2011-02-21</td><td>PA</td><td>2023-02-10</td><td>55.111.42.71</td><td>Verde Escuro</td><td>Atu&aacute;rio</td><td>11 7741 4671</td><td>1177414671</td></tr>\n",
       "<tr><td>928.701.456-67</td><td>da-cunhaana-julia...</td><td>)2XbB$axPv</td><td>1969-01-24</td><td>PA</td><td>2023-01-12</td><td>187.203.37.154</td><td>Violeta</td><td>Pr&aacute;tico</td><td>21 3348 1594</td><td>2133481594</td></tr>\n",
       "<tr><td>869.271.345-73</td><td>miguel76@yahoo.co...</td><td>*Q$JUx5n#3</td><td>2018-03-31</td><td>MA</td><td>2023-02-27</td><td>80.229.217.105</td><td>Cinza</td><td>T&eacute;cnico Em Segura...</td><td>11 1252 6498</td><td>1112526498</td></tr>\n",
       "<tr><td>361.280.594-06</td><td>alice20@hotmail.com</td><td>@0JRBP$&amp;j)</td><td>2012-02-08</td><td>SE</td><td>2023-01-02</td><td>129.116.136.189</td><td>Verde Claro</td><td>Otorrinolaringolo...</td><td>11 6808 5565</td><td>1168085565</td></tr>\n",
       "<tr><td>716.548.902-94</td><td>pedro-henriquemou...</td><td>Og!5B2*m)o</td><td>1996-04-10</td><td>GO</td><td>2023-01-07</td><td>25.92.123.244</td><td>Cinza</td><td>Cortador De Cana-...</td><td>11 4184 8361</td><td>1141848361</td></tr>\n",
       "<tr><td>360.179.485-39</td><td>joao-gabriel42@ig...</td><td>K9W5Mcerk(</td><td>2012-12-30</td><td>CE</td><td>2023-02-11</td><td>64.227.160.247</td><td>Amarelo</td><td>Nefrologista</td><td>21 2369 3996</td><td>2123693996</td></tr>\n",
       "<tr><td>539.216.084-06</td><td>benjamin34@uol.co...</td><td>RH^c7vTsX!</td><td>2006-03-28</td><td>DF</td><td>2023-02-08</td><td>6.42.198.179</td><td>Marrom</td><td>Telegrafista</td><td>21 0155 0726</td><td>2101550726</td></tr>\n",
       "<tr><td>957.102.438-41</td><td>calebe52@ig.com.br</td><td>3VGXSE)t!6</td><td>1993-04-24</td><td>SE</td><td>2023-01-07</td><td>218.214.242.30</td><td>Roxo</td><td>Profissional De C...</td><td>11 0384 7507</td><td>1103847507</td></tr>\n",
       "<tr><td>306.481.975-57</td><td>ana-juliaaraujo@u...</td><td>Vur0uW9xA*</td><td>1936-07-28</td><td>PI</td><td>2023-03-02</td><td>120.103.76.29</td><td>Branco</td><td>Biotecn&oacute;logo</td><td>11 7920 2821</td><td>1179202821</td></tr>\n",
       "<tr><td>731.602.589-12</td><td>castromirella@yah...</td><td>z9qQ0X_m%@</td><td>1935-04-06</td><td>SC</td><td>2023-01-24</td><td>125.137.127.84</td><td>Ciano</td><td>Cortador De Cana-...</td><td>21 1503 8540</td><td>2115038540</td></tr>\n",
       "<tr><td>983.521.760-21</td><td>davi-lucas45@bol....</td><td>uaWqUFiV_4</td><td>1946-07-13</td><td>PI</td><td>2023-03-10</td><td>1.122.154.219</td><td>Roxo</td><td>Ortopedista</td><td>11 1709 2950</td><td>1117092950</td></tr>\n",
       "<tr><td>172.690.485-76</td><td>csouza@ig.com.br</td><td>&amp;*4(B%z$dd</td><td>1979-09-03</td><td>DF</td><td>2023-02-03</td><td>165.88.248.55</td><td>Branco</td><td>Cientista Pol&iacute;tico</td><td>11 9349 7217</td><td>1193497217</td></tr>\n",
       "<tr><td>652.439.807-65</td><td>luiza17@bol.com.br</td><td>^c40dFYUq3</td><td>2020-08-28</td><td>RN</td><td>2023-02-07</td><td>223.81.136.76</td><td>Laranja</td><td>Carpinteiro</td><td>21 3405 8122</td><td>2134058122</td></tr>\n",
       "<tr><td>139.758.240-50</td><td>danilo36@hotmail.com</td><td>_AUlAa*b3A</td><td>1956-05-29</td><td>PB</td><td>2023-02-23</td><td>94.189.215.1</td><td>Roxo</td><td>Flanelinha</td><td>21 4367 0610</td><td>2143670610</td></tr>\n",
       "<tr><td>130.298.476-40</td><td>arezende@uol.com.br</td><td>#W9^XgvTyR</td><td>2017-09-02</td><td>MA</td><td>2023-03-01</td><td>129.103.171.217</td><td>Rosa</td><td>Pediatra</td><td>21 3144 7568</td><td>2131447568</td></tr>\n",
       "</table>\n"
      ],
      "text/plain": [
       "+--------------+--------------------+----------+------------------+------+-------------+---------------+------------+--------------------+------------+----------+\n",
       "|           cpf|               email|     senha|data_de_nascimento|estado|data_cadastro|           ipv4|cor_favorita|           profissao|    telefone|       tel|\n",
       "+--------------+--------------------+----------+------------------+------+-------------+---------------+------------+--------------------+------------+----------+\n",
       "|217.639.540-99| jribeiro@bol.com.br|MEf1X7fj_0|        2021-10-05|    PA|   2023-03-02|    71.22.224.5|      Marrom|             Geólogo|21 1432 4092|2114324092|\n",
       "|136.894.750-66|barrossarah@bol.c...|zm1eLH9t%o|        1975-05-21|    CE|   2023-01-11|  79.204.112.52|     Magenta|Auxiliar De Servi...|11 7350 7069|1173507069|\n",
       "|748.591.320-41| nalves@yahoo.com.br|$U0HLVZti5|        1931-12-14|    RS|   2023-03-01| 131.147.18.150|     Violeta|           Escoteiro|21 2856 4753|2128564753|\n",
       "|265.793.184-73|  jazevedo@ig.com.br|*aObIfCg@1|        2008-03-07|    AM|   2023-03-01|182.108.108.197|        Rosa|Estampador De Tec...|11 7568 9493|1175689493|\n",
       "|918.524.730-88|moreiralivia@uol....|o3Yi$eNs_n|        1914-01-17|    RJ|   2023-01-22|  63.34.144.217|     Laranja|Agente De Defesa ...|11 2462 1478|1124621478|\n",
       "|514.063.978-57|cavalcantiviniciu...|ZyH*9UtWx)|        2011-02-21|    PA|   2023-02-10|   55.111.42.71|Verde Escuro|             Atuário|11 7741 4671|1177414671|\n",
       "|928.701.456-67|da-cunhaana-julia...|)2XbB$axPv|        1969-01-24|    PA|   2023-01-12| 187.203.37.154|     Violeta|             Prático|21 3348 1594|2133481594|\n",
       "|869.271.345-73|miguel76@yahoo.co...|*Q$JUx5n#3|        2018-03-31|    MA|   2023-02-27| 80.229.217.105|       Cinza|Técnico Em Segura...|11 1252 6498|1112526498|\n",
       "|361.280.594-06| alice20@hotmail.com|@0JRBP$&j)|        2012-02-08|    SE|   2023-01-02|129.116.136.189| Verde Claro|Otorrinolaringolo...|11 6808 5565|1168085565|\n",
       "|716.548.902-94|pedro-henriquemou...|Og!5B2*m)o|        1996-04-10|    GO|   2023-01-07|  25.92.123.244|       Cinza|Cortador De Cana-...|11 4184 8361|1141848361|\n",
       "|360.179.485-39|joao-gabriel42@ig...|K9W5Mcerk(|        2012-12-30|    CE|   2023-02-11| 64.227.160.247|     Amarelo|        Nefrologista|21 2369 3996|2123693996|\n",
       "|539.216.084-06|benjamin34@uol.co...|RH^c7vTsX!|        2006-03-28|    DF|   2023-02-08|   6.42.198.179|      Marrom|        Telegrafista|21 0155 0726|2101550726|\n",
       "|957.102.438-41|  calebe52@ig.com.br|3VGXSE)t!6|        1993-04-24|    SE|   2023-01-07| 218.214.242.30|        Roxo|Profissional De C...|11 0384 7507|1103847507|\n",
       "|306.481.975-57|ana-juliaaraujo@u...|Vur0uW9xA*|        1936-07-28|    PI|   2023-03-02|  120.103.76.29|      Branco|        Biotecnólogo|11 7920 2821|1179202821|\n",
       "|731.602.589-12|castromirella@yah...|z9qQ0X_m%@|        1935-04-06|    SC|   2023-01-24| 125.137.127.84|       Ciano|Cortador De Cana-...|21 1503 8540|2115038540|\n",
       "|983.521.760-21|davi-lucas45@bol....|uaWqUFiV_4|        1946-07-13|    PI|   2023-03-10|  1.122.154.219|        Roxo|         Ortopedista|11 1709 2950|1117092950|\n",
       "|172.690.485-76|    csouza@ig.com.br|&*4(B%z$dd|        1979-09-03|    DF|   2023-02-03|  165.88.248.55|      Branco|  Cientista Político|11 9349 7217|1193497217|\n",
       "|652.439.807-65|  luiza17@bol.com.br|^c40dFYUq3|        2020-08-28|    RN|   2023-02-07|  223.81.136.76|     Laranja|         Carpinteiro|21 3405 8122|2134058122|\n",
       "|139.758.240-50|danilo36@hotmail.com|_AUlAa*b3A|        1956-05-29|    PB|   2023-02-23|   94.189.215.1|        Roxo|          Flanelinha|21 4367 0610|2143670610|\n",
       "|130.298.476-40| arezende@uol.com.br|#W9^XgvTyR|        2017-09-02|    MA|   2023-03-01|129.103.171.217|        Rosa|            Pediatra|21 3144 7568|2131447568|\n",
       "+--------------+--------------------+----------+------------------+------+-------------+---------------+------------+--------------------+------------+----------+"
      ]
     },
     "execution_count": 142,
     "metadata": {},
     "output_type": "execute_result"
    }
   ],
   "source": [
    "(\n",
    "    df\n",
    "    .withColumn(\"tel\", F.regexp_replace(F.col(\"telefone\"), \" \", \"\").cast(\"int\"))\n",
    "    .filter(~F.col(\"tel\").isNull())\n",
    ")"
   ]
  },
  {
   "cell_type": "markdown",
   "id": "01ca79c3-d800-4a4c-b3b7-16df0b082f9a",
   "metadata": {},
   "source": [
    "### Filtrar valores nulos\n",
    "Função: Filtra o DataFrame para incluir apenas as linhas onde a coluna **tel** (telefone) **contém valores nulos**."
   ]
  },
  {
   "cell_type": "code",
   "execution_count": 141,
   "id": "72d1513e-fe21-4820-a1cc-3f4637b8bb9c",
   "metadata": {
    "scrolled": true
   },
   "outputs": [
    {
     "data": {
      "text/html": [
       "<table border='1'>\n",
       "<tr><th>cpf</th><th>email</th><th>senha</th><th>data_de_nascimento</th><th>estado</th><th>data_cadastro</th><th>ipv4</th><th>cor_favorita</th><th>profissao</th><th>telefone</th><th>tel</th></tr>\n",
       "<tr><td>981.507.362-12</td><td>pedro-lucas53@gma...</td><td>+7^7E%xFBc</td><td>2006-12-18</td><td>RR</td><td>2023-02-26</td><td>99.107.250.210</td><td>Roxo</td><td>Jogador De Golfe</td><td>31 7785-4046</td><td>NULL</td></tr>\n",
       "<tr><td>493.705.168-75</td><td>rezendeisaac@hotm...</td><td>_O_2GRnGOe</td><td>1992-06-17</td><td>GO</td><td>2023-02-16</td><td>197.11.26.213</td><td>Ciano</td><td>Atleta De Arremes...</td><td>(031) 0803-6753</td><td>NULL</td></tr>\n",
       "<tr><td>398.471.625-73</td><td>felipepires@uol.c...</td><td>*Aw5EOAvy9</td><td>1921-11-11</td><td>MG</td><td>2023-01-02</td><td>181.90.63.58</td><td>Azul</td><td>Papiloscopista</td><td>11 9674-0553</td><td>NULL</td></tr>\n",
       "<tr><td>092.618.354-06</td><td>stellamoraes@bol....</td><td>mw0AWYAs#s</td><td>2021-06-01</td><td>AC</td><td>2023-01-08</td><td>26.121.127.94</td><td>Marrom</td><td>Aeromo&ccedil;a</td><td>+55 (071) 3033 9177</td><td>NULL</td></tr>\n",
       "<tr><td>509.427.136-99</td><td>wcarvalho@ig.com.br</td><td>pGD%!2Pq5X</td><td>1969-10-28</td><td>AP</td><td>2023-02-14</td><td>76.184.52.163</td><td>Laranja</td><td>Fonoaudi&oacute;logo</td><td>+55 (071) 6272 2468</td><td>NULL</td></tr>\n",
       "<tr><td>218.795.460-94</td><td>da-conceicaodavi-...</td><td>uhBbFxPA&amp;9</td><td>1986-05-19</td><td>MG</td><td>2023-03-07</td><td>192.93.0.24</td><td>Rosa</td><td>Taxista</td><td>+55 84 0652 9691</td><td>NULL</td></tr>\n",
       "<tr><td>715.836.940-48</td><td>efreitas@bol.com.br</td><td>s#q9VZt&amp;xl</td><td>2018-04-20</td><td>MG</td><td>2023-01-13</td><td>76.251.188.148</td><td>Branco</td><td>Produtor De Audio...</td><td>+55 (084) 1363 0052</td><td>NULL</td></tr>\n",
       "<tr><td>475.698.032-56</td><td>wnunes@bol.com.br</td><td>_8az1W%n7g</td><td>1996-05-12</td><td>SE</td><td>2023-02-04</td><td>139.196.176.154</td><td>Azul</td><td>Cadeirinha</td><td>(071) 1640-3388</td><td>NULL</td></tr>\n",
       "<tr><td>261.938.750-77</td><td>murilo05@gmail.com</td><td>Te&amp;gO7GkKs</td><td>1917-01-05</td><td>MT</td><td>2023-02-21</td><td>136.54.123.165</td><td>Marrom</td><td>T&eacute;cnico De Som</td><td>+55 (084) 5878-3346</td><td>NULL</td></tr>\n",
       "<tr><td>520.831.796-68</td><td>joaquim57@ig.com.br</td><td>&amp;2E1NY+ARc</td><td>1912-05-25</td><td>BA</td><td>2023-01-25</td><td>78.196.255.126</td><td>Rosa</td><td>Esteticista</td><td>41 7914-3753</td><td>NULL</td></tr>\n",
       "<tr><td>413.087.526-44</td><td>alexiada-rocha@ig...</td><td>@f@!Z!2c*2</td><td>1920-05-26</td><td>MS</td><td>2023-02-18</td><td>182.61.65.201</td><td>Laranja</td><td>Microfonista</td><td>(021) 3739-2944</td><td>NULL</td></tr>\n",
       "<tr><td>509.287.143-14</td><td>pmendes@gmail.com</td><td>M+^XDBfe(2</td><td>1938-03-11</td><td>RR</td><td>2023-01-19</td><td>61.234.208.17</td><td>Verde Claro</td><td>Fiscal</td><td>+55 (084) 5940-1932</td><td>NULL</td></tr>\n",
       "<tr><td>563.170.492-70</td><td>renan46@bol.com.br</td><td>Rp%2pVqfe$</td><td>1922-09-01</td><td>PA</td><td>2023-02-01</td><td>122.203.83.177</td><td>Verde Escuro</td><td>Contabilista</td><td>+55 41 6248 5773</td><td>NULL</td></tr>\n",
       "<tr><td>098.712.346-78</td><td>manuelada-rosa@ho...</td><td>#hEIEOztQ3</td><td>2013-01-10</td><td>SE</td><td>2023-01-07</td><td>175.18.73.211</td><td>Violeta</td><td>Seguidor De Compras</td><td>51 0278 0564</td><td>NULL</td></tr>\n",
       "<tr><td>345.709.261-34</td><td>usales@ig.com.br</td><td>b_8xaY$ozJ</td><td>1992-10-16</td><td>AM</td><td>2023-01-05</td><td>97.93.29.75</td><td>Rosa</td><td>Almirante</td><td>(084) 8993-4521</td><td>NULL</td></tr>\n",
       "<tr><td>318.254.906-51</td><td>pereiranicolas@ho...</td><td>YA9I85Wb+2</td><td>1945-11-18</td><td>MA</td><td>2023-01-24</td><td>182.195.33.137</td><td>Amarelo</td><td>Consultor De Moda</td><td>(084) 4591 3795</td><td>NULL</td></tr>\n",
       "<tr><td>610.287.453-62</td><td>cardosolivia@ig.c...</td><td>yXkDW7Ebh*</td><td>1915-11-15</td><td>GO</td><td>2023-01-22</td><td>195.194.63.184</td><td>Laranja</td><td>Barbeiro</td><td>+55 61 8967-9563</td><td>NULL</td></tr>\n",
       "<tr><td>615.790.842-49</td><td>brenda39@ig.com.br</td><td>XS$84Hpsnw</td><td>1964-02-01</td><td>RJ</td><td>2023-02-16</td><td>21.252.226.29</td><td>Branco</td><td>Promotor De Vendas</td><td>+55 (021) 4751 2004</td><td>NULL</td></tr>\n",
       "<tr><td>624.095.138-24</td><td>luizapeixoto@gmai...</td><td>TbKy82Kda$</td><td>1959-02-01</td><td>DF</td><td>2023-02-25</td><td>105.107.23.13</td><td>Ciano</td><td>Implantodontista</td><td>84 1293 1906</td><td>NULL</td></tr>\n",
       "<tr><td>027.548.639-74</td><td>msilveira@hotmail...</td><td>*JGkXTxw20</td><td>2006-10-21</td><td>RS</td><td>2023-03-15</td><td>28.79.103.46</td><td>Marrom</td><td>Transcritor</td><td>+55 41 4492 4068</td><td>NULL</td></tr>\n",
       "</table>\n",
       "only showing top 20 rows\n"
      ],
      "text/plain": [
       "+--------------+--------------------+----------+------------------+------+-------------+---------------+------------+--------------------+-------------------+----+\n",
       "|           cpf|               email|     senha|data_de_nascimento|estado|data_cadastro|           ipv4|cor_favorita|           profissao|           telefone| tel|\n",
       "+--------------+--------------------+----------+------------------+------+-------------+---------------+------------+--------------------+-------------------+----+\n",
       "|981.507.362-12|pedro-lucas53@gma...|+7^7E%xFBc|        2006-12-18|    RR|   2023-02-26| 99.107.250.210|        Roxo|    Jogador De Golfe|       31 7785-4046|NULL|\n",
       "|493.705.168-75|rezendeisaac@hotm...|_O_2GRnGOe|        1992-06-17|    GO|   2023-02-16|  197.11.26.213|       Ciano|Atleta De Arremes...|    (031) 0803-6753|NULL|\n",
       "|398.471.625-73|felipepires@uol.c...|*Aw5EOAvy9|        1921-11-11|    MG|   2023-01-02|   181.90.63.58|        Azul|      Papiloscopista|       11 9674-0553|NULL|\n",
       "|092.618.354-06|stellamoraes@bol....|mw0AWYAs#s|        2021-06-01|    AC|   2023-01-08|  26.121.127.94|      Marrom|            Aeromoça|+55 (071) 3033 9177|NULL|\n",
       "|509.427.136-99| wcarvalho@ig.com.br|pGD%!2Pq5X|        1969-10-28|    AP|   2023-02-14|  76.184.52.163|     Laranja|       Fonoaudiólogo|+55 (071) 6272 2468|NULL|\n",
       "|218.795.460-94|da-conceicaodavi-...|uhBbFxPA&9|        1986-05-19|    MG|   2023-03-07|    192.93.0.24|        Rosa|             Taxista|   +55 84 0652 9691|NULL|\n",
       "|715.836.940-48| efreitas@bol.com.br|s#q9VZt&xl|        2018-04-20|    MG|   2023-01-13| 76.251.188.148|      Branco|Produtor De Audio...|+55 (084) 1363 0052|NULL|\n",
       "|475.698.032-56|   wnunes@bol.com.br|_8az1W%n7g|        1996-05-12|    SE|   2023-02-04|139.196.176.154|        Azul|          Cadeirinha|    (071) 1640-3388|NULL|\n",
       "|261.938.750-77|  murilo05@gmail.com|Te&gO7GkKs|        1917-01-05|    MT|   2023-02-21| 136.54.123.165|      Marrom|      Técnico De Som|+55 (084) 5878-3346|NULL|\n",
       "|520.831.796-68| joaquim57@ig.com.br|&2E1NY+ARc|        1912-05-25|    BA|   2023-01-25| 78.196.255.126|        Rosa|         Esteticista|       41 7914-3753|NULL|\n",
       "|413.087.526-44|alexiada-rocha@ig...|@f@!Z!2c*2|        1920-05-26|    MS|   2023-02-18|  182.61.65.201|     Laranja|        Microfonista|    (021) 3739-2944|NULL|\n",
       "|509.287.143-14|   pmendes@gmail.com|M+^XDBfe(2|        1938-03-11|    RR|   2023-01-19|  61.234.208.17| Verde Claro|              Fiscal|+55 (084) 5940-1932|NULL|\n",
       "|563.170.492-70|  renan46@bol.com.br|Rp%2pVqfe$|        1922-09-01|    PA|   2023-02-01| 122.203.83.177|Verde Escuro|        Contabilista|   +55 41 6248 5773|NULL|\n",
       "|098.712.346-78|manuelada-rosa@ho...|#hEIEOztQ3|        2013-01-10|    SE|   2023-01-07|  175.18.73.211|     Violeta| Seguidor De Compras|       51 0278 0564|NULL|\n",
       "|345.709.261-34|    usales@ig.com.br|b_8xaY$ozJ|        1992-10-16|    AM|   2023-01-05|    97.93.29.75|        Rosa|           Almirante|    (084) 8993-4521|NULL|\n",
       "|318.254.906-51|pereiranicolas@ho...|YA9I85Wb+2|        1945-11-18|    MA|   2023-01-24| 182.195.33.137|     Amarelo|   Consultor De Moda|    (084) 4591 3795|NULL|\n",
       "|610.287.453-62|cardosolivia@ig.c...|yXkDW7Ebh*|        1915-11-15|    GO|   2023-01-22| 195.194.63.184|     Laranja|            Barbeiro|   +55 61 8967-9563|NULL|\n",
       "|615.790.842-49|  brenda39@ig.com.br|XS$84Hpsnw|        1964-02-01|    RJ|   2023-02-16|  21.252.226.29|      Branco|  Promotor De Vendas|+55 (021) 4751 2004|NULL|\n",
       "|624.095.138-24|luizapeixoto@gmai...|TbKy82Kda$|        1959-02-01|    DF|   2023-02-25|  105.107.23.13|       Ciano|    Implantodontista|       84 1293 1906|NULL|\n",
       "|027.548.639-74|msilveira@hotmail...|*JGkXTxw20|        2006-10-21|    RS|   2023-03-15|   28.79.103.46|      Marrom|         Transcritor|   +55 41 4492 4068|NULL|\n",
       "+--------------+--------------------+----------+------------------+------+-------------+---------------+------------+--------------------+-------------------+----+\n",
       "only showing top 20 rows"
      ]
     },
     "execution_count": 141,
     "metadata": {},
     "output_type": "execute_result"
    }
   ],
   "source": [
    "(\n",
    "    df\n",
    "    .withColumn(\"tel\", F.regexp_replace(F.col(\"telefone\"), \" \", \"\").cast(\"int\"))\n",
    "    .filter(F.col(\"tel\").isNull())\n",
    ")"
   ]
  },
  {
   "cell_type": "markdown",
   "id": "bc3f4e00-41ab-4918-bfc8-49c2fde66796",
   "metadata": {},
   "source": [
    "### Ordenar por telefone com nulos no final\n",
    "- Função: Garante que os valores nulos de tel sejam movidos para o final da ordenação."
   ]
  },
  {
   "cell_type": "code",
   "execution_count": 106,
   "id": "a6e5446b-4a1d-47c9-9598-1a8c042cdf77",
   "metadata": {
    "scrolled": true
   },
   "outputs": [
    {
     "data": {
      "text/html": [
       "<table border='1'>\n",
       "<tr><th>cpf</th><th>email</th><th>senha</th><th>data_de_nascimento</th><th>estado</th><th>data_cadastro</th><th>ipv4</th><th>cor_favorita</th><th>profissao</th><th>telefone</th><th>tel</th></tr>\n",
       "<tr><td>139.758.240-50</td><td>danilo36@hotmail.com</td><td>_AUlAa*b3A</td><td>1956-05-29</td><td>PB</td><td>2023-02-23</td><td>94.189.215.1</td><td>Roxo</td><td>Flanelinha</td><td>21 4367 0610</td><td>2143670610</td></tr>\n",
       "<tr><td>652.439.807-65</td><td>luiza17@bol.com.br</td><td>^c40dFYUq3</td><td>2020-08-28</td><td>RN</td><td>2023-02-07</td><td>223.81.136.76</td><td>Laranja</td><td>Carpinteiro</td><td>21 3405 8122</td><td>2134058122</td></tr>\n",
       "<tr><td>928.701.456-67</td><td>da-cunhaana-julia...</td><td>)2XbB$axPv</td><td>1969-01-24</td><td>PA</td><td>2023-01-12</td><td>187.203.37.154</td><td>Violeta</td><td>Pr&aacute;tico</td><td>21 3348 1594</td><td>2133481594</td></tr>\n",
       "<tr><td>130.298.476-40</td><td>arezende@uol.com.br</td><td>#W9^XgvTyR</td><td>2017-09-02</td><td>MA</td><td>2023-03-01</td><td>129.103.171.217</td><td>Rosa</td><td>Pediatra</td><td>21 3144 7568</td><td>2131447568</td></tr>\n",
       "<tr><td>748.591.320-41</td><td>nalves@yahoo.com.br</td><td>$U0HLVZti5</td><td>1931-12-14</td><td>RS</td><td>2023-03-01</td><td>131.147.18.150</td><td>Violeta</td><td>Escoteiro</td><td>21 2856 4753</td><td>2128564753</td></tr>\n",
       "<tr><td>360.179.485-39</td><td>joao-gabriel42@ig...</td><td>K9W5Mcerk(</td><td>2012-12-30</td><td>CE</td><td>2023-02-11</td><td>64.227.160.247</td><td>Amarelo</td><td>Nefrologista</td><td>21 2369 3996</td><td>2123693996</td></tr>\n",
       "<tr><td>731.602.589-12</td><td>castromirella@yah...</td><td>z9qQ0X_m%@</td><td>1935-04-06</td><td>SC</td><td>2023-01-24</td><td>125.137.127.84</td><td>Ciano</td><td>Cortador De Cana-...</td><td>21 1503 8540</td><td>2115038540</td></tr>\n",
       "<tr><td>217.639.540-99</td><td>jribeiro@bol.com.br</td><td>MEf1X7fj_0</td><td>2021-10-05</td><td>PA</td><td>2023-03-02</td><td>71.22.224.5</td><td>Marrom</td><td>Ge&oacute;logo</td><td>21 1432 4092</td><td>2114324092</td></tr>\n",
       "<tr><td>539.216.084-06</td><td>benjamin34@uol.co...</td><td>RH^c7vTsX!</td><td>2006-03-28</td><td>DF</td><td>2023-02-08</td><td>6.42.198.179</td><td>Marrom</td><td>Telegrafista</td><td>21 0155 0726</td><td>2101550726</td></tr>\n",
       "<tr><td>172.690.485-76</td><td>csouza@ig.com.br</td><td>&amp;*4(B%z$dd</td><td>1979-09-03</td><td>DF</td><td>2023-02-03</td><td>165.88.248.55</td><td>Branco</td><td>Cientista Pol&iacute;tico</td><td>11 9349 7217</td><td>1193497217</td></tr>\n",
       "<tr><td>306.481.975-57</td><td>ana-juliaaraujo@u...</td><td>Vur0uW9xA*</td><td>1936-07-28</td><td>PI</td><td>2023-03-02</td><td>120.103.76.29</td><td>Branco</td><td>Biotecn&oacute;logo</td><td>11 7920 2821</td><td>1179202821</td></tr>\n",
       "<tr><td>514.063.978-57</td><td>cavalcantiviniciu...</td><td>ZyH*9UtWx)</td><td>2011-02-21</td><td>PA</td><td>2023-02-10</td><td>55.111.42.71</td><td>Verde Escuro</td><td>Atu&aacute;rio</td><td>11 7741 4671</td><td>1177414671</td></tr>\n",
       "<tr><td>265.793.184-73</td><td>jazevedo@ig.com.br</td><td>*aObIfCg@1</td><td>2008-03-07</td><td>AM</td><td>2023-03-01</td><td>182.108.108.197</td><td>Rosa</td><td>Estampador De Tec...</td><td>11 7568 9493</td><td>1175689493</td></tr>\n",
       "<tr><td>136.894.750-66</td><td>barrossarah@bol.c...</td><td>zm1eLH9t%o</td><td>1975-05-21</td><td>CE</td><td>2023-01-11</td><td>79.204.112.52</td><td>Magenta</td><td>Auxiliar De Servi...</td><td>11 7350 7069</td><td>1173507069</td></tr>\n",
       "<tr><td>361.280.594-06</td><td>alice20@hotmail.com</td><td>@0JRBP$&amp;j)</td><td>2012-02-08</td><td>SE</td><td>2023-01-02</td><td>129.116.136.189</td><td>Verde Claro</td><td>Otorrinolaringolo...</td><td>11 6808 5565</td><td>1168085565</td></tr>\n",
       "<tr><td>716.548.902-94</td><td>pedro-henriquemou...</td><td>Og!5B2*m)o</td><td>1996-04-10</td><td>GO</td><td>2023-01-07</td><td>25.92.123.244</td><td>Cinza</td><td>Cortador De Cana-...</td><td>11 4184 8361</td><td>1141848361</td></tr>\n",
       "<tr><td>918.524.730-88</td><td>moreiralivia@uol....</td><td>o3Yi$eNs_n</td><td>1914-01-17</td><td>RJ</td><td>2023-01-22</td><td>63.34.144.217</td><td>Laranja</td><td>Agente De Defesa ...</td><td>11 2462 1478</td><td>1124621478</td></tr>\n",
       "<tr><td>983.521.760-21</td><td>davi-lucas45@bol....</td><td>uaWqUFiV_4</td><td>1946-07-13</td><td>PI</td><td>2023-03-10</td><td>1.122.154.219</td><td>Roxo</td><td>Ortopedista</td><td>11 1709 2950</td><td>1117092950</td></tr>\n",
       "<tr><td>869.271.345-73</td><td>miguel76@yahoo.co...</td><td>*Q$JUx5n#3</td><td>2018-03-31</td><td>MA</td><td>2023-02-27</td><td>80.229.217.105</td><td>Cinza</td><td>T&eacute;cnico Em Segura...</td><td>11 1252 6498</td><td>1112526498</td></tr>\n",
       "<tr><td>957.102.438-41</td><td>calebe52@ig.com.br</td><td>3VGXSE)t!6</td><td>1993-04-24</td><td>SE</td><td>2023-01-07</td><td>218.214.242.30</td><td>Roxo</td><td>Profissional De C...</td><td>11 0384 7507</td><td>1103847507</td></tr>\n",
       "</table>\n",
       "only showing top 20 rows\n"
      ],
      "text/plain": [
       "+--------------+--------------------+----------+------------------+------+-------------+---------------+------------+--------------------+------------+----------+\n",
       "|           cpf|               email|     senha|data_de_nascimento|estado|data_cadastro|           ipv4|cor_favorita|           profissao|    telefone|       tel|\n",
       "+--------------+--------------------+----------+------------------+------+-------------+---------------+------------+--------------------+------------+----------+\n",
       "|139.758.240-50|danilo36@hotmail.com|_AUlAa*b3A|        1956-05-29|    PB|   2023-02-23|   94.189.215.1|        Roxo|          Flanelinha|21 4367 0610|2143670610|\n",
       "|652.439.807-65|  luiza17@bol.com.br|^c40dFYUq3|        2020-08-28|    RN|   2023-02-07|  223.81.136.76|     Laranja|         Carpinteiro|21 3405 8122|2134058122|\n",
       "|928.701.456-67|da-cunhaana-julia...|)2XbB$axPv|        1969-01-24|    PA|   2023-01-12| 187.203.37.154|     Violeta|             Prático|21 3348 1594|2133481594|\n",
       "|130.298.476-40| arezende@uol.com.br|#W9^XgvTyR|        2017-09-02|    MA|   2023-03-01|129.103.171.217|        Rosa|            Pediatra|21 3144 7568|2131447568|\n",
       "|748.591.320-41| nalves@yahoo.com.br|$U0HLVZti5|        1931-12-14|    RS|   2023-03-01| 131.147.18.150|     Violeta|           Escoteiro|21 2856 4753|2128564753|\n",
       "|360.179.485-39|joao-gabriel42@ig...|K9W5Mcerk(|        2012-12-30|    CE|   2023-02-11| 64.227.160.247|     Amarelo|        Nefrologista|21 2369 3996|2123693996|\n",
       "|731.602.589-12|castromirella@yah...|z9qQ0X_m%@|        1935-04-06|    SC|   2023-01-24| 125.137.127.84|       Ciano|Cortador De Cana-...|21 1503 8540|2115038540|\n",
       "|217.639.540-99| jribeiro@bol.com.br|MEf1X7fj_0|        2021-10-05|    PA|   2023-03-02|    71.22.224.5|      Marrom|             Geólogo|21 1432 4092|2114324092|\n",
       "|539.216.084-06|benjamin34@uol.co...|RH^c7vTsX!|        2006-03-28|    DF|   2023-02-08|   6.42.198.179|      Marrom|        Telegrafista|21 0155 0726|2101550726|\n",
       "|172.690.485-76|    csouza@ig.com.br|&*4(B%z$dd|        1979-09-03|    DF|   2023-02-03|  165.88.248.55|      Branco|  Cientista Político|11 9349 7217|1193497217|\n",
       "|306.481.975-57|ana-juliaaraujo@u...|Vur0uW9xA*|        1936-07-28|    PI|   2023-03-02|  120.103.76.29|      Branco|        Biotecnólogo|11 7920 2821|1179202821|\n",
       "|514.063.978-57|cavalcantiviniciu...|ZyH*9UtWx)|        2011-02-21|    PA|   2023-02-10|   55.111.42.71|Verde Escuro|             Atuário|11 7741 4671|1177414671|\n",
       "|265.793.184-73|  jazevedo@ig.com.br|*aObIfCg@1|        2008-03-07|    AM|   2023-03-01|182.108.108.197|        Rosa|Estampador De Tec...|11 7568 9493|1175689493|\n",
       "|136.894.750-66|barrossarah@bol.c...|zm1eLH9t%o|        1975-05-21|    CE|   2023-01-11|  79.204.112.52|     Magenta|Auxiliar De Servi...|11 7350 7069|1173507069|\n",
       "|361.280.594-06| alice20@hotmail.com|@0JRBP$&j)|        2012-02-08|    SE|   2023-01-02|129.116.136.189| Verde Claro|Otorrinolaringolo...|11 6808 5565|1168085565|\n",
       "|716.548.902-94|pedro-henriquemou...|Og!5B2*m)o|        1996-04-10|    GO|   2023-01-07|  25.92.123.244|       Cinza|Cortador De Cana-...|11 4184 8361|1141848361|\n",
       "|918.524.730-88|moreiralivia@uol....|o3Yi$eNs_n|        1914-01-17|    RJ|   2023-01-22|  63.34.144.217|     Laranja|Agente De Defesa ...|11 2462 1478|1124621478|\n",
       "|983.521.760-21|davi-lucas45@bol....|uaWqUFiV_4|        1946-07-13|    PI|   2023-03-10|  1.122.154.219|        Roxo|         Ortopedista|11 1709 2950|1117092950|\n",
       "|869.271.345-73|miguel76@yahoo.co...|*Q$JUx5n#3|        2018-03-31|    MA|   2023-02-27| 80.229.217.105|       Cinza|Técnico Em Segura...|11 1252 6498|1112526498|\n",
       "|957.102.438-41|  calebe52@ig.com.br|3VGXSE)t!6|        1993-04-24|    SE|   2023-01-07| 218.214.242.30|        Roxo|Profissional De C...|11 0384 7507|1103847507|\n",
       "+--------------+--------------------+----------+------------------+------+-------------+---------------+------------+--------------------+------------+----------+\n",
       "only showing top 20 rows"
      ]
     },
     "execution_count": 106,
     "metadata": {},
     "output_type": "execute_result"
    }
   ],
   "source": [
    "(\n",
    "    df\n",
    "    .withColumn(\"tel\", F.regexp_replace(F.col(\"telefone\"), \" \", \"\").cast(\"int\"))\n",
    "    .orderBy(F.desc_nulls_last(F.col(\"tel\")))\n",
    ")"
   ]
  },
  {
   "cell_type": "markdown",
   "id": "a49a30d5-dadf-49b9-9ad0-f92db10e3b61",
   "metadata": {},
   "source": [
    "### Ordenar por telefone com nulos no início\n",
    "-  Função: Os valores nulos são movidos para o início da ordenação."
   ]
  },
  {
   "cell_type": "code",
   "execution_count": 139,
   "id": "65d57ffc-42c2-4387-a66e-158397366f9f",
   "metadata": {
    "scrolled": true
   },
   "outputs": [
    {
     "data": {
      "text/html": [
       "<table border='1'>\n",
       "<tr><th>cpf</th><th>email</th><th>senha</th><th>data_de_nascimento</th><th>estado</th><th>data_cadastro</th><th>ipv4</th><th>cor_favorita</th><th>profissao</th><th>telefone</th><th>tel</th></tr>\n",
       "<tr><td>786.132.594-64</td><td>vinicius86@yahoo....</td><td>)0UFwLnQeY</td><td>1935-07-29</td><td>MA</td><td>2023-02-25</td><td>142.49.53.78</td><td>Amarelo</td><td>Ge&oacute;logo</td><td>+55 41 8499 1550</td><td>NULL</td></tr>\n",
       "<tr><td>486.970.253-38</td><td>isabelly04@uol.co...</td><td>9n8Gsa#7&amp;*</td><td>1934-11-26</td><td>AM</td><td>2023-03-03</td><td>30.212.117.133</td><td>Ciano</td><td>Triatleta</td><td>+55 51 5926 5593</td><td>NULL</td></tr>\n",
       "<tr><td>957.184.360-10</td><td>thomas46@hotmail.com</td><td>(nHUASneS4</td><td>1993-03-13</td><td>CE</td><td>2023-02-25</td><td>192.177.35.142</td><td>Roxo</td><td>Judoca</td><td>(084) 3806-6915</td><td>NULL</td></tr>\n",
       "<tr><td>493.705.168-75</td><td>rezendeisaac@hotm...</td><td>_O_2GRnGOe</td><td>1992-06-17</td><td>GO</td><td>2023-02-16</td><td>197.11.26.213</td><td>Ciano</td><td>Atleta De Arremes...</td><td>(031) 0803-6753</td><td>NULL</td></tr>\n",
       "<tr><td>573.619.804-57</td><td>hnogueira@ig.com.br</td><td>&amp;9Ejtll$PF</td><td>1949-03-06</td><td>SP</td><td>2023-01-27</td><td>168.162.247.252</td><td>Cinza</td><td>Instalador De Lin...</td><td>(031) 9148 3933</td><td>NULL</td></tr>\n",
       "<tr><td>092.618.354-06</td><td>stellamoraes@bol....</td><td>mw0AWYAs#s</td><td>2021-06-01</td><td>AC</td><td>2023-01-08</td><td>26.121.127.94</td><td>Marrom</td><td>Aeromo&ccedil;a</td><td>+55 (071) 3033 9177</td><td>NULL</td></tr>\n",
       "<tr><td>170.965.428-76</td><td>qdias@gmail.com</td><td>6z5AgU_##v</td><td>1995-08-17</td><td>GO</td><td>2023-02-02</td><td>197.248.140.141</td><td>Verde</td><td>Auditor</td><td>84 9168 0488</td><td>NULL</td></tr>\n",
       "<tr><td>218.795.460-94</td><td>da-conceicaodavi-...</td><td>uhBbFxPA&amp;9</td><td>1986-05-19</td><td>MG</td><td>2023-03-07</td><td>192.93.0.24</td><td>Rosa</td><td>Taxista</td><td>+55 84 0652 9691</td><td>NULL</td></tr>\n",
       "<tr><td>075.291.346-80</td><td>rgoncalves@hotmai...</td><td>!ZL!yIcdt2</td><td>1994-02-18</td><td>SC</td><td>2023-03-04</td><td>118.244.5.155</td><td>Cinza</td><td>Instalador De Lin...</td><td>(021) 0787 3744</td><td>NULL</td></tr>\n",
       "<tr><td>475.698.032-56</td><td>wnunes@bol.com.br</td><td>_8az1W%n7g</td><td>1996-05-12</td><td>SE</td><td>2023-02-04</td><td>139.196.176.154</td><td>Azul</td><td>Cadeirinha</td><td>(071) 1640-3388</td><td>NULL</td></tr>\n",
       "<tr><td>348.215.690-51</td><td>omoreira@bol.com.br</td><td>!8maDkdVnY</td><td>2008-10-24</td><td>MG</td><td>2023-02-20</td><td>177.2.242.176</td><td>Verde Escuro</td><td>Adestrador De Ani...</td><td>+55 61 3217-9930</td><td>NULL</td></tr>\n",
       "<tr><td>261.938.750-77</td><td>murilo05@gmail.com</td><td>Te&amp;gO7GkKs</td><td>1917-01-05</td><td>MT</td><td>2023-02-21</td><td>136.54.123.165</td><td>Marrom</td><td>T&eacute;cnico De Som</td><td>+55 (084) 5878-3346</td><td>NULL</td></tr>\n",
       "<tr><td>875.130.249-79</td><td>da-rocharebeca@ho...</td><td>FlOoH0I6)6</td><td>1972-10-05</td><td>PE</td><td>2023-02-11</td><td>126.171.28.31</td><td>Violeta</td><td>Modelista</td><td>+55 84 1130-9822</td><td>NULL</td></tr>\n",
       "<tr><td>413.087.526-44</td><td>alexiada-rocha@ig...</td><td>@f@!Z!2c*2</td><td>1920-05-26</td><td>MS</td><td>2023-02-18</td><td>182.61.65.201</td><td>Laranja</td><td>Microfonista</td><td>(021) 3739-2944</td><td>NULL</td></tr>\n",
       "<tr><td>439.107.528-88</td><td>costagabriel@gmai...</td><td>^+kLpbkVw2</td><td>1960-01-05</td><td>DF</td><td>2023-02-05</td><td>122.151.20.128</td><td>Amarelo</td><td>Neurocirurgi&atilde;o</td><td>+55 61 4028-1911</td><td>NULL</td></tr>\n",
       "<tr><td>563.170.492-70</td><td>renan46@bol.com.br</td><td>Rp%2pVqfe$</td><td>1922-09-01</td><td>PA</td><td>2023-02-01</td><td>122.203.83.177</td><td>Verde Escuro</td><td>Contabilista</td><td>+55 41 6248 5773</td><td>NULL</td></tr>\n",
       "<tr><td>498.071.356-48</td><td>davi47@bol.com.br</td><td>$XJ)MDIUj7</td><td>1985-08-25</td><td>MA</td><td>2023-03-10</td><td>211.146.130.224</td><td>Azul</td><td>Lenhador</td><td>0800 449 6212</td><td>NULL</td></tr>\n",
       "<tr><td>345.709.261-34</td><td>usales@ig.com.br</td><td>b_8xaY$ozJ</td><td>1992-10-16</td><td>AM</td><td>2023-01-05</td><td>97.93.29.75</td><td>Rosa</td><td>Almirante</td><td>(084) 8993-4521</td><td>NULL</td></tr>\n",
       "<tr><td>740.925.183-23</td><td>leandrodas-neves@...</td><td>_0EL5chQXe</td><td>2012-04-15</td><td>BA</td><td>2023-01-14</td><td>52.7.88.35</td><td>Azul Escuro</td><td>Jogador De H&oacute;quei</td><td>61 3040-6271</td><td>NULL</td></tr>\n",
       "<tr><td>610.287.453-62</td><td>cardosolivia@ig.c...</td><td>yXkDW7Ebh*</td><td>1915-11-15</td><td>GO</td><td>2023-01-22</td><td>195.194.63.184</td><td>Laranja</td><td>Barbeiro</td><td>+55 61 8967-9563</td><td>NULL</td></tr>\n",
       "</table>\n",
       "only showing top 20 rows\n"
      ],
      "text/plain": [
       "+--------------+--------------------+----------+------------------+------+-------------+---------------+------------+--------------------+-------------------+----+\n",
       "|           cpf|               email|     senha|data_de_nascimento|estado|data_cadastro|           ipv4|cor_favorita|           profissao|           telefone| tel|\n",
       "+--------------+--------------------+----------+------------------+------+-------------+---------------+------------+--------------------+-------------------+----+\n",
       "|786.132.594-64|vinicius86@yahoo....|)0UFwLnQeY|        1935-07-29|    MA|   2023-02-25|   142.49.53.78|     Amarelo|             Geólogo|   +55 41 8499 1550|NULL|\n",
       "|486.970.253-38|isabelly04@uol.co...|9n8Gsa#7&*|        1934-11-26|    AM|   2023-03-03| 30.212.117.133|       Ciano|           Triatleta|   +55 51 5926 5593|NULL|\n",
       "|957.184.360-10|thomas46@hotmail.com|(nHUASneS4|        1993-03-13|    CE|   2023-02-25| 192.177.35.142|        Roxo|              Judoca|    (084) 3806-6915|NULL|\n",
       "|493.705.168-75|rezendeisaac@hotm...|_O_2GRnGOe|        1992-06-17|    GO|   2023-02-16|  197.11.26.213|       Ciano|Atleta De Arremes...|    (031) 0803-6753|NULL|\n",
       "|573.619.804-57| hnogueira@ig.com.br|&9Ejtll$PF|        1949-03-06|    SP|   2023-01-27|168.162.247.252|       Cinza|Instalador De Lin...|    (031) 9148 3933|NULL|\n",
       "|092.618.354-06|stellamoraes@bol....|mw0AWYAs#s|        2021-06-01|    AC|   2023-01-08|  26.121.127.94|      Marrom|            Aeromoça|+55 (071) 3033 9177|NULL|\n",
       "|170.965.428-76|     qdias@gmail.com|6z5AgU_##v|        1995-08-17|    GO|   2023-02-02|197.248.140.141|       Verde|             Auditor|       84 9168 0488|NULL|\n",
       "|218.795.460-94|da-conceicaodavi-...|uhBbFxPA&9|        1986-05-19|    MG|   2023-03-07|    192.93.0.24|        Rosa|             Taxista|   +55 84 0652 9691|NULL|\n",
       "|075.291.346-80|rgoncalves@hotmai...|!ZL!yIcdt2|        1994-02-18|    SC|   2023-03-04|  118.244.5.155|       Cinza|Instalador De Lin...|    (021) 0787 3744|NULL|\n",
       "|475.698.032-56|   wnunes@bol.com.br|_8az1W%n7g|        1996-05-12|    SE|   2023-02-04|139.196.176.154|        Azul|          Cadeirinha|    (071) 1640-3388|NULL|\n",
       "|348.215.690-51| omoreira@bol.com.br|!8maDkdVnY|        2008-10-24|    MG|   2023-02-20|  177.2.242.176|Verde Escuro|Adestrador De Ani...|   +55 61 3217-9930|NULL|\n",
       "|261.938.750-77|  murilo05@gmail.com|Te&gO7GkKs|        1917-01-05|    MT|   2023-02-21| 136.54.123.165|      Marrom|      Técnico De Som|+55 (084) 5878-3346|NULL|\n",
       "|875.130.249-79|da-rocharebeca@ho...|FlOoH0I6)6|        1972-10-05|    PE|   2023-02-11|  126.171.28.31|     Violeta|           Modelista|   +55 84 1130-9822|NULL|\n",
       "|413.087.526-44|alexiada-rocha@ig...|@f@!Z!2c*2|        1920-05-26|    MS|   2023-02-18|  182.61.65.201|     Laranja|        Microfonista|    (021) 3739-2944|NULL|\n",
       "|439.107.528-88|costagabriel@gmai...|^+kLpbkVw2|        1960-01-05|    DF|   2023-02-05| 122.151.20.128|     Amarelo|      Neurocirurgião|   +55 61 4028-1911|NULL|\n",
       "|563.170.492-70|  renan46@bol.com.br|Rp%2pVqfe$|        1922-09-01|    PA|   2023-02-01| 122.203.83.177|Verde Escuro|        Contabilista|   +55 41 6248 5773|NULL|\n",
       "|498.071.356-48|   davi47@bol.com.br|$XJ)MDIUj7|        1985-08-25|    MA|   2023-03-10|211.146.130.224|        Azul|            Lenhador|      0800 449 6212|NULL|\n",
       "|345.709.261-34|    usales@ig.com.br|b_8xaY$ozJ|        1992-10-16|    AM|   2023-01-05|    97.93.29.75|        Rosa|           Almirante|    (084) 8993-4521|NULL|\n",
       "|740.925.183-23|leandrodas-neves@...|_0EL5chQXe|        2012-04-15|    BA|   2023-01-14|     52.7.88.35| Azul Escuro|   Jogador De Hóquei|       61 3040-6271|NULL|\n",
       "|610.287.453-62|cardosolivia@ig.c...|yXkDW7Ebh*|        1915-11-15|    GO|   2023-01-22| 195.194.63.184|     Laranja|            Barbeiro|   +55 61 8967-9563|NULL|\n",
       "+--------------+--------------------+----------+------------------+------+-------------+---------------+------------+--------------------+-------------------+----+\n",
       "only showing top 20 rows"
      ]
     },
     "execution_count": 139,
     "metadata": {},
     "output_type": "execute_result"
    }
   ],
   "source": [
    "(\n",
    "    df\n",
    "    .withColumn(\"tel\", F.regexp_replace(F.col(\"telefone\"), \" \", \"\").cast(\"int\"))\n",
    "    .orderBy(F.desc_nulls_first(F.col(\"tel\")))\n",
    ")"
   ]
  },
  {
   "cell_type": "markdown",
   "id": "ce81e86a-80e2-48b7-8677-5440194074d0",
   "metadata": {},
   "source": [
    "### Filtrar e ordenar por data de nascimento entre 2010 e 2015\n",
    "- Função: Filtra o DataFrame para incluir apenas as linhas onde o **ano** da coluna **data_de_nascimento** está entre **2010** e **2015**. Usa-se a função **F.year()** para extrair o ano da data de nascimento."
   ]
  },
  {
   "cell_type": "code",
   "execution_count": 138,
   "id": "08511476-32f4-4170-afad-4f3b50ae8fa0",
   "metadata": {
    "scrolled": true
   },
   "outputs": [
    {
     "data": {
      "text/html": [
       "<table border='1'>\n",
       "<tr><th>cpf</th><th>email</th><th>senha</th><th>data_de_nascimento</th><th>estado</th><th>data_cadastro</th><th>ipv4</th><th>cor_favorita</th><th>profissao</th><th>telefone</th></tr>\n",
       "<tr><td>098.712.346-78</td><td>manuelada-rosa@ho...</td><td>#hEIEOztQ3</td><td>2013-01-10</td><td>SE</td><td>2023-01-07</td><td>175.18.73.211</td><td>Violeta</td><td>Seguidor De Compras</td><td>51 0278 0564</td></tr>\n",
       "<tr><td>740.925.183-23</td><td>leandrodas-neves@...</td><td>_0EL5chQXe</td><td>2012-04-15</td><td>BA</td><td>2023-01-14</td><td>52.7.88.35</td><td>Azul Escuro</td><td>Jogador De H&oacute;quei</td><td>61 3040-6271</td></tr>\n",
       "<tr><td>089.462.357-56</td><td>vitoria83@ig.com.br</td><td>(8gXQeIeA3</td><td>2014-11-18</td><td>AL</td><td>2023-02-24</td><td>182.161.33.191</td><td>Marrom</td><td>Oculista</td><td>+55 (084) 8655 2371</td></tr>\n",
       "<tr><td>819.506.732-86</td><td>marcela40@gmail.com</td><td>k+g(8Ki@sn</td><td>2014-12-31</td><td>TO</td><td>2023-02-28</td><td>91.159.82.213</td><td>Ciano</td><td>Espeleologista</td><td>41 8190-4348</td></tr>\n",
       "<tr><td>271.905.486-02</td><td>ana-vitoria77@hot...</td><td>I*Sm2Ozyi$</td><td>2011-04-01</td><td>RR</td><td>2023-01-30</td><td>124.57.122.33</td><td>Amarelo</td><td>M&atilde;e Social</td><td>+55 61 0561 0784</td></tr>\n",
       "<tr><td>365.284.170-08</td><td>ana-carolina25@gm...</td><td>@gLvvzx83R</td><td>2010-04-24</td><td>RS</td><td>2023-02-05</td><td>14.164.225.105</td><td>Azul Escuro</td><td>Neurocirurgi&atilde;o</td><td>(011) 6711 5887</td></tr>\n",
       "<tr><td>135.894.026-60</td><td>isaaccarvalho@bol...</td><td>%Gi7Sw)lL7</td><td>2010-05-07</td><td>SC</td><td>2023-02-02</td><td>77.115.8.14</td><td>Rosa</td><td>Estivador</td><td>+55 (051) 2666-6337</td></tr>\n",
       "<tr><td>514.063.978-57</td><td>cavalcantiviniciu...</td><td>ZyH*9UtWx)</td><td>2011-02-21</td><td>PA</td><td>2023-02-10</td><td>55.111.42.71</td><td>Verde Escuro</td><td>Atu&aacute;rio</td><td>11 7741 4671</td></tr>\n",
       "<tr><td>273.805.914-79</td><td>ulima@ig.com.br</td><td>EamULe9q%4</td><td>2011-08-01</td><td>CE</td><td>2023-02-26</td><td>17.208.95.125</td><td>Branco</td><td>Agente De Viagens</td><td>0900-409-2646</td></tr>\n",
       "<tr><td>504.961.238-15</td><td>pmonteiro@hotmail...</td><td>1&amp;9UDg)eTX</td><td>2014-12-22</td><td>RN</td><td>2023-03-03</td><td>109.96.146.131</td><td>Magenta</td><td>Maestro</td><td>+55 (021) 9938-2614</td></tr>\n",
       "<tr><td>039.487.256-83</td><td>enzo-gabriel92@bo...</td><td>7HT2)iwp#4</td><td>2012-08-21</td><td>SE</td><td>2023-01-23</td><td>146.15.33.175</td><td>Cinza</td><td>Terapeuta Floral</td><td>(021) 7691-3458</td></tr>\n",
       "<tr><td>968.031.572-02</td><td>correialeticia@ho...</td><td>F+0Gl&amp;gOLj</td><td>2015-02-19</td><td>PB</td><td>2023-01-28</td><td>137.121.8.37</td><td>Ciano</td><td>Psiquiatra</td><td>61 3171 0390</td></tr>\n",
       "<tr><td>738.460.251-35</td><td>da-cruzthiago@gma...</td><td>K@T68DqDPG</td><td>2010-07-27</td><td>AP</td><td>2023-02-19</td><td>180.107.33.11</td><td>Laranja</td><td>Lamboteiro</td><td>(011) 4622-2756</td></tr>\n",
       "<tr><td>325.790.861-02</td><td>cauamendes@gmail.com</td><td>O5!x0OjlfW</td><td>2011-05-30</td><td>AL</td><td>2023-01-08</td><td>39.75.199.7</td><td>Azul</td><td>Profissional De H...</td><td>+55 (084) 5929-0843</td></tr>\n",
       "<tr><td>048.321.596-15</td><td>nunesbryan@hotmai...</td><td>Dg0D8rT5x*</td><td>2015-10-31</td><td>AC</td><td>2023-02-19</td><td>91.2.110.119</td><td>Azul</td><td>Personal Stylist</td><td>+55 84 2533-4191</td></tr>\n",
       "<tr><td>361.280.594-06</td><td>alice20@hotmail.com</td><td>@0JRBP$&amp;j)</td><td>2012-02-08</td><td>SE</td><td>2023-01-02</td><td>129.116.136.189</td><td>Verde Claro</td><td>Otorrinolaringolo...</td><td>11 6808 5565</td></tr>\n",
       "<tr><td>526.807.149-11</td><td>henriquecunha@ig....</td><td>)mLQ$ZrKN6</td><td>2010-04-29</td><td>TO</td><td>2023-02-18</td><td>77.37.113.162</td><td>Azul</td><td>T&eacute;cnico Em Desporto</td><td>+55 81 7056 2686</td></tr>\n",
       "<tr><td>250.836.914-42</td><td>bmelo@hotmail.com</td><td>Hf4LMTFr9#</td><td>2011-07-24</td><td>AP</td><td>2023-01-01</td><td>67.193.101.118</td><td>Ciano</td><td>Empres&aacute;rio</td><td>+55 31 5578-0753</td></tr>\n",
       "<tr><td>618.239.504-42</td><td>da-motalorenzo@bo...</td><td>zV2Hi*+o&amp;!</td><td>2013-10-22</td><td>RR</td><td>2023-03-04</td><td>129.75.72.165</td><td>Azul Escuro</td><td>Webdesigner</td><td>81 6469 4935</td></tr>\n",
       "<tr><td>271.963.045-43</td><td>souzakaique@hotma...</td><td>%wfeXRnw4E</td><td>2013-04-10</td><td>GO</td><td>2023-03-06</td><td>63.27.215.230</td><td>Rosa</td><td>Governanta</td><td>0900 962 9781</td></tr>\n",
       "</table>\n",
       "only showing top 20 rows\n"
      ],
      "text/plain": [
       "+--------------+--------------------+----------+------------------+------+-------------+---------------+------------+--------------------+-------------------+\n",
       "|           cpf|               email|     senha|data_de_nascimento|estado|data_cadastro|           ipv4|cor_favorita|           profissao|           telefone|\n",
       "+--------------+--------------------+----------+------------------+------+-------------+---------------+------------+--------------------+-------------------+\n",
       "|098.712.346-78|manuelada-rosa@ho...|#hEIEOztQ3|        2013-01-10|    SE|   2023-01-07|  175.18.73.211|     Violeta| Seguidor De Compras|       51 0278 0564|\n",
       "|740.925.183-23|leandrodas-neves@...|_0EL5chQXe|        2012-04-15|    BA|   2023-01-14|     52.7.88.35| Azul Escuro|   Jogador De Hóquei|       61 3040-6271|\n",
       "|089.462.357-56| vitoria83@ig.com.br|(8gXQeIeA3|        2014-11-18|    AL|   2023-02-24| 182.161.33.191|      Marrom|            Oculista|+55 (084) 8655 2371|\n",
       "|819.506.732-86| marcela40@gmail.com|k+g(8Ki@sn|        2014-12-31|    TO|   2023-02-28|  91.159.82.213|       Ciano|      Espeleologista|       41 8190-4348|\n",
       "|271.905.486-02|ana-vitoria77@hot...|I*Sm2Ozyi$|        2011-04-01|    RR|   2023-01-30|  124.57.122.33|     Amarelo|          Mãe Social|   +55 61 0561 0784|\n",
       "|365.284.170-08|ana-carolina25@gm...|@gLvvzx83R|        2010-04-24|    RS|   2023-02-05| 14.164.225.105| Azul Escuro|      Neurocirurgião|    (011) 6711 5887|\n",
       "|135.894.026-60|isaaccarvalho@bol...|%Gi7Sw)lL7|        2010-05-07|    SC|   2023-02-02|    77.115.8.14|        Rosa|           Estivador|+55 (051) 2666-6337|\n",
       "|514.063.978-57|cavalcantiviniciu...|ZyH*9UtWx)|        2011-02-21|    PA|   2023-02-10|   55.111.42.71|Verde Escuro|             Atuário|       11 7741 4671|\n",
       "|273.805.914-79|     ulima@ig.com.br|EamULe9q%4|        2011-08-01|    CE|   2023-02-26|  17.208.95.125|      Branco|   Agente De Viagens|      0900-409-2646|\n",
       "|504.961.238-15|pmonteiro@hotmail...|1&9UDg)eTX|        2014-12-22|    RN|   2023-03-03| 109.96.146.131|     Magenta|             Maestro|+55 (021) 9938-2614|\n",
       "|039.487.256-83|enzo-gabriel92@bo...|7HT2)iwp#4|        2012-08-21|    SE|   2023-01-23|  146.15.33.175|       Cinza|    Terapeuta Floral|    (021) 7691-3458|\n",
       "|968.031.572-02|correialeticia@ho...|F+0Gl&gOLj|        2015-02-19|    PB|   2023-01-28|   137.121.8.37|       Ciano|          Psiquiatra|       61 3171 0390|\n",
       "|738.460.251-35|da-cruzthiago@gma...|K@T68DqDPG|        2010-07-27|    AP|   2023-02-19|  180.107.33.11|     Laranja|          Lamboteiro|    (011) 4622-2756|\n",
       "|325.790.861-02|cauamendes@gmail.com|O5!x0OjlfW|        2011-05-30|    AL|   2023-01-08|    39.75.199.7|        Azul|Profissional De H...|+55 (084) 5929-0843|\n",
       "|048.321.596-15|nunesbryan@hotmai...|Dg0D8rT5x*|        2015-10-31|    AC|   2023-02-19|   91.2.110.119|        Azul|    Personal Stylist|   +55 84 2533-4191|\n",
       "|361.280.594-06| alice20@hotmail.com|@0JRBP$&j)|        2012-02-08|    SE|   2023-01-02|129.116.136.189| Verde Claro|Otorrinolaringolo...|       11 6808 5565|\n",
       "|526.807.149-11|henriquecunha@ig....|)mLQ$ZrKN6|        2010-04-29|    TO|   2023-02-18|  77.37.113.162|        Azul| Técnico Em Desporto|   +55 81 7056 2686|\n",
       "|250.836.914-42|   bmelo@hotmail.com|Hf4LMTFr9#|        2011-07-24|    AP|   2023-01-01| 67.193.101.118|       Ciano|          Empresário|   +55 31 5578-0753|\n",
       "|618.239.504-42|da-motalorenzo@bo...|zV2Hi*+o&!|        2013-10-22|    RR|   2023-03-04|  129.75.72.165| Azul Escuro|         Webdesigner|       81 6469 4935|\n",
       "|271.963.045-43|souzakaique@hotma...|%wfeXRnw4E|        2013-04-10|    GO|   2023-03-06|  63.27.215.230|        Rosa|          Governanta|      0900 962 9781|\n",
       "+--------------+--------------------+----------+------------------+------+-------------+---------------+------------+--------------------+-------------------+\n",
       "only showing top 20 rows"
      ]
     },
     "execution_count": 138,
     "metadata": {},
     "output_type": "execute_result"
    }
   ],
   "source": [
    "(\n",
    "    df\n",
    "    .filter(F.year(\"data_de_nascimento\").between(2010,2015))\n",
    ")"
   ]
  },
  {
   "cell_type": "markdown",
   "id": "e212469f-dd7a-48e5-92b0-cfa1981160a8",
   "metadata": {},
   "source": [
    "### Filtrar por parte do e-mail e CPF\n",
    "- Função: Filtra o DataFrame para incluir apenas as linhas em que a coluna **email** contém a string **\"joao\"** e a coluna **cpf** contém a string **\"084\"**. Usa-se contains para verificar se a substring está presente."
   ]
  },
  {
   "cell_type": "code",
   "execution_count": 128,
   "id": "7e4bf6dc-0ad3-45b2-be3c-71d2801cf956",
   "metadata": {
    "scrolled": true
   },
   "outputs": [
    {
     "data": {
      "text/html": [
       "<table border='1'>\n",
       "<tr><th>cpf</th><th>email</th><th>senha</th><th>data_de_nascimento</th><th>estado</th><th>data_cadastro</th><th>ipv4</th><th>cor_favorita</th><th>profissao</th><th>telefone</th></tr>\n",
       "<tr><td>084.312.597-79</td><td>souzajoao@ig.com.br</td><td>t6UXHhu4(G</td><td>2019-12-11</td><td>MT</td><td>2023-02-24</td><td>57.11.236.48</td><td>Rosa</td><td>Antrop&oacute;logo</td><td>+55 61 2642-6939</td></tr>\n",
       "</table>\n"
      ],
      "text/plain": [
       "+--------------+-------------------+----------+------------------+------+-------------+------------+------------+-----------+----------------+\n",
       "|           cpf|              email|     senha|data_de_nascimento|estado|data_cadastro|        ipv4|cor_favorita|  profissao|        telefone|\n",
       "+--------------+-------------------+----------+------------------+------+-------------+------------+------------+-----------+----------------+\n",
       "|084.312.597-79|souzajoao@ig.com.br|t6UXHhu4(G|        2019-12-11|    MT|   2023-02-24|57.11.236.48|        Rosa|Antropólogo|+55 61 2642-6939|\n",
       "+--------------+-------------------+----------+------------------+------+-------------+------------+------------+-----------+----------------+"
      ]
     },
     "execution_count": 128,
     "metadata": {},
     "output_type": "execute_result"
    }
   ],
   "source": [
    "(\n",
    "    df\n",
    "    .filter(F.col(\"email\").contains(\"joao\"))\n",
    "    .filter(F.col(\"cpf\").contains(\"084\"))\n",
    ")"
   ]
  },
  {
   "cell_type": "markdown",
   "id": "5d7b55d7-139e-4427-ab32-d1342fe8fe0c",
   "metadata": {},
   "source": [
    "### Filtrar por prefixos específicos em e-mail e telefone\n",
    "- Função: Filtra o DataFrame para incluir apenas as linhas onde a coluna **email** começa com **\"igor\"** e a coluna **telefone** começa com **\"84\"**. Usa-se **startswith()** para verificar os prefixos."
   ]
  },
  {
   "cell_type": "code",
   "execution_count": 131,
   "id": "3468ff29-a471-4ed1-af93-f417b5c0ae0c",
   "metadata": {},
   "outputs": [
    {
     "data": {
      "text/html": [
       "<table border='1'>\n",
       "<tr><th>cpf</th><th>email</th><th>senha</th><th>data_de_nascimento</th><th>estado</th><th>data_cadastro</th><th>ipv4</th><th>cor_favorita</th><th>profissao</th><th>telefone</th></tr>\n",
       "<tr><td>536.270.984-47</td><td>igor65@gmail.com</td><td>(nW)FB+5X7</td><td>1929-02-03</td><td>SP</td><td>2023-03-05</td><td>180.167.231.118</td><td>Violeta</td><td>Fisiculturista</td><td>84 9305-4501</td></tr>\n",
       "<tr><td>938.254.671-55</td><td>igor19@yahoo.com.br</td><td>#BrN0yvK5y</td><td>1937-01-25</td><td>SC</td><td>2023-01-03</td><td>12.142.104.17</td><td>Laranja</td><td>Cobaia M&eacute;dica</td><td>84 2389 9194</td></tr>\n",
       "</table>\n"
      ],
      "text/plain": [
       "+--------------+-------------------+----------+------------------+------+-------------+---------------+------------+--------------+------------+\n",
       "|           cpf|              email|     senha|data_de_nascimento|estado|data_cadastro|           ipv4|cor_favorita|     profissao|    telefone|\n",
       "+--------------+-------------------+----------+------------------+------+-------------+---------------+------------+--------------+------------+\n",
       "|536.270.984-47|   igor65@gmail.com|(nW)FB+5X7|        1929-02-03|    SP|   2023-03-05|180.167.231.118|     Violeta|Fisiculturista|84 9305-4501|\n",
       "|938.254.671-55|igor19@yahoo.com.br|#BrN0yvK5y|        1937-01-25|    SC|   2023-01-03|  12.142.104.17|     Laranja| Cobaia Médica|84 2389 9194|\n",
       "+--------------+-------------------+----------+------------------+------+-------------+---------------+------------+--------------+------------+"
      ]
     },
     "execution_count": 131,
     "metadata": {},
     "output_type": "execute_result"
    }
   ],
   "source": [
    "(\n",
    "    df\n",
    "    .filter(F.col(\"email\").startswith(\"igor\"))\n",
    "    .filter(F.col(\"telefone\").startswith(\"84\"))\n",
    ")"
   ]
  },
  {
   "cell_type": "markdown",
   "id": "5aaedc79-b546-4851-a91a-0f822a62c808",
   "metadata": {},
   "source": [
    "### Filtrar por sufixos em e-mail e data de nascimento\n",
    "- Função: Filtra o DataFrame para incluir apenas as linhas em que a coluna **email** termina com **\"com.br\"** e a coluna **data_de_nascimento** termina com **\"09\"**. Usa-se **endswith()** para verificar os sufixos."
   ]
  },
  {
   "cell_type": "code",
   "execution_count": 137,
   "id": "1c94943a-926f-4613-a9e9-8a181e0350e6",
   "metadata": {
    "scrolled": true
   },
   "outputs": [
    {
     "data": {
      "text/html": [
       "<table border='1'>\n",
       "<tr><th>cpf</th><th>email</th><th>senha</th><th>data_de_nascimento</th><th>estado</th><th>data_cadastro</th><th>ipv4</th><th>cor_favorita</th><th>profissao</th><th>telefone</th></tr>\n",
       "<tr><td>451.382.670-35</td><td>barrosalice@uol.c...</td><td>Rvr48wZi)g</td><td>2016-06-09</td><td>MS</td><td>2023-02-04</td><td>20.156.31.172</td><td>Verde Claro</td><td>Diagramador</td><td>61 6933 9326</td></tr>\n",
       "<tr><td>943.185.762-64</td><td>melissa97@bol.com.br</td><td>MBlZ9BOwp(</td><td>1953-06-09</td><td>PE</td><td>2023-01-16</td><td>97.254.23.196</td><td>Azul</td><td>F&iacute;sico</td><td>31 6169-0705</td></tr>\n",
       "<tr><td>578.604.193-00</td><td>davi-luiz43@bol.c...</td><td>2h#0jBjjff</td><td>1969-10-09</td><td>MA</td><td>2023-03-13</td><td>52.66.96.237</td><td>Azul Escuro</td><td>Engenheiro De Ene...</td><td>+55 41 3890 7536</td></tr>\n",
       "<tr><td>360.785.294-47</td><td>araujoluna@bol.co...</td><td>_%HD@txu5W</td><td>1939-11-09</td><td>DF</td><td>2023-03-07</td><td>167.91.9.69</td><td>Violeta</td><td>Piloto Automobil&iacute;...</td><td>+55 (051) 2876 0562</td></tr>\n",
       "<tr><td>964.852.031-33</td><td>dda-conceicao@uol...</td><td>I1XrDIZs@o</td><td>1942-02-09</td><td>MA</td><td>2023-02-11</td><td>20.217.23.173</td><td>Amarelo</td><td>Mec&acirc;nico</td><td>(084) 1826-5845</td></tr>\n",
       "<tr><td>657.214.809-20</td><td>ericklopes@yahoo....</td><td>XbRGy2Rl&amp;A</td><td>1958-01-09</td><td>AL</td><td>2023-02-13</td><td>202.177.238.170</td><td>Amarelo</td><td>Engenheiro De Ilu...</td><td>(084) 7938 6983</td></tr>\n",
       "<tr><td>723.601.548-26</td><td>halmeida@ig.com.br</td><td>+5^75Lst@2</td><td>1914-11-09</td><td>SE</td><td>2023-02-18</td><td>69.174.223.242</td><td>Ciano</td><td>Papiloscopista</td><td>(071) 5034-3495</td></tr>\n",
       "<tr><td>172.906.543-07</td><td>augusto57@bol.com.br</td><td>7@6JPe14MH</td><td>1951-02-09</td><td>BA</td><td>2023-02-12</td><td>99.200.54.12</td><td>Marrom</td><td>Escultor</td><td>(021) 1067-3969</td></tr>\n",
       "<tr><td>047.912.683-69</td><td>heitorviana@bol.c...</td><td>wM#*2XRqMo</td><td>1928-08-09</td><td>CE</td><td>2023-03-08</td><td>62.36.202.221</td><td>Verde Claro</td><td>T&eacute;cnico Em Desporto</td><td>+55 51 9632 2197</td></tr>\n",
       "<tr><td>706.135.948-00</td><td>ana-vitoriafernan...</td><td>ye!oooXy$0</td><td>1935-05-09</td><td>MG</td><td>2023-02-11</td><td>103.28.141.203</td><td>Amarelo</td><td>Cientista De Alim...</td><td>71 0827-8838</td></tr>\n",
       "<tr><td>104.958.726-01</td><td>cunhajuliana@ig.c...</td><td>!oS3zb3&amp;t3</td><td>1938-12-09</td><td>PB</td><td>2023-02-02</td><td>159.189.154.242</td><td>Azul Escuro</td><td>Bioqu&iacute;mico</td><td>(061) 7110 9766</td></tr>\n",
       "<tr><td>107.548.239-97</td><td>danilo19@bol.com.br</td><td>_#lS03Sicj</td><td>1930-04-09</td><td>RS</td><td>2023-01-12</td><td>37.22.29.69</td><td>Amarelo</td><td>Engenheiro De Tra...</td><td>+55 81 5944 7206</td></tr>\n",
       "<tr><td>789.604.513-39</td><td>ana-sophia73@uol....</td><td>5N^x%@Bw!j</td><td>1973-03-09</td><td>AC</td><td>2023-01-18</td><td>144.86.229.3</td><td>Azul</td><td>Produtor Musical</td><td>+55 (061) 7367 9582</td></tr>\n",
       "<tr><td>869.175.420-67</td><td>ninapires@uol.com.br</td><td>Z*@5rX(r_5</td><td>1954-04-09</td><td>BA</td><td>2023-03-13</td><td>86.118.216.168</td><td>Violeta</td><td>Tecn&oacute;logo Em Recu...</td><td>+55 (084) 6938 2759</td></tr>\n",
       "<tr><td>452.670.938-74</td><td>aragaobryan@ig.co...</td><td>Rn$^4GVaLh</td><td>2006-09-09</td><td>SP</td><td>2023-01-20</td><td>62.198.106.50</td><td>Verde Escuro</td><td>Pescador</td><td>+55 (084) 0602 1499</td></tr>\n",
       "<tr><td>960.528.714-58</td><td>juan92@yahoo.com.br</td><td>8KWwv7#((5</td><td>1935-06-09</td><td>PB</td><td>2023-01-21</td><td>51.178.57.12</td><td>Preto</td><td>Grafologista</td><td>+55 (031) 6440 3485</td></tr>\n",
       "<tr><td>209.864.153-24</td><td>costelajuliana@bo...</td><td>+mSJXCWN54</td><td>1930-11-09</td><td>PR</td><td>2023-01-17</td><td>220.220.120.47</td><td>Azul Escuro</td><td>Gagsman</td><td>(041) 7376 1705</td></tr>\n",
       "<tr><td>512.870.943-41</td><td>isabelda-paz@yaho...</td><td>x@00VLiG5D</td><td>1984-12-09</td><td>PR</td><td>2023-01-01</td><td>124.11.42.79</td><td>Amarelo</td><td>Repositor</td><td>21 0744-8588</td></tr>\n",
       "</table>\n"
      ],
      "text/plain": [
       "+--------------+--------------------+----------+------------------+------+-------------+---------------+------------+--------------------+-------------------+\n",
       "|           cpf|               email|     senha|data_de_nascimento|estado|data_cadastro|           ipv4|cor_favorita|           profissao|           telefone|\n",
       "+--------------+--------------------+----------+------------------+------+-------------+---------------+------------+--------------------+-------------------+\n",
       "|451.382.670-35|barrosalice@uol.c...|Rvr48wZi)g|        2016-06-09|    MS|   2023-02-04|  20.156.31.172| Verde Claro|         Diagramador|       61 6933 9326|\n",
       "|943.185.762-64|melissa97@bol.com.br|MBlZ9BOwp(|        1953-06-09|    PE|   2023-01-16|  97.254.23.196|        Azul|              Físico|       31 6169-0705|\n",
       "|578.604.193-00|davi-luiz43@bol.c...|2h#0jBjjff|        1969-10-09|    MA|   2023-03-13|   52.66.96.237| Azul Escuro|Engenheiro De Ene...|   +55 41 3890 7536|\n",
       "|360.785.294-47|araujoluna@bol.co...|_%HD@txu5W|        1939-11-09|    DF|   2023-03-07|    167.91.9.69|     Violeta|Piloto Automobilí...|+55 (051) 2876 0562|\n",
       "|964.852.031-33|dda-conceicao@uol...|I1XrDIZs@o|        1942-02-09|    MA|   2023-02-11|  20.217.23.173|     Amarelo|            Mecânico|    (084) 1826-5845|\n",
       "|657.214.809-20|ericklopes@yahoo....|XbRGy2Rl&A|        1958-01-09|    AL|   2023-02-13|202.177.238.170|     Amarelo|Engenheiro De Ilu...|    (084) 7938 6983|\n",
       "|723.601.548-26|  halmeida@ig.com.br|+5^75Lst@2|        1914-11-09|    SE|   2023-02-18| 69.174.223.242|       Ciano|      Papiloscopista|    (071) 5034-3495|\n",
       "|172.906.543-07|augusto57@bol.com.br|7@6JPe14MH|        1951-02-09|    BA|   2023-02-12|   99.200.54.12|      Marrom|            Escultor|    (021) 1067-3969|\n",
       "|047.912.683-69|heitorviana@bol.c...|wM#*2XRqMo|        1928-08-09|    CE|   2023-03-08|  62.36.202.221| Verde Claro| Técnico Em Desporto|   +55 51 9632 2197|\n",
       "|706.135.948-00|ana-vitoriafernan...|ye!oooXy$0|        1935-05-09|    MG|   2023-02-11| 103.28.141.203|     Amarelo|Cientista De Alim...|       71 0827-8838|\n",
       "|104.958.726-01|cunhajuliana@ig.c...|!oS3zb3&t3|        1938-12-09|    PB|   2023-02-02|159.189.154.242| Azul Escuro|          Bioquímico|    (061) 7110 9766|\n",
       "|107.548.239-97| danilo19@bol.com.br|_#lS03Sicj|        1930-04-09|    RS|   2023-01-12|    37.22.29.69|     Amarelo|Engenheiro De Tra...|   +55 81 5944 7206|\n",
       "|789.604.513-39|ana-sophia73@uol....|5N^x%@Bw!j|        1973-03-09|    AC|   2023-01-18|   144.86.229.3|        Azul|    Produtor Musical|+55 (061) 7367 9582|\n",
       "|869.175.420-67|ninapires@uol.com.br|Z*@5rX(r_5|        1954-04-09|    BA|   2023-03-13| 86.118.216.168|     Violeta|Tecnólogo Em Recu...|+55 (084) 6938 2759|\n",
       "|452.670.938-74|aragaobryan@ig.co...|Rn$^4GVaLh|        2006-09-09|    SP|   2023-01-20|  62.198.106.50|Verde Escuro|            Pescador|+55 (084) 0602 1499|\n",
       "|960.528.714-58| juan92@yahoo.com.br|8KWwv7#((5|        1935-06-09|    PB|   2023-01-21|   51.178.57.12|       Preto|        Grafologista|+55 (031) 6440 3485|\n",
       "|209.864.153-24|costelajuliana@bo...|+mSJXCWN54|        1930-11-09|    PR|   2023-01-17| 220.220.120.47| Azul Escuro|             Gagsman|    (041) 7376 1705|\n",
       "|512.870.943-41|isabelda-paz@yaho...|x@00VLiG5D|        1984-12-09|    PR|   2023-01-01|   124.11.42.79|     Amarelo|           Repositor|       21 0744-8588|\n",
       "+--------------+--------------------+----------+------------------+------+-------------+---------------+------------+--------------------+-------------------+"
      ]
     },
     "execution_count": 137,
     "metadata": {},
     "output_type": "execute_result"
    }
   ],
   "source": [
    "(\n",
    "    df\n",
    "    .filter(F.col(\"email\").endswith(\"com.br\"))\n",
    "    .filter(F.col(\"data_de_nascimento\").endswith(\"09\"))\n",
    ")"
   ]
  },
  {
   "cell_type": "markdown",
   "id": "0f891d89-20a3-445f-bf3d-4f0faf3433d2",
   "metadata": {},
   "source": [
    "### Filtrar por estados específicos\n",
    "- Função: Filtra o DataFrame para incluir apenas as linhas onde a coluna **estado** contém os valores **\"SP\"** ou **\"RJ\"**. Usa-se **isin()** para verificar se o valor está presente em uma lista de estados."
   ]
  },
  {
   "cell_type": "code",
   "execution_count": 136,
   "id": "2efbe909-8c38-46d6-bd71-b3c6b2ce6e3a",
   "metadata": {
    "scrolled": true
   },
   "outputs": [
    {
     "data": {
      "text/html": [
       "<table border='1'>\n",
       "<tr><th>cpf</th><th>email</th><th>senha</th><th>data_de_nascimento</th><th>estado</th><th>data_cadastro</th><th>ipv4</th><th>cor_favorita</th><th>profissao</th><th>telefone</th></tr>\n",
       "<tr><td>615.790.842-49</td><td>brenda39@ig.com.br</td><td>XS$84Hpsnw</td><td>1964-02-01</td><td>RJ</td><td>2023-02-16</td><td>21.252.226.29</td><td>Branco</td><td>Promotor De Vendas</td><td>+55 (021) 4751 2004</td></tr>\n",
       "<tr><td>573.619.804-57</td><td>hnogueira@ig.com.br</td><td>&amp;9Ejtll$PF</td><td>1949-03-06</td><td>SP</td><td>2023-01-27</td><td>168.162.247.252</td><td>Cinza</td><td>Instalador De Lin...</td><td>(031) 9148 3933</td></tr>\n",
       "<tr><td>734.801.926-96</td><td>pedro-miguel43@bo...</td><td>*72CCJdxX0</td><td>1965-09-14</td><td>SP</td><td>2023-02-22</td><td>222.145.189.67</td><td>Roxo</td><td>Coach</td><td>51 9026 3441</td></tr>\n",
       "<tr><td>869.072.315-30</td><td>luiz-gustavorocha...</td><td>$62UN05c(9</td><td>1980-10-19</td><td>SP</td><td>2023-01-04</td><td>53.167.75.100</td><td>Verde Claro</td><td>Lactarista Hospit...</td><td>+55 31 1296 8466</td></tr>\n",
       "<tr><td>384.716.209-87</td><td>talmeida@hotmail.com</td><td>k8IP9(Kz_v</td><td>1955-04-23</td><td>RJ</td><td>2023-03-06</td><td>120.159.158.101</td><td>Violeta</td><td>Catador De Materi...</td><td>+55 (051) 5573 2964</td></tr>\n",
       "<tr><td>291.358.407-14</td><td>lavinia54@ig.com.br</td><td>NyI@+8Kd!1</td><td>1982-01-28</td><td>SP</td><td>2023-02-26</td><td>79.132.46.55</td><td>Preto</td><td>Profissional De R...</td><td>+55 51 5526 8284</td></tr>\n",
       "<tr><td>460.125.983-51</td><td>lazevedo@gmail.com</td><td>uC0O7QdE&amp;B</td><td>1972-07-14</td><td>SP</td><td>2023-01-24</td><td>221.155.104.128</td><td>Preto</td><td>Atleta De Arremes...</td><td>+55 71 9251-1645</td></tr>\n",
       "<tr><td>837.410.256-07</td><td>martinsmaysa@bol....</td><td>(Z8RNs%un6</td><td>1972-08-21</td><td>SP</td><td>2023-02-24</td><td>157.119.230.252</td><td>Cinza</td><td>Laboratorista</td><td>+55 (084) 4945-6200</td></tr>\n",
       "<tr><td>730.184.526-07</td><td>fviana@ig.com.br</td><td>1(3oLDln$8</td><td>1938-10-23</td><td>SP</td><td>2023-03-02</td><td>99.31.171.138</td><td>Verde Escuro</td><td>Profissional De I...</td><td>0900-429-5628</td></tr>\n",
       "<tr><td>248.376.051-17</td><td>dmoura@hotmail.com</td><td>k7&amp;TpiJa%b</td><td>2022-09-01</td><td>RJ</td><td>2023-02-25</td><td>84.59.19.142</td><td>Branco</td><td>Jogador De Handebol</td><td>+55 (021) 3753-6334</td></tr>\n",
       "<tr><td>542.719.036-80</td><td>maria-luiza65@uol...</td><td>3)Uv_W0j(!</td><td>1982-07-26</td><td>RJ</td><td>2023-01-18</td><td>187.98.240.67</td><td>Rosa</td><td>Diplomata</td><td>+55 (021) 7739-9396</td></tr>\n",
       "<tr><td>874.092.613-31</td><td>bruno71@yahoo.com.br</td><td>HF1FfNe5&amp;H</td><td>1946-11-25</td><td>SP</td><td>2023-03-03</td><td>14.80.253.67</td><td>Violeta</td><td>Confeiteiro</td><td>(084) 0687-3775</td></tr>\n",
       "<tr><td>325.047.689-74</td><td>emanuella26@gmail...</td><td>r7pQOb%l)O</td><td>1944-05-13</td><td>RJ</td><td>2023-02-19</td><td>157.219.232.212</td><td>Roxo</td><td>Kite-Surfer</td><td>(041) 2315 8540</td></tr>\n",
       "<tr><td>490.372.518-97</td><td>castrocatarina@gm...</td><td>8hQ)9EiVZP</td><td>1983-06-10</td><td>SP</td><td>2023-01-21</td><td>5.188.180.112</td><td>Azul Escuro</td><td>Epidemi&oacute;logo</td><td>61 5994-2692</td></tr>\n",
       "<tr><td>765.430.982-10</td><td>gabrielcunha@bol....</td><td>*de30DhmcY</td><td>2002-05-23</td><td>RJ</td><td>2023-01-19</td><td>10.158.51.13</td><td>Verde Escuro</td><td>Camel&ocirc;</td><td>+55 (011) 6838 1339</td></tr>\n",
       "<tr><td>918.524.730-88</td><td>moreiralivia@uol....</td><td>o3Yi$eNs_n</td><td>1914-01-17</td><td>RJ</td><td>2023-01-22</td><td>63.34.144.217</td><td>Laranja</td><td>Agente De Defesa ...</td><td>11 2462 1478</td></tr>\n",
       "<tr><td>065.879.124-94</td><td>moreiraisabel@hot...</td><td>t+3h0Usq#E</td><td>2001-05-02</td><td>RJ</td><td>2023-02-22</td><td>90.107.110.81</td><td>Azul</td><td>Capataz</td><td>+55 81 4097 2278</td></tr>\n",
       "<tr><td>281.465.937-55</td><td>smoreira@uol.com.br</td><td>mj9W(cda0%</td><td>1920-10-17</td><td>RJ</td><td>2023-02-18</td><td>164.98.61.242</td><td>Verde</td><td>Escoteiro</td><td>+55 51 9615 2486</td></tr>\n",
       "<tr><td>970.182.634-50</td><td>limapedro-henriqu...</td><td>&amp;yMB4Axn4P</td><td>1970-04-26</td><td>RJ</td><td>2023-01-16</td><td>19.244.177.143</td><td>Branco</td><td>Produtor Musical</td><td>71 2253-3903</td></tr>\n",
       "<tr><td>914.528.630-24</td><td>da-cruzjoaquim@gm...</td><td>v#o7OgfF&amp;4</td><td>1951-01-03</td><td>SP</td><td>2023-01-01</td><td>82.252.94.185</td><td>Cinza</td><td>Ombudsman</td><td>(031) 4940-4068</td></tr>\n",
       "</table>\n",
       "only showing top 20 rows\n"
      ],
      "text/plain": [
       "+--------------+--------------------+----------+------------------+------+-------------+---------------+------------+--------------------+-------------------+\n",
       "|           cpf|               email|     senha|data_de_nascimento|estado|data_cadastro|           ipv4|cor_favorita|           profissao|           telefone|\n",
       "+--------------+--------------------+----------+------------------+------+-------------+---------------+------------+--------------------+-------------------+\n",
       "|615.790.842-49|  brenda39@ig.com.br|XS$84Hpsnw|        1964-02-01|    RJ|   2023-02-16|  21.252.226.29|      Branco|  Promotor De Vendas|+55 (021) 4751 2004|\n",
       "|573.619.804-57| hnogueira@ig.com.br|&9Ejtll$PF|        1949-03-06|    SP|   2023-01-27|168.162.247.252|       Cinza|Instalador De Lin...|    (031) 9148 3933|\n",
       "|734.801.926-96|pedro-miguel43@bo...|*72CCJdxX0|        1965-09-14|    SP|   2023-02-22| 222.145.189.67|        Roxo|               Coach|       51 9026 3441|\n",
       "|869.072.315-30|luiz-gustavorocha...|$62UN05c(9|        1980-10-19|    SP|   2023-01-04|  53.167.75.100| Verde Claro|Lactarista Hospit...|   +55 31 1296 8466|\n",
       "|384.716.209-87|talmeida@hotmail.com|k8IP9(Kz_v|        1955-04-23|    RJ|   2023-03-06|120.159.158.101|     Violeta|Catador De Materi...|+55 (051) 5573 2964|\n",
       "|291.358.407-14| lavinia54@ig.com.br|NyI@+8Kd!1|        1982-01-28|    SP|   2023-02-26|   79.132.46.55|       Preto|Profissional De R...|   +55 51 5526 8284|\n",
       "|460.125.983-51|  lazevedo@gmail.com|uC0O7QdE&B|        1972-07-14|    SP|   2023-01-24|221.155.104.128|       Preto|Atleta De Arremes...|   +55 71 9251-1645|\n",
       "|837.410.256-07|martinsmaysa@bol....|(Z8RNs%un6|        1972-08-21|    SP|   2023-02-24|157.119.230.252|       Cinza|       Laboratorista|+55 (084) 4945-6200|\n",
       "|730.184.526-07|    fviana@ig.com.br|1(3oLDln$8|        1938-10-23|    SP|   2023-03-02|  99.31.171.138|Verde Escuro|Profissional De I...|      0900-429-5628|\n",
       "|248.376.051-17|  dmoura@hotmail.com|k7&TpiJa%b|        2022-09-01|    RJ|   2023-02-25|   84.59.19.142|      Branco| Jogador De Handebol|+55 (021) 3753-6334|\n",
       "|542.719.036-80|maria-luiza65@uol...|3)Uv_W0j(!|        1982-07-26|    RJ|   2023-01-18|  187.98.240.67|        Rosa|           Diplomata|+55 (021) 7739-9396|\n",
       "|874.092.613-31|bruno71@yahoo.com.br|HF1FfNe5&H|        1946-11-25|    SP|   2023-03-03|   14.80.253.67|     Violeta|         Confeiteiro|    (084) 0687-3775|\n",
       "|325.047.689-74|emanuella26@gmail...|r7pQOb%l)O|        1944-05-13|    RJ|   2023-02-19|157.219.232.212|        Roxo|         Kite-Surfer|    (041) 2315 8540|\n",
       "|490.372.518-97|castrocatarina@gm...|8hQ)9EiVZP|        1983-06-10|    SP|   2023-01-21|  5.188.180.112| Azul Escuro|        Epidemiólogo|       61 5994-2692|\n",
       "|765.430.982-10|gabrielcunha@bol....|*de30DhmcY|        2002-05-23|    RJ|   2023-01-19|   10.158.51.13|Verde Escuro|              Camelô|+55 (011) 6838 1339|\n",
       "|918.524.730-88|moreiralivia@uol....|o3Yi$eNs_n|        1914-01-17|    RJ|   2023-01-22|  63.34.144.217|     Laranja|Agente De Defesa ...|       11 2462 1478|\n",
       "|065.879.124-94|moreiraisabel@hot...|t+3h0Usq#E|        2001-05-02|    RJ|   2023-02-22|  90.107.110.81|        Azul|             Capataz|   +55 81 4097 2278|\n",
       "|281.465.937-55| smoreira@uol.com.br|mj9W(cda0%|        1920-10-17|    RJ|   2023-02-18|  164.98.61.242|       Verde|           Escoteiro|   +55 51 9615 2486|\n",
       "|970.182.634-50|limapedro-henriqu...|&yMB4Axn4P|        1970-04-26|    RJ|   2023-01-16| 19.244.177.143|      Branco|    Produtor Musical|       71 2253-3903|\n",
       "|914.528.630-24|da-cruzjoaquim@gm...|v#o7OgfF&4|        1951-01-03|    SP|   2023-01-01|  82.252.94.185|       Cinza|           Ombudsman|    (031) 4940-4068|\n",
       "+--------------+--------------------+----------+------------------+------+-------------+---------------+------------+--------------------+-------------------+\n",
       "only showing top 20 rows"
      ]
     },
     "execution_count": 136,
     "metadata": {},
     "output_type": "execute_result"
    }
   ],
   "source": [
    "(\n",
    "    df\n",
    "    .filter(F.col(\"estado\").isin(\"SP\", \"RJ\"))\n",
    ")"
   ]
  }
 ],
 "metadata": {
  "kernelspec": {
   "display_name": "Python 3 (ipykernel)",
   "language": "python",
   "name": "python3"
  },
  "language_info": {
   "codemirror_mode": {
    "name": "ipython",
    "version": 3
   },
   "file_extension": ".py",
   "mimetype": "text/x-python",
   "name": "python",
   "nbconvert_exporter": "python",
   "pygments_lexer": "ipython3",
   "version": "3.12.7"
  }
 },
 "nbformat": 4,
 "nbformat_minor": 5
}
