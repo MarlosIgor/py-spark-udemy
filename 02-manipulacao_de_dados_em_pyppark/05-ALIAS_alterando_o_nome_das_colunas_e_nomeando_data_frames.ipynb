{
 "cells": [
  {
   "cell_type": "code",
   "execution_count": 94,
   "id": "45b4f713-a04f-444f-b0fb-4db577d049d3",
   "metadata": {},
   "outputs": [],
   "source": [
    "from pyspark.sql import SparkSession\n",
    "import pyspark.sql.functions as F"
   ]
  },
  {
   "cell_type": "code",
   "execution_count": 95,
   "id": "acb0bbb8-a0da-4adc-9a34-51a05918b3dd",
   "metadata": {},
   "outputs": [],
   "source": [
    "spark = (\n",
    "    SparkSession.builder\n",
    "    .appName(\"Curso de PySpark\")\n",
    "    .config(\"spark.sql.repl.eagerEval.enabled\", True)\n",
    "    .getOrCreate()\n",
    ")"
   ]
  },
  {
   "cell_type": "code",
   "execution_count": 96,
   "id": "5ed25cbc-610a-4d0a-beb4-5ee6d04f36d8",
   "metadata": {},
   "outputs": [
    {
     "data": {
      "text/html": [
       "\n",
       "            <div>\n",
       "                <p><b>SparkSession - in-memory</b></p>\n",
       "                \n",
       "        <div>\n",
       "            <p><b>SparkContext</b></p>\n",
       "\n",
       "            <p><a href=\"http://COLTWFGLFV04:4040\">Spark UI</a></p>\n",
       "\n",
       "            <dl>\n",
       "              <dt>Version</dt>\n",
       "                <dd><code>v3.5.5</code></dd>\n",
       "              <dt>Master</dt>\n",
       "                <dd><code>local[*]</code></dd>\n",
       "              <dt>AppName</dt>\n",
       "                <dd><code>Curso de PySpark</code></dd>\n",
       "            </dl>\n",
       "        </div>\n",
       "        \n",
       "            </div>\n",
       "        "
      ],
      "text/plain": [
       "<pyspark.sql.session.SparkSession at 0x22b36018f80>"
      ]
     },
     "execution_count": 96,
     "metadata": {},
     "output_type": "execute_result"
    }
   ],
   "source": [
    "spark"
   ]
  },
  {
   "cell_type": "code",
   "execution_count": 97,
   "id": "aed591a8-f92d-4958-b3cf-df2f802e2791",
   "metadata": {},
   "outputs": [],
   "source": [
    "path = \"C:/Users/marlos.barros/Cursos/pyspark_na_pratica/DATASETS/LOGINS.parquet\""
   ]
  },
  {
   "cell_type": "code",
   "execution_count": 98,
   "id": "82fa9429-9dfd-4487-b52c-4701fb6ce3bd",
   "metadata": {},
   "outputs": [],
   "source": [
    "df = spark.read.format(\"parquet\").load(path).limit(5)"
   ]
  },
  {
   "cell_type": "code",
   "execution_count": 99,
   "id": "c78181f9-a155-4cbe-a553-1413923915ad",
   "metadata": {},
   "outputs": [
    {
     "name": "stdout",
     "output_type": "stream",
     "text": [
      "root\n",
      " |-- cpf: string (nullable = true)\n",
      " |-- email: string (nullable = true)\n",
      " |-- senha: string (nullable = true)\n",
      " |-- data_de_nascimento: date (nullable = true)\n",
      " |-- estado: string (nullable = true)\n",
      " |-- data_cadastro: date (nullable = true)\n",
      " |-- ipv4: string (nullable = true)\n",
      " |-- cor_favorita: string (nullable = true)\n",
      " |-- profissao: string (nullable = true)\n",
      " |-- telefone: string (nullable = true)\n",
      "\n"
     ]
    }
   ],
   "source": [
    "df.printSchema()"
   ]
  },
  {
   "cell_type": "markdown",
   "id": "ec73f524-448f-4606-b61e-e8607288c91f",
   "metadata": {},
   "source": [
    "### Agrupamento com Alias\n",
    "- Função: Agrupa o DataFrame pela coluna **estado**, contando o número de ocorrências de cada estado. A contagem é renomeada como **\"qtd\"**."
   ]
  },
  {
   "cell_type": "code",
   "execution_count": 100,
   "id": "6648bc60-b335-4bfd-a1d4-9c871c2003ab",
   "metadata": {
    "scrolled": true
   },
   "outputs": [
    {
     "data": {
      "text/html": [
       "<table border='1'>\n",
       "<tr><th>estado</th><th>qtd</th></tr>\n",
       "<tr><td>RR</td><td>1</td></tr>\n",
       "<tr><td>GO</td><td>1</td></tr>\n",
       "<tr><td>MG</td><td>1</td></tr>\n",
       "<tr><td>AC</td><td>1</td></tr>\n",
       "<tr><td>AP</td><td>1</td></tr>\n",
       "</table>\n"
      ],
      "text/plain": [
       "+------+---+\n",
       "|estado|qtd|\n",
       "+------+---+\n",
       "|    RR|  1|\n",
       "|    GO|  1|\n",
       "|    MG|  1|\n",
       "|    AC|  1|\n",
       "|    AP|  1|\n",
       "+------+---+"
      ]
     },
     "execution_count": 100,
     "metadata": {},
     "output_type": "execute_result"
    }
   ],
   "source": [
    "df.groupBy(F.col(\"estado\")).agg(F.count(\"*\").alias(\"qtd\"))"
   ]
  },
  {
   "cell_type": "markdown",
   "id": "431a63ed-c3f4-4ee5-8f81-06aba3f0ce5d",
   "metadata": {},
   "source": [
    "### Agrupamento com Alias para Coluna\n",
    "- Função: Agrupa pela coluna **estado**, mas renomeia essa coluna como **\"UF\"** no agrupamento. A contagem também é renomeada como **\"qtd\"**."
   ]
  },
  {
   "cell_type": "code",
   "execution_count": 101,
   "id": "9a2e8ed0-8dc8-46af-8e4a-33f6ced7720c",
   "metadata": {
    "scrolled": true
   },
   "outputs": [
    {
     "data": {
      "text/html": [
       "<table border='1'>\n",
       "<tr><th>UF</th><th>qtd</th></tr>\n",
       "<tr><td>RR</td><td>1</td></tr>\n",
       "<tr><td>GO</td><td>1</td></tr>\n",
       "<tr><td>MG</td><td>1</td></tr>\n",
       "<tr><td>AC</td><td>1</td></tr>\n",
       "<tr><td>AP</td><td>1</td></tr>\n",
       "</table>\n"
      ],
      "text/plain": [
       "+---+---+\n",
       "| UF|qtd|\n",
       "+---+---+\n",
       "| RR|  1|\n",
       "| GO|  1|\n",
       "| MG|  1|\n",
       "| AC|  1|\n",
       "| AP|  1|\n",
       "+---+---+"
      ]
     },
     "execution_count": 101,
     "metadata": {},
     "output_type": "execute_result"
    }
   ],
   "source": [
    "df.groupBy(F.col(\"estado\").alias(\"UF\")).agg(F.count(\"*\").alias(\"qtd\"))"
   ]
  },
  {
   "cell_type": "markdown",
   "id": "2b5d9f19-0e89-4359-9315-4cc823d91d44",
   "metadata": {},
   "source": [
    "### Criando Alias para DataFrame\n",
    "- Função: Cria um **alias** para o DataFrame **df** chamado **\"new_df\"**, e então seleciona a coluna **cpf** usando o **alias**."
   ]
  },
  {
   "cell_type": "code",
   "execution_count": 102,
   "id": "99aaf5f4-dfb6-48f5-9c38-6f9d2cdb3476",
   "metadata": {
    "scrolled": true
   },
   "outputs": [
    {
     "data": {
      "text/html": [
       "<table border='1'>\n",
       "<tr><th>cpf</th></tr>\n",
       "<tr><td>981.507.362-12</td></tr>\n",
       "<tr><td>493.705.168-75</td></tr>\n",
       "<tr><td>398.471.625-73</td></tr>\n",
       "<tr><td>092.618.354-06</td></tr>\n",
       "<tr><td>509.427.136-99</td></tr>\n",
       "</table>\n"
      ],
      "text/plain": [
       "+--------------+\n",
       "|           cpf|\n",
       "+--------------+\n",
       "|981.507.362-12|\n",
       "|493.705.168-75|\n",
       "|398.471.625-73|\n",
       "|092.618.354-06|\n",
       "|509.427.136-99|\n",
       "+--------------+"
      ]
     },
     "execution_count": 102,
     "metadata": {},
     "output_type": "execute_result"
    }
   ],
   "source": [
    "df_1 = df.alias(\"new_df\")\n",
    "df_1.select(\"new_df.cpf\")"
   ]
  },
  {
   "cell_type": "markdown",
   "id": "2cd0ce94-9e2e-4913-9ea2-621949b71918",
   "metadata": {},
   "source": [
    "### Leitura de Arquivos Parquet com Alias\n",
    "- Função: Carrega arquivos parquet dos diretórios especificados e cria **alias** para os DataFrames resultantes, renomeando-os como **\"livros\"** e **\"compras\"**."
   ]
  },
  {
   "cell_type": "code",
   "execution_count": 103,
   "id": "5c370106-3276-4cc3-8797-40f5f3bee939",
   "metadata": {},
   "outputs": [
    {
     "name": "stdout",
     "output_type": "stream",
     "text": [
      "root\n",
      " |-- id: string (nullable = true)\n",
      " |-- cnpj_editora: string (nullable = true)\n",
      " |-- data_lancamento: date (nullable = true)\n",
      " |-- ean: string (nullable = true)\n",
      " |-- isbn10: string (nullable = true)\n",
      " |-- numero_paginas: string (nullable = true)\n",
      " |-- preco: double (nullable = true)\n",
      "\n"
     ]
    }
   ],
   "source": [
    "livros = spark.read.parquet(\"C:/Users/marlos.barros/Cursos/pyspark_na_pratica/DATASETS/LIVROS.parquet\").alias(\"livros\")\n",
    "livros.printSchema()"
   ]
  },
  {
   "cell_type": "code",
   "execution_count": 104,
   "id": "cd41da39-40ee-4dff-a2bf-6d2cdc25cd37",
   "metadata": {},
   "outputs": [
    {
     "name": "stdout",
     "output_type": "stream",
     "text": [
      "root\n",
      " |-- id: string (nullable = true)\n",
      " |-- cartao_data_expiracao: string (nullable = true)\n",
      " |-- cartao_numero: string (nullable = true)\n",
      " |-- cartao_bandeira: string (nullable = true)\n",
      " |-- cartao_cvc: string (nullable = true)\n",
      " |-- codigo_transacao_bancaria: string (nullable = true)\n",
      " |-- data: date (nullable = true)\n",
      " |-- hora: string (nullable = true)\n",
      " |-- ipv4: string (nullable = true)\n",
      " |-- ipv6: string (nullable = true)\n",
      " |-- cep_entrega: string (nullable = true)\n",
      " |-- cd_livro: string (nullable = true)\n",
      " |-- cd_cliente: string (nullable = true)\n",
      "\n"
     ]
    }
   ],
   "source": [
    "compras = spark.read.parquet(\"C:/Users/marlos.barros/Cursos/pyspark_na_pratica/DATASETS/COMPRAS.parquet\").alias(\"compras\")\n",
    "compras.printSchema()"
   ]
  },
  {
   "cell_type": "markdown",
   "id": "573129c1-599d-49da-a08c-0688cdb52c11",
   "metadata": {},
   "source": [
    "### Join com Alias para DataFrames\n",
    "- Função: Realiza um **inner join** entre os DataFrames **compras** e **livros**, onde a coluna **cd_livro** de **compras** é igual à coluna **id** de **livros**. O DataFrame resultante é armazenado como **df_2**."
   ]
  },
  {
   "cell_type": "code",
   "execution_count": 105,
   "id": "586577af-ac0d-4ad1-9116-16bab2a417c9",
   "metadata": {
    "scrolled": true
   },
   "outputs": [
    {
     "data": {
      "text/html": [
       "<table border='1'>\n",
       "<tr><th>id</th><th>cartao_data_expiracao</th><th>cartao_numero</th><th>cartao_bandeira</th><th>cartao_cvc</th><th>codigo_transacao_bancaria</th><th>data</th><th>hora</th><th>ipv4</th><th>ipv6</th><th>cep_entrega</th><th>cd_livro</th><th>cd_cliente</th><th>id</th><th>cnpj_editora</th><th>data_lancamento</th><th>ean</th><th>isbn10</th><th>numero_paginas</th><th>preco</th></tr>\n",
       "<tr><td>012389</td><td>11/25</td><td>5500804500517692</td><td>Discover</td><td>959</td><td>GB98MPIH622108593...</td><td>2021-07-24</td><td>03:21:28</td><td>62.145.31.164</td><td>b23d:58a2:9eff:36...</td><td>36629-219</td><td>030334762</td><td>3339828</td><td>030334762</td><td>80.463.719/0001-06</td><td>2013-05-08</td><td>7122725133429</td><td>0-85193-340-8</td><td>099</td><td>123.47</td></tr>\n",
       "<tr><td>012476</td><td>01/31</td><td>4609489235873</td><td>VISA 16 digit</td><td>6979</td><td>GB79GAVL233010819...</td><td>2021-08-23</td><td>11:15:52</td><td>185.150.224.52</td><td>1e2c:f641:49d1:5a...</td><td>17012-747</td><td>013721981</td><td>7624624</td><td>013721981</td><td>76.351.940/0001-97</td><td>2004-01-27</td><td>8786391051693</td><td>1-60705-523-6</td><td>379</td><td>133.43</td></tr>\n",
       "<tr><td>012478</td><td>07/23</td><td>30072722359174</td><td>American Express</td><td>689</td><td>GB51SZOU538484531...</td><td>2020-01-27</td><td>17:08:10</td><td>40.179.153.24</td><td>9bcd:ee0c:af68:33...</td><td>25921298</td><td>019458805</td><td>8703114</td><td>019458805</td><td>81.253.490/0001-30</td><td>2007-12-13</td><td>2628486550239</td><td>0-916523-25-X</td><td>788</td><td>238.54</td></tr>\n",
       "<tr><td>012534</td><td>09/29</td><td>4561935154572</td><td>VISA 16 digit</td><td>353</td><td>GB05UNEX021466511...</td><td>2021-07-15</td><td>07:39:25</td><td>86.20.51.194</td><td>be57:8f94:132:1cb...</td><td>73799370</td><td>014347542</td><td>7799936</td><td>014347542</td><td>76.415.890/0001-64</td><td>2007-04-05</td><td>3883750237349</td><td>0-8360-5203-X</td><td>452</td><td>182.43</td></tr>\n",
       "<tr><td>012549</td><td>01/31</td><td>3541220668415122</td><td>JCB 15 digit</td><td>967</td><td>GB97RCCC581942620...</td><td>2020-07-22</td><td>23:56:14</td><td>55.189.220.65</td><td>a1fd:9dd:115f:9d5...</td><td>50727-454</td><td>020215846</td><td>6703678</td><td>020215846</td><td>27.659.813/0001-44</td><td>2014-03-25</td><td>7684001180416</td><td>0-216-16469-9</td><td>794</td><td>155.18</td></tr>\n",
       "<tr><td>012574</td><td>06/24</td><td>4155061214506542</td><td>JCB 16 digit</td><td>362</td><td>GB93YATI197164292...</td><td>2020-05-19</td><td>10:47:09</td><td>212.26.253.42</td><td>1815:dc0e:c557:96...</td><td>67662-182</td><td>010325500</td><td>6273720</td><td>010325500</td><td>27.689.540/0001-80</td><td>2000-09-09</td><td>8793472196570</td><td>0-933627-98-X</td><td>306</td><td>30.62</td></tr>\n",
       "<tr><td>012579</td><td>01/27</td><td>30554213514227</td><td>Maestro</td><td>9847</td><td>GB54PQLN799705859...</td><td>2021-04-15</td><td>10:36:56</td><td>168.197.230.167</td><td>7f3b:4ada:4c62:3f...</td><td>61193-110</td><td>053479015</td><td>6977964</td><td>053479015</td><td>54.327.896/0001-47</td><td>2018-12-21</td><td>1750535865566</td><td>0-518-04786-5</td><td>105</td><td>207.52</td></tr>\n",
       "<tr><td>012648</td><td>05/24</td><td>347386847428278</td><td>VISA 16 digit</td><td>823</td><td>GB90MYZL510193283...</td><td>2021-06-19</td><td>13:07:48</td><td>146.108.131.11</td><td>c52d:53d8:371a:34...</td><td>10059-723</td><td>012331534</td><td>6616715</td><td>012331534</td><td>84.317.925/0001-50</td><td>2010-05-29</td><td>3177832263150</td><td>1-62649-755-9</td><td>129</td><td>175.67</td></tr>\n",
       "<tr><td>012675</td><td>04/29</td><td>4534805013764</td><td>Mastercard</td><td>384</td><td>GB11XMUH824876351...</td><td>2021-07-11</td><td>07:55:08</td><td>148.155.72.234</td><td>b290:d2b7:6a58:86...</td><td>79292884</td><td>035940339</td><td>649001</td><td>035940339</td><td>71.530.496/0001-53</td><td>2014-08-11</td><td>6764222732753</td><td>1-396-90787-4</td><td>327</td><td>213.6</td></tr>\n",
       "<tr><td>012698</td><td>12/31</td><td>4450657280386776</td><td>American Express</td><td>247</td><td>GB79ECRO017868447...</td><td>2021-08-11</td><td>12:06:48</td><td>190.135.5.172</td><td>7cbc:4554:7f5d:65...</td><td>93609312</td><td>058320651</td><td>4523531</td><td>058320651</td><td>82.439.107/0001-03</td><td>2013-01-30</td><td>6024459409867</td><td>1-61357-201-8</td><td>290</td><td>196.35</td></tr>\n",
       "<tr><td>012845</td><td>01/32</td><td>6589457551152257</td><td>Diners Club / Car...</td><td>081</td><td>GB54ZAJA800810561...</td><td>2023-02-27</td><td>09:34:58</td><td>117.107.7.243</td><td>d3f6:6a7f:32a8:eb...</td><td>65177115</td><td>032169692</td><td>8443760</td><td>032169692</td><td>14.603.275/0001-24</td><td>2000-05-15</td><td>4659106631807</td><td>1-81244-634-9</td><td>956</td><td>176.73</td></tr>\n",
       "<tr><td>012948</td><td>12/28</td><td>373871288580551</td><td>Diners Club / Car...</td><td>619</td><td>GB43SXJF889505944...</td><td>2020-02-20</td><td>03:10:01</td><td>210.130.27.213</td><td>9ae4:b03a:1a1f:c6...</td><td>39334-766</td><td>032169692</td><td>1235431</td><td>032169692</td><td>14.603.275/0001-24</td><td>2000-05-15</td><td>4659106631807</td><td>1-81244-634-9</td><td>956</td><td>176.73</td></tr>\n",
       "<tr><td>012964</td><td>12/30</td><td>4852311914204</td><td>Mastercard</td><td>555</td><td>GB64DLQF090053954...</td><td>2022-10-04</td><td>06:40:47</td><td>129.93.60.161</td><td>5bfe:ad1b:a4f1:f2...</td><td>41199-650</td><td>033338998</td><td>7811168</td><td>033338998</td><td>43.597.816/0001-57</td><td>2015-07-10</td><td>5973438592186</td><td>0-7598-2346-4</td><td>337</td><td>150.51</td></tr>\n",
       "<tr><td>012984</td><td>06/31</td><td>4513536757134128830</td><td>VISA 19 digit</td><td>834</td><td>GB32QSLY821583204...</td><td>2020-08-05</td><td>09:45:12</td><td>141.203.245.233</td><td>7528:d2f8:fa09:82...</td><td>84410-583</td><td>042900595</td><td>2093927</td><td>042900595</td><td>28.936.451/0001-54</td><td>2010-12-15</td><td>2655132597959</td><td>0-86582-172-0</td><td>169</td><td>59.35</td></tr>\n",
       "<tr><td>012986</td><td>10/26</td><td>3585620838660639</td><td>Mastercard</td><td>440</td><td>GB79ZFSL741355562...</td><td>2020-05-06</td><td>23:22:03</td><td>221.251.216.243</td><td>5da7:4583:5800:96...</td><td>16961-730</td><td>019458805</td><td>3945329</td><td>019458805</td><td>81.253.490/0001-30</td><td>2007-12-13</td><td>2628486550239</td><td>0-916523-25-X</td><td>788</td><td>238.54</td></tr>\n",
       "<tr><td>013257</td><td>05/23</td><td>6579633995016199</td><td>VISA 13 digit</td><td>9804</td><td>GB93NZLK218118563...</td><td>2022-11-28</td><td>02:09:43</td><td>189.189.141.229</td><td>7b91:3b21:d3f1:36...</td><td>83312054</td><td>027740385</td><td>6689138</td><td>027740385</td><td>13.695.847/0001-80</td><td>2008-01-05</td><td>7379429364080</td><td>1-327-99249-3</td><td>991</td><td>105.73</td></tr>\n",
       "<tr><td>013265</td><td>12/31</td><td>3535506018736607</td><td>JCB 15 digit</td><td>702</td><td>GB97UUHZ239804882...</td><td>2020-10-27</td><td>18:17:07</td><td>24.152.218.181</td><td>77da:6ce5:522a:ac...</td><td>06479-166</td><td>049141690</td><td>1942388</td><td>049141690</td><td>95.037.812/0001-18</td><td>2016-12-24</td><td>9032214793899</td><td>1-4076-9870-2</td><td>454</td><td>210.52</td></tr>\n",
       "<tr><td>013274</td><td>01/24</td><td>3568580151701777</td><td>JCB 16 digit</td><td>257</td><td>GB80ISML116442671...</td><td>2021-12-20</td><td>14:44:09</td><td>42.253.7.153</td><td>cf6a:3335:55be:e0...</td><td>30462-427</td><td>104361784</td><td>2487770</td><td>104361784</td><td>46.527.081/0001-83</td><td>2013-12-08</td><td>1491898510198</td><td>1-101-80944-2</td><td>478</td><td>109.14</td></tr>\n",
       "<tr><td>013457</td><td>06/28</td><td>4589839699652790803</td><td>Maestro</td><td>280</td><td>GB22HUUD094642820...</td><td>2021-10-26</td><td>23:04:27</td><td>207.179.196.45</td><td>9b03:e5f0:c72f:c7...</td><td>10506549</td><td>021006591</td><td>4312106</td><td>021006591</td><td>87.521.043/0001-09</td><td>2019-02-24</td><td>1222716689648</td><td>1-955093-40-7</td><td>382</td><td>96.84</td></tr>\n",
       "<tr><td>013478</td><td>07/24</td><td>3560452545224585</td><td>VISA 16 digit</td><td>126</td><td>GB63LUHF437452702...</td><td>2020-05-10</td><td>02:33:28</td><td>105.127.245.188</td><td>dd79:3fca:9d38:98...</td><td>10354-560</td><td>019488257</td><td>670483</td><td>019488257</td><td>56.783.210/0001-58</td><td>2013-05-19</td><td>3993489629534</td><td>0-589-10612-0</td><td>734</td><td>17.11</td></tr>\n",
       "</table>\n",
       "only showing top 20 rows\n"
      ],
      "text/plain": [
       "+------+---------------------+-------------------+--------------------+----------+-------------------------+----------+--------+---------------+--------------------+-----------+---------+----------+---------+------------------+---------------+-------------+-------------+--------------+------+\n",
       "|    id|cartao_data_expiracao|      cartao_numero|     cartao_bandeira|cartao_cvc|codigo_transacao_bancaria|      data|    hora|           ipv4|                ipv6|cep_entrega| cd_livro|cd_cliente|       id|      cnpj_editora|data_lancamento|          ean|       isbn10|numero_paginas| preco|\n",
       "+------+---------------------+-------------------+--------------------+----------+-------------------------+----------+--------+---------------+--------------------+-----------+---------+----------+---------+------------------+---------------+-------------+-------------+--------------+------+\n",
       "|012389|                11/25|   5500804500517692|            Discover|       959|     GB98MPIH622108593...|2021-07-24|03:21:28|  62.145.31.164|b23d:58a2:9eff:36...|  36629-219|030334762|   3339828|030334762|80.463.719/0001-06|     2013-05-08|7122725133429|0-85193-340-8|           099|123.47|\n",
       "|012476|                01/31|      4609489235873|       VISA 16 digit|      6979|     GB79GAVL233010819...|2021-08-23|11:15:52| 185.150.224.52|1e2c:f641:49d1:5a...|  17012-747|013721981|   7624624|013721981|76.351.940/0001-97|     2004-01-27|8786391051693|1-60705-523-6|           379|133.43|\n",
       "|012478|                07/23|     30072722359174|    American Express|       689|     GB51SZOU538484531...|2020-01-27|17:08:10|  40.179.153.24|9bcd:ee0c:af68:33...|   25921298|019458805|   8703114|019458805|81.253.490/0001-30|     2007-12-13|2628486550239|0-916523-25-X|           788|238.54|\n",
       "|012534|                09/29|      4561935154572|       VISA 16 digit|       353|     GB05UNEX021466511...|2021-07-15|07:39:25|   86.20.51.194|be57:8f94:132:1cb...|   73799370|014347542|   7799936|014347542|76.415.890/0001-64|     2007-04-05|3883750237349|0-8360-5203-X|           452|182.43|\n",
       "|012549|                01/31|   3541220668415122|        JCB 15 digit|       967|     GB97RCCC581942620...|2020-07-22|23:56:14|  55.189.220.65|a1fd:9dd:115f:9d5...|  50727-454|020215846|   6703678|020215846|27.659.813/0001-44|     2014-03-25|7684001180416|0-216-16469-9|           794|155.18|\n",
       "|012574|                06/24|   4155061214506542|        JCB 16 digit|       362|     GB93YATI197164292...|2020-05-19|10:47:09|  212.26.253.42|1815:dc0e:c557:96...|  67662-182|010325500|   6273720|010325500|27.689.540/0001-80|     2000-09-09|8793472196570|0-933627-98-X|           306| 30.62|\n",
       "|012579|                01/27|     30554213514227|             Maestro|      9847|     GB54PQLN799705859...|2021-04-15|10:36:56|168.197.230.167|7f3b:4ada:4c62:3f...|  61193-110|053479015|   6977964|053479015|54.327.896/0001-47|     2018-12-21|1750535865566|0-518-04786-5|           105|207.52|\n",
       "|012648|                05/24|    347386847428278|       VISA 16 digit|       823|     GB90MYZL510193283...|2021-06-19|13:07:48| 146.108.131.11|c52d:53d8:371a:34...|  10059-723|012331534|   6616715|012331534|84.317.925/0001-50|     2010-05-29|3177832263150|1-62649-755-9|           129|175.67|\n",
       "|012675|                04/29|      4534805013764|          Mastercard|       384|     GB11XMUH824876351...|2021-07-11|07:55:08| 148.155.72.234|b290:d2b7:6a58:86...|   79292884|035940339|    649001|035940339|71.530.496/0001-53|     2014-08-11|6764222732753|1-396-90787-4|           327| 213.6|\n",
       "|012698|                12/31|   4450657280386776|    American Express|       247|     GB79ECRO017868447...|2021-08-11|12:06:48|  190.135.5.172|7cbc:4554:7f5d:65...|   93609312|058320651|   4523531|058320651|82.439.107/0001-03|     2013-01-30|6024459409867|1-61357-201-8|           290|196.35|\n",
       "|012845|                01/32|   6589457551152257|Diners Club / Car...|       081|     GB54ZAJA800810561...|2023-02-27|09:34:58|  117.107.7.243|d3f6:6a7f:32a8:eb...|   65177115|032169692|   8443760|032169692|14.603.275/0001-24|     2000-05-15|4659106631807|1-81244-634-9|           956|176.73|\n",
       "|012948|                12/28|    373871288580551|Diners Club / Car...|       619|     GB43SXJF889505944...|2020-02-20|03:10:01| 210.130.27.213|9ae4:b03a:1a1f:c6...|  39334-766|032169692|   1235431|032169692|14.603.275/0001-24|     2000-05-15|4659106631807|1-81244-634-9|           956|176.73|\n",
       "|012964|                12/30|      4852311914204|          Mastercard|       555|     GB64DLQF090053954...|2022-10-04|06:40:47|  129.93.60.161|5bfe:ad1b:a4f1:f2...|  41199-650|033338998|   7811168|033338998|43.597.816/0001-57|     2015-07-10|5973438592186|0-7598-2346-4|           337|150.51|\n",
       "|012984|                06/31|4513536757134128830|       VISA 19 digit|       834|     GB32QSLY821583204...|2020-08-05|09:45:12|141.203.245.233|7528:d2f8:fa09:82...|  84410-583|042900595|   2093927|042900595|28.936.451/0001-54|     2010-12-15|2655132597959|0-86582-172-0|           169| 59.35|\n",
       "|012986|                10/26|   3585620838660639|          Mastercard|       440|     GB79ZFSL741355562...|2020-05-06|23:22:03|221.251.216.243|5da7:4583:5800:96...|  16961-730|019458805|   3945329|019458805|81.253.490/0001-30|     2007-12-13|2628486550239|0-916523-25-X|           788|238.54|\n",
       "|013257|                05/23|   6579633995016199|       VISA 13 digit|      9804|     GB93NZLK218118563...|2022-11-28|02:09:43|189.189.141.229|7b91:3b21:d3f1:36...|   83312054|027740385|   6689138|027740385|13.695.847/0001-80|     2008-01-05|7379429364080|1-327-99249-3|           991|105.73|\n",
       "|013265|                12/31|   3535506018736607|        JCB 15 digit|       702|     GB97UUHZ239804882...|2020-10-27|18:17:07| 24.152.218.181|77da:6ce5:522a:ac...|  06479-166|049141690|   1942388|049141690|95.037.812/0001-18|     2016-12-24|9032214793899|1-4076-9870-2|           454|210.52|\n",
       "|013274|                01/24|   3568580151701777|        JCB 16 digit|       257|     GB80ISML116442671...|2021-12-20|14:44:09|   42.253.7.153|cf6a:3335:55be:e0...|  30462-427|104361784|   2487770|104361784|46.527.081/0001-83|     2013-12-08|1491898510198|1-101-80944-2|           478|109.14|\n",
       "|013457|                06/28|4589839699652790803|             Maestro|       280|     GB22HUUD094642820...|2021-10-26|23:04:27| 207.179.196.45|9b03:e5f0:c72f:c7...|   10506549|021006591|   4312106|021006591|87.521.043/0001-09|     2019-02-24|1222716689648|1-955093-40-7|           382| 96.84|\n",
       "|013478|                07/24|   3560452545224585|       VISA 16 digit|       126|     GB63LUHF437452702...|2020-05-10|02:33:28|105.127.245.188|dd79:3fca:9d38:98...|  10354-560|019488257|    670483|019488257|56.783.210/0001-58|     2013-05-19|3993489629534|0-589-10612-0|           734| 17.11|\n",
       "+------+---------------------+-------------------+--------------------+----------+-------------------------+----------+--------+---------------+--------------------+-----------+---------+----------+---------+------------------+---------------+-------------+-------------+--------------+------+\n",
       "only showing top 20 rows"
      ]
     },
     "execution_count": 105,
     "metadata": {},
     "output_type": "execute_result"
    }
   ],
   "source": [
    "df_2 = compras.join(livros, F.col(\"cd_livro\") == F.col(\"livros.id\"), \"inner\")\n",
    "df_2"
   ]
  },
  {
   "cell_type": "markdown",
   "id": "57f5f4e0-f889-480e-9a6f-b872ce25a877",
   "metadata": {},
   "source": [
    "### Selecionando Colunas com Alias\n",
    "- Função: Seleciona todas as colunas do DataFrame **livros** usando o **alias**, juntamente com a coluna **data** do DataFrame **compras**."
   ]
  },
  {
   "cell_type": "code",
   "execution_count": 106,
   "id": "a2abf1dd-893c-447c-b2a6-7f8beaf2d632",
   "metadata": {
    "scrolled": true
   },
   "outputs": [
    {
     "data": {
      "text/html": [
       "<table border='1'>\n",
       "<tr><th>id</th><th>cnpj_editora</th><th>data_lancamento</th><th>ean</th><th>isbn10</th><th>numero_paginas</th><th>preco</th><th>data</th></tr>\n",
       "<tr><td>030334762</td><td>80.463.719/0001-06</td><td>2013-05-08</td><td>7122725133429</td><td>0-85193-340-8</td><td>099</td><td>123.47</td><td>2021-07-24</td></tr>\n",
       "<tr><td>013721981</td><td>76.351.940/0001-97</td><td>2004-01-27</td><td>8786391051693</td><td>1-60705-523-6</td><td>379</td><td>133.43</td><td>2021-08-23</td></tr>\n",
       "<tr><td>019458805</td><td>81.253.490/0001-30</td><td>2007-12-13</td><td>2628486550239</td><td>0-916523-25-X</td><td>788</td><td>238.54</td><td>2020-01-27</td></tr>\n",
       "<tr><td>014347542</td><td>76.415.890/0001-64</td><td>2007-04-05</td><td>3883750237349</td><td>0-8360-5203-X</td><td>452</td><td>182.43</td><td>2021-07-15</td></tr>\n",
       "<tr><td>020215846</td><td>27.659.813/0001-44</td><td>2014-03-25</td><td>7684001180416</td><td>0-216-16469-9</td><td>794</td><td>155.18</td><td>2020-07-22</td></tr>\n",
       "<tr><td>010325500</td><td>27.689.540/0001-80</td><td>2000-09-09</td><td>8793472196570</td><td>0-933627-98-X</td><td>306</td><td>30.62</td><td>2020-05-19</td></tr>\n",
       "<tr><td>053479015</td><td>54.327.896/0001-47</td><td>2018-12-21</td><td>1750535865566</td><td>0-518-04786-5</td><td>105</td><td>207.52</td><td>2021-04-15</td></tr>\n",
       "<tr><td>012331534</td><td>84.317.925/0001-50</td><td>2010-05-29</td><td>3177832263150</td><td>1-62649-755-9</td><td>129</td><td>175.67</td><td>2021-06-19</td></tr>\n",
       "<tr><td>035940339</td><td>71.530.496/0001-53</td><td>2014-08-11</td><td>6764222732753</td><td>1-396-90787-4</td><td>327</td><td>213.6</td><td>2021-07-11</td></tr>\n",
       "<tr><td>058320651</td><td>82.439.107/0001-03</td><td>2013-01-30</td><td>6024459409867</td><td>1-61357-201-8</td><td>290</td><td>196.35</td><td>2021-08-11</td></tr>\n",
       "<tr><td>032169692</td><td>14.603.275/0001-24</td><td>2000-05-15</td><td>4659106631807</td><td>1-81244-634-9</td><td>956</td><td>176.73</td><td>2023-02-27</td></tr>\n",
       "<tr><td>032169692</td><td>14.603.275/0001-24</td><td>2000-05-15</td><td>4659106631807</td><td>1-81244-634-9</td><td>956</td><td>176.73</td><td>2020-02-20</td></tr>\n",
       "<tr><td>033338998</td><td>43.597.816/0001-57</td><td>2015-07-10</td><td>5973438592186</td><td>0-7598-2346-4</td><td>337</td><td>150.51</td><td>2022-10-04</td></tr>\n",
       "<tr><td>042900595</td><td>28.936.451/0001-54</td><td>2010-12-15</td><td>2655132597959</td><td>0-86582-172-0</td><td>169</td><td>59.35</td><td>2020-08-05</td></tr>\n",
       "<tr><td>019458805</td><td>81.253.490/0001-30</td><td>2007-12-13</td><td>2628486550239</td><td>0-916523-25-X</td><td>788</td><td>238.54</td><td>2020-05-06</td></tr>\n",
       "<tr><td>027740385</td><td>13.695.847/0001-80</td><td>2008-01-05</td><td>7379429364080</td><td>1-327-99249-3</td><td>991</td><td>105.73</td><td>2022-11-28</td></tr>\n",
       "<tr><td>049141690</td><td>95.037.812/0001-18</td><td>2016-12-24</td><td>9032214793899</td><td>1-4076-9870-2</td><td>454</td><td>210.52</td><td>2020-10-27</td></tr>\n",
       "<tr><td>104361784</td><td>46.527.081/0001-83</td><td>2013-12-08</td><td>1491898510198</td><td>1-101-80944-2</td><td>478</td><td>109.14</td><td>2021-12-20</td></tr>\n",
       "<tr><td>021006591</td><td>87.521.043/0001-09</td><td>2019-02-24</td><td>1222716689648</td><td>1-955093-40-7</td><td>382</td><td>96.84</td><td>2021-10-26</td></tr>\n",
       "<tr><td>019488257</td><td>56.783.210/0001-58</td><td>2013-05-19</td><td>3993489629534</td><td>0-589-10612-0</td><td>734</td><td>17.11</td><td>2020-05-10</td></tr>\n",
       "</table>\n",
       "only showing top 20 rows\n"
      ],
      "text/plain": [
       "+---------+------------------+---------------+-------------+-------------+--------------+------+----------+\n",
       "|       id|      cnpj_editora|data_lancamento|          ean|       isbn10|numero_paginas| preco|      data|\n",
       "+---------+------------------+---------------+-------------+-------------+--------------+------+----------+\n",
       "|030334762|80.463.719/0001-06|     2013-05-08|7122725133429|0-85193-340-8|           099|123.47|2021-07-24|\n",
       "|013721981|76.351.940/0001-97|     2004-01-27|8786391051693|1-60705-523-6|           379|133.43|2021-08-23|\n",
       "|019458805|81.253.490/0001-30|     2007-12-13|2628486550239|0-916523-25-X|           788|238.54|2020-01-27|\n",
       "|014347542|76.415.890/0001-64|     2007-04-05|3883750237349|0-8360-5203-X|           452|182.43|2021-07-15|\n",
       "|020215846|27.659.813/0001-44|     2014-03-25|7684001180416|0-216-16469-9|           794|155.18|2020-07-22|\n",
       "|010325500|27.689.540/0001-80|     2000-09-09|8793472196570|0-933627-98-X|           306| 30.62|2020-05-19|\n",
       "|053479015|54.327.896/0001-47|     2018-12-21|1750535865566|0-518-04786-5|           105|207.52|2021-04-15|\n",
       "|012331534|84.317.925/0001-50|     2010-05-29|3177832263150|1-62649-755-9|           129|175.67|2021-06-19|\n",
       "|035940339|71.530.496/0001-53|     2014-08-11|6764222732753|1-396-90787-4|           327| 213.6|2021-07-11|\n",
       "|058320651|82.439.107/0001-03|     2013-01-30|6024459409867|1-61357-201-8|           290|196.35|2021-08-11|\n",
       "|032169692|14.603.275/0001-24|     2000-05-15|4659106631807|1-81244-634-9|           956|176.73|2023-02-27|\n",
       "|032169692|14.603.275/0001-24|     2000-05-15|4659106631807|1-81244-634-9|           956|176.73|2020-02-20|\n",
       "|033338998|43.597.816/0001-57|     2015-07-10|5973438592186|0-7598-2346-4|           337|150.51|2022-10-04|\n",
       "|042900595|28.936.451/0001-54|     2010-12-15|2655132597959|0-86582-172-0|           169| 59.35|2020-08-05|\n",
       "|019458805|81.253.490/0001-30|     2007-12-13|2628486550239|0-916523-25-X|           788|238.54|2020-05-06|\n",
       "|027740385|13.695.847/0001-80|     2008-01-05|7379429364080|1-327-99249-3|           991|105.73|2022-11-28|\n",
       "|049141690|95.037.812/0001-18|     2016-12-24|9032214793899|1-4076-9870-2|           454|210.52|2020-10-27|\n",
       "|104361784|46.527.081/0001-83|     2013-12-08|1491898510198|1-101-80944-2|           478|109.14|2021-12-20|\n",
       "|021006591|87.521.043/0001-09|     2019-02-24|1222716689648|1-955093-40-7|           382| 96.84|2021-10-26|\n",
       "|019488257|56.783.210/0001-58|     2013-05-19|3993489629534|0-589-10612-0|           734| 17.11|2020-05-10|\n",
       "+---------+------------------+---------------+-------------+-------------+--------------+------+----------+\n",
       "only showing top 20 rows"
      ]
     },
     "execution_count": 106,
     "metadata": {},
     "output_type": "execute_result"
    }
   ],
   "source": [
    "df_2.select(F.col(\"livros.*\"), F.col(\"compras.data\"))"
   ]
  }
 ],
 "metadata": {
  "kernelspec": {
   "display_name": "Python 3 (ipykernel)",
   "language": "python",
   "name": "python3"
  },
  "language_info": {
   "codemirror_mode": {
    "name": "ipython",
    "version": 3
   },
   "file_extension": ".py",
   "mimetype": "text/x-python",
   "name": "python",
   "nbconvert_exporter": "python",
   "pygments_lexer": "ipython3",
   "version": "3.12.7"
  }
 },
 "nbformat": 4,
 "nbformat_minor": 5
}
