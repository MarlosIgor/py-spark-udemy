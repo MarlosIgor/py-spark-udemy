{
 "cells": [
  {
   "cell_type": "code",
   "execution_count": 2,
   "id": "047d8449-92cb-4cea-b701-31f6716bf564",
   "metadata": {},
   "outputs": [],
   "source": [
    "from pyspark.sql import SparkSession\n",
    "import pyspark.sql.functions as F"
   ]
  },
  {
   "cell_type": "code",
   "execution_count": 3,
   "id": "33d46b9e-ffe8-4210-b046-0c02c07b8a49",
   "metadata": {},
   "outputs": [],
   "source": [
    "spark = (\n",
    "    SparkSession.builder\n",
    "    .appName(\"Curso de PySpark\")\n",
    "    .config(\"spark.sql.repl.eagerEval.enabled\", True)\n",
    "    .getOrCreate()\n",
    ")"
   ]
  },
  {
   "cell_type": "code",
   "execution_count": 4,
   "id": "4fdd1fe2-e5fb-4a66-90c3-255ea9c3ced1",
   "metadata": {},
   "outputs": [
    {
     "data": {
      "text/html": [
       "\n",
       "            <div>\n",
       "                <p><b>SparkSession - in-memory</b></p>\n",
       "                \n",
       "        <div>\n",
       "            <p><b>SparkContext</b></p>\n",
       "\n",
       "            <p><a href=\"http://COLTWFGLFV04:4042\">Spark UI</a></p>\n",
       "\n",
       "            <dl>\n",
       "              <dt>Version</dt>\n",
       "                <dd><code>v3.5.5</code></dd>\n",
       "              <dt>Master</dt>\n",
       "                <dd><code>local[*]</code></dd>\n",
       "              <dt>AppName</dt>\n",
       "                <dd><code>Curso de PySpark</code></dd>\n",
       "            </dl>\n",
       "        </div>\n",
       "        \n",
       "            </div>\n",
       "        "
      ],
      "text/plain": [
       "<pyspark.sql.session.SparkSession at 0x1d4771835f0>"
      ]
     },
     "execution_count": 4,
     "metadata": {},
     "output_type": "execute_result"
    }
   ],
   "source": [
    "spark"
   ]
  },
  {
   "cell_type": "code",
   "execution_count": 5,
   "id": "3a04214a-e0d1-41af-952c-d8aa2caeef67",
   "metadata": {},
   "outputs": [],
   "source": [
    "path = \"C:/Users/marlos.barros/Cursos/pyspark_na_pratica/DATASETS/LOGINS.parquet\""
   ]
  },
  {
   "cell_type": "code",
   "execution_count": 8,
   "id": "1b2210c3-8cf0-4ce4-a4a8-c01ce8e372cb",
   "metadata": {},
   "outputs": [],
   "source": [
    "df = spark.read.format(\"parquet\").load(path).limit(5)"
   ]
  },
  {
   "cell_type": "code",
   "execution_count": 9,
   "id": "77c54ab4-4c7f-4779-9dea-d0a094443f46",
   "metadata": {
    "scrolled": true
   },
   "outputs": [
    {
     "name": "stdout",
     "output_type": "stream",
     "text": [
      "root\n",
      " |-- cpf: string (nullable = true)\n",
      " |-- email: string (nullable = true)\n",
      " |-- senha: string (nullable = true)\n",
      " |-- data_de_nascimento: date (nullable = true)\n",
      " |-- estado: string (nullable = true)\n",
      " |-- data_cadastro: date (nullable = true)\n",
      " |-- ipv4: string (nullable = true)\n",
      " |-- cor_favorita: string (nullable = true)\n",
      " |-- profissao: string (nullable = true)\n",
      " |-- telefone: string (nullable = true)\n",
      "\n"
     ]
    }
   ],
   "source": [
    "df.printSchema()"
   ]
  },
  {
   "cell_type": "markdown",
   "id": "1d2df195-5fc6-4cfa-b42e-c44fd060eefc",
   "metadata": {},
   "source": [
    "### Contagem por Cor Favorita\n",
    "- Função: **groupBy()** agrupa o DataFrame pela coluna **\"cor_favorita\"** e retorna a **contagem de ocorrências** para cada **cor**.\n",
    "- Exemplo: Se houver **10 registros** onde a cor favorita é **\"azul\"** e **5** onde é **\"vermelho\"**, o resultado será:\n",
    "    - **Azul: 10**\n",
    "    - **Vermelho: 5**"
   ]
  },
  {
   "cell_type": "code",
   "execution_count": 10,
   "id": "6be05f59-141e-41aa-97d8-18191992a63f",
   "metadata": {
    "scrolled": true
   },
   "outputs": [
    {
     "data": {
      "text/html": [
       "<table border='1'>\n",
       "<tr><th>cor_favorita</th><th>count</th></tr>\n",
       "<tr><td>Roxo</td><td>1</td></tr>\n",
       "<tr><td>Ciano</td><td>1</td></tr>\n",
       "<tr><td>Azul</td><td>1</td></tr>\n",
       "<tr><td>Marrom</td><td>1</td></tr>\n",
       "<tr><td>Laranja</td><td>1</td></tr>\n",
       "</table>\n"
      ],
      "text/plain": [
       "+------------+-----+\n",
       "|cor_favorita|count|\n",
       "+------------+-----+\n",
       "|        Roxo|    1|\n",
       "|       Ciano|    1|\n",
       "|        Azul|    1|\n",
       "|      Marrom|    1|\n",
       "|     Laranja|    1|\n",
       "+------------+-----+"
      ]
     },
     "execution_count": 10,
     "metadata": {},
     "output_type": "execute_result"
    }
   ],
   "source": [
    "df.groupBy(F.col(\"cor_favorita\")).count()"
   ]
  },
  {
   "cell_type": "markdown",
   "id": "297e3ae1-c96e-44a6-a4f8-7f267919eaea",
   "metadata": {},
   "source": [
    "### Contagem por Estado e Cor Favorita\n",
    "- Função: Agrupa o DataFrame por **duas colunas**, **\"estado\"** e **\"cor_favorita\"**, e conta quantas vezes cada combinação ocorre.\n",
    "- Exemplo: O resultado poderia ser:\n",
    "    - **SP, Azul: 5**\n",
    "    - **SP, Vermelho: 3**\n",
    "    - **RJ, Azul: 2**"
   ]
  },
  {
   "cell_type": "code",
   "execution_count": 11,
   "id": "d4e55269-2de1-4585-a8bd-f1d8ff03da1a",
   "metadata": {
    "scrolled": true
   },
   "outputs": [
    {
     "data": {
      "text/html": [
       "<table border='1'>\n",
       "<tr><th>estado</th><th>cor_favorita</th><th>count</th></tr>\n",
       "<tr><td>RR</td><td>Roxo</td><td>1</td></tr>\n",
       "<tr><td>GO</td><td>Ciano</td><td>1</td></tr>\n",
       "<tr><td>MG</td><td>Azul</td><td>1</td></tr>\n",
       "<tr><td>AC</td><td>Marrom</td><td>1</td></tr>\n",
       "<tr><td>AP</td><td>Laranja</td><td>1</td></tr>\n",
       "</table>\n"
      ],
      "text/plain": [
       "+------+------------+-----+\n",
       "|estado|cor_favorita|count|\n",
       "+------+------------+-----+\n",
       "|    RR|        Roxo|    1|\n",
       "|    GO|       Ciano|    1|\n",
       "|    MG|        Azul|    1|\n",
       "|    AC|      Marrom|    1|\n",
       "|    AP|     Laranja|    1|\n",
       "+------+------------+-----+"
      ]
     },
     "execution_count": 11,
     "metadata": {},
     "output_type": "execute_result"
    }
   ],
   "source": [
    "df.groupBy(F.col(\"estado\"), F.col(\"cor_favorita\")).count()"
   ]
  },
  {
   "cell_type": "markdown",
   "id": "13552987-dc1c-4ce9-b7d5-1af9c5e9f5e5",
   "metadata": {},
   "source": [
    "### Soma da Contagem por Estado\n",
    "- Função: Primeiro, **agrupa por \"estado\"** e **\"cor_favorita\"** e **conta as ocorrências**. Depois, **agrupa por \"estado\"** novamente e **faz a soma das contagens por estado**.\n",
    "- Exemplo:\n",
    "    - Se o estado **SP** tiver **5** pessoas que gostam de **azul** e **3** que gostam de **vermelho**, a soma será:\n",
    "        - **SP: 8**\n",
    "    - **RJ:** **2** (se houver apenas 2 pessoas no RJ)"
   ]
  },
  {
   "cell_type": "code",
   "execution_count": 12,
   "id": "5f72fce9-219b-43b1-b523-4b28f49c4339",
   "metadata": {
    "scrolled": true
   },
   "outputs": [
    {
     "data": {
      "text/html": [
       "<table border='1'>\n",
       "<tr><th>estado</th><th>sum(count)</th></tr>\n",
       "<tr><td>RR</td><td>1</td></tr>\n",
       "<tr><td>GO</td><td>1</td></tr>\n",
       "<tr><td>MG</td><td>1</td></tr>\n",
       "<tr><td>AC</td><td>1</td></tr>\n",
       "<tr><td>AP</td><td>1</td></tr>\n",
       "</table>\n"
      ],
      "text/plain": [
       "+------+----------+\n",
       "|estado|sum(count)|\n",
       "+------+----------+\n",
       "|    RR|         1|\n",
       "|    GO|         1|\n",
       "|    MG|         1|\n",
       "|    AC|         1|\n",
       "|    AP|         1|\n",
       "+------+----------+"
      ]
     },
     "execution_count": 12,
     "metadata": {},
     "output_type": "execute_result"
    }
   ],
   "source": [
    "df.groupBy(F.col(\"estado\"), F.col(\"cor_favorita\")).count().groupBy(\"estado\").sum(\"count\")"
   ]
  },
  {
   "cell_type": "markdown",
   "id": "89e64725-b12c-475b-8c6f-2912c4788ded",
   "metadata": {},
   "source": [
    "### Média da Contagem por Estado\n",
    "- Função: Agrupa por **\"estado\"** e **\"cor_favorita\"**, conta as ocorrências e depois agrupa por **\"estado\"** e calcula a **média** das contagens.\n",
    "- Exemplo:\n",
    "    - Se **SP** tiver **5** para **azul** e **3** para **vermelho**, a média será:\n",
    "        - **SP: (5 + 3) / 2 = 4**"
   ]
  },
  {
   "cell_type": "code",
   "execution_count": 13,
   "id": "ce3ec935-2fc2-4219-98b8-1184a04e1b24",
   "metadata": {
    "scrolled": true
   },
   "outputs": [
    {
     "data": {
      "text/html": [
       "<table border='1'>\n",
       "<tr><th>estado</th><th>avg(count)</th></tr>\n",
       "<tr><td>RR</td><td>1.0</td></tr>\n",
       "<tr><td>GO</td><td>1.0</td></tr>\n",
       "<tr><td>MG</td><td>1.0</td></tr>\n",
       "<tr><td>AC</td><td>1.0</td></tr>\n",
       "<tr><td>AP</td><td>1.0</td></tr>\n",
       "</table>\n"
      ],
      "text/plain": [
       "+------+----------+\n",
       "|estado|avg(count)|\n",
       "+------+----------+\n",
       "|    RR|       1.0|\n",
       "|    GO|       1.0|\n",
       "|    MG|       1.0|\n",
       "|    AC|       1.0|\n",
       "|    AP|       1.0|\n",
       "+------+----------+"
      ]
     },
     "execution_count": 13,
     "metadata": {},
     "output_type": "execute_result"
    }
   ],
   "source": [
    "df.groupBy(F.col(\"estado\"), F.col(\"cor_favorita\")).count().groupBy(\"estado\").avg(\"count\")"
   ]
  },
  {
   "cell_type": "markdown",
   "id": "3a71a660-50a0-48ce-abb0-25693394faac",
   "metadata": {},
   "source": [
    "### Mínimo da Contagem por Estado\n",
    "- Função: Agrupa por **\"estado\"** e **\"cor_favorita\"**, conta as ocorrências, e depois agrupa por **\"estado\"** e encontra o valor **mínimo das contagens**.\n",
    "- Exemplo:\n",
    "    - Se **SP** tiver **5** para **azul** e **3** para **vermelho**, o mínimo será:\n",
    "       - **SP: 3**"
   ]
  },
  {
   "cell_type": "code",
   "execution_count": 14,
   "id": "b75a1697-1531-453d-a4a6-3c7ab24f3c76",
   "metadata": {
    "scrolled": true
   },
   "outputs": [
    {
     "data": {
      "text/html": [
       "<table border='1'>\n",
       "<tr><th>estado</th><th>min(count)</th></tr>\n",
       "<tr><td>RR</td><td>1</td></tr>\n",
       "<tr><td>GO</td><td>1</td></tr>\n",
       "<tr><td>MG</td><td>1</td></tr>\n",
       "<tr><td>AC</td><td>1</td></tr>\n",
       "<tr><td>AP</td><td>1</td></tr>\n",
       "</table>\n"
      ],
      "text/plain": [
       "+------+----------+\n",
       "|estado|min(count)|\n",
       "+------+----------+\n",
       "|    RR|         1|\n",
       "|    GO|         1|\n",
       "|    MG|         1|\n",
       "|    AC|         1|\n",
       "|    AP|         1|\n",
       "+------+----------+"
      ]
     },
     "execution_count": 14,
     "metadata": {},
     "output_type": "execute_result"
    }
   ],
   "source": [
    "df.groupBy(F.col(\"estado\"), F.col(\"cor_favorita\")).count().groupBy(\"estado\").min(\"count\")"
   ]
  },
  {
   "cell_type": "markdown",
   "id": "c5a44875-28ff-4db4-b227-911538189b5d",
   "metadata": {},
   "source": [
    "### Máximo da Contagem por Estado\n",
    "- Função: Agrupa por **\"estado\"** e **\"cor_favorita\"**, conta as ocorrências, e depois agrupa por **\"estado\"** e encontra o **valor máximo das contagens**.\n",
    "- Exemplo:\n",
    "    - Se **SP** tiver **5** para **azul** e **3** para **vermelho**, o máximo será:\n",
    "        - **SP: 5**"
   ]
  },
  {
   "cell_type": "code",
   "execution_count": 15,
   "id": "67e5e8b1-baf5-4e88-ab0c-569ad9a0bc05",
   "metadata": {
    "scrolled": true
   },
   "outputs": [
    {
     "data": {
      "text/html": [
       "<table border='1'>\n",
       "<tr><th>estado</th><th>max(count)</th></tr>\n",
       "<tr><td>RR</td><td>1</td></tr>\n",
       "<tr><td>GO</td><td>1</td></tr>\n",
       "<tr><td>MG</td><td>1</td></tr>\n",
       "<tr><td>AC</td><td>1</td></tr>\n",
       "<tr><td>AP</td><td>1</td></tr>\n",
       "</table>\n"
      ],
      "text/plain": [
       "+------+----------+\n",
       "|estado|max(count)|\n",
       "+------+----------+\n",
       "|    RR|         1|\n",
       "|    GO|         1|\n",
       "|    MG|         1|\n",
       "|    AC|         1|\n",
       "|    AP|         1|\n",
       "+------+----------+"
      ]
     },
     "execution_count": 15,
     "metadata": {},
     "output_type": "execute_result"
    }
   ],
   "source": [
    "df.groupBy(F.col(\"estado\"), F.col(\"cor_favorita\")).count().groupBy(\"estado\").max(\"count\")"
   ]
  },
  {
   "cell_type": "markdown",
   "id": "4b496a92-cd15-4125-a30c-0e5ecde2cdc0",
   "metadata": {},
   "source": [
    "### Contagem por Ano de Nascimento\n",
    "- Função: Agrupa o DataFrame pelo **ano** extraído da coluna **\"data_de_nascimento\"** e conta quantas vezes cada ano aparece.\n",
    "- Exemplo:\n",
    "    - 1990: **10 registros**\n",
    "    - 1985: **5 registros**"
   ]
  },
  {
   "cell_type": "code",
   "execution_count": 16,
   "id": "843e74c5-b10d-4a5e-acad-4a3eb5cc9f08",
   "metadata": {
    "scrolled": true
   },
   "outputs": [
    {
     "data": {
      "text/html": [
       "<table border='1'>\n",
       "<tr><th>year(data_de_nascimento)</th><th>count</th></tr>\n",
       "<tr><td>2006</td><td>1</td></tr>\n",
       "<tr><td>1992</td><td>1</td></tr>\n",
       "<tr><td>1921</td><td>1</td></tr>\n",
       "<tr><td>2021</td><td>1</td></tr>\n",
       "<tr><td>1969</td><td>1</td></tr>\n",
       "</table>\n"
      ],
      "text/plain": [
       "+------------------------+-----+\n",
       "|year(data_de_nascimento)|count|\n",
       "+------------------------+-----+\n",
       "|                    2006|    1|\n",
       "|                    1992|    1|\n",
       "|                    1921|    1|\n",
       "|                    2021|    1|\n",
       "|                    1969|    1|\n",
       "+------------------------+-----+"
      ]
     },
     "execution_count": 16,
     "metadata": {},
     "output_type": "execute_result"
    }
   ],
   "source": [
    "df.groupBy(F.year(\"data_de_nascimento\")).count()"
   ]
  }
 ],
 "metadata": {
  "kernelspec": {
   "display_name": "Python 3 (ipykernel)",
   "language": "python",
   "name": "python3"
  },
  "language_info": {
   "codemirror_mode": {
    "name": "ipython",
    "version": 3
   },
   "file_extension": ".py",
   "mimetype": "text/x-python",
   "name": "python",
   "nbconvert_exporter": "python",
   "pygments_lexer": "ipython3",
   "version": "3.12.7"
  }
 },
 "nbformat": 4,
 "nbformat_minor": 5
}
