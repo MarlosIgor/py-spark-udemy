{
 "cells": [
  {
   "cell_type": "code",
   "execution_count": 15,
   "id": "3d6c81fd-677e-4ffa-b43f-939c288f8bc8",
   "metadata": {},
   "outputs": [],
   "source": [
    "from pyspark.sql import SparkSession\n",
    "import pyspark.sql.functions as F"
   ]
  },
  {
   "cell_type": "code",
   "execution_count": 16,
   "id": "f3f59d9d-0523-44fa-a450-7feb8641f498",
   "metadata": {},
   "outputs": [],
   "source": [
    "spark = (\n",
    "    SparkSession.builder\n",
    "    .appName(\"Curso de PySpark\")\n",
    "    .config(\"spark.sql.repl.eagerEval.enabled\", True)\n",
    "    .getOrCreate()\n",
    ")"
   ]
  },
  {
   "cell_type": "code",
   "execution_count": 17,
   "id": "08ed7a14-8fb6-486c-a40a-3e5a42020413",
   "metadata": {},
   "outputs": [
    {
     "data": {
      "text/html": [
       "\n",
       "            <div>\n",
       "                <p><b>SparkSession - in-memory</b></p>\n",
       "                \n",
       "        <div>\n",
       "            <p><b>SparkContext</b></p>\n",
       "\n",
       "            <p><a href=\"http://COLTWFGLFV04:4044\">Spark UI</a></p>\n",
       "\n",
       "            <dl>\n",
       "              <dt>Version</dt>\n",
       "                <dd><code>v3.5.5</code></dd>\n",
       "              <dt>Master</dt>\n",
       "                <dd><code>local[*]</code></dd>\n",
       "              <dt>AppName</dt>\n",
       "                <dd><code>Curso de PySpark</code></dd>\n",
       "            </dl>\n",
       "        </div>\n",
       "        \n",
       "            </div>\n",
       "        "
      ],
      "text/plain": [
       "<pyspark.sql.session.SparkSession at 0x19768cc1910>"
      ]
     },
     "execution_count": 17,
     "metadata": {},
     "output_type": "execute_result"
    }
   ],
   "source": [
    "spark"
   ]
  },
  {
   "cell_type": "code",
   "execution_count": 18,
   "id": "4311a7c4-b75d-4a24-b2ee-02be00c9c206",
   "metadata": {},
   "outputs": [],
   "source": [
    "df = spark.read.parquet(\"C:/Users/marlos.barros/Cursos/pyspark_na_pratica/DATASETS/LIVROS.parquet\").limit(5)"
   ]
  },
  {
   "cell_type": "code",
   "execution_count": 19,
   "id": "f8ccc6dd-abf0-4ba3-b20c-998660ca5f89",
   "metadata": {},
   "outputs": [
    {
     "data": {
      "text/html": [
       "<table border='1'>\n",
       "<tr><th>id</th><th>cnpj_editora</th><th>data_lancamento</th><th>ean</th><th>isbn10</th><th>numero_paginas</th><th>preco</th></tr>\n",
       "<tr><td>102961160</td><td>54.317.982/0001-79</td><td>2011-09-19</td><td>4367115749184</td><td>0-06-594558-1</td><td>516</td><td>113.84</td></tr>\n",
       "<tr><td>043636240</td><td>16.938.042/0001-08</td><td>2019-05-11</td><td>1239569754256</td><td>0-611-23680-X</td><td>371</td><td>207.67</td></tr>\n",
       "<tr><td>052928059</td><td>57.624.038/0001-52</td><td>2003-08-03</td><td>5462162528221</td><td>1-109-29542-1</td><td>198</td><td>107.89</td></tr>\n",
       "<tr><td>088482271</td><td>16.249.378/0001-63</td><td>2022-09-07</td><td>5713629047213</td><td>1-229-68842-0</td><td>632</td><td>143.95</td></tr>\n",
       "<tr><td>028125446</td><td>90.425.178/0001-77</td><td>2011-07-25</td><td>2226757040245</td><td>0-657-66391-3</td><td>384</td><td>156.49</td></tr>\n",
       "</table>\n"
      ],
      "text/plain": [
       "+---------+------------------+---------------+-------------+-------------+--------------+------+\n",
       "|       id|      cnpj_editora|data_lancamento|          ean|       isbn10|numero_paginas| preco|\n",
       "+---------+------------------+---------------+-------------+-------------+--------------+------+\n",
       "|102961160|54.317.982/0001-79|     2011-09-19|4367115749184|0-06-594558-1|           516|113.84|\n",
       "|043636240|16.938.042/0001-08|     2019-05-11|1239569754256|0-611-23680-X|           371|207.67|\n",
       "|052928059|57.624.038/0001-52|     2003-08-03|5462162528221|1-109-29542-1|           198|107.89|\n",
       "|088482271|16.249.378/0001-63|     2022-09-07|5713629047213|1-229-68842-0|           632|143.95|\n",
       "|028125446|90.425.178/0001-77|     2011-07-25|2226757040245|0-657-66391-3|           384|156.49|\n",
       "+---------+------------------+---------------+-------------+-------------+--------------+------+"
      ]
     },
     "execution_count": 19,
     "metadata": {},
     "output_type": "execute_result"
    }
   ],
   "source": [
    "df"
   ]
  },
  {
   "cell_type": "markdown",
   "id": "454935f2-b6d0-47c2-9f99-775bfbb497e4",
   "metadata": {},
   "source": [
    "### Combina dois DataFrames ou duas tabelas\n",
    "- Função: **union()** Cria um novo DataFrame **dup** unindo o DataFrame **df** consigo mesmo, duplicando as linhas."
   ]
  },
  {
   "cell_type": "code",
   "execution_count": 20,
   "id": "a4107e74-ab28-45c7-9e36-63599386893e",
   "metadata": {},
   "outputs": [
    {
     "data": {
      "text/html": [
       "<table border='1'>\n",
       "<tr><th>id</th><th>cnpj_editora</th><th>data_lancamento</th><th>ean</th><th>isbn10</th><th>numero_paginas</th><th>preco</th></tr>\n",
       "<tr><td>102961160</td><td>54.317.982/0001-79</td><td>2011-09-19</td><td>4367115749184</td><td>0-06-594558-1</td><td>516</td><td>113.84</td></tr>\n",
       "<tr><td>043636240</td><td>16.938.042/0001-08</td><td>2019-05-11</td><td>1239569754256</td><td>0-611-23680-X</td><td>371</td><td>207.67</td></tr>\n",
       "<tr><td>052928059</td><td>57.624.038/0001-52</td><td>2003-08-03</td><td>5462162528221</td><td>1-109-29542-1</td><td>198</td><td>107.89</td></tr>\n",
       "<tr><td>088482271</td><td>16.249.378/0001-63</td><td>2022-09-07</td><td>5713629047213</td><td>1-229-68842-0</td><td>632</td><td>143.95</td></tr>\n",
       "<tr><td>028125446</td><td>90.425.178/0001-77</td><td>2011-07-25</td><td>2226757040245</td><td>0-657-66391-3</td><td>384</td><td>156.49</td></tr>\n",
       "<tr><td>102961160</td><td>54.317.982/0001-79</td><td>2011-09-19</td><td>4367115749184</td><td>0-06-594558-1</td><td>516</td><td>113.84</td></tr>\n",
       "<tr><td>043636240</td><td>16.938.042/0001-08</td><td>2019-05-11</td><td>1239569754256</td><td>0-611-23680-X</td><td>371</td><td>207.67</td></tr>\n",
       "<tr><td>052928059</td><td>57.624.038/0001-52</td><td>2003-08-03</td><td>5462162528221</td><td>1-109-29542-1</td><td>198</td><td>107.89</td></tr>\n",
       "<tr><td>088482271</td><td>16.249.378/0001-63</td><td>2022-09-07</td><td>5713629047213</td><td>1-229-68842-0</td><td>632</td><td>143.95</td></tr>\n",
       "<tr><td>028125446</td><td>90.425.178/0001-77</td><td>2011-07-25</td><td>2226757040245</td><td>0-657-66391-3</td><td>384</td><td>156.49</td></tr>\n",
       "</table>\n"
      ],
      "text/plain": [
       "+---------+------------------+---------------+-------------+-------------+--------------+------+\n",
       "|       id|      cnpj_editora|data_lancamento|          ean|       isbn10|numero_paginas| preco|\n",
       "+---------+------------------+---------------+-------------+-------------+--------------+------+\n",
       "|102961160|54.317.982/0001-79|     2011-09-19|4367115749184|0-06-594558-1|           516|113.84|\n",
       "|043636240|16.938.042/0001-08|     2019-05-11|1239569754256|0-611-23680-X|           371|207.67|\n",
       "|052928059|57.624.038/0001-52|     2003-08-03|5462162528221|1-109-29542-1|           198|107.89|\n",
       "|088482271|16.249.378/0001-63|     2022-09-07|5713629047213|1-229-68842-0|           632|143.95|\n",
       "|028125446|90.425.178/0001-77|     2011-07-25|2226757040245|0-657-66391-3|           384|156.49|\n",
       "|102961160|54.317.982/0001-79|     2011-09-19|4367115749184|0-06-594558-1|           516|113.84|\n",
       "|043636240|16.938.042/0001-08|     2019-05-11|1239569754256|0-611-23680-X|           371|207.67|\n",
       "|052928059|57.624.038/0001-52|     2003-08-03|5462162528221|1-109-29542-1|           198|107.89|\n",
       "|088482271|16.249.378/0001-63|     2022-09-07|5713629047213|1-229-68842-0|           632|143.95|\n",
       "|028125446|90.425.178/0001-77|     2011-07-25|2226757040245|0-657-66391-3|           384|156.49|\n",
       "+---------+------------------+---------------+-------------+-------------+--------------+------+"
      ]
     },
     "execution_count": 20,
     "metadata": {},
     "output_type": "execute_result"
    }
   ],
   "source": [
    "dup = df.union(df)\n",
    "dup"
   ]
  },
  {
   "cell_type": "markdown",
   "id": "7f9d009c-15f5-4a52-991a-f132ed284d6f",
   "metadata": {},
   "source": [
    "### Remover Duplicatas\n",
    "- Função: **dropDuplicates()** Remove todas as linhas duplicadas do DataFrame resultante."
   ]
  },
  {
   "cell_type": "code",
   "execution_count": 35,
   "id": "e22ea433-e256-424a-9e64-4c9e7ed16da0",
   "metadata": {},
   "outputs": [
    {
     "data": {
      "text/html": [
       "<table border='1'>\n",
       "<tr><th>id</th><th>cnpj_editora</th><th>data_lancamento</th><th>ean</th><th>isbn10</th><th>numero_paginas</th><th>preco</th></tr>\n",
       "<tr><td>102961160</td><td>54.317.982/0001-79</td><td>2011-09-19</td><td>4367115749184</td><td>0-06-594558-1</td><td>516</td><td>113.84</td></tr>\n",
       "<tr><td>043636240</td><td>16.938.042/0001-08</td><td>2019-05-11</td><td>1239569754256</td><td>0-611-23680-X</td><td>371</td><td>207.67</td></tr>\n",
       "<tr><td>052928059</td><td>57.624.038/0001-52</td><td>2003-08-03</td><td>5462162528221</td><td>1-109-29542-1</td><td>198</td><td>107.89</td></tr>\n",
       "<tr><td>088482271</td><td>16.249.378/0001-63</td><td>2022-09-07</td><td>5713629047213</td><td>1-229-68842-0</td><td>632</td><td>143.95</td></tr>\n",
       "<tr><td>028125446</td><td>90.425.178/0001-77</td><td>2011-07-25</td><td>2226757040245</td><td>0-657-66391-3</td><td>384</td><td>156.49</td></tr>\n",
       "</table>\n"
      ],
      "text/plain": [
       "+---------+------------------+---------------+-------------+-------------+--------------+------+\n",
       "|       id|      cnpj_editora|data_lancamento|          ean|       isbn10|numero_paginas| preco|\n",
       "+---------+------------------+---------------+-------------+-------------+--------------+------+\n",
       "|102961160|54.317.982/0001-79|     2011-09-19|4367115749184|0-06-594558-1|           516|113.84|\n",
       "|043636240|16.938.042/0001-08|     2019-05-11|1239569754256|0-611-23680-X|           371|207.67|\n",
       "|052928059|57.624.038/0001-52|     2003-08-03|5462162528221|1-109-29542-1|           198|107.89|\n",
       "|088482271|16.249.378/0001-63|     2022-09-07|5713629047213|1-229-68842-0|           632|143.95|\n",
       "|028125446|90.425.178/0001-77|     2011-07-25|2226757040245|0-657-66391-3|           384|156.49|\n",
       "+---------+------------------+---------------+-------------+-------------+--------------+------+"
      ]
     },
     "execution_count": 35,
     "metadata": {},
     "output_type": "execute_result"
    }
   ],
   "source": [
    "dup.dropDuplicates()"
   ]
  },
  {
   "cell_type": "markdown",
   "id": "4575ead6-3f0b-4021-baa0-04c71ae3aee8",
   "metadata": {},
   "source": [
    "### Remover Duplicatas em Colunas Específicas\n",
    "- Função: Remove duplicatas do DataFrame **dup**, mas apenas em relação às colunas **\"numero_paginas\"** e **\"data_lancamento\"**. As linhas são consideradas duplicatas se os valores dessas colunas forem iguais."
   ]
  },
  {
   "cell_type": "code",
   "execution_count": 43,
   "id": "04b948d8-6376-47b0-a5a8-14a50b58dbd2",
   "metadata": {},
   "outputs": [
    {
     "data": {
      "text/html": [
       "<table border='1'>\n",
       "<tr><th>id</th><th>cnpj_editora</th><th>data_lancamento</th><th>ean</th><th>isbn10</th><th>numero_paginas</th><th>preco</th></tr>\n",
       "<tr><td>052928059</td><td>57.624.038/0001-52</td><td>2003-08-03</td><td>5462162528221</td><td>1-109-29542-1</td><td>198</td><td>107.89</td></tr>\n",
       "<tr><td>043636240</td><td>16.938.042/0001-08</td><td>2019-05-11</td><td>1239569754256</td><td>0-611-23680-X</td><td>371</td><td>207.67</td></tr>\n",
       "<tr><td>028125446</td><td>90.425.178/0001-77</td><td>2011-07-25</td><td>2226757040245</td><td>0-657-66391-3</td><td>384</td><td>156.49</td></tr>\n",
       "<tr><td>102961160</td><td>54.317.982/0001-79</td><td>2011-09-19</td><td>4367115749184</td><td>0-06-594558-1</td><td>516</td><td>113.84</td></tr>\n",
       "<tr><td>088482271</td><td>16.249.378/0001-63</td><td>2022-09-07</td><td>5713629047213</td><td>1-229-68842-0</td><td>632</td><td>143.95</td></tr>\n",
       "</table>\n"
      ],
      "text/plain": [
       "+---------+------------------+---------------+-------------+-------------+--------------+------+\n",
       "|       id|      cnpj_editora|data_lancamento|          ean|       isbn10|numero_paginas| preco|\n",
       "+---------+------------------+---------------+-------------+-------------+--------------+------+\n",
       "|052928059|57.624.038/0001-52|     2003-08-03|5462162528221|1-109-29542-1|           198|107.89|\n",
       "|043636240|16.938.042/0001-08|     2019-05-11|1239569754256|0-611-23680-X|           371|207.67|\n",
       "|028125446|90.425.178/0001-77|     2011-07-25|2226757040245|0-657-66391-3|           384|156.49|\n",
       "|102961160|54.317.982/0001-79|     2011-09-19|4367115749184|0-06-594558-1|           516|113.84|\n",
       "|088482271|16.249.378/0001-63|     2022-09-07|5713629047213|1-229-68842-0|           632|143.95|\n",
       "+---------+------------------+---------------+-------------+-------------+--------------+------+"
      ]
     },
     "execution_count": 43,
     "metadata": {},
     "output_type": "execute_result"
    }
   ],
   "source": [
    "dup.dropDuplicates([\"numero_paginas\", \"data_lancamento\"])"
   ]
  },
  {
   "cell_type": "markdown",
   "id": "44c1192a-dd0e-40b8-af7c-c140782460ea",
   "metadata": {},
   "source": [
    "### Seleção de Colunas para Embaralhamento\n",
    "- Função: Cria um novo DataFrame **df_embaralhado** contendo apenas as colunas especificadas: **\"cnpj_editora\"**, **\"data_lancamento\"**, **\"id\"**, **\"ean\"**, **\"isbn10\"**, **\"numero_paginas\"** e **\"preco\"** em ordem aleatória."
   ]
  },
  {
   "cell_type": "code",
   "execution_count": 44,
   "id": "a9ee9fab-c22b-4f3f-8a6a-620459629cac",
   "metadata": {},
   "outputs": [],
   "source": [
    "df_embaralhado = df.select(\"cnpj_editora\", \"data_lancamento\", \"id\", \"ean\", \"isbn10\", \"numero_paginas\", \"preco\")"
   ]
  },
  {
   "cell_type": "markdown",
   "id": "bddac34b-a635-4645-bf0a-dc33e14304c0",
   "metadata": {},
   "source": [
    "### Union por Nome de Colunas\n",
    "- Função: Faz um **union** entre **df** e **df_embaralhado**, combinando as linhas dos dois DataFrames. Como o **unionByName()** é usado, ele combina as colunas com base em seus nomes, em vez da posição."
   ]
  },
  {
   "cell_type": "code",
   "execution_count": 45,
   "id": "43f68a00-6fc7-4332-84d5-fa35cbb1520c",
   "metadata": {
    "scrolled": true
   },
   "outputs": [
    {
     "data": {
      "text/html": [
       "<table border='1'>\n",
       "<tr><th>id</th><th>cnpj_editora</th><th>data_lancamento</th><th>ean</th><th>isbn10</th><th>numero_paginas</th><th>preco</th></tr>\n",
       "<tr><td>102961160</td><td>54.317.982/0001-79</td><td>2011-09-19</td><td>4367115749184</td><td>0-06-594558-1</td><td>516</td><td>113.84</td></tr>\n",
       "<tr><td>043636240</td><td>16.938.042/0001-08</td><td>2019-05-11</td><td>1239569754256</td><td>0-611-23680-X</td><td>371</td><td>207.67</td></tr>\n",
       "<tr><td>052928059</td><td>57.624.038/0001-52</td><td>2003-08-03</td><td>5462162528221</td><td>1-109-29542-1</td><td>198</td><td>107.89</td></tr>\n",
       "<tr><td>088482271</td><td>16.249.378/0001-63</td><td>2022-09-07</td><td>5713629047213</td><td>1-229-68842-0</td><td>632</td><td>143.95</td></tr>\n",
       "<tr><td>028125446</td><td>90.425.178/0001-77</td><td>2011-07-25</td><td>2226757040245</td><td>0-657-66391-3</td><td>384</td><td>156.49</td></tr>\n",
       "<tr><td>102961160</td><td>54.317.982/0001-79</td><td>2011-09-19</td><td>4367115749184</td><td>0-06-594558-1</td><td>516</td><td>113.84</td></tr>\n",
       "<tr><td>043636240</td><td>16.938.042/0001-08</td><td>2019-05-11</td><td>1239569754256</td><td>0-611-23680-X</td><td>371</td><td>207.67</td></tr>\n",
       "<tr><td>052928059</td><td>57.624.038/0001-52</td><td>2003-08-03</td><td>5462162528221</td><td>1-109-29542-1</td><td>198</td><td>107.89</td></tr>\n",
       "<tr><td>088482271</td><td>16.249.378/0001-63</td><td>2022-09-07</td><td>5713629047213</td><td>1-229-68842-0</td><td>632</td><td>143.95</td></tr>\n",
       "<tr><td>028125446</td><td>90.425.178/0001-77</td><td>2011-07-25</td><td>2226757040245</td><td>0-657-66391-3</td><td>384</td><td>156.49</td></tr>\n",
       "</table>\n"
      ],
      "text/plain": [
       "+---------+------------------+---------------+-------------+-------------+--------------+------+\n",
       "|       id|      cnpj_editora|data_lancamento|          ean|       isbn10|numero_paginas| preco|\n",
       "+---------+------------------+---------------+-------------+-------------+--------------+------+\n",
       "|102961160|54.317.982/0001-79|     2011-09-19|4367115749184|0-06-594558-1|           516|113.84|\n",
       "|043636240|16.938.042/0001-08|     2019-05-11|1239569754256|0-611-23680-X|           371|207.67|\n",
       "|052928059|57.624.038/0001-52|     2003-08-03|5462162528221|1-109-29542-1|           198|107.89|\n",
       "|088482271|16.249.378/0001-63|     2022-09-07|5713629047213|1-229-68842-0|           632|143.95|\n",
       "|028125446|90.425.178/0001-77|     2011-07-25|2226757040245|0-657-66391-3|           384|156.49|\n",
       "|102961160|54.317.982/0001-79|     2011-09-19|4367115749184|0-06-594558-1|           516|113.84|\n",
       "|043636240|16.938.042/0001-08|     2019-05-11|1239569754256|0-611-23680-X|           371|207.67|\n",
       "|052928059|57.624.038/0001-52|     2003-08-03|5462162528221|1-109-29542-1|           198|107.89|\n",
       "|088482271|16.249.378/0001-63|     2022-09-07|5713629047213|1-229-68842-0|           632|143.95|\n",
       "|028125446|90.425.178/0001-77|     2011-07-25|2226757040245|0-657-66391-3|           384|156.49|\n",
       "+---------+------------------+---------------+-------------+-------------+--------------+------+"
      ]
     },
     "execution_count": 45,
     "metadata": {},
     "output_type": "execute_result"
    }
   ],
   "source": [
    "df.unionByName(df_embaralhado)"
   ]
  },
  {
   "cell_type": "markdown",
   "id": "a289b5c8-f764-446f-9b1d-2c666fdd7d5e",
   "metadata": {},
   "source": [
    "### Union com Coluna Faltante Permitida\n",
    "- Função: Primeiro, cria um novo DataFrame **df_2** a partir de **df_embaralhado**, adicionando uma nova coluna **\"quantidade\"** com o valor constante **1**. Em seguida, faz um **unionByName()** entre **df_2** e **df_embaralhado**, permitindo que colunas ausentes em um dos DataFrames sejam tratadas com o parâmetro **allowMissingColumns=True**. Colunas faltantes em qualquer DataFrame serão preenchidas com valores nulos."
   ]
  },
  {
   "cell_type": "code",
   "execution_count": 33,
   "id": "d00f1ef2-5bae-4fe7-bd85-e73e50a67f91",
   "metadata": {
    "scrolled": true
   },
   "outputs": [
    {
     "data": {
      "text/html": [
       "<table border='1'>\n",
       "<tr><th>cnpj_editora</th><th>data_lancamento</th><th>id</th><th>ean</th><th>isbn10</th><th>numero_paginas</th><th>preco</th><th>quantidade</th></tr>\n",
       "<tr><td>54.317.982/0001-79</td><td>2011-09-19</td><td>102961160</td><td>4367115749184</td><td>0-06-594558-1</td><td>516</td><td>113.84</td><td>1</td></tr>\n",
       "<tr><td>16.938.042/0001-08</td><td>2019-05-11</td><td>043636240</td><td>1239569754256</td><td>0-611-23680-X</td><td>371</td><td>207.67</td><td>1</td></tr>\n",
       "<tr><td>57.624.038/0001-52</td><td>2003-08-03</td><td>052928059</td><td>5462162528221</td><td>1-109-29542-1</td><td>198</td><td>107.89</td><td>1</td></tr>\n",
       "<tr><td>16.249.378/0001-63</td><td>2022-09-07</td><td>088482271</td><td>5713629047213</td><td>1-229-68842-0</td><td>632</td><td>143.95</td><td>1</td></tr>\n",
       "<tr><td>90.425.178/0001-77</td><td>2011-07-25</td><td>028125446</td><td>2226757040245</td><td>0-657-66391-3</td><td>384</td><td>156.49</td><td>1</td></tr>\n",
       "<tr><td>54.317.982/0001-79</td><td>2011-09-19</td><td>102961160</td><td>4367115749184</td><td>0-06-594558-1</td><td>516</td><td>113.84</td><td>NULL</td></tr>\n",
       "<tr><td>16.938.042/0001-08</td><td>2019-05-11</td><td>043636240</td><td>1239569754256</td><td>0-611-23680-X</td><td>371</td><td>207.67</td><td>NULL</td></tr>\n",
       "<tr><td>57.624.038/0001-52</td><td>2003-08-03</td><td>052928059</td><td>5462162528221</td><td>1-109-29542-1</td><td>198</td><td>107.89</td><td>NULL</td></tr>\n",
       "<tr><td>16.249.378/0001-63</td><td>2022-09-07</td><td>088482271</td><td>5713629047213</td><td>1-229-68842-0</td><td>632</td><td>143.95</td><td>NULL</td></tr>\n",
       "<tr><td>90.425.178/0001-77</td><td>2011-07-25</td><td>028125446</td><td>2226757040245</td><td>0-657-66391-3</td><td>384</td><td>156.49</td><td>NULL</td></tr>\n",
       "</table>\n"
      ],
      "text/plain": [
       "+------------------+---------------+---------+-------------+-------------+--------------+------+----------+\n",
       "|      cnpj_editora|data_lancamento|       id|          ean|       isbn10|numero_paginas| preco|quantidade|\n",
       "+------------------+---------------+---------+-------------+-------------+--------------+------+----------+\n",
       "|54.317.982/0001-79|     2011-09-19|102961160|4367115749184|0-06-594558-1|           516|113.84|         1|\n",
       "|16.938.042/0001-08|     2019-05-11|043636240|1239569754256|0-611-23680-X|           371|207.67|         1|\n",
       "|57.624.038/0001-52|     2003-08-03|052928059|5462162528221|1-109-29542-1|           198|107.89|         1|\n",
       "|16.249.378/0001-63|     2022-09-07|088482271|5713629047213|1-229-68842-0|           632|143.95|         1|\n",
       "|90.425.178/0001-77|     2011-07-25|028125446|2226757040245|0-657-66391-3|           384|156.49|         1|\n",
       "|54.317.982/0001-79|     2011-09-19|102961160|4367115749184|0-06-594558-1|           516|113.84|      NULL|\n",
       "|16.938.042/0001-08|     2019-05-11|043636240|1239569754256|0-611-23680-X|           371|207.67|      NULL|\n",
       "|57.624.038/0001-52|     2003-08-03|052928059|5462162528221|1-109-29542-1|           198|107.89|      NULL|\n",
       "|16.249.378/0001-63|     2022-09-07|088482271|5713629047213|1-229-68842-0|           632|143.95|      NULL|\n",
       "|90.425.178/0001-77|     2011-07-25|028125446|2226757040245|0-657-66391-3|           384|156.49|      NULL|\n",
       "+------------------+---------------+---------+-------------+-------------+--------------+------+----------+"
      ]
     },
     "execution_count": 33,
     "metadata": {},
     "output_type": "execute_result"
    }
   ],
   "source": [
    "df_2 = df_embaralhado.withColumn(\"quantidade\", F.lit(1))\n",
    "df_2.unionByName(df_embaralhado, allowMissingColumns=True)"
   ]
  }
 ],
 "metadata": {
  "kernelspec": {
   "display_name": "Python 3 (ipykernel)",
   "language": "python",
   "name": "python3"
  },
  "language_info": {
   "codemirror_mode": {
    "name": "ipython",
    "version": 3
   },
   "file_extension": ".py",
   "mimetype": "text/x-python",
   "name": "python",
   "nbconvert_exporter": "python",
   "pygments_lexer": "ipython3",
   "version": "3.12.7"
  }
 },
 "nbformat": 4,
 "nbformat_minor": 5
}
