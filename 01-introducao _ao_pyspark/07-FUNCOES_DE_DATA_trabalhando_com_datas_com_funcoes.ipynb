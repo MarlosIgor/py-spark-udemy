{
 "cells": [
  {
   "cell_type": "code",
   "execution_count": 1,
   "id": "31c9ce96-cc53-419e-8ea6-098fc6bce0e7",
   "metadata": {},
   "outputs": [],
   "source": [
    "from pyspark.sql import SparkSession\n",
    "import pyspark.sql.functions as F"
   ]
  },
  {
   "cell_type": "code",
   "execution_count": 2,
   "id": "725c2e90-5d23-46e5-a5b3-808e0484d9ef",
   "metadata": {},
   "outputs": [],
   "source": [
    "spark = (\n",
    "    SparkSession.builder\n",
    "    .appName(\"Curso de PySpark\")\n",
    "    .config(\"spark.sql.repl.eagerEval.enabled\", True)\n",
    "    .getOrCreate()\n",
    ")"
   ]
  },
  {
   "cell_type": "code",
   "execution_count": 3,
   "id": "1e17bfc9-d050-4a08-9323-8bf26849b3d0",
   "metadata": {},
   "outputs": [
    {
     "data": {
      "text/html": [
       "\n",
       "            <div>\n",
       "                <p><b>SparkSession - in-memory</b></p>\n",
       "                \n",
       "        <div>\n",
       "            <p><b>SparkContext</b></p>\n",
       "\n",
       "            <p><a href=\"http://COLTWFGLFV04:4046\">Spark UI</a></p>\n",
       "\n",
       "            <dl>\n",
       "              <dt>Version</dt>\n",
       "                <dd><code>v3.5.5</code></dd>\n",
       "              <dt>Master</dt>\n",
       "                <dd><code>local[*]</code></dd>\n",
       "              <dt>AppName</dt>\n",
       "                <dd><code>Curso de PySpark</code></dd>\n",
       "            </dl>\n",
       "        </div>\n",
       "        \n",
       "            </div>\n",
       "        "
      ],
      "text/plain": [
       "<pyspark.sql.session.SparkSession at 0x2658d323170>"
      ]
     },
     "execution_count": 3,
     "metadata": {},
     "output_type": "execute_result"
    }
   ],
   "source": [
    "spark"
   ]
  },
  {
   "cell_type": "code",
   "execution_count": 7,
   "id": "4d79f1f1-3e4b-4929-9bf8-870127a08bf9",
   "metadata": {},
   "outputs": [],
   "source": [
    "path = \"C:/Users/marlos.barros/Cursos/pyspark_na_pratica/DATASETS/LOGINS.parquet\""
   ]
  },
  {
   "cell_type": "code",
   "execution_count": 10,
   "id": "da9fe8d5-d6aa-469e-a7ae-a86bd1509207",
   "metadata": {},
   "outputs": [],
   "source": [
    "df = spark.read.format(\"parquet\").load(path).select(\"data_de_nascimento\",\"data_cadastro\")"
   ]
  },
  {
   "cell_type": "code",
   "execution_count": 11,
   "id": "53597de5-5aa3-4e25-b5bc-dd98521ec317",
   "metadata": {
    "scrolled": true
   },
   "outputs": [
    {
     "data": {
      "text/html": [
       "<table border='1'>\n",
       "<tr><th>data_de_nascimento</th><th>data_cadastro</th></tr>\n",
       "<tr><td>2006-12-18</td><td>2023-02-26</td></tr>\n",
       "<tr><td>1992-06-17</td><td>2023-02-16</td></tr>\n",
       "<tr><td>1921-11-11</td><td>2023-01-02</td></tr>\n",
       "<tr><td>2021-06-01</td><td>2023-01-08</td></tr>\n",
       "<tr><td>1969-10-28</td><td>2023-02-14</td></tr>\n",
       "<tr><td>1986-05-19</td><td>2023-03-07</td></tr>\n",
       "<tr><td>2018-04-20</td><td>2023-01-13</td></tr>\n",
       "<tr><td>1996-05-12</td><td>2023-02-04</td></tr>\n",
       "<tr><td>2021-10-05</td><td>2023-03-02</td></tr>\n",
       "<tr><td>1917-01-05</td><td>2023-02-21</td></tr>\n",
       "<tr><td>1912-05-25</td><td>2023-01-25</td></tr>\n",
       "<tr><td>1920-05-26</td><td>2023-02-18</td></tr>\n",
       "<tr><td>1938-03-11</td><td>2023-01-19</td></tr>\n",
       "<tr><td>1922-09-01</td><td>2023-02-01</td></tr>\n",
       "<tr><td>2013-01-10</td><td>2023-01-07</td></tr>\n",
       "<tr><td>1992-10-16</td><td>2023-01-05</td></tr>\n",
       "<tr><td>1945-11-18</td><td>2023-01-24</td></tr>\n",
       "<tr><td>1915-11-15</td><td>2023-01-22</td></tr>\n",
       "<tr><td>1964-02-01</td><td>2023-02-16</td></tr>\n",
       "<tr><td>1959-02-01</td><td>2023-02-25</td></tr>\n",
       "</table>\n",
       "only showing top 20 rows\n"
      ],
      "text/plain": [
       "+------------------+-------------+\n",
       "|data_de_nascimento|data_cadastro|\n",
       "+------------------+-------------+\n",
       "|        2006-12-18|   2023-02-26|\n",
       "|        1992-06-17|   2023-02-16|\n",
       "|        1921-11-11|   2023-01-02|\n",
       "|        2021-06-01|   2023-01-08|\n",
       "|        1969-10-28|   2023-02-14|\n",
       "|        1986-05-19|   2023-03-07|\n",
       "|        2018-04-20|   2023-01-13|\n",
       "|        1996-05-12|   2023-02-04|\n",
       "|        2021-10-05|   2023-03-02|\n",
       "|        1917-01-05|   2023-02-21|\n",
       "|        1912-05-25|   2023-01-25|\n",
       "|        1920-05-26|   2023-02-18|\n",
       "|        1938-03-11|   2023-01-19|\n",
       "|        1922-09-01|   2023-02-01|\n",
       "|        2013-01-10|   2023-01-07|\n",
       "|        1992-10-16|   2023-01-05|\n",
       "|        1945-11-18|   2023-01-24|\n",
       "|        1915-11-15|   2023-01-22|\n",
       "|        1964-02-01|   2023-02-16|\n",
       "|        1959-02-01|   2023-02-25|\n",
       "+------------------+-------------+\n",
       "only showing top 20 rows"
      ]
     },
     "execution_count": 11,
     "metadata": {},
     "output_type": "execute_result"
    }
   ],
   "source": [
    "df"
   ]
  },
  {
   "cell_type": "markdown",
   "id": "6309db89-a8b5-4fc7-859a-27e09dfdd7bd",
   "metadata": {},
   "source": [
    "### Adicionar e Subtrair Meses\n",
    "- Função: **F.add_months()** adiciona ou subtrai um número de meses da data informada.\n",
    "- Exemplo: Se a data de **cadastro** for **2025-03-15**, a coluna **\"add_months+\"**** será **2025-04-15** e **\"add_months-\"** será **2025-02-15**.\n",
    "- Utilização: É útil para calcular datas futuras ou passadas, como em cálculos de assinatura, vencimentos, etc."
   ]
  },
  {
   "cell_type": "code",
   "execution_count": 72,
   "id": "d52d22af-9466-449d-9a84-86061f938141",
   "metadata": {
    "scrolled": true
   },
   "outputs": [
    {
     "data": {
      "text/html": [
       "<table border='1'>\n",
       "<tr><th>data_de_nascimento</th><th>data_cadastro</th><th>add_months+</th><th>add_months-</th></tr>\n",
       "<tr><td>2006-12-18</td><td>2023-02-26</td><td>2023-03-26</td><td>2023-01-26</td></tr>\n",
       "<tr><td>1992-06-17</td><td>2023-02-16</td><td>2023-03-16</td><td>2023-01-16</td></tr>\n",
       "<tr><td>1921-11-11</td><td>2023-01-02</td><td>2023-02-02</td><td>2022-12-02</td></tr>\n",
       "<tr><td>2021-06-01</td><td>2023-01-08</td><td>2023-02-08</td><td>2022-12-08</td></tr>\n",
       "<tr><td>1969-10-28</td><td>2023-02-14</td><td>2023-03-14</td><td>2023-01-14</td></tr>\n",
       "<tr><td>1986-05-19</td><td>2023-03-07</td><td>2023-04-07</td><td>2023-02-07</td></tr>\n",
       "<tr><td>2018-04-20</td><td>2023-01-13</td><td>2023-02-13</td><td>2022-12-13</td></tr>\n",
       "<tr><td>1996-05-12</td><td>2023-02-04</td><td>2023-03-04</td><td>2023-01-04</td></tr>\n",
       "<tr><td>2021-10-05</td><td>2023-03-02</td><td>2023-04-02</td><td>2023-02-02</td></tr>\n",
       "<tr><td>1917-01-05</td><td>2023-02-21</td><td>2023-03-21</td><td>2023-01-21</td></tr>\n",
       "<tr><td>1912-05-25</td><td>2023-01-25</td><td>2023-02-25</td><td>2022-12-25</td></tr>\n",
       "<tr><td>1920-05-26</td><td>2023-02-18</td><td>2023-03-18</td><td>2023-01-18</td></tr>\n",
       "<tr><td>1938-03-11</td><td>2023-01-19</td><td>2023-02-19</td><td>2022-12-19</td></tr>\n",
       "<tr><td>1922-09-01</td><td>2023-02-01</td><td>2023-03-01</td><td>2023-01-01</td></tr>\n",
       "<tr><td>2013-01-10</td><td>2023-01-07</td><td>2023-02-07</td><td>2022-12-07</td></tr>\n",
       "<tr><td>1992-10-16</td><td>2023-01-05</td><td>2023-02-05</td><td>2022-12-05</td></tr>\n",
       "<tr><td>1945-11-18</td><td>2023-01-24</td><td>2023-02-24</td><td>2022-12-24</td></tr>\n",
       "<tr><td>1915-11-15</td><td>2023-01-22</td><td>2023-02-22</td><td>2022-12-22</td></tr>\n",
       "<tr><td>1964-02-01</td><td>2023-02-16</td><td>2023-03-16</td><td>2023-01-16</td></tr>\n",
       "<tr><td>1959-02-01</td><td>2023-02-25</td><td>2023-03-25</td><td>2023-01-25</td></tr>\n",
       "</table>\n",
       "only showing top 20 rows\n"
      ],
      "text/plain": [
       "+------------------+-------------+-----------+-----------+\n",
       "|data_de_nascimento|data_cadastro|add_months+|add_months-|\n",
       "+------------------+-------------+-----------+-----------+\n",
       "|        2006-12-18|   2023-02-26| 2023-03-26| 2023-01-26|\n",
       "|        1992-06-17|   2023-02-16| 2023-03-16| 2023-01-16|\n",
       "|        1921-11-11|   2023-01-02| 2023-02-02| 2022-12-02|\n",
       "|        2021-06-01|   2023-01-08| 2023-02-08| 2022-12-08|\n",
       "|        1969-10-28|   2023-02-14| 2023-03-14| 2023-01-14|\n",
       "|        1986-05-19|   2023-03-07| 2023-04-07| 2023-02-07|\n",
       "|        2018-04-20|   2023-01-13| 2023-02-13| 2022-12-13|\n",
       "|        1996-05-12|   2023-02-04| 2023-03-04| 2023-01-04|\n",
       "|        2021-10-05|   2023-03-02| 2023-04-02| 2023-02-02|\n",
       "|        1917-01-05|   2023-02-21| 2023-03-21| 2023-01-21|\n",
       "|        1912-05-25|   2023-01-25| 2023-02-25| 2022-12-25|\n",
       "|        1920-05-26|   2023-02-18| 2023-03-18| 2023-01-18|\n",
       "|        1938-03-11|   2023-01-19| 2023-02-19| 2022-12-19|\n",
       "|        1922-09-01|   2023-02-01| 2023-03-01| 2023-01-01|\n",
       "|        2013-01-10|   2023-01-07| 2023-02-07| 2022-12-07|\n",
       "|        1992-10-16|   2023-01-05| 2023-02-05| 2022-12-05|\n",
       "|        1945-11-18|   2023-01-24| 2023-02-24| 2022-12-24|\n",
       "|        1915-11-15|   2023-01-22| 2023-02-22| 2022-12-22|\n",
       "|        1964-02-01|   2023-02-16| 2023-03-16| 2023-01-16|\n",
       "|        1959-02-01|   2023-02-25| 2023-03-25| 2023-01-25|\n",
       "+------------------+-------------+-----------+-----------+\n",
       "only showing top 20 rows"
      ]
     },
     "execution_count": 72,
     "metadata": {},
     "output_type": "execute_result"
    }
   ],
   "source": [
    "(\n",
    "    df\n",
    "    .withColumn(\"add_months+\", F.add_months(F.col(\"data_cadastro\"), 1))\n",
    "    #.withColumn(\"add_months-\", F.add_months(F.col(\"data_cadastro\"), -1))\n",
    ")"
   ]
  },
  {
   "cell_type": "markdown",
   "id": "6d837bab-c365-4f69-86bf-47cad487e18f",
   "metadata": {},
   "source": [
    "### Data Atual e Timestamp Atual\n",
    "- Função: **F.current_date()** retorna a data atual.\n",
    "- Função: **F.current_timestamp()** retorna a data e hora atuais.\n",
    "- Exemplo: Se hoje for **2025-03-17**, **\"current_date\"** será **2025-03-17** e **\"current_timestamp\"** será **2025-03-17 10:00:00** (horário fictício).\n",
    "- Utilização: Essas funções são úteis para registrar quando uma operação foi feita ou calcular tempos de execução."
   ]
  },
  {
   "cell_type": "code",
   "execution_count": 31,
   "id": "8e0c15de-e84e-48f5-a119-53c64292e5a2",
   "metadata": {},
   "outputs": [
    {
     "name": "stdout",
     "output_type": "stream",
     "text": [
      "+------------------+-------------+------------+--------------------------+\n",
      "|data_de_nascimento|data_cadastro|current_date|current_timestamp         |\n",
      "+------------------+-------------+------------+--------------------------+\n",
      "|2006-12-18        |2023-02-26   |2025-03-18  |2025-03-18 16:21:17.515641|\n",
      "|1992-06-17        |2023-02-16   |2025-03-18  |2025-03-18 16:21:17.515641|\n",
      "|1921-11-11        |2023-01-02   |2025-03-18  |2025-03-18 16:21:17.515641|\n",
      "|2021-06-01        |2023-01-08   |2025-03-18  |2025-03-18 16:21:17.515641|\n",
      "|1969-10-28        |2023-02-14   |2025-03-18  |2025-03-18 16:21:17.515641|\n",
      "|1986-05-19        |2023-03-07   |2025-03-18  |2025-03-18 16:21:17.515641|\n",
      "|2018-04-20        |2023-01-13   |2025-03-18  |2025-03-18 16:21:17.515641|\n",
      "|1996-05-12        |2023-02-04   |2025-03-18  |2025-03-18 16:21:17.515641|\n",
      "|2021-10-05        |2023-03-02   |2025-03-18  |2025-03-18 16:21:17.515641|\n",
      "|1917-01-05        |2023-02-21   |2025-03-18  |2025-03-18 16:21:17.515641|\n",
      "+------------------+-------------+------------+--------------------------+\n",
      "only showing top 10 rows\n",
      "\n"
     ]
    }
   ],
   "source": [
    "(\n",
    "    df\n",
    "    .withColumn(\"current_date\", F.current_date())\n",
    "    .withColumn(\"current_timestamp\", F.current_timestamp()).show(10, False)\n",
    ")"
   ]
  },
  {
   "cell_type": "markdown",
   "id": "ecc28b51-91ea-4049-b4d7-70f7de43bcdf",
   "metadata": {},
   "source": [
    "### Adicionar Dias e Subtrair Dias\n",
    "- Função: **F.date_add()** adiciona dias na coluna **data_cadastro**.\n",
    "- Exemplo: Se **data_cadastro** for **2025-03-01**, a coluna **\"date_add+\"** será **2025-03-16**.\n",
    "    - **date_add+: '2023-01-30'**\n",
    "    - **date_add-: '2022-12-31'**\n",
    "- Utilização: Usado em cálculos de prazos ou tempo decorrido."
   ]
  },
  {
   "cell_type": "code",
   "execution_count": 73,
   "id": "ee0a2cd5-b468-4b7c-8739-8dc16144112a",
   "metadata": {
    "scrolled": true
   },
   "outputs": [
    {
     "data": {
      "text/html": [
       "<table border='1'>\n",
       "<tr><th>data_de_nascimento</th><th>data_cadastro</th><th>date_add+</th></tr>\n",
       "<tr><td>2006-12-18</td><td>2023-02-26</td><td>2023-03-13</td></tr>\n",
       "<tr><td>1992-06-17</td><td>2023-02-16</td><td>2023-03-03</td></tr>\n",
       "<tr><td>1921-11-11</td><td>2023-01-02</td><td>2023-01-17</td></tr>\n",
       "<tr><td>2021-06-01</td><td>2023-01-08</td><td>2023-01-23</td></tr>\n",
       "<tr><td>1969-10-28</td><td>2023-02-14</td><td>2023-03-01</td></tr>\n",
       "<tr><td>1986-05-19</td><td>2023-03-07</td><td>2023-03-22</td></tr>\n",
       "<tr><td>2018-04-20</td><td>2023-01-13</td><td>2023-01-28</td></tr>\n",
       "<tr><td>1996-05-12</td><td>2023-02-04</td><td>2023-02-19</td></tr>\n",
       "<tr><td>2021-10-05</td><td>2023-03-02</td><td>2023-03-17</td></tr>\n",
       "<tr><td>1917-01-05</td><td>2023-02-21</td><td>2023-03-08</td></tr>\n",
       "<tr><td>1912-05-25</td><td>2023-01-25</td><td>2023-02-09</td></tr>\n",
       "<tr><td>1920-05-26</td><td>2023-02-18</td><td>2023-03-05</td></tr>\n",
       "<tr><td>1938-03-11</td><td>2023-01-19</td><td>2023-02-03</td></tr>\n",
       "<tr><td>1922-09-01</td><td>2023-02-01</td><td>2023-02-16</td></tr>\n",
       "<tr><td>2013-01-10</td><td>2023-01-07</td><td>2023-01-22</td></tr>\n",
       "<tr><td>1992-10-16</td><td>2023-01-05</td><td>2023-01-20</td></tr>\n",
       "<tr><td>1945-11-18</td><td>2023-01-24</td><td>2023-02-08</td></tr>\n",
       "<tr><td>1915-11-15</td><td>2023-01-22</td><td>2023-02-06</td></tr>\n",
       "<tr><td>1964-02-01</td><td>2023-02-16</td><td>2023-03-03</td></tr>\n",
       "<tr><td>1959-02-01</td><td>2023-02-25</td><td>2023-03-12</td></tr>\n",
       "</table>\n",
       "only showing top 20 rows\n"
      ],
      "text/plain": [
       "+------------------+-------------+----------+\n",
       "|data_de_nascimento|data_cadastro| date_add+|\n",
       "+------------------+-------------+----------+\n",
       "|        2006-12-18|   2023-02-26|2023-03-13|\n",
       "|        1992-06-17|   2023-02-16|2023-03-03|\n",
       "|        1921-11-11|   2023-01-02|2023-01-17|\n",
       "|        2021-06-01|   2023-01-08|2023-01-23|\n",
       "|        1969-10-28|   2023-02-14|2023-03-01|\n",
       "|        1986-05-19|   2023-03-07|2023-03-22|\n",
       "|        2018-04-20|   2023-01-13|2023-01-28|\n",
       "|        1996-05-12|   2023-02-04|2023-02-19|\n",
       "|        2021-10-05|   2023-03-02|2023-03-17|\n",
       "|        1917-01-05|   2023-02-21|2023-03-08|\n",
       "|        1912-05-25|   2023-01-25|2023-02-09|\n",
       "|        1920-05-26|   2023-02-18|2023-03-05|\n",
       "|        1938-03-11|   2023-01-19|2023-02-03|\n",
       "|        1922-09-01|   2023-02-01|2023-02-16|\n",
       "|        2013-01-10|   2023-01-07|2023-01-22|\n",
       "|        1992-10-16|   2023-01-05|2023-01-20|\n",
       "|        1945-11-18|   2023-01-24|2023-02-08|\n",
       "|        1915-11-15|   2023-01-22|2023-02-06|\n",
       "|        1964-02-01|   2023-02-16|2023-03-03|\n",
       "|        1959-02-01|   2023-02-25|2023-03-12|\n",
       "+------------------+-------------+----------+\n",
       "only showing top 20 rows"
      ]
     },
     "execution_count": 73,
     "metadata": {},
     "output_type": "execute_result"
    }
   ],
   "source": [
    "(\n",
    "    df\n",
    "    .withColumn(\"date_add+\", F.date_add(F.col(\"data_cadastro\"), 15)) # Adicionar 15 Dias\n",
    "    #.withColumn(\"date_add-\", F.date_add(F.col(\"data_cadastro\"), -15)) # Subtrair 15 Dias\n",
    ")"
   ]
  },
  {
   "cell_type": "markdown",
   "id": "048ee15e-e2f1-4964-99ee-74ff04ae396a",
   "metadata": {},
   "source": [
    "### Subtrair Dias\n",
    "- Função: **F.date_sub()** subtrai dias da coluna **data_cadastro**.\n",
    "- Exemplo: Se **data_cadastro** for **2025-03-01** a coluna **\"date_sub\"** será **2025-02-14**.\n",
    "- Utilização: Usado em cálculos de prazos ou tempo decorrido."
   ]
  },
  {
   "cell_type": "code",
   "execution_count": 35,
   "id": "2efcad0a-75dc-4543-ad74-9374c0f3dfe3",
   "metadata": {
    "scrolled": true
   },
   "outputs": [
    {
     "data": {
      "text/html": [
       "<table border='1'>\n",
       "<tr><th>data_de_nascimento</th><th>data_cadastro</th><th>date_sub</th></tr>\n",
       "<tr><td>2006-12-18</td><td>2023-02-26</td><td>2023-02-11</td></tr>\n",
       "<tr><td>1992-06-17</td><td>2023-02-16</td><td>2023-02-01</td></tr>\n",
       "<tr><td>1921-11-11</td><td>2023-01-02</td><td>2022-12-18</td></tr>\n",
       "<tr><td>2021-06-01</td><td>2023-01-08</td><td>2022-12-24</td></tr>\n",
       "<tr><td>1969-10-28</td><td>2023-02-14</td><td>2023-01-30</td></tr>\n",
       "<tr><td>1986-05-19</td><td>2023-03-07</td><td>2023-02-20</td></tr>\n",
       "<tr><td>2018-04-20</td><td>2023-01-13</td><td>2022-12-29</td></tr>\n",
       "<tr><td>1996-05-12</td><td>2023-02-04</td><td>2023-01-20</td></tr>\n",
       "<tr><td>2021-10-05</td><td>2023-03-02</td><td>2023-02-15</td></tr>\n",
       "<tr><td>1917-01-05</td><td>2023-02-21</td><td>2023-02-06</td></tr>\n",
       "<tr><td>1912-05-25</td><td>2023-01-25</td><td>2023-01-10</td></tr>\n",
       "<tr><td>1920-05-26</td><td>2023-02-18</td><td>2023-02-03</td></tr>\n",
       "<tr><td>1938-03-11</td><td>2023-01-19</td><td>2023-01-04</td></tr>\n",
       "<tr><td>1922-09-01</td><td>2023-02-01</td><td>2023-01-17</td></tr>\n",
       "<tr><td>2013-01-10</td><td>2023-01-07</td><td>2022-12-23</td></tr>\n",
       "<tr><td>1992-10-16</td><td>2023-01-05</td><td>2022-12-21</td></tr>\n",
       "<tr><td>1945-11-18</td><td>2023-01-24</td><td>2023-01-09</td></tr>\n",
       "<tr><td>1915-11-15</td><td>2023-01-22</td><td>2023-01-07</td></tr>\n",
       "<tr><td>1964-02-01</td><td>2023-02-16</td><td>2023-02-01</td></tr>\n",
       "<tr><td>1959-02-01</td><td>2023-02-25</td><td>2023-02-10</td></tr>\n",
       "</table>\n",
       "only showing top 20 rows\n"
      ],
      "text/plain": [
       "+------------------+-------------+----------+\n",
       "|data_de_nascimento|data_cadastro|  date_sub|\n",
       "+------------------+-------------+----------+\n",
       "|        2006-12-18|   2023-02-26|2023-02-11|\n",
       "|        1992-06-17|   2023-02-16|2023-02-01|\n",
       "|        1921-11-11|   2023-01-02|2022-12-18|\n",
       "|        2021-06-01|   2023-01-08|2022-12-24|\n",
       "|        1969-10-28|   2023-02-14|2023-01-30|\n",
       "|        1986-05-19|   2023-03-07|2023-02-20|\n",
       "|        2018-04-20|   2023-01-13|2022-12-29|\n",
       "|        1996-05-12|   2023-02-04|2023-01-20|\n",
       "|        2021-10-05|   2023-03-02|2023-02-15|\n",
       "|        1917-01-05|   2023-02-21|2023-02-06|\n",
       "|        1912-05-25|   2023-01-25|2023-01-10|\n",
       "|        1920-05-26|   2023-02-18|2023-02-03|\n",
       "|        1938-03-11|   2023-01-19|2023-01-04|\n",
       "|        1922-09-01|   2023-02-01|2023-01-17|\n",
       "|        2013-01-10|   2023-01-07|2022-12-23|\n",
       "|        1992-10-16|   2023-01-05|2022-12-21|\n",
       "|        1945-11-18|   2023-01-24|2023-01-09|\n",
       "|        1915-11-15|   2023-01-22|2023-01-07|\n",
       "|        1964-02-01|   2023-02-16|2023-02-01|\n",
       "|        1959-02-01|   2023-02-25|2023-02-10|\n",
       "+------------------+-------------+----------+\n",
       "only showing top 20 rows"
      ]
     },
     "execution_count": 35,
     "metadata": {},
     "output_type": "execute_result"
    }
   ],
   "source": [
    "(\n",
    "    df\n",
    "    .withColumn(\"date_sub\", F.date_sub(F.col(\"data_cadastro\"), 15))\n",
    ")"
   ]
  },
  {
   "cell_type": "markdown",
   "id": "6d43c4a0-85e5-4e73-8d86-e7f4abd8ed3a",
   "metadata": {},
   "source": [
    "### Formatação de Data\n",
    "- Função: **F.date_format()** formata uma data em uma string conforme o padrão especificado.\n",
    "- Exemplo: Se **data_de_nascimento** for **1993-12-09**, **\"1-date_format /**\" será **09/12/1993** e **\"2-date_format -\"** será **09-12-1993**.\n",
    "- Utilização: É usado para ajustar a exibição da data em diferentes formatos."
   ]
  },
  {
   "cell_type": "code",
   "execution_count": 107,
   "id": "7dc8d411-1b6a-4991-b5c0-2af1b9b3dffe",
   "metadata": {
    "scrolled": true
   },
   "outputs": [
    {
     "data": {
      "text/html": [
       "<table border='1'>\n",
       "<tr><th>data_de_nascimento</th><th>data_cadastro</th><th>1-date_format /</th><th>2-date_format -</th><th>3-date_format ''</th></tr>\n",
       "<tr><td>2006-12-18</td><td>2023-02-26</td><td>18/12/2006</td><td>18-12-2006</td><td>18 12 2006</td></tr>\n",
       "<tr><td>1992-06-17</td><td>2023-02-16</td><td>17/06/1992</td><td>17-06-1992</td><td>17 06 1992</td></tr>\n",
       "<tr><td>1921-11-11</td><td>2023-01-02</td><td>11/11/1921</td><td>11-11-1921</td><td>11 11 1921</td></tr>\n",
       "<tr><td>2021-06-01</td><td>2023-01-08</td><td>01/06/2021</td><td>01-06-2021</td><td>01 06 2021</td></tr>\n",
       "<tr><td>1969-10-28</td><td>2023-02-14</td><td>28/10/1969</td><td>28-10-1969</td><td>28 10 1969</td></tr>\n",
       "<tr><td>1986-05-19</td><td>2023-03-07</td><td>19/05/1986</td><td>19-05-1986</td><td>19 05 1986</td></tr>\n",
       "<tr><td>2018-04-20</td><td>2023-01-13</td><td>20/04/2018</td><td>20-04-2018</td><td>20 04 2018</td></tr>\n",
       "<tr><td>1996-05-12</td><td>2023-02-04</td><td>12/05/1996</td><td>12-05-1996</td><td>12 05 1996</td></tr>\n",
       "<tr><td>2021-10-05</td><td>2023-03-02</td><td>05/10/2021</td><td>05-10-2021</td><td>05 10 2021</td></tr>\n",
       "<tr><td>1917-01-05</td><td>2023-02-21</td><td>05/01/1917</td><td>05-01-1917</td><td>05 01 1917</td></tr>\n",
       "<tr><td>1912-05-25</td><td>2023-01-25</td><td>25/05/1912</td><td>25-05-1912</td><td>25 05 1912</td></tr>\n",
       "<tr><td>1920-05-26</td><td>2023-02-18</td><td>26/05/1920</td><td>26-05-1920</td><td>26 05 1920</td></tr>\n",
       "<tr><td>1938-03-11</td><td>2023-01-19</td><td>11/03/1938</td><td>11-03-1938</td><td>11 03 1938</td></tr>\n",
       "<tr><td>1922-09-01</td><td>2023-02-01</td><td>01/09/1922</td><td>01-09-1922</td><td>01 09 1922</td></tr>\n",
       "<tr><td>2013-01-10</td><td>2023-01-07</td><td>10/01/2013</td><td>10-01-2013</td><td>10 01 2013</td></tr>\n",
       "<tr><td>1992-10-16</td><td>2023-01-05</td><td>16/10/1992</td><td>16-10-1992</td><td>16 10 1992</td></tr>\n",
       "<tr><td>1945-11-18</td><td>2023-01-24</td><td>18/11/1945</td><td>18-11-1945</td><td>18 11 1945</td></tr>\n",
       "<tr><td>1915-11-15</td><td>2023-01-22</td><td>15/11/1915</td><td>15-11-1915</td><td>15 11 1915</td></tr>\n",
       "<tr><td>1964-02-01</td><td>2023-02-16</td><td>01/02/1964</td><td>01-02-1964</td><td>01 02 1964</td></tr>\n",
       "<tr><td>1959-02-01</td><td>2023-02-25</td><td>01/02/1959</td><td>01-02-1959</td><td>01 02 1959</td></tr>\n",
       "</table>\n",
       "only showing top 20 rows\n"
      ],
      "text/plain": [
       "+------------------+-------------+---------------+---------------+----------------+\n",
       "|data_de_nascimento|data_cadastro|1-date_format /|2-date_format -|3-date_format ''|\n",
       "+------------------+-------------+---------------+---------------+----------------+\n",
       "|        2006-12-18|   2023-02-26|     18/12/2006|     18-12-2006|      18 12 2006|\n",
       "|        1992-06-17|   2023-02-16|     17/06/1992|     17-06-1992|      17 06 1992|\n",
       "|        1921-11-11|   2023-01-02|     11/11/1921|     11-11-1921|      11 11 1921|\n",
       "|        2021-06-01|   2023-01-08|     01/06/2021|     01-06-2021|      01 06 2021|\n",
       "|        1969-10-28|   2023-02-14|     28/10/1969|     28-10-1969|      28 10 1969|\n",
       "|        1986-05-19|   2023-03-07|     19/05/1986|     19-05-1986|      19 05 1986|\n",
       "|        2018-04-20|   2023-01-13|     20/04/2018|     20-04-2018|      20 04 2018|\n",
       "|        1996-05-12|   2023-02-04|     12/05/1996|     12-05-1996|      12 05 1996|\n",
       "|        2021-10-05|   2023-03-02|     05/10/2021|     05-10-2021|      05 10 2021|\n",
       "|        1917-01-05|   2023-02-21|     05/01/1917|     05-01-1917|      05 01 1917|\n",
       "|        1912-05-25|   2023-01-25|     25/05/1912|     25-05-1912|      25 05 1912|\n",
       "|        1920-05-26|   2023-02-18|     26/05/1920|     26-05-1920|      26 05 1920|\n",
       "|        1938-03-11|   2023-01-19|     11/03/1938|     11-03-1938|      11 03 1938|\n",
       "|        1922-09-01|   2023-02-01|     01/09/1922|     01-09-1922|      01 09 1922|\n",
       "|        2013-01-10|   2023-01-07|     10/01/2013|     10-01-2013|      10 01 2013|\n",
       "|        1992-10-16|   2023-01-05|     16/10/1992|     16-10-1992|      16 10 1992|\n",
       "|        1945-11-18|   2023-01-24|     18/11/1945|     18-11-1945|      18 11 1945|\n",
       "|        1915-11-15|   2023-01-22|     15/11/1915|     15-11-1915|      15 11 1915|\n",
       "|        1964-02-01|   2023-02-16|     01/02/1964|     01-02-1964|      01 02 1964|\n",
       "|        1959-02-01|   2023-02-25|     01/02/1959|     01-02-1959|      01 02 1959|\n",
       "+------------------+-------------+---------------+---------------+----------------+\n",
       "only showing top 20 rows"
      ]
     },
     "execution_count": 107,
     "metadata": {},
     "output_type": "execute_result"
    }
   ],
   "source": [
    "(\n",
    "    df\n",
    "    .withColumn(\"1-date_format /\", F.date_format(F.col(\"data_de_nascimento\"), \"dd/MM/yyyy\")) # EX: 18/12/2006\n",
    "    .withColumn(\"2-date_format -\", F.date_format(F.col(\"data_de_nascimento\"), \"dd-MM-yyyy\")) # EX: 18-12-2006\n",
    "    .withColumn(\"3-date_format ''\", F.date_format(F.col(\"data_de_nascimento\"), \"dd MM yyyy\")) # EX: 18 12 2006\n",
    ")"
   ]
  },
  {
   "cell_type": "markdown",
   "id": "dd5953e8-d4e5-4519-9310-9a8682f5827f",
   "metadata": {},
   "source": [
    "**Dia da Semana e Mês Completo**\n",
    "- Formata a data para incluir o nome do dia da semana ou o nome completo do mês.\n",
    "- Exemplo: **\"4-dia_da_semana\"** seria algo como **Qui**, **09-12-1993** e **\"5-nome_do_mes_completo\"** seria **09-dezembro-1993**.\n",
    "- Utilização: Ideal para relatórios ou exibição mais legível de datas."
   ]
  },
  {
   "cell_type": "code",
   "execution_count": 106,
   "id": "edf20be3-cc72-4862-967c-ae6cba565a90",
   "metadata": {
    "scrolled": true
   },
   "outputs": [
    {
     "data": {
      "text/html": [
       "<table border='1'>\n",
       "<tr><th>data_de_nascimento</th><th>data_cadastro</th><th>4-dia_da_semana</th><th>5-nome_do_mes_completo</th><th>6-nome_do_mes_incompleto</th></tr>\n",
       "<tr><td>2006-12-18</td><td>2023-02-26</td><td>Mon, 18-12-2006</td><td>18-December-2006</td><td>18-Dec-2006</td></tr>\n",
       "<tr><td>1992-06-17</td><td>2023-02-16</td><td>Wed, 17-06-1992</td><td>17-June-1992</td><td>17-Jun-1992</td></tr>\n",
       "<tr><td>1921-11-11</td><td>2023-01-02</td><td>Fri, 11-11-1921</td><td>11-November-1921</td><td>11-Nov-1921</td></tr>\n",
       "<tr><td>2021-06-01</td><td>2023-01-08</td><td>Tue, 01-06-2021</td><td>01-June-2021</td><td>01-Jun-2021</td></tr>\n",
       "<tr><td>1969-10-28</td><td>2023-02-14</td><td>Tue, 28-10-1969</td><td>28-October-1969</td><td>28-Oct-1969</td></tr>\n",
       "<tr><td>1986-05-19</td><td>2023-03-07</td><td>Mon, 19-05-1986</td><td>19-May-1986</td><td>19-May-1986</td></tr>\n",
       "<tr><td>2018-04-20</td><td>2023-01-13</td><td>Fri, 20-04-2018</td><td>20-April-2018</td><td>20-Apr-2018</td></tr>\n",
       "<tr><td>1996-05-12</td><td>2023-02-04</td><td>Sun, 12-05-1996</td><td>12-May-1996</td><td>12-May-1996</td></tr>\n",
       "<tr><td>2021-10-05</td><td>2023-03-02</td><td>Tue, 05-10-2021</td><td>05-October-2021</td><td>05-Oct-2021</td></tr>\n",
       "<tr><td>1917-01-05</td><td>2023-02-21</td><td>Fri, 05-01-1917</td><td>05-January-1917</td><td>05-Jan-1917</td></tr>\n",
       "<tr><td>1912-05-25</td><td>2023-01-25</td><td>Sat, 25-05-1912</td><td>25-May-1912</td><td>25-May-1912</td></tr>\n",
       "<tr><td>1920-05-26</td><td>2023-02-18</td><td>Wed, 26-05-1920</td><td>26-May-1920</td><td>26-May-1920</td></tr>\n",
       "<tr><td>1938-03-11</td><td>2023-01-19</td><td>Fri, 11-03-1938</td><td>11-March-1938</td><td>11-Mar-1938</td></tr>\n",
       "<tr><td>1922-09-01</td><td>2023-02-01</td><td>Fri, 01-09-1922</td><td>01-September-1922</td><td>01-Sep-1922</td></tr>\n",
       "<tr><td>2013-01-10</td><td>2023-01-07</td><td>Thu, 10-01-2013</td><td>10-January-2013</td><td>10-Jan-2013</td></tr>\n",
       "<tr><td>1992-10-16</td><td>2023-01-05</td><td>Fri, 16-10-1992</td><td>16-October-1992</td><td>16-Oct-1992</td></tr>\n",
       "<tr><td>1945-11-18</td><td>2023-01-24</td><td>Sun, 18-11-1945</td><td>18-November-1945</td><td>18-Nov-1945</td></tr>\n",
       "<tr><td>1915-11-15</td><td>2023-01-22</td><td>Mon, 15-11-1915</td><td>15-November-1915</td><td>15-Nov-1915</td></tr>\n",
       "<tr><td>1964-02-01</td><td>2023-02-16</td><td>Sat, 01-02-1964</td><td>01-February-1964</td><td>01-Feb-1964</td></tr>\n",
       "<tr><td>1959-02-01</td><td>2023-02-25</td><td>Sun, 01-02-1959</td><td>01-February-1959</td><td>01-Feb-1959</td></tr>\n",
       "</table>\n",
       "only showing top 20 rows\n"
      ],
      "text/plain": [
       "+------------------+-------------+---------------+----------------------+------------------------+\n",
       "|data_de_nascimento|data_cadastro|4-dia_da_semana|5-nome_do_mes_completo|6-nome_do_mes_incompleto|\n",
       "+------------------+-------------+---------------+----------------------+------------------------+\n",
       "|        2006-12-18|   2023-02-26|Mon, 18-12-2006|      18-December-2006|             18-Dec-2006|\n",
       "|        1992-06-17|   2023-02-16|Wed, 17-06-1992|          17-June-1992|             17-Jun-1992|\n",
       "|        1921-11-11|   2023-01-02|Fri, 11-11-1921|      11-November-1921|             11-Nov-1921|\n",
       "|        2021-06-01|   2023-01-08|Tue, 01-06-2021|          01-June-2021|             01-Jun-2021|\n",
       "|        1969-10-28|   2023-02-14|Tue, 28-10-1969|       28-October-1969|             28-Oct-1969|\n",
       "|        1986-05-19|   2023-03-07|Mon, 19-05-1986|           19-May-1986|             19-May-1986|\n",
       "|        2018-04-20|   2023-01-13|Fri, 20-04-2018|         20-April-2018|             20-Apr-2018|\n",
       "|        1996-05-12|   2023-02-04|Sun, 12-05-1996|           12-May-1996|             12-May-1996|\n",
       "|        2021-10-05|   2023-03-02|Tue, 05-10-2021|       05-October-2021|             05-Oct-2021|\n",
       "|        1917-01-05|   2023-02-21|Fri, 05-01-1917|       05-January-1917|             05-Jan-1917|\n",
       "|        1912-05-25|   2023-01-25|Sat, 25-05-1912|           25-May-1912|             25-May-1912|\n",
       "|        1920-05-26|   2023-02-18|Wed, 26-05-1920|           26-May-1920|             26-May-1920|\n",
       "|        1938-03-11|   2023-01-19|Fri, 11-03-1938|         11-March-1938|             11-Mar-1938|\n",
       "|        1922-09-01|   2023-02-01|Fri, 01-09-1922|     01-September-1922|             01-Sep-1922|\n",
       "|        2013-01-10|   2023-01-07|Thu, 10-01-2013|       10-January-2013|             10-Jan-2013|\n",
       "|        1992-10-16|   2023-01-05|Fri, 16-10-1992|       16-October-1992|             16-Oct-1992|\n",
       "|        1945-11-18|   2023-01-24|Sun, 18-11-1945|      18-November-1945|             18-Nov-1945|\n",
       "|        1915-11-15|   2023-01-22|Mon, 15-11-1915|      15-November-1915|             15-Nov-1915|\n",
       "|        1964-02-01|   2023-02-16|Sat, 01-02-1964|      01-February-1964|             01-Feb-1964|\n",
       "|        1959-02-01|   2023-02-25|Sun, 01-02-1959|      01-February-1959|             01-Feb-1959|\n",
       "+------------------+-------------+---------------+----------------------+------------------------+\n",
       "only showing top 20 rows"
      ]
     },
     "execution_count": 106,
     "metadata": {},
     "output_type": "execute_result"
    }
   ],
   "source": [
    "(\n",
    "    df\n",
    "    .withColumn(\"4-dia_da_semana\", F.date_format(F.col(\"data_de_nascimento\"), \"E, dd-MM-yyyy\")) # EX: Mon, 18-12-2006\n",
    "    .withColumn(\"5-nome_do_mes_completo\", F.date_format(F.col(\"data_de_nascimento\"), \"dd-MMMM-yyyy\")) # EX: 18-December-2006\n",
    "    .withColumn(\"6-nome_do_mes_incompleto\", F.date_format(F.col(\"data_de_nascimento\"), \"dd-MMM-yyyy\")) # EX: 18-Dec-2006\n",
    ")"
   ]
  },
  {
   "cell_type": "code",
   "execution_count": null,
   "id": "d5be76c3-102f-46e9-a3d1-0e2daf6790f8",
   "metadata": {},
   "outputs": [],
   "source": [
    "### "
   ]
  },
  {
   "cell_type": "code",
   "execution_count": 71,
   "id": "a834be91-3716-42eb-8795-4c66a13b4ae8",
   "metadata": {
    "scrolled": true
   },
   "outputs": [
    {
     "data": {
      "text/html": [
       "<table border='1'>\n",
       "<tr><th>data_de_nascimento</th><th>data_cadastro</th><th>datediff</th></tr>\n",
       "<tr><td>2006-12-18</td><td>2023-02-26</td><td>6665</td></tr>\n",
       "<tr><td>1992-06-17</td><td>2023-02-16</td><td>11962</td></tr>\n",
       "<tr><td>1921-11-11</td><td>2023-01-02</td><td>37748</td></tr>\n",
       "<tr><td>2021-06-01</td><td>2023-01-08</td><td>1386</td></tr>\n",
       "<tr><td>1969-10-28</td><td>2023-02-14</td><td>20230</td></tr>\n",
       "<tr><td>1986-05-19</td><td>2023-03-07</td><td>14183</td></tr>\n",
       "<tr><td>2018-04-20</td><td>2023-01-13</td><td>2524</td></tr>\n",
       "<tr><td>1996-05-12</td><td>2023-02-04</td><td>10537</td></tr>\n",
       "<tr><td>2021-10-05</td><td>2023-03-02</td><td>1260</td></tr>\n",
       "<tr><td>1917-01-05</td><td>2023-02-21</td><td>39519</td></tr>\n",
       "<tr><td>1912-05-25</td><td>2023-01-25</td><td>41205</td></tr>\n",
       "<tr><td>1920-05-26</td><td>2023-02-18</td><td>38282</td></tr>\n",
       "<tr><td>1938-03-11</td><td>2023-01-19</td><td>31784</td></tr>\n",
       "<tr><td>1922-09-01</td><td>2023-02-01</td><td>37454</td></tr>\n",
       "<tr><td>2013-01-10</td><td>2023-01-07</td><td>4450</td></tr>\n",
       "<tr><td>1992-10-16</td><td>2023-01-05</td><td>11841</td></tr>\n",
       "<tr><td>1945-11-18</td><td>2023-01-24</td><td>28975</td></tr>\n",
       "<tr><td>1915-11-15</td><td>2023-01-22</td><td>39936</td></tr>\n",
       "<tr><td>1964-02-01</td><td>2023-02-16</td><td>22326</td></tr>\n",
       "<tr><td>1959-02-01</td><td>2023-02-25</td><td>24152</td></tr>\n",
       "</table>\n",
       "only showing top 20 rows\n"
      ],
      "text/plain": [
       "+------------------+-------------+--------+\n",
       "|data_de_nascimento|data_cadastro|datediff|\n",
       "+------------------+-------------+--------+\n",
       "|        2006-12-18|   2023-02-26|    6665|\n",
       "|        1992-06-17|   2023-02-16|   11962|\n",
       "|        1921-11-11|   2023-01-02|   37748|\n",
       "|        2021-06-01|   2023-01-08|    1386|\n",
       "|        1969-10-28|   2023-02-14|   20230|\n",
       "|        1986-05-19|   2023-03-07|   14183|\n",
       "|        2018-04-20|   2023-01-13|    2524|\n",
       "|        1996-05-12|   2023-02-04|   10537|\n",
       "|        2021-10-05|   2023-03-02|    1260|\n",
       "|        1917-01-05|   2023-02-21|   39519|\n",
       "|        1912-05-25|   2023-01-25|   41205|\n",
       "|        1920-05-26|   2023-02-18|   38282|\n",
       "|        1938-03-11|   2023-01-19|   31784|\n",
       "|        1922-09-01|   2023-02-01|   37454|\n",
       "|        2013-01-10|   2023-01-07|    4450|\n",
       "|        1992-10-16|   2023-01-05|   11841|\n",
       "|        1945-11-18|   2023-01-24|   28975|\n",
       "|        1915-11-15|   2023-01-22|   39936|\n",
       "|        1964-02-01|   2023-02-16|   22326|\n",
       "|        1959-02-01|   2023-02-25|   24152|\n",
       "+------------------+-------------+--------+\n",
       "only showing top 20 rows"
      ]
     },
     "execution_count": 71,
     "metadata": {},
     "output_type": "execute_result"
    }
   ],
   "source": [
    "(\n",
    "    df\n",
    "    .withColumn(\"datediff\", F.datediff(F.current_date(), F.col(\"data_de_nascimento\")))\n",
    ")"
   ]
  },
  {
   "cell_type": "markdown",
   "id": "56976b40-27ac-48ee-aa09-9c23bfbf717c",
   "metadata": {},
   "source": [
    "### Extração de Componentes de Data\n",
    "- Funções:\n",
    "    - **F.dayofmonth()**: Extrai o dia do mês.\n",
    "    - **F.dayofweek()**: Extrai o dia da semana (1 = Domingo, 7 = Sábado).\n",
    "    - **F.weekofyear()**: Retorna a semana do ano.\n",
    "    - **F.year(), F.month()**: Retorna o ano e mês.\n",
    "    - **F.last_day()**: Retorna o último dia do mês.\n",
    "    - **F.months_between()**: Calcula o número de meses entre duas datas.\n",
    "    - **F.next_day()**: Retorna a próxima ocorrência de um dia da semana a partir da data fornecida.\n",
    "    - **F.make_date()**: Cria uma nova data a partir de ano, mês e dia.\n",
    "    - **F.to_date()**: Converte uma string em uma data.\n",
    "---\n",
    "- Exemplo: Se data_de_nascimento for **'1990-03-10'**:\n",
    "    - **dayofmonth**: 10\n",
    "    - **dayofweek**: 7 (Sábado)\n",
    "    - **weekofyear**: 10\n",
    "    - **year**: 1990\n",
    "    - **month**: 3\n",
    "    - **last_day**: 31 (último dia de março)\n",
    "    - **months_between**: Calcula o número de meses até a data atual.\n",
    "    - **next_day**: A próxima segunda-feira após a data_cadastro.\n",
    "    - **make_date**: 1993-12-09.\n",
    "    - **to_date**: Converte a string '2008-01-01' em uma data."
   ]
  },
  {
   "cell_type": "code",
   "execution_count": 108,
   "id": "f7c8e2f0-6f19-40ec-816c-5477b57682cf",
   "metadata": {
    "scrolled": true
   },
   "outputs": [
    {
     "data": {
      "text/html": [
       "<table border='1'>\n",
       "<tr><th>data_de_nascimento</th><th>data_cadastro</th><th>1-dayofmonth</th><th>2-dayofweek</th><th>3-weekofyear</th><th>4-year</th><th>5-month</th><th>6-last_day</th><th>7-months_between</th><th>8-next_day</th><th>9-make_date</th><th>10-to_date</th></tr>\n",
       "<tr><td>2006-12-18</td><td>2023-02-26</td><td>18</td><td>2</td><td>51</td><td>2006</td><td>12</td><td>2006-12-31</td><td>219.03225806</td><td>2023-02-27</td><td>1993-12-09</td><td>2008-01-01</td></tr>\n",
       "<tr><td>1992-06-17</td><td>2023-02-16</td><td>17</td><td>4</td><td>25</td><td>1992</td><td>6</td><td>1992-06-30</td><td>393.06451613</td><td>2023-02-20</td><td>1993-12-09</td><td>2008-01-01</td></tr>\n",
       "<tr><td>1921-11-11</td><td>2023-01-02</td><td>11</td><td>6</td><td>45</td><td>1921</td><td>11</td><td>1921-11-30</td><td>1240.25806452</td><td>2023-01-09</td><td>1993-12-09</td><td>2008-01-01</td></tr>\n",
       "<tr><td>2021-06-01</td><td>2023-01-08</td><td>1</td><td>3</td><td>22</td><td>2021</td><td>6</td><td>2021-06-30</td><td>45.58064516</td><td>2023-01-09</td><td>1993-12-09</td><td>2008-01-01</td></tr>\n",
       "<tr><td>1969-10-28</td><td>2023-02-14</td><td>28</td><td>3</td><td>44</td><td>1969</td><td>10</td><td>1969-10-31</td><td>664.70967742</td><td>2023-02-20</td><td>1993-12-09</td><td>2008-01-01</td></tr>\n",
       "<tr><td>1986-05-19</td><td>2023-03-07</td><td>19</td><td>2</td><td>21</td><td>1986</td><td>5</td><td>1986-05-31</td><td>466.0</td><td>2023-03-13</td><td>1993-12-09</td><td>2008-01-01</td></tr>\n",
       "<tr><td>2018-04-20</td><td>2023-01-13</td><td>20</td><td>6</td><td>16</td><td>2018</td><td>4</td><td>2018-04-30</td><td>82.96774194</td><td>2023-01-16</td><td>1993-12-09</td><td>2008-01-01</td></tr>\n",
       "<tr><td>1996-05-12</td><td>2023-02-04</td><td>12</td><td>1</td><td>19</td><td>1996</td><td>5</td><td>1996-05-31</td><td>346.22580645</td><td>2023-02-06</td><td>1993-12-09</td><td>2008-01-01</td></tr>\n",
       "<tr><td>2021-10-05</td><td>2023-03-02</td><td>5</td><td>3</td><td>40</td><td>2021</td><td>10</td><td>2021-10-31</td><td>41.4516129</td><td>2023-03-06</td><td>1993-12-09</td><td>2008-01-01</td></tr>\n",
       "<tr><td>1917-01-05</td><td>2023-02-21</td><td>5</td><td>6</td><td>1</td><td>1917</td><td>1</td><td>1917-01-31</td><td>1298.4516129</td><td>2023-02-27</td><td>1993-12-09</td><td>2008-01-01</td></tr>\n",
       "<tr><td>1912-05-25</td><td>2023-01-25</td><td>25</td><td>7</td><td>21</td><td>1912</td><td>5</td><td>1912-05-31</td><td>1353.80645161</td><td>2023-01-30</td><td>1993-12-09</td><td>2008-01-01</td></tr>\n",
       "<tr><td>1920-05-26</td><td>2023-02-18</td><td>26</td><td>4</td><td>22</td><td>1920</td><td>5</td><td>1920-05-31</td><td>1257.77419355</td><td>2023-02-20</td><td>1993-12-09</td><td>2008-01-01</td></tr>\n",
       "<tr><td>1938-03-11</td><td>2023-01-19</td><td>11</td><td>6</td><td>10</td><td>1938</td><td>3</td><td>1938-03-31</td><td>1044.25806452</td><td>2023-01-23</td><td>1993-12-09</td><td>2008-01-01</td></tr>\n",
       "<tr><td>1922-09-01</td><td>2023-02-01</td><td>1</td><td>6</td><td>35</td><td>1922</td><td>9</td><td>1922-09-30</td><td>1230.58064516</td><td>2023-02-06</td><td>1993-12-09</td><td>2008-01-01</td></tr>\n",
       "<tr><td>2013-01-10</td><td>2023-01-07</td><td>10</td><td>5</td><td>2</td><td>2013</td><td>1</td><td>2013-01-31</td><td>146.29032258</td><td>2023-01-09</td><td>1993-12-09</td><td>2008-01-01</td></tr>\n",
       "<tr><td>1992-10-16</td><td>2023-01-05</td><td>16</td><td>6</td><td>42</td><td>1992</td><td>10</td><td>1992-10-31</td><td>389.09677419</td><td>2023-01-09</td><td>1993-12-09</td><td>2008-01-01</td></tr>\n",
       "<tr><td>1945-11-18</td><td>2023-01-24</td><td>18</td><td>1</td><td>46</td><td>1945</td><td>11</td><td>1945-11-30</td><td>952.03225806</td><td>2023-01-30</td><td>1993-12-09</td><td>2008-01-01</td></tr>\n",
       "<tr><td>1915-11-15</td><td>2023-01-22</td><td>15</td><td>2</td><td>46</td><td>1915</td><td>11</td><td>1915-11-30</td><td>1312.12903226</td><td>2023-01-23</td><td>1993-12-09</td><td>2008-01-01</td></tr>\n",
       "<tr><td>1964-02-01</td><td>2023-02-16</td><td>1</td><td>7</td><td>5</td><td>1964</td><td>2</td><td>1964-02-29</td><td>733.58064516</td><td>2023-02-20</td><td>1993-12-09</td><td>2008-01-01</td></tr>\n",
       "<tr><td>1959-02-01</td><td>2023-02-25</td><td>1</td><td>1</td><td>5</td><td>1959</td><td>2</td><td>1959-02-28</td><td>793.58064516</td><td>2023-02-27</td><td>1993-12-09</td><td>2008-01-01</td></tr>\n",
       "</table>\n",
       "only showing top 20 rows\n"
      ],
      "text/plain": [
       "+------------------+-------------+------------+-----------+------------+------+-------+----------+----------------+----------+-----------+----------+\n",
       "|data_de_nascimento|data_cadastro|1-dayofmonth|2-dayofweek|3-weekofyear|4-year|5-month|6-last_day|7-months_between|8-next_day|9-make_date|10-to_date|\n",
       "+------------------+-------------+------------+-----------+------------+------+-------+----------+----------------+----------+-----------+----------+\n",
       "|        2006-12-18|   2023-02-26|          18|          2|          51|  2006|     12|2006-12-31|    219.03225806|2023-02-27| 1993-12-09|2008-01-01|\n",
       "|        1992-06-17|   2023-02-16|          17|          4|          25|  1992|      6|1992-06-30|    393.06451613|2023-02-20| 1993-12-09|2008-01-01|\n",
       "|        1921-11-11|   2023-01-02|          11|          6|          45|  1921|     11|1921-11-30|   1240.25806452|2023-01-09| 1993-12-09|2008-01-01|\n",
       "|        2021-06-01|   2023-01-08|           1|          3|          22|  2021|      6|2021-06-30|     45.58064516|2023-01-09| 1993-12-09|2008-01-01|\n",
       "|        1969-10-28|   2023-02-14|          28|          3|          44|  1969|     10|1969-10-31|    664.70967742|2023-02-20| 1993-12-09|2008-01-01|\n",
       "|        1986-05-19|   2023-03-07|          19|          2|          21|  1986|      5|1986-05-31|           466.0|2023-03-13| 1993-12-09|2008-01-01|\n",
       "|        2018-04-20|   2023-01-13|          20|          6|          16|  2018|      4|2018-04-30|     82.96774194|2023-01-16| 1993-12-09|2008-01-01|\n",
       "|        1996-05-12|   2023-02-04|          12|          1|          19|  1996|      5|1996-05-31|    346.22580645|2023-02-06| 1993-12-09|2008-01-01|\n",
       "|        2021-10-05|   2023-03-02|           5|          3|          40|  2021|     10|2021-10-31|      41.4516129|2023-03-06| 1993-12-09|2008-01-01|\n",
       "|        1917-01-05|   2023-02-21|           5|          6|           1|  1917|      1|1917-01-31|    1298.4516129|2023-02-27| 1993-12-09|2008-01-01|\n",
       "|        1912-05-25|   2023-01-25|          25|          7|          21|  1912|      5|1912-05-31|   1353.80645161|2023-01-30| 1993-12-09|2008-01-01|\n",
       "|        1920-05-26|   2023-02-18|          26|          4|          22|  1920|      5|1920-05-31|   1257.77419355|2023-02-20| 1993-12-09|2008-01-01|\n",
       "|        1938-03-11|   2023-01-19|          11|          6|          10|  1938|      3|1938-03-31|   1044.25806452|2023-01-23| 1993-12-09|2008-01-01|\n",
       "|        1922-09-01|   2023-02-01|           1|          6|          35|  1922|      9|1922-09-30|   1230.58064516|2023-02-06| 1993-12-09|2008-01-01|\n",
       "|        2013-01-10|   2023-01-07|          10|          5|           2|  2013|      1|2013-01-31|    146.29032258|2023-01-09| 1993-12-09|2008-01-01|\n",
       "|        1992-10-16|   2023-01-05|          16|          6|          42|  1992|     10|1992-10-31|    389.09677419|2023-01-09| 1993-12-09|2008-01-01|\n",
       "|        1945-11-18|   2023-01-24|          18|          1|          46|  1945|     11|1945-11-30|    952.03225806|2023-01-30| 1993-12-09|2008-01-01|\n",
       "|        1915-11-15|   2023-01-22|          15|          2|          46|  1915|     11|1915-11-30|   1312.12903226|2023-01-23| 1993-12-09|2008-01-01|\n",
       "|        1964-02-01|   2023-02-16|           1|          7|           5|  1964|      2|1964-02-29|    733.58064516|2023-02-20| 1993-12-09|2008-01-01|\n",
       "|        1959-02-01|   2023-02-25|           1|          1|           5|  1959|      2|1959-02-28|    793.58064516|2023-02-27| 1993-12-09|2008-01-01|\n",
       "+------------------+-------------+------------+-----------+------------+------+-------+----------+----------------+----------+-----------+----------+\n",
       "only showing top 20 rows"
      ]
     },
     "execution_count": 108,
     "metadata": {},
     "output_type": "execute_result"
    }
   ],
   "source": [
    "(\n",
    "    df\n",
    "    .withColumn(\"1-dayofmonth\", F.dayofmonth(F.col(\"data_de_nascimento\"))) # 18\n",
    "    .withColumn(\"2-dayofweek\", F.dayofweek(F.col(\"data_de_nascimento\"))) # 2\n",
    "    .withColumn(\"3-weekofyear\", F.weekofyear(F.col(\"data_de_nascimento\"))) # 51\n",
    "    .withColumn(\"4-year\", F.year(F.col(\"data_de_nascimento\"))) # 2006\n",
    "    .withColumn(\"5-month\", F.month(F.col(\"data_de_nascimento\"))) # 12\n",
    "    .withColumn(\"6-last_day\", F.last_day(F.col(\"data_de_nascimento\"))) # 2006-12-31\n",
    "    .withColumn(\"7-months_between\", F.months_between(F.current_date(), F.col(\"data_de_nascimento\"))) # 219.03225806\n",
    "    .withColumn(\"8-next_day\", F.next_day(F.col(\"data_cadastro\"), \"Mon\")) # 2023-02-27\n",
    "    .withColumn(\"9-make_date\", F.make_date(F.lit(1993), F.lit(12), F.lit(9))) # 1993-12-09\n",
    "    .withColumn(\"10-to_date\", F.to_date(F.lit(\"2008-01-01\"))) # 2008-01-01\n",
    ")"
   ]
  }
 ],
 "metadata": {
  "kernelspec": {
   "display_name": "Python 3 (ipykernel)",
   "language": "python",
   "name": "python3"
  },
  "language_info": {
   "codemirror_mode": {
    "name": "ipython",
    "version": 3
   },
   "file_extension": ".py",
   "mimetype": "text/x-python",
   "name": "python",
   "nbconvert_exporter": "python",
   "pygments_lexer": "ipython3",
   "version": "3.12.7"
  }
 },
 "nbformat": 4,
 "nbformat_minor": 5
}
