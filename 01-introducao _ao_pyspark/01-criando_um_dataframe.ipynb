{
 "cells": [
  {
   "cell_type": "code",
   "execution_count": 1,
   "id": "af93a72d-8f76-4f10-b048-3b6060628dcb",
   "metadata": {},
   "outputs": [
    {
     "name": "stdout",
     "output_type": "stream",
     "text": [
      "Requirement already satisfied: pyspark in c:\\users\\marlos.barros\\appdata\\local\\anaconda3\\lib\\site-packages (3.5.5)\n",
      "Requirement already satisfied: py4j==0.10.9.7 in c:\\users\\marlos.barros\\appdata\\local\\anaconda3\\lib\\site-packages (from pyspark) (0.10.9.7)\n"
     ]
    }
   ],
   "source": [
    "!pip install pyspark"
   ]
  },
  {
   "cell_type": "code",
   "execution_count": 2,
   "id": "043ed47e-d9f5-4f81-835c-376889be2161",
   "metadata": {
    "scrolled": true
   },
   "outputs": [],
   "source": [
    "from pyspark.sql import SparkSession"
   ]
  },
  {
   "cell_type": "code",
   "execution_count": 6,
   "id": "9ca3a268-a684-41f0-8398-cd15372e9da1",
   "metadata": {},
   "outputs": [],
   "source": [
    "spark = (\n",
    "    SparkSession.builder\n",
    "    .appName(\"Curso de PySpark\")\n",
    "    .config('spark.sql.repl.eagerEval.enabled', True) # Tabela formatada em HTML\n",
    "    .getOrCreate()\n",
    ")"
   ]
  },
  {
   "cell_type": "code",
   "execution_count": 7,
   "id": "27000cb0-fb7e-4fc6-a86d-403642cce66e",
   "metadata": {},
   "outputs": [
    {
     "data": {
      "text/html": [
       "\n",
       "            <div>\n",
       "                <p><b>SparkSession - in-memory</b></p>\n",
       "                \n",
       "        <div>\n",
       "            <p><b>SparkContext</b></p>\n",
       "\n",
       "            <p><a href=\"http://COLTWFGLFV04:4040\">Spark UI</a></p>\n",
       "\n",
       "            <dl>\n",
       "              <dt>Version</dt>\n",
       "                <dd><code>v3.5.5</code></dd>\n",
       "              <dt>Master</dt>\n",
       "                <dd><code>local[*]</code></dd>\n",
       "              <dt>AppName</dt>\n",
       "                <dd><code>Curso de PySpark</code></dd>\n",
       "            </dl>\n",
       "        </div>\n",
       "        \n",
       "            </div>\n",
       "        "
      ],
      "text/plain": [
       "<pyspark.sql.session.SparkSession at 0x1b53eb22030>"
      ]
     },
     "execution_count": 7,
     "metadata": {},
     "output_type": "execute_result"
    }
   ],
   "source": [
    "spark"
   ]
  },
  {
   "cell_type": "markdown",
   "id": "490b8e92-268d-466b-86db-b7ff3556cdb6",
   "metadata": {},
   "source": [
    "### Ler arquivo no formato csv: **spark.read.csv()**"
   ]
  },
  {
   "cell_type": "code",
   "execution_count": 8,
   "id": "763c3686-ecc6-46af-8cc5-640f6499e8f8",
   "metadata": {},
   "outputs": [],
   "source": [
    "df_csv = spark.read.csv(\"C:/Users/marlos.barros/Cursos/pyspark_na_pratica/DATASETS/LOGINS.csv\", sep=';', header=True)"
   ]
  },
  {
   "cell_type": "markdown",
   "id": "0b516da8-dbc2-4345-ae8d-a4fb3bd2bf06",
   "metadata": {},
   "source": [
    "**df.show()**\n",
    "- O método .show() é uma função explícita que exibe as primeiras linhas de um DataFrame no console ou na saída do notebook."
   ]
  },
  {
   "cell_type": "code",
   "execution_count": null,
   "id": "93333257-1d1a-468a-b1c2-217114a40ecc",
   "metadata": {
    "scrolled": true
   },
   "outputs": [],
   "source": [
    "df_csv.show() # Texto simples"
   ]
  },
  {
   "cell_type": "markdown",
   "id": "873f31d7-9a7f-493f-8c5b-5c820b756371",
   "metadata": {},
   "source": [
    "**spark.conf.set('spark.sql.repl.eagerEval.enabled', True)**\n",
    "- Quando você habilita a configuração spark.sql.repl.eagerEval.enabled, o Spark otimiza a exibição dos DataFrames no ambiente interativo (como Jupyter Notebook)."
   ]
  },
  {
   "cell_type": "code",
   "execution_count": null,
   "id": "d33f4083-6657-4dd8-8d78-0c35e8a04529",
   "metadata": {
    "scrolled": true
   },
   "outputs": [],
   "source": [
    "df_csv"
   ]
  },
  {
   "cell_type": "markdown",
   "id": "d6dc5991-7a5a-4011-ae46-4667c8a73888",
   "metadata": {},
   "source": [
    "### Ler arquivo no formato txt: **spark.read.csv**"
   ]
  },
  {
   "cell_type": "code",
   "execution_count": null,
   "id": "a4f61399-1725-4150-9afb-9bb00ae927bb",
   "metadata": {},
   "outputs": [],
   "source": [
    "df_txt = spark.read.csv(\"C:/Users/marlos.barros/Cursos/pyspark_na_pratica/DATASETS/LOGINS.txt\", header=True)"
   ]
  },
  {
   "cell_type": "code",
   "execution_count": null,
   "id": "6a08fbe1-4270-4bff-896e-fad94caa88cd",
   "metadata": {
    "scrolled": true
   },
   "outputs": [],
   "source": [
    "df_txt"
   ]
  },
  {
   "cell_type": "markdown",
   "id": "7d34e5bc-e422-4bef-89b5-cae9e1032ca5",
   "metadata": {},
   "source": [
    "### Ler arquivo no formato parquet: **spark.read.parquet**"
   ]
  },
  {
   "cell_type": "code",
   "execution_count": null,
   "id": "6007b2b7-fa37-430e-896d-8e1a1d16c437",
   "metadata": {},
   "outputs": [],
   "source": [
    "path = \"C:/Users/marlos.barros/Cursos/pyspark_na_pratica/DATASETS/LOGINS.parquet\""
   ]
  },
  {
   "cell_type": "code",
   "execution_count": null,
   "id": "291b15cb-ca02-4b0e-b760-e4b3b59db63d",
   "metadata": {},
   "outputs": [],
   "source": [
    "df_parquet = spark.read.format(\"parquet\").load(path)"
   ]
  },
  {
   "cell_type": "code",
   "execution_count": null,
   "id": "e9c45afd-b800-4bde-9ec0-4624aa62e289",
   "metadata": {
    "scrolled": true
   },
   "outputs": [],
   "source": [
    "df_parquet"
   ]
  },
  {
   "cell_type": "markdown",
   "id": "51d7b8ec-162b-4862-8c79-e737338a83a1",
   "metadata": {},
   "source": [
    "### Exibe o schema (com tipos de dados)"
   ]
  },
  {
   "cell_type": "markdown",
   "id": "ef293de3-e420-4bf9-8b08-d1aea78dcef2",
   "metadata": {},
   "source": [
    "- **df_csv.printSchema()**: Retorna todas as colunas estão sendo reconhecidas como string"
   ]
  },
  {
   "cell_type": "code",
   "execution_count": null,
   "id": "7de04519-7081-4c9b-9c97-b40fe6d4655e",
   "metadata": {},
   "outputs": [],
   "source": [
    "df_csv.printSchema()"
   ]
  },
  {
   "cell_type": "markdown",
   "id": "e520af58-8f68-459c-b1ed-7f22702840c3",
   "metadata": {},
   "source": [
    "- **df_parquet.printSchema()**: Retorna as colunas estão sendo lidas com seus tipos de dados corretos, conforme especificado no arquivo"
   ]
  },
  {
   "cell_type": "code",
   "execution_count": null,
   "id": "a18eb90a-787d-4f06-b2bc-2d7c4bc09f07",
   "metadata": {},
   "outputs": [],
   "source": [
    "df_parquet.printSchema()"
   ]
  },
  {
   "cell_type": "markdown",
   "id": "7d91b5c9-aae1-4521-9500-9c2c4d0d885a",
   "metadata": {},
   "source": [
    "- **df_parquet.count()**: Retorna o número total de linhas no DataFrame."
   ]
  },
  {
   "cell_type": "code",
   "execution_count": null,
   "id": "94bfd2b0-d106-4f42-8c68-ad7d94f5e843",
   "metadata": {},
   "outputs": [],
   "source": [
    "df_parquet.count()"
   ]
  },
  {
   "cell_type": "markdown",
   "id": "fdc52337-be2f-4e78-8748-14a2ea7539d4",
   "metadata": {},
   "source": [
    "- **df_parquet.describe()**: Gera estatísticas descritivas (como contagem, média, desvio padrão, valor mínimo, e máximo) para as colunas numéricas do DataFrame"
   ]
  },
  {
   "cell_type": "code",
   "execution_count": null,
   "id": "7fbaba46-c222-4c6a-b775-41aa96e6fc6c",
   "metadata": {},
   "outputs": [],
   "source": [
    "df_parquet.describe()"
   ]
  },
  {
   "cell_type": "markdown",
   "id": "5e106eba-f729-4355-af09-673aea2cd3bd",
   "metadata": {},
   "source": [
    "- **df_parquet.columns**: Retorna uma lista com os nomes das colunas do DataFrame"
   ]
  },
  {
   "cell_type": "code",
   "execution_count": null,
   "id": "0060af42-bcd1-4d59-a92d-428e34d3f814",
   "metadata": {},
   "outputs": [],
   "source": [
    "df_parquet.columns"
   ]
  },
  {
   "cell_type": "markdown",
   "id": "1eaa2bf5-aaae-4e05-bbd6-8cd8b17d9b3a",
   "metadata": {},
   "source": [
    "- **df_parquet.dtypes**: Retorna uma lista com o nome de cada coluna e o tipo de dado correspondente"
   ]
  },
  {
   "cell_type": "code",
   "execution_count": null,
   "id": "834ad01b-a9c8-4629-9bee-07d4953d7181",
   "metadata": {},
   "outputs": [],
   "source": [
    "df_parquet.dtypes"
   ]
  }
 ],
 "metadata": {
  "kernelspec": {
   "display_name": "Python 3 (ipykernel)",
   "language": "python",
   "name": "python3"
  },
  "language_info": {
   "codemirror_mode": {
    "name": "ipython",
    "version": 3
   },
   "file_extension": ".py",
   "mimetype": "text/x-python",
   "name": "python",
   "nbconvert_exporter": "python",
   "pygments_lexer": "ipython3",
   "version": "3.12.7"
  }
 },
 "nbformat": 4,
 "nbformat_minor": 5
}
