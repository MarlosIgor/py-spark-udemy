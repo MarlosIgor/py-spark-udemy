{
 "cells": [
  {
   "cell_type": "code",
   "execution_count": 40,
   "id": "edf81f9f-9714-4bf4-96ff-ee06107883a2",
   "metadata": {},
   "outputs": [],
   "source": [
    "from pyspark.sql import SparkSession"
   ]
  },
  {
   "cell_type": "code",
   "execution_count": 41,
   "id": "937f24a4-531d-461a-8250-0a3f8990ed1d",
   "metadata": {},
   "outputs": [],
   "source": [
    "import pyspark.sql.functions as F"
   ]
  },
  {
   "cell_type": "code",
   "execution_count": 42,
   "id": "45c0431b-47a3-4409-b9ef-724b9e38778e",
   "metadata": {},
   "outputs": [],
   "source": [
    "spark = (\n",
    "    SparkSession.builder\n",
    "    .appName(\"Curso de PySpark\")\n",
    "    .config(\"spark.sql.repl.eagerEval.enabled\", True)\n",
    "    .getOrCreate()\n",
    ")"
   ]
  },
  {
   "cell_type": "code",
   "execution_count": 43,
   "id": "07ce1b51-d759-44da-b355-5e4e85ff97b3",
   "metadata": {},
   "outputs": [
    {
     "data": {
      "text/html": [
       "\n",
       "            <div>\n",
       "                <p><b>SparkSession - in-memory</b></p>\n",
       "                \n",
       "        <div>\n",
       "            <p><b>SparkContext</b></p>\n",
       "\n",
       "            <p><a href=\"http://COLTWFGLFV04:4042\">Spark UI</a></p>\n",
       "\n",
       "            <dl>\n",
       "              <dt>Version</dt>\n",
       "                <dd><code>v3.5.5</code></dd>\n",
       "              <dt>Master</dt>\n",
       "                <dd><code>local[*]</code></dd>\n",
       "              <dt>AppName</dt>\n",
       "                <dd><code>Curso de PySpark</code></dd>\n",
       "            </dl>\n",
       "        </div>\n",
       "        \n",
       "            </div>\n",
       "        "
      ],
      "text/plain": [
       "<pyspark.sql.session.SparkSession at 0x2249551b5c0>"
      ]
     },
     "execution_count": 43,
     "metadata": {},
     "output_type": "execute_result"
    }
   ],
   "source": [
    "spark"
   ]
  },
  {
   "cell_type": "code",
   "execution_count": 44,
   "id": "f8bab850-2dcf-477d-8a7e-2c3d7539802b",
   "metadata": {},
   "outputs": [],
   "source": [
    "path = \"C:/Users/marlos.barros/Cursos/pyspark_na_pratica/DATASETS/LOGINS.parquet\""
   ]
  },
  {
   "cell_type": "code",
   "execution_count": 45,
   "id": "728bacf7-7f44-45a0-b2ee-39d28e0db3a7",
   "metadata": {},
   "outputs": [],
   "source": [
    "df = spark.read.format(\"parquet\").load(path)"
   ]
  },
  {
   "cell_type": "code",
   "execution_count": 46,
   "id": "b7563c40-cf5b-48ed-b96a-1dbbccf25b07",
   "metadata": {
    "scrolled": true
   },
   "outputs": [
    {
     "data": {
      "text/html": [
       "<table border='1'>\n",
       "<tr><th>cpf</th><th>email</th><th>senha</th><th>data_de_nascimento</th><th>estado</th><th>data_cadastro</th><th>ipv4</th><th>cor_favorita</th><th>profissao</th><th>telefone</th></tr>\n",
       "<tr><td>981.507.362-12</td><td>pedro-lucas53@gma...</td><td>+7^7E%xFBc</td><td>2006-12-18</td><td>RR</td><td>2023-02-26</td><td>99.107.250.210</td><td>Roxo</td><td>Jogador De Golfe</td><td>31 7785-4046</td></tr>\n",
       "<tr><td>493.705.168-75</td><td>rezendeisaac@hotm...</td><td>_O_2GRnGOe</td><td>1992-06-17</td><td>GO</td><td>2023-02-16</td><td>197.11.26.213</td><td>Ciano</td><td>Atleta De Arremes...</td><td>(031) 0803-6753</td></tr>\n",
       "<tr><td>398.471.625-73</td><td>felipepires@uol.c...</td><td>*Aw5EOAvy9</td><td>1921-11-11</td><td>MG</td><td>2023-01-02</td><td>181.90.63.58</td><td>Azul</td><td>Papiloscopista</td><td>11 9674-0553</td></tr>\n",
       "<tr><td>092.618.354-06</td><td>stellamoraes@bol....</td><td>mw0AWYAs#s</td><td>2021-06-01</td><td>AC</td><td>2023-01-08</td><td>26.121.127.94</td><td>Marrom</td><td>Aeromo&ccedil;a</td><td>+55 (071) 3033 9177</td></tr>\n",
       "<tr><td>509.427.136-99</td><td>wcarvalho@ig.com.br</td><td>pGD%!2Pq5X</td><td>1969-10-28</td><td>AP</td><td>2023-02-14</td><td>76.184.52.163</td><td>Laranja</td><td>Fonoaudi&oacute;logo</td><td>+55 (071) 6272 2468</td></tr>\n",
       "<tr><td>218.795.460-94</td><td>da-conceicaodavi-...</td><td>uhBbFxPA&amp;9</td><td>1986-05-19</td><td>MG</td><td>2023-03-07</td><td>192.93.0.24</td><td>Rosa</td><td>Taxista</td><td>+55 84 0652 9691</td></tr>\n",
       "<tr><td>715.836.940-48</td><td>efreitas@bol.com.br</td><td>s#q9VZt&amp;xl</td><td>2018-04-20</td><td>MG</td><td>2023-01-13</td><td>76.251.188.148</td><td>Branco</td><td>Produtor De Audio...</td><td>+55 (084) 1363 0052</td></tr>\n",
       "<tr><td>475.698.032-56</td><td>wnunes@bol.com.br</td><td>_8az1W%n7g</td><td>1996-05-12</td><td>SE</td><td>2023-02-04</td><td>139.196.176.154</td><td>Azul</td><td>Cadeirinha</td><td>(071) 1640-3388</td></tr>\n",
       "<tr><td>217.639.540-99</td><td>jribeiro@bol.com.br</td><td>MEf1X7fj_0</td><td>2021-10-05</td><td>PA</td><td>2023-03-02</td><td>71.22.224.5</td><td>Marrom</td><td>Ge&oacute;logo</td><td>21 1432 4092</td></tr>\n",
       "<tr><td>261.938.750-77</td><td>murilo05@gmail.com</td><td>Te&amp;gO7GkKs</td><td>1917-01-05</td><td>MT</td><td>2023-02-21</td><td>136.54.123.165</td><td>Marrom</td><td>T&eacute;cnico De Som</td><td>+55 (084) 5878-3346</td></tr>\n",
       "<tr><td>520.831.796-68</td><td>joaquim57@ig.com.br</td><td>&amp;2E1NY+ARc</td><td>1912-05-25</td><td>BA</td><td>2023-01-25</td><td>78.196.255.126</td><td>Rosa</td><td>Esteticista</td><td>41 7914-3753</td></tr>\n",
       "<tr><td>413.087.526-44</td><td>alexiada-rocha@ig...</td><td>@f@!Z!2c*2</td><td>1920-05-26</td><td>MS</td><td>2023-02-18</td><td>182.61.65.201</td><td>Laranja</td><td>Microfonista</td><td>(021) 3739-2944</td></tr>\n",
       "<tr><td>509.287.143-14</td><td>pmendes@gmail.com</td><td>M+^XDBfe(2</td><td>1938-03-11</td><td>RR</td><td>2023-01-19</td><td>61.234.208.17</td><td>Verde Claro</td><td>Fiscal</td><td>+55 (084) 5940-1932</td></tr>\n",
       "<tr><td>563.170.492-70</td><td>renan46@bol.com.br</td><td>Rp%2pVqfe$</td><td>1922-09-01</td><td>PA</td><td>2023-02-01</td><td>122.203.83.177</td><td>Verde Escuro</td><td>Contabilista</td><td>+55 41 6248 5773</td></tr>\n",
       "<tr><td>098.712.346-78</td><td>manuelada-rosa@ho...</td><td>#hEIEOztQ3</td><td>2013-01-10</td><td>SE</td><td>2023-01-07</td><td>175.18.73.211</td><td>Violeta</td><td>Seguidor De Compras</td><td>51 0278 0564</td></tr>\n",
       "<tr><td>345.709.261-34</td><td>usales@ig.com.br</td><td>b_8xaY$ozJ</td><td>1992-10-16</td><td>AM</td><td>2023-01-05</td><td>97.93.29.75</td><td>Rosa</td><td>Almirante</td><td>(084) 8993-4521</td></tr>\n",
       "<tr><td>318.254.906-51</td><td>pereiranicolas@ho...</td><td>YA9I85Wb+2</td><td>1945-11-18</td><td>MA</td><td>2023-01-24</td><td>182.195.33.137</td><td>Amarelo</td><td>Consultor De Moda</td><td>(084) 4591 3795</td></tr>\n",
       "<tr><td>610.287.453-62</td><td>cardosolivia@ig.c...</td><td>yXkDW7Ebh*</td><td>1915-11-15</td><td>GO</td><td>2023-01-22</td><td>195.194.63.184</td><td>Laranja</td><td>Barbeiro</td><td>+55 61 8967-9563</td></tr>\n",
       "<tr><td>615.790.842-49</td><td>brenda39@ig.com.br</td><td>XS$84Hpsnw</td><td>1964-02-01</td><td>RJ</td><td>2023-02-16</td><td>21.252.226.29</td><td>Branco</td><td>Promotor De Vendas</td><td>+55 (021) 4751 2004</td></tr>\n",
       "<tr><td>624.095.138-24</td><td>luizapeixoto@gmai...</td><td>TbKy82Kda$</td><td>1959-02-01</td><td>DF</td><td>2023-02-25</td><td>105.107.23.13</td><td>Ciano</td><td>Implantodontista</td><td>84 1293 1906</td></tr>\n",
       "</table>\n",
       "only showing top 20 rows\n"
      ],
      "text/plain": [
       "+--------------+--------------------+----------+------------------+------+-------------+---------------+------------+--------------------+-------------------+\n",
       "|           cpf|               email|     senha|data_de_nascimento|estado|data_cadastro|           ipv4|cor_favorita|           profissao|           telefone|\n",
       "+--------------+--------------------+----------+------------------+------+-------------+---------------+------------+--------------------+-------------------+\n",
       "|981.507.362-12|pedro-lucas53@gma...|+7^7E%xFBc|        2006-12-18|    RR|   2023-02-26| 99.107.250.210|        Roxo|    Jogador De Golfe|       31 7785-4046|\n",
       "|493.705.168-75|rezendeisaac@hotm...|_O_2GRnGOe|        1992-06-17|    GO|   2023-02-16|  197.11.26.213|       Ciano|Atleta De Arremes...|    (031) 0803-6753|\n",
       "|398.471.625-73|felipepires@uol.c...|*Aw5EOAvy9|        1921-11-11|    MG|   2023-01-02|   181.90.63.58|        Azul|      Papiloscopista|       11 9674-0553|\n",
       "|092.618.354-06|stellamoraes@bol....|mw0AWYAs#s|        2021-06-01|    AC|   2023-01-08|  26.121.127.94|      Marrom|            Aeromoça|+55 (071) 3033 9177|\n",
       "|509.427.136-99| wcarvalho@ig.com.br|pGD%!2Pq5X|        1969-10-28|    AP|   2023-02-14|  76.184.52.163|     Laranja|       Fonoaudiólogo|+55 (071) 6272 2468|\n",
       "|218.795.460-94|da-conceicaodavi-...|uhBbFxPA&9|        1986-05-19|    MG|   2023-03-07|    192.93.0.24|        Rosa|             Taxista|   +55 84 0652 9691|\n",
       "|715.836.940-48| efreitas@bol.com.br|s#q9VZt&xl|        2018-04-20|    MG|   2023-01-13| 76.251.188.148|      Branco|Produtor De Audio...|+55 (084) 1363 0052|\n",
       "|475.698.032-56|   wnunes@bol.com.br|_8az1W%n7g|        1996-05-12|    SE|   2023-02-04|139.196.176.154|        Azul|          Cadeirinha|    (071) 1640-3388|\n",
       "|217.639.540-99| jribeiro@bol.com.br|MEf1X7fj_0|        2021-10-05|    PA|   2023-03-02|    71.22.224.5|      Marrom|             Geólogo|       21 1432 4092|\n",
       "|261.938.750-77|  murilo05@gmail.com|Te&gO7GkKs|        1917-01-05|    MT|   2023-02-21| 136.54.123.165|      Marrom|      Técnico De Som|+55 (084) 5878-3346|\n",
       "|520.831.796-68| joaquim57@ig.com.br|&2E1NY+ARc|        1912-05-25|    BA|   2023-01-25| 78.196.255.126|        Rosa|         Esteticista|       41 7914-3753|\n",
       "|413.087.526-44|alexiada-rocha@ig...|@f@!Z!2c*2|        1920-05-26|    MS|   2023-02-18|  182.61.65.201|     Laranja|        Microfonista|    (021) 3739-2944|\n",
       "|509.287.143-14|   pmendes@gmail.com|M+^XDBfe(2|        1938-03-11|    RR|   2023-01-19|  61.234.208.17| Verde Claro|              Fiscal|+55 (084) 5940-1932|\n",
       "|563.170.492-70|  renan46@bol.com.br|Rp%2pVqfe$|        1922-09-01|    PA|   2023-02-01| 122.203.83.177|Verde Escuro|        Contabilista|   +55 41 6248 5773|\n",
       "|098.712.346-78|manuelada-rosa@ho...|#hEIEOztQ3|        2013-01-10|    SE|   2023-01-07|  175.18.73.211|     Violeta| Seguidor De Compras|       51 0278 0564|\n",
       "|345.709.261-34|    usales@ig.com.br|b_8xaY$ozJ|        1992-10-16|    AM|   2023-01-05|    97.93.29.75|        Rosa|           Almirante|    (084) 8993-4521|\n",
       "|318.254.906-51|pereiranicolas@ho...|YA9I85Wb+2|        1945-11-18|    MA|   2023-01-24| 182.195.33.137|     Amarelo|   Consultor De Moda|    (084) 4591 3795|\n",
       "|610.287.453-62|cardosolivia@ig.c...|yXkDW7Ebh*|        1915-11-15|    GO|   2023-01-22| 195.194.63.184|     Laranja|            Barbeiro|   +55 61 8967-9563|\n",
       "|615.790.842-49|  brenda39@ig.com.br|XS$84Hpsnw|        1964-02-01|    RJ|   2023-02-16|  21.252.226.29|      Branco|  Promotor De Vendas|+55 (021) 4751 2004|\n",
       "|624.095.138-24|luizapeixoto@gmai...|TbKy82Kda$|        1959-02-01|    DF|   2023-02-25|  105.107.23.13|       Ciano|    Implantodontista|       84 1293 1906|\n",
       "+--------------+--------------------+----------+------------------+------+-------------+---------------+------------+--------------------+-------------------+\n",
       "only showing top 20 rows"
      ]
     },
     "execution_count": 46,
     "metadata": {},
     "output_type": "execute_result"
    }
   ],
   "source": [
    "df"
   ]
  },
  {
   "cell_type": "markdown",
   "id": "ca81f02b-bcea-4382-b1b3-fbdd8cdd314c",
   "metadata": {},
   "source": [
    "### **filter() e where()**\n",
    "- Tanto **filter()** quanto **where()** são equivalentes no PySpark. Eles fazem a mesma coisa: filtram linhas com base em uma condição. A escolha entre os dois é puramente estilística, já que internamente eles são idênticos.\n",
    "    - **filter()**: é inspirado no estilo de código de programação funcional.\n",
    "    - **where()**: é mais próximo da sintaxe SQL."
   ]
  },
  {
   "cell_type": "markdown",
   "id": "89aa6e5a-5a67-4658-bfbd-4ccf7e19242f",
   "metadata": {},
   "source": [
    "- **Arquitetura Profissional**: Usar filtros encadeados, como no exemplo acima, é uma prática profissional"
   ]
  },
  {
   "cell_type": "code",
   "execution_count": 97,
   "id": "6ad2478e-fe5b-49dd-9223-ac36a1495d2b",
   "metadata": {},
   "outputs": [
    {
     "data": {
      "text/html": [
       "<table border='1'>\n",
       "<tr><th>cpf</th><th>email</th><th>senha</th><th>data_de_nascimento</th><th>estado</th><th>data_cadastro</th><th>ipv4</th><th>cor_favorita</th><th>profissao</th><th>telefone</th></tr>\n",
       "<tr><td>943.185.762-64</td><td>melissa97@bol.com.br</td><td>MBlZ9BOwp(</td><td>1953-06-09</td><td>PE</td><td>2023-01-16</td><td>97.254.23.196</td><td>Azul</td><td>F&iacute;sico</td><td>31 6169-0705</td></tr>\n",
       "<tr><td>319.075.682-12</td><td>costelaanthony@ig...</td><td>9gV6dGC0%b</td><td>1946-09-05</td><td>PE</td><td>2023-02-24</td><td>142.48.1.57</td><td>Azul</td><td>Profissional De L...</td><td>(084) 5454 1963</td></tr>\n",
       "<tr><td>805.379.421-14</td><td>gustavovieira@yah...</td><td>w2Upbeq*+3</td><td>1935-02-14</td><td>PE</td><td>2023-01-02</td><td>96.105.122.22</td><td>Azul</td><td>Administrador</td><td>+55 11 8342-3551</td></tr>\n",
       "<tr><td>374.261.590-43</td><td>maria-julia66@ig....</td><td>M3Db&amp;rIg(o</td><td>1936-10-19</td><td>PE</td><td>2023-03-08</td><td>100.25.32.235</td><td>Azul</td><td>Nadador</td><td>0500 408 3067</td></tr>\n",
       "</table>\n"
      ],
      "text/plain": [
       "+--------------+--------------------+----------+------------------+------+-------------+-------------+------------+--------------------+----------------+\n",
       "|           cpf|               email|     senha|data_de_nascimento|estado|data_cadastro|         ipv4|cor_favorita|           profissao|        telefone|\n",
       "+--------------+--------------------+----------+------------------+------+-------------+-------------+------------+--------------------+----------------+\n",
       "|943.185.762-64|melissa97@bol.com.br|MBlZ9BOwp(|        1953-06-09|    PE|   2023-01-16|97.254.23.196|        Azul|              Físico|    31 6169-0705|\n",
       "|319.075.682-12|costelaanthony@ig...|9gV6dGC0%b|        1946-09-05|    PE|   2023-02-24|  142.48.1.57|        Azul|Profissional De L...| (084) 5454 1963|\n",
       "|805.379.421-14|gustavovieira@yah...|w2Upbeq*+3|        1935-02-14|    PE|   2023-01-02|96.105.122.22|        Azul|       Administrador|+55 11 8342-3551|\n",
       "|374.261.590-43|maria-julia66@ig....|M3Db&rIg(o|        1936-10-19|    PE|   2023-03-08|100.25.32.235|        Azul|             Nadador|   0500 408 3067|\n",
       "+--------------+--------------------+----------+------------------+------+-------------+-------------+------------+--------------------+----------------+"
      ]
     },
     "execution_count": 97,
     "metadata": {},
     "output_type": "execute_result"
    }
   ],
   "source": [
    "df.filter(F.col(\"estado\") == 'PE').filter(F.col(\"cor_favorita\") == 'Azul')\n",
    "# OU\n",
    "df.where(F.col(\"estado\") == 'PE').where(F.col(\"cor_favorita\") == 'Azul')"
   ]
  },
  {
   "cell_type": "markdown",
   "id": "160f5d7b-0d61-4f3c-ac97-ce620772a5d1",
   "metadata": {},
   "source": [
    "- Filtros com operadores lógicos:\n",
    "    - **AND = &**\n",
    "    - **OR = |**"
   ]
  },
  {
   "cell_type": "markdown",
   "id": "62c5f651-a3bd-49c6-8ab9-a0d393554888",
   "metadata": {},
   "source": [
    "- AND = &"
   ]
  },
  {
   "cell_type": "code",
   "execution_count": 98,
   "id": "8dceadea-a1f1-4621-b82e-a3d2db83a05f",
   "metadata": {
    "scrolled": true
   },
   "outputs": [
    {
     "data": {
      "text/html": [
       "<table border='1'>\n",
       "<tr><th>cpf</th><th>email</th><th>senha</th><th>data_de_nascimento</th><th>estado</th><th>data_cadastro</th><th>ipv4</th><th>cor_favorita</th><th>profissao</th><th>telefone</th></tr>\n",
       "<tr><td>943.185.762-64</td><td>melissa97@bol.com.br</td><td>MBlZ9BOwp(</td><td>1953-06-09</td><td>PE</td><td>2023-01-16</td><td>97.254.23.196</td><td>Azul</td><td>F&iacute;sico</td><td>31 6169-0705</td></tr>\n",
       "<tr><td>319.075.682-12</td><td>costelaanthony@ig...</td><td>9gV6dGC0%b</td><td>1946-09-05</td><td>PE</td><td>2023-02-24</td><td>142.48.1.57</td><td>Azul</td><td>Profissional De L...</td><td>(084) 5454 1963</td></tr>\n",
       "<tr><td>805.379.421-14</td><td>gustavovieira@yah...</td><td>w2Upbeq*+3</td><td>1935-02-14</td><td>PE</td><td>2023-01-02</td><td>96.105.122.22</td><td>Azul</td><td>Administrador</td><td>+55 11 8342-3551</td></tr>\n",
       "<tr><td>374.261.590-43</td><td>maria-julia66@ig....</td><td>M3Db&amp;rIg(o</td><td>1936-10-19</td><td>PE</td><td>2023-03-08</td><td>100.25.32.235</td><td>Azul</td><td>Nadador</td><td>0500 408 3067</td></tr>\n",
       "</table>\n"
      ],
      "text/plain": [
       "+--------------+--------------------+----------+------------------+------+-------------+-------------+------------+--------------------+----------------+\n",
       "|           cpf|               email|     senha|data_de_nascimento|estado|data_cadastro|         ipv4|cor_favorita|           profissao|        telefone|\n",
       "+--------------+--------------------+----------+------------------+------+-------------+-------------+------------+--------------------+----------------+\n",
       "|943.185.762-64|melissa97@bol.com.br|MBlZ9BOwp(|        1953-06-09|    PE|   2023-01-16|97.254.23.196|        Azul|              Físico|    31 6169-0705|\n",
       "|319.075.682-12|costelaanthony@ig...|9gV6dGC0%b|        1946-09-05|    PE|   2023-02-24|  142.48.1.57|        Azul|Profissional De L...| (084) 5454 1963|\n",
       "|805.379.421-14|gustavovieira@yah...|w2Upbeq*+3|        1935-02-14|    PE|   2023-01-02|96.105.122.22|        Azul|       Administrador|+55 11 8342-3551|\n",
       "|374.261.590-43|maria-julia66@ig....|M3Db&rIg(o|        1936-10-19|    PE|   2023-03-08|100.25.32.235|        Azul|             Nadador|   0500 408 3067|\n",
       "+--------------+--------------------+----------+------------------+------+-------------+-------------+------------+--------------------+----------------+"
      ]
     },
     "execution_count": 98,
     "metadata": {},
     "output_type": "execute_result"
    }
   ],
   "source": [
    "df.filter( (F.col(\"estado\") == 'PE') & (F.col(\"cor_favorita\") == 'Azul') )"
   ]
  },
  {
   "cell_type": "markdown",
   "id": "196079aa-6206-4890-a0cd-78327a996691",
   "metadata": {},
   "source": [
    "- OR = |"
   ]
  },
  {
   "cell_type": "code",
   "execution_count": 94,
   "id": "ae2c81a4-9fcf-4b9b-ba48-bca6f9df4f98",
   "metadata": {
    "scrolled": true
   },
   "outputs": [
    {
     "data": {
      "text/html": [
       "<table border='1'>\n",
       "<tr><th>cpf</th><th>email</th><th>senha</th><th>data_de_nascimento</th><th>estado</th><th>data_cadastro</th><th>ipv4</th><th>cor_favorita</th><th>profissao</th><th>telefone</th></tr>\n",
       "<tr><td>493.705.168-75</td><td>rezendeisaac@hotm...</td><td>_O_2GRnGOe</td><td>1992-06-17</td><td>GO</td><td>2023-02-16</td><td>197.11.26.213</td><td>Ciano</td><td>Atleta De Arremes...</td><td>(031) 0803-6753</td></tr>\n",
       "<tr><td>398.471.625-73</td><td>felipepires@uol.c...</td><td>*Aw5EOAvy9</td><td>1921-11-11</td><td>MG</td><td>2023-01-02</td><td>181.90.63.58</td><td>Azul</td><td>Papiloscopista</td><td>11 9674-0553</td></tr>\n",
       "<tr><td>475.698.032-56</td><td>wnunes@bol.com.br</td><td>_8az1W%n7g</td><td>1996-05-12</td><td>SE</td><td>2023-02-04</td><td>139.196.176.154</td><td>Azul</td><td>Cadeirinha</td><td>(071) 1640-3388</td></tr>\n",
       "<tr><td>624.095.138-24</td><td>luizapeixoto@gmai...</td><td>TbKy82Kda$</td><td>1959-02-01</td><td>DF</td><td>2023-02-25</td><td>105.107.23.13</td><td>Ciano</td><td>Implantodontista</td><td>84 1293 1906</td></tr>\n",
       "<tr><td>498.071.356-48</td><td>davi47@bol.com.br</td><td>$XJ)MDIUj7</td><td>1985-08-25</td><td>MA</td><td>2023-03-10</td><td>211.146.130.224</td><td>Azul</td><td>Lenhador</td><td>0800 449 6212</td></tr>\n",
       "<tr><td>486.970.253-38</td><td>isabelly04@uol.co...</td><td>9n8Gsa#7&amp;*</td><td>1934-11-26</td><td>AM</td><td>2023-03-03</td><td>30.212.117.133</td><td>Ciano</td><td>Triatleta</td><td>+55 51 5926 5593</td></tr>\n",
       "<tr><td>417.902.385-79</td><td>vda-cruz@bol.com.br</td><td>g8NiwxWC_z</td><td>1994-05-11</td><td>AC</td><td>2023-02-07</td><td>146.83.148.200</td><td>Ciano</td><td>Profissional De I...</td><td>+55 (071) 9845-9087</td></tr>\n",
       "<tr><td>238.594.160-06</td><td>uduarte@bol.com.br</td><td>h$2W8we*ZU</td><td>1982-03-24</td><td>ES</td><td>2023-01-22</td><td>214.223.195.14</td><td>Ciano</td><td>Espeleologista</td><td>+55 41 5206-4691</td></tr>\n",
       "<tr><td>472.169.308-78</td><td>fnascimento@gmail...</td><td>tg4*MbRT%)</td><td>1916-10-13</td><td>SE</td><td>2023-01-26</td><td>170.27.50.118</td><td>Azul</td><td>Panificador/Padeiro</td><td>+55 81 3465 6714</td></tr>\n",
       "<tr><td>308.942.751-60</td><td>hpires@gmail.com</td><td>#^yq9HIt0h</td><td>1996-03-08</td><td>PE</td><td>2023-02-14</td><td>139.209.144.207</td><td>Ciano</td><td>Estofador</td><td>+55 31 1784 8068</td></tr>\n",
       "<tr><td>479.305.682-29</td><td>ebarros@bol.com.br</td><td>@RJR#F9i40</td><td>2022-11-28</td><td>RO</td><td>2023-02-05</td><td>25.193.96.93</td><td>Azul</td><td>Esteticista</td><td>51 8923 1493</td></tr>\n",
       "<tr><td>859.730.624-65</td><td>jesusjoao-pedro@b...</td><td>e6GTOgSu&amp;x</td><td>1934-12-10</td><td>RS</td><td>2023-03-14</td><td>166.167.217.88</td><td>Azul</td><td>Especialista Em A...</td><td>(061) 5783-0665</td></tr>\n",
       "<tr><td>876.534.029-92</td><td>pietrarocha@hotma...</td><td>YqG8G82#M(</td><td>2018-09-20</td><td>BA</td><td>2023-02-07</td><td>7.65.90.115</td><td>Azul</td><td>General</td><td>81 2134-1812</td></tr>\n",
       "<tr><td>387.940.612-03</td><td>renanda-rocha@ig....</td><td>J@7g(ZC2Za</td><td>2016-04-07</td><td>BA</td><td>2023-03-03</td><td>161.182.89.54</td><td>Azul</td><td>Windsurfer</td><td>11 7835-0713</td></tr>\n",
       "<tr><td>673.504.918-75</td><td>da-motaisabelly@g...</td><td>&amp;#1p4%Gqfz</td><td>2003-02-25</td><td>RS</td><td>2023-01-30</td><td>141.112.137.141</td><td>Azul</td><td>Int&eacute;rprete</td><td>+55 (011) 2871 0453</td></tr>\n",
       "<tr><td>015.289.376-86</td><td>xcardoso@hotmail.com</td><td>2oNEEO5G(H</td><td>1916-09-11</td><td>SC</td><td>2023-02-07</td><td>78.128.223.183</td><td>Azul</td><td>Qu&iacute;mico Farmac&ecirc;utico</td><td>+55 (021) 5075-4981</td></tr>\n",
       "<tr><td>819.506.732-86</td><td>marcela40@gmail.com</td><td>k+g(8Ki@sn</td><td>2014-12-31</td><td>TO</td><td>2023-02-28</td><td>91.159.82.213</td><td>Ciano</td><td>Espeleologista</td><td>41 8190-4348</td></tr>\n",
       "<tr><td>932.567.014-34</td><td>caio40@hotmail.com</td><td>2UQ2p)5q@Y</td><td>1986-01-31</td><td>GO</td><td>2023-01-22</td><td>112.23.224.126</td><td>Azul</td><td>Flautista</td><td>+55 (081) 5756-7067</td></tr>\n",
       "<tr><td>723.419.058-97</td><td>joana43@uol.com.br</td><td>vk7R1o#zI!</td><td>1936-01-31</td><td>RR</td><td>2023-02-07</td><td>23.153.28.160</td><td>Azul</td><td>Jogador De Futebol</td><td>0900 150 4170</td></tr>\n",
       "<tr><td>943.185.762-64</td><td>melissa97@bol.com.br</td><td>MBlZ9BOwp(</td><td>1953-06-09</td><td>PE</td><td>2023-01-16</td><td>97.254.23.196</td><td>Azul</td><td>F&iacute;sico</td><td>31 6169-0705</td></tr>\n",
       "</table>\n",
       "only showing top 20 rows\n"
      ],
      "text/plain": [
       "+--------------+--------------------+----------+------------------+------+-------------+---------------+------------+--------------------+-------------------+\n",
       "|           cpf|               email|     senha|data_de_nascimento|estado|data_cadastro|           ipv4|cor_favorita|           profissao|           telefone|\n",
       "+--------------+--------------------+----------+------------------+------+-------------+---------------+------------+--------------------+-------------------+\n",
       "|493.705.168-75|rezendeisaac@hotm...|_O_2GRnGOe|        1992-06-17|    GO|   2023-02-16|  197.11.26.213|       Ciano|Atleta De Arremes...|    (031) 0803-6753|\n",
       "|398.471.625-73|felipepires@uol.c...|*Aw5EOAvy9|        1921-11-11|    MG|   2023-01-02|   181.90.63.58|        Azul|      Papiloscopista|       11 9674-0553|\n",
       "|475.698.032-56|   wnunes@bol.com.br|_8az1W%n7g|        1996-05-12|    SE|   2023-02-04|139.196.176.154|        Azul|          Cadeirinha|    (071) 1640-3388|\n",
       "|624.095.138-24|luizapeixoto@gmai...|TbKy82Kda$|        1959-02-01|    DF|   2023-02-25|  105.107.23.13|       Ciano|    Implantodontista|       84 1293 1906|\n",
       "|498.071.356-48|   davi47@bol.com.br|$XJ)MDIUj7|        1985-08-25|    MA|   2023-03-10|211.146.130.224|        Azul|            Lenhador|      0800 449 6212|\n",
       "|486.970.253-38|isabelly04@uol.co...|9n8Gsa#7&*|        1934-11-26|    AM|   2023-03-03| 30.212.117.133|       Ciano|           Triatleta|   +55 51 5926 5593|\n",
       "|417.902.385-79| vda-cruz@bol.com.br|g8NiwxWC_z|        1994-05-11|    AC|   2023-02-07| 146.83.148.200|       Ciano|Profissional De I...|+55 (071) 9845-9087|\n",
       "|238.594.160-06|  uduarte@bol.com.br|h$2W8we*ZU|        1982-03-24|    ES|   2023-01-22| 214.223.195.14|       Ciano|      Espeleologista|   +55 41 5206-4691|\n",
       "|472.169.308-78|fnascimento@gmail...|tg4*MbRT%)|        1916-10-13|    SE|   2023-01-26|  170.27.50.118|        Azul| Panificador/Padeiro|   +55 81 3465 6714|\n",
       "|308.942.751-60|    hpires@gmail.com|#^yq9HIt0h|        1996-03-08|    PE|   2023-02-14|139.209.144.207|       Ciano|           Estofador|   +55 31 1784 8068|\n",
       "|479.305.682-29|  ebarros@bol.com.br|@RJR#F9i40|        2022-11-28|    RO|   2023-02-05|   25.193.96.93|        Azul|         Esteticista|       51 8923 1493|\n",
       "|859.730.624-65|jesusjoao-pedro@b...|e6GTOgSu&x|        1934-12-10|    RS|   2023-03-14| 166.167.217.88|        Azul|Especialista Em A...|    (061) 5783-0665|\n",
       "|876.534.029-92|pietrarocha@hotma...|YqG8G82#M(|        2018-09-20|    BA|   2023-02-07|    7.65.90.115|        Azul|             General|       81 2134-1812|\n",
       "|387.940.612-03|renanda-rocha@ig....|J@7g(ZC2Za|        2016-04-07|    BA|   2023-03-03|  161.182.89.54|        Azul|          Windsurfer|       11 7835-0713|\n",
       "|673.504.918-75|da-motaisabelly@g...|&#1p4%Gqfz|        2003-02-25|    RS|   2023-01-30|141.112.137.141|        Azul|          Intérprete|+55 (011) 2871 0453|\n",
       "|015.289.376-86|xcardoso@hotmail.com|2oNEEO5G(H|        1916-09-11|    SC|   2023-02-07| 78.128.223.183|        Azul|Químico Farmacêutico|+55 (021) 5075-4981|\n",
       "|819.506.732-86| marcela40@gmail.com|k+g(8Ki@sn|        2014-12-31|    TO|   2023-02-28|  91.159.82.213|       Ciano|      Espeleologista|       41 8190-4348|\n",
       "|932.567.014-34|  caio40@hotmail.com|2UQ2p)5q@Y|        1986-01-31|    GO|   2023-01-22| 112.23.224.126|        Azul|           Flautista|+55 (081) 5756-7067|\n",
       "|723.419.058-97|  joana43@uol.com.br|vk7R1o#zI!|        1936-01-31|    RR|   2023-02-07|  23.153.28.160|        Azul|  Jogador De Futebol|      0900 150 4170|\n",
       "|943.185.762-64|melissa97@bol.com.br|MBlZ9BOwp(|        1953-06-09|    PE|   2023-01-16|  97.254.23.196|        Azul|              Físico|       31 6169-0705|\n",
       "+--------------+--------------------+----------+------------------+------+-------------+---------------+------------+--------------------+-------------------+\n",
       "only showing top 20 rows"
      ]
     },
     "execution_count": 94,
     "metadata": {},
     "output_type": "execute_result"
    }
   ],
   "source": [
    "df.filter( (F.col(\"cor_favorita\") == 'Ciano') | (F.col(\"cor_favorita\") == 'Azul') )"
   ]
  },
  {
   "cell_type": "markdown",
   "id": "941cd083-4d63-4fbe-a40b-ece7c04aa1e4",
   "metadata": {},
   "source": [
    "- Uso de **isin()**:\n",
    "- **isin()** é uma maneira compacta de verificar se uma coluna contém um valor em uma lista de valores.\n",
    "- **Arquitetura Profissional**: Usar o **isin()** é altamente recomendada quando você precisa verificar se uma coluna está em uma lista de valores, pois é mais conciso e legível do que usar uma sequência de operadores OR."
   ]
  },
  {
   "cell_type": "code",
   "execution_count": 82,
   "id": "277dcadd-6bf9-430c-a1c1-739d599e96c5",
   "metadata": {
    "scrolled": true
   },
   "outputs": [
    {
     "data": {
      "text/html": [
       "<table border='1'>\n",
       "<tr><th>cpf</th><th>email</th><th>senha</th><th>data_de_nascimento</th><th>estado</th><th>data_cadastro</th><th>ipv4</th><th>cor_favorita</th><th>profissao</th><th>telefone</th></tr>\n",
       "<tr><td>493.705.168-75</td><td>rezendeisaac@hotm...</td><td>_O_2GRnGOe</td><td>1992-06-17</td><td>GO</td><td>2023-02-16</td><td>197.11.26.213</td><td>Ciano</td><td>Atleta De Arremes...</td><td>(031) 0803-6753</td></tr>\n",
       "<tr><td>398.471.625-73</td><td>felipepires@uol.c...</td><td>*Aw5EOAvy9</td><td>1921-11-11</td><td>MG</td><td>2023-01-02</td><td>181.90.63.58</td><td>Azul</td><td>Papiloscopista</td><td>11 9674-0553</td></tr>\n",
       "<tr><td>475.698.032-56</td><td>wnunes@bol.com.br</td><td>_8az1W%n7g</td><td>1996-05-12</td><td>SE</td><td>2023-02-04</td><td>139.196.176.154</td><td>Azul</td><td>Cadeirinha</td><td>(071) 1640-3388</td></tr>\n",
       "<tr><td>624.095.138-24</td><td>luizapeixoto@gmai...</td><td>TbKy82Kda$</td><td>1959-02-01</td><td>DF</td><td>2023-02-25</td><td>105.107.23.13</td><td>Ciano</td><td>Implantodontista</td><td>84 1293 1906</td></tr>\n",
       "<tr><td>498.071.356-48</td><td>davi47@bol.com.br</td><td>$XJ)MDIUj7</td><td>1985-08-25</td><td>MA</td><td>2023-03-10</td><td>211.146.130.224</td><td>Azul</td><td>Lenhador</td><td>0800 449 6212</td></tr>\n",
       "<tr><td>486.970.253-38</td><td>isabelly04@uol.co...</td><td>9n8Gsa#7&amp;*</td><td>1934-11-26</td><td>AM</td><td>2023-03-03</td><td>30.212.117.133</td><td>Ciano</td><td>Triatleta</td><td>+55 51 5926 5593</td></tr>\n",
       "<tr><td>417.902.385-79</td><td>vda-cruz@bol.com.br</td><td>g8NiwxWC_z</td><td>1994-05-11</td><td>AC</td><td>2023-02-07</td><td>146.83.148.200</td><td>Ciano</td><td>Profissional De I...</td><td>+55 (071) 9845-9087</td></tr>\n",
       "<tr><td>238.594.160-06</td><td>uduarte@bol.com.br</td><td>h$2W8we*ZU</td><td>1982-03-24</td><td>ES</td><td>2023-01-22</td><td>214.223.195.14</td><td>Ciano</td><td>Espeleologista</td><td>+55 41 5206-4691</td></tr>\n",
       "<tr><td>472.169.308-78</td><td>fnascimento@gmail...</td><td>tg4*MbRT%)</td><td>1916-10-13</td><td>SE</td><td>2023-01-26</td><td>170.27.50.118</td><td>Azul</td><td>Panificador/Padeiro</td><td>+55 81 3465 6714</td></tr>\n",
       "<tr><td>308.942.751-60</td><td>hpires@gmail.com</td><td>#^yq9HIt0h</td><td>1996-03-08</td><td>PE</td><td>2023-02-14</td><td>139.209.144.207</td><td>Ciano</td><td>Estofador</td><td>+55 31 1784 8068</td></tr>\n",
       "<tr><td>479.305.682-29</td><td>ebarros@bol.com.br</td><td>@RJR#F9i40</td><td>2022-11-28</td><td>RO</td><td>2023-02-05</td><td>25.193.96.93</td><td>Azul</td><td>Esteticista</td><td>51 8923 1493</td></tr>\n",
       "<tr><td>859.730.624-65</td><td>jesusjoao-pedro@b...</td><td>e6GTOgSu&amp;x</td><td>1934-12-10</td><td>RS</td><td>2023-03-14</td><td>166.167.217.88</td><td>Azul</td><td>Especialista Em A...</td><td>(061) 5783-0665</td></tr>\n",
       "<tr><td>876.534.029-92</td><td>pietrarocha@hotma...</td><td>YqG8G82#M(</td><td>2018-09-20</td><td>BA</td><td>2023-02-07</td><td>7.65.90.115</td><td>Azul</td><td>General</td><td>81 2134-1812</td></tr>\n",
       "<tr><td>387.940.612-03</td><td>renanda-rocha@ig....</td><td>J@7g(ZC2Za</td><td>2016-04-07</td><td>BA</td><td>2023-03-03</td><td>161.182.89.54</td><td>Azul</td><td>Windsurfer</td><td>11 7835-0713</td></tr>\n",
       "<tr><td>673.504.918-75</td><td>da-motaisabelly@g...</td><td>&amp;#1p4%Gqfz</td><td>2003-02-25</td><td>RS</td><td>2023-01-30</td><td>141.112.137.141</td><td>Azul</td><td>Int&eacute;rprete</td><td>+55 (011) 2871 0453</td></tr>\n",
       "<tr><td>015.289.376-86</td><td>xcardoso@hotmail.com</td><td>2oNEEO5G(H</td><td>1916-09-11</td><td>SC</td><td>2023-02-07</td><td>78.128.223.183</td><td>Azul</td><td>Qu&iacute;mico Farmac&ecirc;utico</td><td>+55 (021) 5075-4981</td></tr>\n",
       "<tr><td>819.506.732-86</td><td>marcela40@gmail.com</td><td>k+g(8Ki@sn</td><td>2014-12-31</td><td>TO</td><td>2023-02-28</td><td>91.159.82.213</td><td>Ciano</td><td>Espeleologista</td><td>41 8190-4348</td></tr>\n",
       "<tr><td>932.567.014-34</td><td>caio40@hotmail.com</td><td>2UQ2p)5q@Y</td><td>1986-01-31</td><td>GO</td><td>2023-01-22</td><td>112.23.224.126</td><td>Azul</td><td>Flautista</td><td>+55 (081) 5756-7067</td></tr>\n",
       "<tr><td>723.419.058-97</td><td>joana43@uol.com.br</td><td>vk7R1o#zI!</td><td>1936-01-31</td><td>RR</td><td>2023-02-07</td><td>23.153.28.160</td><td>Azul</td><td>Jogador De Futebol</td><td>0900 150 4170</td></tr>\n",
       "<tr><td>943.185.762-64</td><td>melissa97@bol.com.br</td><td>MBlZ9BOwp(</td><td>1953-06-09</td><td>PE</td><td>2023-01-16</td><td>97.254.23.196</td><td>Azul</td><td>F&iacute;sico</td><td>31 6169-0705</td></tr>\n",
       "</table>\n",
       "only showing top 20 rows\n"
      ],
      "text/plain": [
       "+--------------+--------------------+----------+------------------+------+-------------+---------------+------------+--------------------+-------------------+\n",
       "|           cpf|               email|     senha|data_de_nascimento|estado|data_cadastro|           ipv4|cor_favorita|           profissao|           telefone|\n",
       "+--------------+--------------------+----------+------------------+------+-------------+---------------+------------+--------------------+-------------------+\n",
       "|493.705.168-75|rezendeisaac@hotm...|_O_2GRnGOe|        1992-06-17|    GO|   2023-02-16|  197.11.26.213|       Ciano|Atleta De Arremes...|    (031) 0803-6753|\n",
       "|398.471.625-73|felipepires@uol.c...|*Aw5EOAvy9|        1921-11-11|    MG|   2023-01-02|   181.90.63.58|        Azul|      Papiloscopista|       11 9674-0553|\n",
       "|475.698.032-56|   wnunes@bol.com.br|_8az1W%n7g|        1996-05-12|    SE|   2023-02-04|139.196.176.154|        Azul|          Cadeirinha|    (071) 1640-3388|\n",
       "|624.095.138-24|luizapeixoto@gmai...|TbKy82Kda$|        1959-02-01|    DF|   2023-02-25|  105.107.23.13|       Ciano|    Implantodontista|       84 1293 1906|\n",
       "|498.071.356-48|   davi47@bol.com.br|$XJ)MDIUj7|        1985-08-25|    MA|   2023-03-10|211.146.130.224|        Azul|            Lenhador|      0800 449 6212|\n",
       "|486.970.253-38|isabelly04@uol.co...|9n8Gsa#7&*|        1934-11-26|    AM|   2023-03-03| 30.212.117.133|       Ciano|           Triatleta|   +55 51 5926 5593|\n",
       "|417.902.385-79| vda-cruz@bol.com.br|g8NiwxWC_z|        1994-05-11|    AC|   2023-02-07| 146.83.148.200|       Ciano|Profissional De I...|+55 (071) 9845-9087|\n",
       "|238.594.160-06|  uduarte@bol.com.br|h$2W8we*ZU|        1982-03-24|    ES|   2023-01-22| 214.223.195.14|       Ciano|      Espeleologista|   +55 41 5206-4691|\n",
       "|472.169.308-78|fnascimento@gmail...|tg4*MbRT%)|        1916-10-13|    SE|   2023-01-26|  170.27.50.118|        Azul| Panificador/Padeiro|   +55 81 3465 6714|\n",
       "|308.942.751-60|    hpires@gmail.com|#^yq9HIt0h|        1996-03-08|    PE|   2023-02-14|139.209.144.207|       Ciano|           Estofador|   +55 31 1784 8068|\n",
       "|479.305.682-29|  ebarros@bol.com.br|@RJR#F9i40|        2022-11-28|    RO|   2023-02-05|   25.193.96.93|        Azul|         Esteticista|       51 8923 1493|\n",
       "|859.730.624-65|jesusjoao-pedro@b...|e6GTOgSu&x|        1934-12-10|    RS|   2023-03-14| 166.167.217.88|        Azul|Especialista Em A...|    (061) 5783-0665|\n",
       "|876.534.029-92|pietrarocha@hotma...|YqG8G82#M(|        2018-09-20|    BA|   2023-02-07|    7.65.90.115|        Azul|             General|       81 2134-1812|\n",
       "|387.940.612-03|renanda-rocha@ig....|J@7g(ZC2Za|        2016-04-07|    BA|   2023-03-03|  161.182.89.54|        Azul|          Windsurfer|       11 7835-0713|\n",
       "|673.504.918-75|da-motaisabelly@g...|&#1p4%Gqfz|        2003-02-25|    RS|   2023-01-30|141.112.137.141|        Azul|          Intérprete|+55 (011) 2871 0453|\n",
       "|015.289.376-86|xcardoso@hotmail.com|2oNEEO5G(H|        1916-09-11|    SC|   2023-02-07| 78.128.223.183|        Azul|Químico Farmacêutico|+55 (021) 5075-4981|\n",
       "|819.506.732-86| marcela40@gmail.com|k+g(8Ki@sn|        2014-12-31|    TO|   2023-02-28|  91.159.82.213|       Ciano|      Espeleologista|       41 8190-4348|\n",
       "|932.567.014-34|  caio40@hotmail.com|2UQ2p)5q@Y|        1986-01-31|    GO|   2023-01-22| 112.23.224.126|        Azul|           Flautista|+55 (081) 5756-7067|\n",
       "|723.419.058-97|  joana43@uol.com.br|vk7R1o#zI!|        1936-01-31|    RR|   2023-02-07|  23.153.28.160|        Azul|  Jogador De Futebol|      0900 150 4170|\n",
       "|943.185.762-64|melissa97@bol.com.br|MBlZ9BOwp(|        1953-06-09|    PE|   2023-01-16|  97.254.23.196|        Azul|              Físico|       31 6169-0705|\n",
       "+--------------+--------------------+----------+------------------+------+-------------+---------------+------------+--------------------+-------------------+\n",
       "only showing top 20 rows"
      ]
     },
     "execution_count": 82,
     "metadata": {},
     "output_type": "execute_result"
    }
   ],
   "source": [
    "df.filter(F.col(\"cor_favorita\").isin('Ciano','Azul'))\n",
    "# OU\n",
    "df.where(F.col(\"cor_favorita\").isin('Ciano','Azul'))"
   ]
  },
  {
   "cell_type": "markdown",
   "id": "70c94e5e-f300-4893-9f0c-92a5adbd0abd",
   "metadata": {},
   "source": [
    "- Filtros encadeados com várias condições:\n",
    "- **Arquitetura Profissional**: Este estilo de encadeamento é bom em termos de legibilidade e modularidade."
   ]
  },
  {
   "cell_type": "code",
   "execution_count": 83,
   "id": "5fec772f-fb54-405b-b93e-c23da0fef8bc",
   "metadata": {},
   "outputs": [
    {
     "data": {
      "text/html": [
       "<table border='1'>\n",
       "<tr><th>cpf</th><th>email</th><th>senha</th><th>data_de_nascimento</th><th>estado</th><th>data_cadastro</th><th>ipv4</th><th>cor_favorita</th><th>profissao</th><th>telefone</th></tr>\n",
       "<tr><td>940.578.623-74</td><td>fernandolopes@yah...</td><td>DE5Il)Thu*</td><td>1945-04-04</td><td>MG</td><td>2023-03-09</td><td>211.163.192.56</td><td>Azul</td><td>Tenente</td><td>0300-025-4031</td></tr>\n",
       "</table>\n"
      ],
      "text/plain": [
       "+--------------+--------------------+----------+------------------+------+-------------+--------------+------------+---------+-------------+\n",
       "|           cpf|               email|     senha|data_de_nascimento|estado|data_cadastro|          ipv4|cor_favorita|profissao|     telefone|\n",
       "+--------------+--------------------+----------+------------------+------+-------------+--------------+------------+---------+-------------+\n",
       "|940.578.623-74|fernandolopes@yah...|DE5Il)Thu*|        1945-04-04|    MG|   2023-03-09|211.163.192.56|        Azul|  Tenente|0300-025-4031|\n",
       "+--------------+--------------------+----------+------------------+------+-------------+--------------+------------+---------+-------------+"
      ]
     },
     "execution_count": 83,
     "metadata": {},
     "output_type": "execute_result"
    }
   ],
   "source": [
    "(\n",
    "    df\n",
    "    .filter(F.col(\"estado\") == 'MG')\n",
    "    .filter(F.col(\"cor_favorita\") == 'Azul')\n",
    "    .filter(F.col(\"profissao\") == 'Tenente')\n",
    ")"
   ]
  }
 ],
 "metadata": {
  "kernelspec": {
   "display_name": "Python 3 (ipykernel)",
   "language": "python",
   "name": "python3"
  },
  "language_info": {
   "codemirror_mode": {
    "name": "ipython",
    "version": 3
   },
   "file_extension": ".py",
   "mimetype": "text/x-python",
   "name": "python",
   "nbconvert_exporter": "python",
   "pygments_lexer": "ipython3",
   "version": "3.12.7"
  }
 },
 "nbformat": 4,
 "nbformat_minor": 5
}
