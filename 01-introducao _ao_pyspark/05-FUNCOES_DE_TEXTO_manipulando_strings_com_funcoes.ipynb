{
 "cells": [
  {
   "cell_type": "code",
   "execution_count": 117,
   "id": "9f2f3362-6cc2-4448-8c57-b98f762428ae",
   "metadata": {},
   "outputs": [],
   "source": [
    "from pyspark.sql import SparkSession\n",
    "import pyspark.sql.functions as F"
   ]
  },
  {
   "cell_type": "code",
   "execution_count": 118,
   "id": "111c0d04-52db-41a7-9fb5-02c471d46a0c",
   "metadata": {},
   "outputs": [],
   "source": [
    "spark = (\n",
    "    SparkSession.builder\n",
    "    .appName(\"Curso de PySpark\")\n",
    "    .config(\"spark.sql.repl.eagerEval.enabled\", True)\n",
    "    .getOrCreate()\n",
    ")"
   ]
  },
  {
   "cell_type": "code",
   "execution_count": 119,
   "id": "80b50e96-16cc-4c54-b84e-c774964e65ea",
   "metadata": {},
   "outputs": [
    {
     "data": {
      "text/html": [
       "\n",
       "            <div>\n",
       "                <p><b>SparkSession - in-memory</b></p>\n",
       "                \n",
       "        <div>\n",
       "            <p><b>SparkContext</b></p>\n",
       "\n",
       "            <p><a href=\"http://COLTWFGLFV04:4044\">Spark UI</a></p>\n",
       "\n",
       "            <dl>\n",
       "              <dt>Version</dt>\n",
       "                <dd><code>v3.5.5</code></dd>\n",
       "              <dt>Master</dt>\n",
       "                <dd><code>local[*]</code></dd>\n",
       "              <dt>AppName</dt>\n",
       "                <dd><code>Curso de PySpark</code></dd>\n",
       "            </dl>\n",
       "        </div>\n",
       "        \n",
       "            </div>\n",
       "        "
      ],
      "text/plain": [
       "<pyspark.sql.session.SparkSession at 0x1f7c28b8620>"
      ]
     },
     "execution_count": 119,
     "metadata": {},
     "output_type": "execute_result"
    }
   ],
   "source": [
    "spark"
   ]
  },
  {
   "cell_type": "code",
   "execution_count": 120,
   "id": "1a725e37-08a7-41fc-b3b3-18bcce324d76",
   "metadata": {},
   "outputs": [],
   "source": [
    "path = \"C:/Users/marlos.barros/Cursos/pyspark_na_pratica/DATASETS/LOGINS.parquet\""
   ]
  },
  {
   "cell_type": "code",
   "execution_count": 121,
   "id": "c7269b85-1c26-47a8-a73e-0633f6c62e33",
   "metadata": {},
   "outputs": [],
   "source": [
    "df = spark.read.format(\"parquet\").load(path).select(\"email\",\"senha\",\"estado\",\"cor_favorita\",\"profissao\")"
   ]
  },
  {
   "cell_type": "code",
   "execution_count": 122,
   "id": "1caddbd1-e9aa-4535-831c-8fbda2e24b95",
   "metadata": {
    "scrolled": true
   },
   "outputs": [
    {
     "data": {
      "text/html": [
       "<table border='1'>\n",
       "<tr><th>email</th><th>senha</th><th>estado</th><th>cor_favorita</th><th>profissao</th></tr>\n",
       "<tr><td>pedro-lucas53@gma...</td><td>+7^7E%xFBc</td><td>RR</td><td>Roxo</td><td>Jogador De Golfe</td></tr>\n",
       "<tr><td>rezendeisaac@hotm...</td><td>_O_2GRnGOe</td><td>GO</td><td>Ciano</td><td>Atleta De Arremes...</td></tr>\n",
       "<tr><td>felipepires@uol.c...</td><td>*Aw5EOAvy9</td><td>MG</td><td>Azul</td><td>Papiloscopista</td></tr>\n",
       "<tr><td>stellamoraes@bol....</td><td>mw0AWYAs#s</td><td>AC</td><td>Marrom</td><td>Aeromo&ccedil;a</td></tr>\n",
       "<tr><td>wcarvalho@ig.com.br</td><td>pGD%!2Pq5X</td><td>AP</td><td>Laranja</td><td>Fonoaudi&oacute;logo</td></tr>\n",
       "<tr><td>da-conceicaodavi-...</td><td>uhBbFxPA&amp;9</td><td>MG</td><td>Rosa</td><td>Taxista</td></tr>\n",
       "<tr><td>efreitas@bol.com.br</td><td>s#q9VZt&amp;xl</td><td>MG</td><td>Branco</td><td>Produtor De Audio...</td></tr>\n",
       "<tr><td>wnunes@bol.com.br</td><td>_8az1W%n7g</td><td>SE</td><td>Azul</td><td>Cadeirinha</td></tr>\n",
       "<tr><td>jribeiro@bol.com.br</td><td>MEf1X7fj_0</td><td>PA</td><td>Marrom</td><td>Ge&oacute;logo</td></tr>\n",
       "<tr><td>murilo05@gmail.com</td><td>Te&amp;gO7GkKs</td><td>MT</td><td>Marrom</td><td>T&eacute;cnico De Som</td></tr>\n",
       "<tr><td>joaquim57@ig.com.br</td><td>&amp;2E1NY+ARc</td><td>BA</td><td>Rosa</td><td>Esteticista</td></tr>\n",
       "<tr><td>alexiada-rocha@ig...</td><td>@f@!Z!2c*2</td><td>MS</td><td>Laranja</td><td>Microfonista</td></tr>\n",
       "<tr><td>pmendes@gmail.com</td><td>M+^XDBfe(2</td><td>RR</td><td>Verde Claro</td><td>Fiscal</td></tr>\n",
       "<tr><td>renan46@bol.com.br</td><td>Rp%2pVqfe$</td><td>PA</td><td>Verde Escuro</td><td>Contabilista</td></tr>\n",
       "<tr><td>manuelada-rosa@ho...</td><td>#hEIEOztQ3</td><td>SE</td><td>Violeta</td><td>Seguidor De Compras</td></tr>\n",
       "<tr><td>usales@ig.com.br</td><td>b_8xaY$ozJ</td><td>AM</td><td>Rosa</td><td>Almirante</td></tr>\n",
       "<tr><td>pereiranicolas@ho...</td><td>YA9I85Wb+2</td><td>MA</td><td>Amarelo</td><td>Consultor De Moda</td></tr>\n",
       "<tr><td>cardosolivia@ig.c...</td><td>yXkDW7Ebh*</td><td>GO</td><td>Laranja</td><td>Barbeiro</td></tr>\n",
       "<tr><td>brenda39@ig.com.br</td><td>XS$84Hpsnw</td><td>RJ</td><td>Branco</td><td>Promotor De Vendas</td></tr>\n",
       "<tr><td>luizapeixoto@gmai...</td><td>TbKy82Kda$</td><td>DF</td><td>Ciano</td><td>Implantodontista</td></tr>\n",
       "</table>\n",
       "only showing top 20 rows\n"
      ],
      "text/plain": [
       "+--------------------+----------+------+------------+--------------------+\n",
       "|               email|     senha|estado|cor_favorita|           profissao|\n",
       "+--------------------+----------+------+------------+--------------------+\n",
       "|pedro-lucas53@gma...|+7^7E%xFBc|    RR|        Roxo|    Jogador De Golfe|\n",
       "|rezendeisaac@hotm...|_O_2GRnGOe|    GO|       Ciano|Atleta De Arremes...|\n",
       "|felipepires@uol.c...|*Aw5EOAvy9|    MG|        Azul|      Papiloscopista|\n",
       "|stellamoraes@bol....|mw0AWYAs#s|    AC|      Marrom|            Aeromoça|\n",
       "| wcarvalho@ig.com.br|pGD%!2Pq5X|    AP|     Laranja|       Fonoaudiólogo|\n",
       "|da-conceicaodavi-...|uhBbFxPA&9|    MG|        Rosa|             Taxista|\n",
       "| efreitas@bol.com.br|s#q9VZt&xl|    MG|      Branco|Produtor De Audio...|\n",
       "|   wnunes@bol.com.br|_8az1W%n7g|    SE|        Azul|          Cadeirinha|\n",
       "| jribeiro@bol.com.br|MEf1X7fj_0|    PA|      Marrom|             Geólogo|\n",
       "|  murilo05@gmail.com|Te&gO7GkKs|    MT|      Marrom|      Técnico De Som|\n",
       "| joaquim57@ig.com.br|&2E1NY+ARc|    BA|        Rosa|         Esteticista|\n",
       "|alexiada-rocha@ig...|@f@!Z!2c*2|    MS|     Laranja|        Microfonista|\n",
       "|   pmendes@gmail.com|M+^XDBfe(2|    RR| Verde Claro|              Fiscal|\n",
       "|  renan46@bol.com.br|Rp%2pVqfe$|    PA|Verde Escuro|        Contabilista|\n",
       "|manuelada-rosa@ho...|#hEIEOztQ3|    SE|     Violeta| Seguidor De Compras|\n",
       "|    usales@ig.com.br|b_8xaY$ozJ|    AM|        Rosa|           Almirante|\n",
       "|pereiranicolas@ho...|YA9I85Wb+2|    MA|     Amarelo|   Consultor De Moda|\n",
       "|cardosolivia@ig.c...|yXkDW7Ebh*|    GO|     Laranja|            Barbeiro|\n",
       "|  brenda39@ig.com.br|XS$84Hpsnw|    RJ|      Branco|  Promotor De Vendas|\n",
       "|luizapeixoto@gmai...|TbKy82Kda$|    DF|       Ciano|    Implantodontista|\n",
       "+--------------------+----------+------+------------+--------------------+\n",
       "only showing top 20 rows"
      ]
     },
     "execution_count": 122,
     "metadata": {},
     "output_type": "execute_result"
    }
   ],
   "source": [
    "df"
   ]
  },
  {
   "cell_type": "markdown",
   "id": "3c21a5ca-dfce-4c46-ab53-ad4564d79031",
   "metadata": {},
   "source": [
    "### Separar o usuário e provedor de um e-mail\n",
    "- Função: **F.split()** divide a string com base em um delimitador. Aqui, estamos separando o e-mail em duas partes usando o \"@\" como delimitador.\n",
    "- Função: **getItem(0)** retorna a primeira parte da divisão, ou seja, o **usuario**.\n",
    "- Função: **getItem(1)** retorna a segunda parte, ou seja, o **provedor**.\n",
    "- Em seguida, estamos extraindo o nome do provedor (a parte antes do ponto **.**) com outra divisão."
   ]
  },
  {
   "cell_type": "code",
   "execution_count": 123,
   "id": "6c097fd4-31a5-4114-8d1e-7a5b55ca78fc",
   "metadata": {
    "scrolled": true
   },
   "outputs": [
    {
     "data": {
      "text/html": [
       "<table border='1'>\n",
       "<tr><th>email</th><th>senha</th><th>estado</th><th>cor_favorita</th><th>profissao</th><th>usuario</th><th>provedor</th><th>nome_provedor</th></tr>\n",
       "<tr><td>pedro-lucas53@gma...</td><td>+7^7E%xFBc</td><td>RR</td><td>Roxo</td><td>Jogador De Golfe</td><td>pedro-lucas53</td><td>gmail.com</td><td>gmail</td></tr>\n",
       "<tr><td>rezendeisaac@hotm...</td><td>_O_2GRnGOe</td><td>GO</td><td>Ciano</td><td>Atleta De Arremes...</td><td>rezendeisaac</td><td>hotmail.com</td><td>hotmail</td></tr>\n",
       "<tr><td>felipepires@uol.c...</td><td>*Aw5EOAvy9</td><td>MG</td><td>Azul</td><td>Papiloscopista</td><td>felipepires</td><td>uol.com.br</td><td>uol</td></tr>\n",
       "<tr><td>stellamoraes@bol....</td><td>mw0AWYAs#s</td><td>AC</td><td>Marrom</td><td>Aeromo&ccedil;a</td><td>stellamoraes</td><td>bol.com.br</td><td>bol</td></tr>\n",
       "<tr><td>wcarvalho@ig.com.br</td><td>pGD%!2Pq5X</td><td>AP</td><td>Laranja</td><td>Fonoaudi&oacute;logo</td><td>wcarvalho</td><td>ig.com.br</td><td>ig</td></tr>\n",
       "<tr><td>da-conceicaodavi-...</td><td>uhBbFxPA&amp;9</td><td>MG</td><td>Rosa</td><td>Taxista</td><td>da-conceicaodavi-...</td><td>hotmail.com</td><td>hotmail</td></tr>\n",
       "<tr><td>efreitas@bol.com.br</td><td>s#q9VZt&amp;xl</td><td>MG</td><td>Branco</td><td>Produtor De Audio...</td><td>efreitas</td><td>bol.com.br</td><td>bol</td></tr>\n",
       "<tr><td>wnunes@bol.com.br</td><td>_8az1W%n7g</td><td>SE</td><td>Azul</td><td>Cadeirinha</td><td>wnunes</td><td>bol.com.br</td><td>bol</td></tr>\n",
       "<tr><td>jribeiro@bol.com.br</td><td>MEf1X7fj_0</td><td>PA</td><td>Marrom</td><td>Ge&oacute;logo</td><td>jribeiro</td><td>bol.com.br</td><td>bol</td></tr>\n",
       "<tr><td>murilo05@gmail.com</td><td>Te&amp;gO7GkKs</td><td>MT</td><td>Marrom</td><td>T&eacute;cnico De Som</td><td>murilo05</td><td>gmail.com</td><td>gmail</td></tr>\n",
       "<tr><td>joaquim57@ig.com.br</td><td>&amp;2E1NY+ARc</td><td>BA</td><td>Rosa</td><td>Esteticista</td><td>joaquim57</td><td>ig.com.br</td><td>ig</td></tr>\n",
       "<tr><td>alexiada-rocha@ig...</td><td>@f@!Z!2c*2</td><td>MS</td><td>Laranja</td><td>Microfonista</td><td>alexiada-rocha</td><td>ig.com.br</td><td>ig</td></tr>\n",
       "<tr><td>pmendes@gmail.com</td><td>M+^XDBfe(2</td><td>RR</td><td>Verde Claro</td><td>Fiscal</td><td>pmendes</td><td>gmail.com</td><td>gmail</td></tr>\n",
       "<tr><td>renan46@bol.com.br</td><td>Rp%2pVqfe$</td><td>PA</td><td>Verde Escuro</td><td>Contabilista</td><td>renan46</td><td>bol.com.br</td><td>bol</td></tr>\n",
       "<tr><td>manuelada-rosa@ho...</td><td>#hEIEOztQ3</td><td>SE</td><td>Violeta</td><td>Seguidor De Compras</td><td>manuelada-rosa</td><td>hotmail.com</td><td>hotmail</td></tr>\n",
       "<tr><td>usales@ig.com.br</td><td>b_8xaY$ozJ</td><td>AM</td><td>Rosa</td><td>Almirante</td><td>usales</td><td>ig.com.br</td><td>ig</td></tr>\n",
       "<tr><td>pereiranicolas@ho...</td><td>YA9I85Wb+2</td><td>MA</td><td>Amarelo</td><td>Consultor De Moda</td><td>pereiranicolas</td><td>hotmail.com</td><td>hotmail</td></tr>\n",
       "<tr><td>cardosolivia@ig.c...</td><td>yXkDW7Ebh*</td><td>GO</td><td>Laranja</td><td>Barbeiro</td><td>cardosolivia</td><td>ig.com.br</td><td>ig</td></tr>\n",
       "<tr><td>brenda39@ig.com.br</td><td>XS$84Hpsnw</td><td>RJ</td><td>Branco</td><td>Promotor De Vendas</td><td>brenda39</td><td>ig.com.br</td><td>ig</td></tr>\n",
       "<tr><td>luizapeixoto@gmai...</td><td>TbKy82Kda$</td><td>DF</td><td>Ciano</td><td>Implantodontista</td><td>luizapeixoto</td><td>gmail.com</td><td>gmail</td></tr>\n",
       "</table>\n",
       "only showing top 20 rows\n"
      ],
      "text/plain": [
       "+--------------------+----------+------+------------+--------------------+--------------------+-----------+-------------+\n",
       "|               email|     senha|estado|cor_favorita|           profissao|             usuario|   provedor|nome_provedor|\n",
       "+--------------------+----------+------+------------+--------------------+--------------------+-----------+-------------+\n",
       "|pedro-lucas53@gma...|+7^7E%xFBc|    RR|        Roxo|    Jogador De Golfe|       pedro-lucas53|  gmail.com|        gmail|\n",
       "|rezendeisaac@hotm...|_O_2GRnGOe|    GO|       Ciano|Atleta De Arremes...|        rezendeisaac|hotmail.com|      hotmail|\n",
       "|felipepires@uol.c...|*Aw5EOAvy9|    MG|        Azul|      Papiloscopista|         felipepires| uol.com.br|          uol|\n",
       "|stellamoraes@bol....|mw0AWYAs#s|    AC|      Marrom|            Aeromoça|        stellamoraes| bol.com.br|          bol|\n",
       "| wcarvalho@ig.com.br|pGD%!2Pq5X|    AP|     Laranja|       Fonoaudiólogo|           wcarvalho|  ig.com.br|           ig|\n",
       "|da-conceicaodavi-...|uhBbFxPA&9|    MG|        Rosa|             Taxista|da-conceicaodavi-...|hotmail.com|      hotmail|\n",
       "| efreitas@bol.com.br|s#q9VZt&xl|    MG|      Branco|Produtor De Audio...|            efreitas| bol.com.br|          bol|\n",
       "|   wnunes@bol.com.br|_8az1W%n7g|    SE|        Azul|          Cadeirinha|              wnunes| bol.com.br|          bol|\n",
       "| jribeiro@bol.com.br|MEf1X7fj_0|    PA|      Marrom|             Geólogo|            jribeiro| bol.com.br|          bol|\n",
       "|  murilo05@gmail.com|Te&gO7GkKs|    MT|      Marrom|      Técnico De Som|            murilo05|  gmail.com|        gmail|\n",
       "| joaquim57@ig.com.br|&2E1NY+ARc|    BA|        Rosa|         Esteticista|           joaquim57|  ig.com.br|           ig|\n",
       "|alexiada-rocha@ig...|@f@!Z!2c*2|    MS|     Laranja|        Microfonista|      alexiada-rocha|  ig.com.br|           ig|\n",
       "|   pmendes@gmail.com|M+^XDBfe(2|    RR| Verde Claro|              Fiscal|             pmendes|  gmail.com|        gmail|\n",
       "|  renan46@bol.com.br|Rp%2pVqfe$|    PA|Verde Escuro|        Contabilista|             renan46| bol.com.br|          bol|\n",
       "|manuelada-rosa@ho...|#hEIEOztQ3|    SE|     Violeta| Seguidor De Compras|      manuelada-rosa|hotmail.com|      hotmail|\n",
       "|    usales@ig.com.br|b_8xaY$ozJ|    AM|        Rosa|           Almirante|              usales|  ig.com.br|           ig|\n",
       "|pereiranicolas@ho...|YA9I85Wb+2|    MA|     Amarelo|   Consultor De Moda|      pereiranicolas|hotmail.com|      hotmail|\n",
       "|cardosolivia@ig.c...|yXkDW7Ebh*|    GO|     Laranja|            Barbeiro|        cardosolivia|  ig.com.br|           ig|\n",
       "|  brenda39@ig.com.br|XS$84Hpsnw|    RJ|      Branco|  Promotor De Vendas|            brenda39|  ig.com.br|           ig|\n",
       "|luizapeixoto@gmai...|TbKy82Kda$|    DF|       Ciano|    Implantodontista|        luizapeixoto|  gmail.com|        gmail|\n",
       "+--------------------+----------+------+------------+--------------------+--------------------+-----------+-------------+\n",
       "only showing top 20 rows"
      ]
     },
     "execution_count": 123,
     "metadata": {},
     "output_type": "execute_result"
    }
   ],
   "source": [
    "(\n",
    "    df\n",
    "    .withColumn( \"usuario\", F.split(F.col(\"email\"), '@').getItem(0))\n",
    "    .withColumn(\"provedor\", F.split(F.col(\"email\"), \"@\").getItem(1))\n",
    "    .withColumn(\"nome_provedor\", F.split(F.col(\"provedor\"), \"\\\\.\").getItem(0))\n",
    ")"
   ]
  },
  {
   "cell_type": "markdown",
   "id": "393ab97a-5942-495a-91d8-7bba37f2cf04",
   "metadata": {},
   "source": [
    "### Concatenar colunas e literais\n",
    "- Função: **F.concat()** concatena duas ou mais colunas.\n",
    "- No primeiro exemplo, estamos concatenando a coluna **profissao** com **cor_favorita**.\n",
    "- No segundo, concatenamos a coluna **estado** com o literal **' - Brasil'** usando **F.lit()**."
   ]
  },
  {
   "cell_type": "code",
   "execution_count": 124,
   "id": "368c95a5-81f5-491b-acc4-e3933288984e",
   "metadata": {
    "scrolled": true
   },
   "outputs": [
    {
     "data": {
      "text/html": [
       "<table border='1'>\n",
       "<tr><th>email</th><th>senha</th><th>estado</th><th>cor_favorita</th><th>profissao</th><th>concat_profissao_cor_favorita</th><th>concta_lit</th></tr>\n",
       "<tr><td>pedro-lucas53@gma...</td><td>+7^7E%xFBc</td><td>RR</td><td>Roxo</td><td>Jogador De Golfe</td><td>Jogador De GolfeRoxo</td><td>RR - Brasil</td></tr>\n",
       "<tr><td>rezendeisaac@hotm...</td><td>_O_2GRnGOe</td><td>GO</td><td>Ciano</td><td>Atleta De Arremes...</td><td>Atleta De Arremes...</td><td>GO - Brasil</td></tr>\n",
       "<tr><td>felipepires@uol.c...</td><td>*Aw5EOAvy9</td><td>MG</td><td>Azul</td><td>Papiloscopista</td><td>PapiloscopistaAzul</td><td>MG - Brasil</td></tr>\n",
       "<tr><td>stellamoraes@bol....</td><td>mw0AWYAs#s</td><td>AC</td><td>Marrom</td><td>Aeromo&ccedil;a</td><td>Aeromo&ccedil;aMarrom</td><td>AC - Brasil</td></tr>\n",
       "<tr><td>wcarvalho@ig.com.br</td><td>pGD%!2Pq5X</td><td>AP</td><td>Laranja</td><td>Fonoaudi&oacute;logo</td><td>Fonoaudi&oacute;logoLaranja</td><td>AP - Brasil</td></tr>\n",
       "<tr><td>da-conceicaodavi-...</td><td>uhBbFxPA&amp;9</td><td>MG</td><td>Rosa</td><td>Taxista</td><td>TaxistaRosa</td><td>MG - Brasil</td></tr>\n",
       "<tr><td>efreitas@bol.com.br</td><td>s#q9VZt&amp;xl</td><td>MG</td><td>Branco</td><td>Produtor De Audio...</td><td>Produtor De Audio...</td><td>MG - Brasil</td></tr>\n",
       "<tr><td>wnunes@bol.com.br</td><td>_8az1W%n7g</td><td>SE</td><td>Azul</td><td>Cadeirinha</td><td>CadeirinhaAzul</td><td>SE - Brasil</td></tr>\n",
       "<tr><td>jribeiro@bol.com.br</td><td>MEf1X7fj_0</td><td>PA</td><td>Marrom</td><td>Ge&oacute;logo</td><td>Ge&oacute;logoMarrom</td><td>PA - Brasil</td></tr>\n",
       "<tr><td>murilo05@gmail.com</td><td>Te&amp;gO7GkKs</td><td>MT</td><td>Marrom</td><td>T&eacute;cnico De Som</td><td>T&eacute;cnico De SomMarrom</td><td>MT - Brasil</td></tr>\n",
       "<tr><td>joaquim57@ig.com.br</td><td>&amp;2E1NY+ARc</td><td>BA</td><td>Rosa</td><td>Esteticista</td><td>EsteticistaRosa</td><td>BA - Brasil</td></tr>\n",
       "<tr><td>alexiada-rocha@ig...</td><td>@f@!Z!2c*2</td><td>MS</td><td>Laranja</td><td>Microfonista</td><td>MicrofonistaLaranja</td><td>MS - Brasil</td></tr>\n",
       "<tr><td>pmendes@gmail.com</td><td>M+^XDBfe(2</td><td>RR</td><td>Verde Claro</td><td>Fiscal</td><td>FiscalVerde Claro</td><td>RR - Brasil</td></tr>\n",
       "<tr><td>renan46@bol.com.br</td><td>Rp%2pVqfe$</td><td>PA</td><td>Verde Escuro</td><td>Contabilista</td><td>ContabilistaVerde...</td><td>PA - Brasil</td></tr>\n",
       "<tr><td>manuelada-rosa@ho...</td><td>#hEIEOztQ3</td><td>SE</td><td>Violeta</td><td>Seguidor De Compras</td><td>Seguidor De Compr...</td><td>SE - Brasil</td></tr>\n",
       "<tr><td>usales@ig.com.br</td><td>b_8xaY$ozJ</td><td>AM</td><td>Rosa</td><td>Almirante</td><td>AlmiranteRosa</td><td>AM - Brasil</td></tr>\n",
       "<tr><td>pereiranicolas@ho...</td><td>YA9I85Wb+2</td><td>MA</td><td>Amarelo</td><td>Consultor De Moda</td><td>Consultor De Moda...</td><td>MA - Brasil</td></tr>\n",
       "<tr><td>cardosolivia@ig.c...</td><td>yXkDW7Ebh*</td><td>GO</td><td>Laranja</td><td>Barbeiro</td><td>BarbeiroLaranja</td><td>GO - Brasil</td></tr>\n",
       "<tr><td>brenda39@ig.com.br</td><td>XS$84Hpsnw</td><td>RJ</td><td>Branco</td><td>Promotor De Vendas</td><td>Promotor De Venda...</td><td>RJ - Brasil</td></tr>\n",
       "<tr><td>luizapeixoto@gmai...</td><td>TbKy82Kda$</td><td>DF</td><td>Ciano</td><td>Implantodontista</td><td>ImplantodontistaC...</td><td>DF - Brasil</td></tr>\n",
       "</table>\n",
       "only showing top 20 rows\n"
      ],
      "text/plain": [
       "+--------------------+----------+------+------------+--------------------+-----------------------------+-----------+\n",
       "|               email|     senha|estado|cor_favorita|           profissao|concat_profissao_cor_favorita| concta_lit|\n",
       "+--------------------+----------+------+------------+--------------------+-----------------------------+-----------+\n",
       "|pedro-lucas53@gma...|+7^7E%xFBc|    RR|        Roxo|    Jogador De Golfe|         Jogador De GolfeRoxo|RR - Brasil|\n",
       "|rezendeisaac@hotm...|_O_2GRnGOe|    GO|       Ciano|Atleta De Arremes...|         Atleta De Arremes...|GO - Brasil|\n",
       "|felipepires@uol.c...|*Aw5EOAvy9|    MG|        Azul|      Papiloscopista|           PapiloscopistaAzul|MG - Brasil|\n",
       "|stellamoraes@bol....|mw0AWYAs#s|    AC|      Marrom|            Aeromoça|               AeromoçaMarrom|AC - Brasil|\n",
       "| wcarvalho@ig.com.br|pGD%!2Pq5X|    AP|     Laranja|       Fonoaudiólogo|         FonoaudiólogoLaranja|AP - Brasil|\n",
       "|da-conceicaodavi-...|uhBbFxPA&9|    MG|        Rosa|             Taxista|                  TaxistaRosa|MG - Brasil|\n",
       "| efreitas@bol.com.br|s#q9VZt&xl|    MG|      Branco|Produtor De Audio...|         Produtor De Audio...|MG - Brasil|\n",
       "|   wnunes@bol.com.br|_8az1W%n7g|    SE|        Azul|          Cadeirinha|               CadeirinhaAzul|SE - Brasil|\n",
       "| jribeiro@bol.com.br|MEf1X7fj_0|    PA|      Marrom|             Geólogo|                GeólogoMarrom|PA - Brasil|\n",
       "|  murilo05@gmail.com|Te&gO7GkKs|    MT|      Marrom|      Técnico De Som|         Técnico De SomMarrom|MT - Brasil|\n",
       "| joaquim57@ig.com.br|&2E1NY+ARc|    BA|        Rosa|         Esteticista|              EsteticistaRosa|BA - Brasil|\n",
       "|alexiada-rocha@ig...|@f@!Z!2c*2|    MS|     Laranja|        Microfonista|          MicrofonistaLaranja|MS - Brasil|\n",
       "|   pmendes@gmail.com|M+^XDBfe(2|    RR| Verde Claro|              Fiscal|            FiscalVerde Claro|RR - Brasil|\n",
       "|  renan46@bol.com.br|Rp%2pVqfe$|    PA|Verde Escuro|        Contabilista|         ContabilistaVerde...|PA - Brasil|\n",
       "|manuelada-rosa@ho...|#hEIEOztQ3|    SE|     Violeta| Seguidor De Compras|         Seguidor De Compr...|SE - Brasil|\n",
       "|    usales@ig.com.br|b_8xaY$ozJ|    AM|        Rosa|           Almirante|                AlmiranteRosa|AM - Brasil|\n",
       "|pereiranicolas@ho...|YA9I85Wb+2|    MA|     Amarelo|   Consultor De Moda|         Consultor De Moda...|MA - Brasil|\n",
       "|cardosolivia@ig.c...|yXkDW7Ebh*|    GO|     Laranja|            Barbeiro|              BarbeiroLaranja|GO - Brasil|\n",
       "|  brenda39@ig.com.br|XS$84Hpsnw|    RJ|      Branco|  Promotor De Vendas|         Promotor De Venda...|RJ - Brasil|\n",
       "|luizapeixoto@gmai...|TbKy82Kda$|    DF|       Ciano|    Implantodontista|         ImplantodontistaC...|DF - Brasil|\n",
       "+--------------------+----------+------+------------+--------------------+-----------------------------+-----------+\n",
       "only showing top 20 rows"
      ]
     },
     "execution_count": 124,
     "metadata": {},
     "output_type": "execute_result"
    }
   ],
   "source": [
    "(\n",
    "    df\n",
    "    .withColumn(\"concat_profissao_cor_favorita\", F.concat(F.col(\"profissao\"),  F.col(\"cor_favorita\")))\n",
    "    .withColumn(\"concta_lit\", F.concat(F.col(\"estado\"), F.lit(\" - Brasil\")))\n",
    ")"
   ]
  },
  {
   "cell_type": "markdown",
   "id": "83533c44-c334-4ae9-86c4-1d4999cf2e9f",
   "metadata": {},
   "source": [
    "### Transformações de caixa (lower, upper, capitalize)\n",
    "- Função: **F.lower()** converte o texto para minúsculas.\n",
    "- Função: **F.upper()** converte o texto para maiúsculas.\n",
    "- Função: **F.initcap()** coloca a primeira letra de cada palavra em maiúscula."
   ]
  },
  {
   "cell_type": "code",
   "execution_count": 125,
   "id": "2f32bd86-1b21-4a9c-87bf-78b403e5073c",
   "metadata": {
    "scrolled": true
   },
   "outputs": [
    {
     "data": {
      "text/html": [
       "<table border='1'>\n",
       "<tr><th>email</th><th>senha</th><th>estado</th><th>cor_favorita</th><th>profissao</th><th>lower_profissao</th><th>upper_profissao</th><th>initcap_profissao</th></tr>\n",
       "<tr><td>pedro-lucas53@gma...</td><td>+7^7E%xFBc</td><td>RR</td><td>Roxo</td><td>Jogador De Golfe</td><td>jogador de golfe</td><td>JOGADOR DE GOLFE</td><td>Jogador De Golfe</td></tr>\n",
       "<tr><td>rezendeisaac@hotm...</td><td>_O_2GRnGOe</td><td>GO</td><td>Ciano</td><td>Atleta De Arremes...</td><td>atleta de arremes...</td><td>ATLETA DE ARREMES...</td><td>Atleta De Arremes...</td></tr>\n",
       "<tr><td>felipepires@uol.c...</td><td>*Aw5EOAvy9</td><td>MG</td><td>Azul</td><td>Papiloscopista</td><td>papiloscopista</td><td>PAPILOSCOPISTA</td><td>Papiloscopista</td></tr>\n",
       "<tr><td>stellamoraes@bol....</td><td>mw0AWYAs#s</td><td>AC</td><td>Marrom</td><td>Aeromo&ccedil;a</td><td>aeromo&ccedil;a</td><td>AEROMO&Ccedil;A</td><td>Aeromo&ccedil;a</td></tr>\n",
       "<tr><td>wcarvalho@ig.com.br</td><td>pGD%!2Pq5X</td><td>AP</td><td>Laranja</td><td>Fonoaudi&oacute;logo</td><td>fonoaudi&oacute;logo</td><td>FONOAUDI&Oacute;LOGO</td><td>Fonoaudi&oacute;logo</td></tr>\n",
       "<tr><td>da-conceicaodavi-...</td><td>uhBbFxPA&amp;9</td><td>MG</td><td>Rosa</td><td>Taxista</td><td>taxista</td><td>TAXISTA</td><td>Taxista</td></tr>\n",
       "<tr><td>efreitas@bol.com.br</td><td>s#q9VZt&amp;xl</td><td>MG</td><td>Branco</td><td>Produtor De Audio...</td><td>produtor de audio...</td><td>PRODUTOR DE AUDIO...</td><td>Produtor De Audio...</td></tr>\n",
       "<tr><td>wnunes@bol.com.br</td><td>_8az1W%n7g</td><td>SE</td><td>Azul</td><td>Cadeirinha</td><td>cadeirinha</td><td>CADEIRINHA</td><td>Cadeirinha</td></tr>\n",
       "<tr><td>jribeiro@bol.com.br</td><td>MEf1X7fj_0</td><td>PA</td><td>Marrom</td><td>Ge&oacute;logo</td><td>ge&oacute;logo</td><td>GE&Oacute;LOGO</td><td>Ge&oacute;logo</td></tr>\n",
       "<tr><td>murilo05@gmail.com</td><td>Te&amp;gO7GkKs</td><td>MT</td><td>Marrom</td><td>T&eacute;cnico De Som</td><td>t&eacute;cnico de som</td><td>T&Eacute;CNICO DE SOM</td><td>T&eacute;cnico De Som</td></tr>\n",
       "<tr><td>joaquim57@ig.com.br</td><td>&amp;2E1NY+ARc</td><td>BA</td><td>Rosa</td><td>Esteticista</td><td>esteticista</td><td>ESTETICISTA</td><td>Esteticista</td></tr>\n",
       "<tr><td>alexiada-rocha@ig...</td><td>@f@!Z!2c*2</td><td>MS</td><td>Laranja</td><td>Microfonista</td><td>microfonista</td><td>MICROFONISTA</td><td>Microfonista</td></tr>\n",
       "<tr><td>pmendes@gmail.com</td><td>M+^XDBfe(2</td><td>RR</td><td>Verde Claro</td><td>Fiscal</td><td>fiscal</td><td>FISCAL</td><td>Fiscal</td></tr>\n",
       "<tr><td>renan46@bol.com.br</td><td>Rp%2pVqfe$</td><td>PA</td><td>Verde Escuro</td><td>Contabilista</td><td>contabilista</td><td>CONTABILISTA</td><td>Contabilista</td></tr>\n",
       "<tr><td>manuelada-rosa@ho...</td><td>#hEIEOztQ3</td><td>SE</td><td>Violeta</td><td>Seguidor De Compras</td><td>seguidor de compras</td><td>SEGUIDOR DE COMPRAS</td><td>Seguidor De Compras</td></tr>\n",
       "<tr><td>usales@ig.com.br</td><td>b_8xaY$ozJ</td><td>AM</td><td>Rosa</td><td>Almirante</td><td>almirante</td><td>ALMIRANTE</td><td>Almirante</td></tr>\n",
       "<tr><td>pereiranicolas@ho...</td><td>YA9I85Wb+2</td><td>MA</td><td>Amarelo</td><td>Consultor De Moda</td><td>consultor de moda</td><td>CONSULTOR DE MODA</td><td>Consultor De Moda</td></tr>\n",
       "<tr><td>cardosolivia@ig.c...</td><td>yXkDW7Ebh*</td><td>GO</td><td>Laranja</td><td>Barbeiro</td><td>barbeiro</td><td>BARBEIRO</td><td>Barbeiro</td></tr>\n",
       "<tr><td>brenda39@ig.com.br</td><td>XS$84Hpsnw</td><td>RJ</td><td>Branco</td><td>Promotor De Vendas</td><td>promotor de vendas</td><td>PROMOTOR DE VENDAS</td><td>Promotor De Vendas</td></tr>\n",
       "<tr><td>luizapeixoto@gmai...</td><td>TbKy82Kda$</td><td>DF</td><td>Ciano</td><td>Implantodontista</td><td>implantodontista</td><td>IMPLANTODONTISTA</td><td>Implantodontista</td></tr>\n",
       "</table>\n",
       "only showing top 20 rows\n"
      ],
      "text/plain": [
       "+--------------------+----------+------+------------+--------------------+--------------------+--------------------+--------------------+\n",
       "|               email|     senha|estado|cor_favorita|           profissao|     lower_profissao|     upper_profissao|   initcap_profissao|\n",
       "+--------------------+----------+------+------------+--------------------+--------------------+--------------------+--------------------+\n",
       "|pedro-lucas53@gma...|+7^7E%xFBc|    RR|        Roxo|    Jogador De Golfe|    jogador de golfe|    JOGADOR DE GOLFE|    Jogador De Golfe|\n",
       "|rezendeisaac@hotm...|_O_2GRnGOe|    GO|       Ciano|Atleta De Arremes...|atleta de arremes...|ATLETA DE ARREMES...|Atleta De Arremes...|\n",
       "|felipepires@uol.c...|*Aw5EOAvy9|    MG|        Azul|      Papiloscopista|      papiloscopista|      PAPILOSCOPISTA|      Papiloscopista|\n",
       "|stellamoraes@bol....|mw0AWYAs#s|    AC|      Marrom|            Aeromoça|            aeromoça|            AEROMOÇA|            Aeromoça|\n",
       "| wcarvalho@ig.com.br|pGD%!2Pq5X|    AP|     Laranja|       Fonoaudiólogo|       fonoaudiólogo|       FONOAUDIÓLOGO|       Fonoaudiólogo|\n",
       "|da-conceicaodavi-...|uhBbFxPA&9|    MG|        Rosa|             Taxista|             taxista|             TAXISTA|             Taxista|\n",
       "| efreitas@bol.com.br|s#q9VZt&xl|    MG|      Branco|Produtor De Audio...|produtor de audio...|PRODUTOR DE AUDIO...|Produtor De Audio...|\n",
       "|   wnunes@bol.com.br|_8az1W%n7g|    SE|        Azul|          Cadeirinha|          cadeirinha|          CADEIRINHA|          Cadeirinha|\n",
       "| jribeiro@bol.com.br|MEf1X7fj_0|    PA|      Marrom|             Geólogo|             geólogo|             GEÓLOGO|             Geólogo|\n",
       "|  murilo05@gmail.com|Te&gO7GkKs|    MT|      Marrom|      Técnico De Som|      técnico de som|      TÉCNICO DE SOM|      Técnico De Som|\n",
       "| joaquim57@ig.com.br|&2E1NY+ARc|    BA|        Rosa|         Esteticista|         esteticista|         ESTETICISTA|         Esteticista|\n",
       "|alexiada-rocha@ig...|@f@!Z!2c*2|    MS|     Laranja|        Microfonista|        microfonista|        MICROFONISTA|        Microfonista|\n",
       "|   pmendes@gmail.com|M+^XDBfe(2|    RR| Verde Claro|              Fiscal|              fiscal|              FISCAL|              Fiscal|\n",
       "|  renan46@bol.com.br|Rp%2pVqfe$|    PA|Verde Escuro|        Contabilista|        contabilista|        CONTABILISTA|        Contabilista|\n",
       "|manuelada-rosa@ho...|#hEIEOztQ3|    SE|     Violeta| Seguidor De Compras| seguidor de compras| SEGUIDOR DE COMPRAS| Seguidor De Compras|\n",
       "|    usales@ig.com.br|b_8xaY$ozJ|    AM|        Rosa|           Almirante|           almirante|           ALMIRANTE|           Almirante|\n",
       "|pereiranicolas@ho...|YA9I85Wb+2|    MA|     Amarelo|   Consultor De Moda|   consultor de moda|   CONSULTOR DE MODA|   Consultor De Moda|\n",
       "|cardosolivia@ig.c...|yXkDW7Ebh*|    GO|     Laranja|            Barbeiro|            barbeiro|            BARBEIRO|            Barbeiro|\n",
       "|  brenda39@ig.com.br|XS$84Hpsnw|    RJ|      Branco|  Promotor De Vendas|  promotor de vendas|  PROMOTOR DE VENDAS|  Promotor De Vendas|\n",
       "|luizapeixoto@gmai...|TbKy82Kda$|    DF|       Ciano|    Implantodontista|    implantodontista|    IMPLANTODONTISTA|    Implantodontista|\n",
       "+--------------------+----------+------+------------+--------------------+--------------------+--------------------+--------------------+\n",
       "only showing top 20 rows"
      ]
     },
     "execution_count": 125,
     "metadata": {},
     "output_type": "execute_result"
    }
   ],
   "source": [
    "(\n",
    "    df\n",
    "    .withColumn(\"lower_profissao\", F.lower(F.col(\"profissao\")))\n",
    "    .withColumn(\"upper_profissao\", F.upper(F.col(\"profissao\")))\n",
    "    .withColumn(\"initcap_profissao\", F.initcap(F.col(\"profissao\")))\n",
    ")"
   ]
  },
  {
   "cell_type": "markdown",
   "id": "d223f38b-05ce-4382-9cab-c0a489fb5133",
   "metadata": {},
   "source": [
    "### Substrings\n",
    "- Função: **F.substring()** extrai uma substring. No exemplo, estamos pegando os três primeiros caracteres da coluna **cor_favorita**."
   ]
  },
  {
   "cell_type": "code",
   "execution_count": 126,
   "id": "bdd73b5d-6db1-47a8-ac75-4f077d87fc99",
   "metadata": {
    "scrolled": true
   },
   "outputs": [
    {
     "data": {
      "text/html": [
       "<table border='1'>\n",
       "<tr><th>email</th><th>senha</th><th>estado</th><th>cor_favorita</th><th>profissao</th><th>substring</th></tr>\n",
       "<tr><td>pedro-lucas53@gma...</td><td>+7^7E%xFBc</td><td>RR</td><td>Roxo</td><td>Jogador De Golfe</td><td>Rox</td></tr>\n",
       "<tr><td>rezendeisaac@hotm...</td><td>_O_2GRnGOe</td><td>GO</td><td>Ciano</td><td>Atleta De Arremes...</td><td>Cia</td></tr>\n",
       "<tr><td>felipepires@uol.c...</td><td>*Aw5EOAvy9</td><td>MG</td><td>Azul</td><td>Papiloscopista</td><td>Azu</td></tr>\n",
       "<tr><td>stellamoraes@bol....</td><td>mw0AWYAs#s</td><td>AC</td><td>Marrom</td><td>Aeromo&ccedil;a</td><td>Mar</td></tr>\n",
       "<tr><td>wcarvalho@ig.com.br</td><td>pGD%!2Pq5X</td><td>AP</td><td>Laranja</td><td>Fonoaudi&oacute;logo</td><td>Lar</td></tr>\n",
       "<tr><td>da-conceicaodavi-...</td><td>uhBbFxPA&amp;9</td><td>MG</td><td>Rosa</td><td>Taxista</td><td>Ros</td></tr>\n",
       "<tr><td>efreitas@bol.com.br</td><td>s#q9VZt&amp;xl</td><td>MG</td><td>Branco</td><td>Produtor De Audio...</td><td>Bra</td></tr>\n",
       "<tr><td>wnunes@bol.com.br</td><td>_8az1W%n7g</td><td>SE</td><td>Azul</td><td>Cadeirinha</td><td>Azu</td></tr>\n",
       "<tr><td>jribeiro@bol.com.br</td><td>MEf1X7fj_0</td><td>PA</td><td>Marrom</td><td>Ge&oacute;logo</td><td>Mar</td></tr>\n",
       "<tr><td>murilo05@gmail.com</td><td>Te&amp;gO7GkKs</td><td>MT</td><td>Marrom</td><td>T&eacute;cnico De Som</td><td>Mar</td></tr>\n",
       "<tr><td>joaquim57@ig.com.br</td><td>&amp;2E1NY+ARc</td><td>BA</td><td>Rosa</td><td>Esteticista</td><td>Ros</td></tr>\n",
       "<tr><td>alexiada-rocha@ig...</td><td>@f@!Z!2c*2</td><td>MS</td><td>Laranja</td><td>Microfonista</td><td>Lar</td></tr>\n",
       "<tr><td>pmendes@gmail.com</td><td>M+^XDBfe(2</td><td>RR</td><td>Verde Claro</td><td>Fiscal</td><td>Ver</td></tr>\n",
       "<tr><td>renan46@bol.com.br</td><td>Rp%2pVqfe$</td><td>PA</td><td>Verde Escuro</td><td>Contabilista</td><td>Ver</td></tr>\n",
       "<tr><td>manuelada-rosa@ho...</td><td>#hEIEOztQ3</td><td>SE</td><td>Violeta</td><td>Seguidor De Compras</td><td>Vio</td></tr>\n",
       "<tr><td>usales@ig.com.br</td><td>b_8xaY$ozJ</td><td>AM</td><td>Rosa</td><td>Almirante</td><td>Ros</td></tr>\n",
       "<tr><td>pereiranicolas@ho...</td><td>YA9I85Wb+2</td><td>MA</td><td>Amarelo</td><td>Consultor De Moda</td><td>Ama</td></tr>\n",
       "<tr><td>cardosolivia@ig.c...</td><td>yXkDW7Ebh*</td><td>GO</td><td>Laranja</td><td>Barbeiro</td><td>Lar</td></tr>\n",
       "<tr><td>brenda39@ig.com.br</td><td>XS$84Hpsnw</td><td>RJ</td><td>Branco</td><td>Promotor De Vendas</td><td>Bra</td></tr>\n",
       "<tr><td>luizapeixoto@gmai...</td><td>TbKy82Kda$</td><td>DF</td><td>Ciano</td><td>Implantodontista</td><td>Cia</td></tr>\n",
       "</table>\n",
       "only showing top 20 rows\n"
      ],
      "text/plain": [
       "+--------------------+----------+------+------------+--------------------+---------+\n",
       "|               email|     senha|estado|cor_favorita|           profissao|substring|\n",
       "+--------------------+----------+------+------------+--------------------+---------+\n",
       "|pedro-lucas53@gma...|+7^7E%xFBc|    RR|        Roxo|    Jogador De Golfe|      Rox|\n",
       "|rezendeisaac@hotm...|_O_2GRnGOe|    GO|       Ciano|Atleta De Arremes...|      Cia|\n",
       "|felipepires@uol.c...|*Aw5EOAvy9|    MG|        Azul|      Papiloscopista|      Azu|\n",
       "|stellamoraes@bol....|mw0AWYAs#s|    AC|      Marrom|            Aeromoça|      Mar|\n",
       "| wcarvalho@ig.com.br|pGD%!2Pq5X|    AP|     Laranja|       Fonoaudiólogo|      Lar|\n",
       "|da-conceicaodavi-...|uhBbFxPA&9|    MG|        Rosa|             Taxista|      Ros|\n",
       "| efreitas@bol.com.br|s#q9VZt&xl|    MG|      Branco|Produtor De Audio...|      Bra|\n",
       "|   wnunes@bol.com.br|_8az1W%n7g|    SE|        Azul|          Cadeirinha|      Azu|\n",
       "| jribeiro@bol.com.br|MEf1X7fj_0|    PA|      Marrom|             Geólogo|      Mar|\n",
       "|  murilo05@gmail.com|Te&gO7GkKs|    MT|      Marrom|      Técnico De Som|      Mar|\n",
       "| joaquim57@ig.com.br|&2E1NY+ARc|    BA|        Rosa|         Esteticista|      Ros|\n",
       "|alexiada-rocha@ig...|@f@!Z!2c*2|    MS|     Laranja|        Microfonista|      Lar|\n",
       "|   pmendes@gmail.com|M+^XDBfe(2|    RR| Verde Claro|              Fiscal|      Ver|\n",
       "|  renan46@bol.com.br|Rp%2pVqfe$|    PA|Verde Escuro|        Contabilista|      Ver|\n",
       "|manuelada-rosa@ho...|#hEIEOztQ3|    SE|     Violeta| Seguidor De Compras|      Vio|\n",
       "|    usales@ig.com.br|b_8xaY$ozJ|    AM|        Rosa|           Almirante|      Ros|\n",
       "|pereiranicolas@ho...|YA9I85Wb+2|    MA|     Amarelo|   Consultor De Moda|      Ama|\n",
       "|cardosolivia@ig.c...|yXkDW7Ebh*|    GO|     Laranja|            Barbeiro|      Lar|\n",
       "|  brenda39@ig.com.br|XS$84Hpsnw|    RJ|      Branco|  Promotor De Vendas|      Bra|\n",
       "|luizapeixoto@gmai...|TbKy82Kda$|    DF|       Ciano|    Implantodontista|      Cia|\n",
       "+--------------------+----------+------+------------+--------------------+---------+\n",
       "only showing top 20 rows"
      ]
     },
     "execution_count": 126,
     "metadata": {},
     "output_type": "execute_result"
    }
   ],
   "source": [
    "(\n",
    "    df\n",
    "    .withColumn(\"substring\", F.substring(F.col(\"cor_favorita\"), 1, 3))\n",
    ")"
   ]
  },
  {
   "cell_type": "markdown",
   "id": "2726d507-3d9f-4209-881c-053a5da36ca3",
   "metadata": {},
   "source": [
    "### Formatar strings com placeholders\n",
    "- Função: **F.format_string()** formata a string utilizando placeholders, parecido com a função **printf** ou **str.format()** do Python. Aqui, o valor de **email** e **cor_favorita** são inseridos na mensagem."
   ]
  },
  {
   "cell_type": "code",
   "execution_count": 142,
   "id": "297aca33-7bbb-473f-88c0-5b0f031ebcf6",
   "metadata": {
    "scrolled": true
   },
   "outputs": [
    {
     "name": "stdout",
     "output_type": "stream",
     "text": [
      "+----------------------------------+----------+------+------------+---------------------------+---------------------------------------------------------------+\n",
      "|email                             |senha     |estado|cor_favorita|profissao                  |format_string                                                  |\n",
      "+----------------------------------+----------+------+------------+---------------------------+---------------------------------------------------------------+\n",
      "|pedro-lucas53@gmail.com           |+7^7E%xFBc|RR    |Roxo        |Jogador De Golfe           |Olá pedro-lucas53@gmail.com, sua cor favorita é Roxo           |\n",
      "|rezendeisaac@hotmail.com          |_O_2GRnGOe|GO    |Ciano       |Atleta De Arremesso De Peso|Olá rezendeisaac@hotmail.com, sua cor favorita é Ciano         |\n",
      "|felipepires@uol.com.br            |*Aw5EOAvy9|MG    |Azul        |Papiloscopista             |Olá felipepires@uol.com.br, sua cor favorita é Azul            |\n",
      "|stellamoraes@bol.com.br           |mw0AWYAs#s|AC    |Marrom      |Aeromoça                   |Olá stellamoraes@bol.com.br, sua cor favorita é Marrom         |\n",
      "|wcarvalho@ig.com.br               |pGD%!2Pq5X|AP    |Laranja     |Fonoaudiólogo              |Olá wcarvalho@ig.com.br, sua cor favorita é Laranja            |\n",
      "|da-conceicaodavi-lucas@hotmail.com|uhBbFxPA&9|MG    |Rosa        |Taxista                    |Olá da-conceicaodavi-lucas@hotmail.com, sua cor favorita é Rosa|\n",
      "|efreitas@bol.com.br               |s#q9VZt&xl|MG    |Branco      |Produtor De Audio Visual   |Olá efreitas@bol.com.br, sua cor favorita é Branco             |\n",
      "|wnunes@bol.com.br                 |_8az1W%n7g|SE    |Azul        |Cadeirinha                 |Olá wnunes@bol.com.br, sua cor favorita é Azul                 |\n",
      "|jribeiro@bol.com.br               |MEf1X7fj_0|PA    |Marrom      |Geólogo                    |Olá jribeiro@bol.com.br, sua cor favorita é Marrom             |\n",
      "|murilo05@gmail.com                |Te&gO7GkKs|MT    |Marrom      |Técnico De Som             |Olá murilo05@gmail.com, sua cor favorita é Marrom              |\n",
      "+----------------------------------+----------+------+------------+---------------------------+---------------------------------------------------------------+\n",
      "only showing top 10 rows\n",
      "\n"
     ]
    }
   ],
   "source": [
    "(\n",
    "    df\n",
    "    .withColumn(\"format_string\", F.format_string(\"Olá %s, sua cor favorita é %s\", F.col(\"email\"), F.col(\"cor_favorita\"))).show(10, False)\n",
    ")"
   ]
  },
  {
   "cell_type": "markdown",
   "id": "1ec2fd2f-78f8-4fe2-9713-c1285f599ccc",
   "metadata": {},
   "source": [
    "### Encontrar posição de substrings\n",
    "- Função: **F.instr()** retorna a posição da primeira ocorrência de uma substring. No exemplo, estamos localizando a posição do **\"@\"** no e-mail."
   ]
  },
  {
   "cell_type": "code",
   "execution_count": 128,
   "id": "a244c63f-383a-40ec-b985-b46780bb4837",
   "metadata": {
    "scrolled": true
   },
   "outputs": [
    {
     "data": {
      "text/html": [
       "<table border='1'>\n",
       "<tr><th>email</th><th>senha</th><th>estado</th><th>cor_favorita</th><th>profissao</th><th>instr_email</th></tr>\n",
       "<tr><td>pedro-lucas53@gma...</td><td>+7^7E%xFBc</td><td>RR</td><td>Roxo</td><td>Jogador De Golfe</td><td>14</td></tr>\n",
       "<tr><td>rezendeisaac@hotm...</td><td>_O_2GRnGOe</td><td>GO</td><td>Ciano</td><td>Atleta De Arremes...</td><td>13</td></tr>\n",
       "<tr><td>felipepires@uol.c...</td><td>*Aw5EOAvy9</td><td>MG</td><td>Azul</td><td>Papiloscopista</td><td>12</td></tr>\n",
       "<tr><td>stellamoraes@bol....</td><td>mw0AWYAs#s</td><td>AC</td><td>Marrom</td><td>Aeromo&ccedil;a</td><td>13</td></tr>\n",
       "<tr><td>wcarvalho@ig.com.br</td><td>pGD%!2Pq5X</td><td>AP</td><td>Laranja</td><td>Fonoaudi&oacute;logo</td><td>10</td></tr>\n",
       "<tr><td>da-conceicaodavi-...</td><td>uhBbFxPA&amp;9</td><td>MG</td><td>Rosa</td><td>Taxista</td><td>23</td></tr>\n",
       "<tr><td>efreitas@bol.com.br</td><td>s#q9VZt&amp;xl</td><td>MG</td><td>Branco</td><td>Produtor De Audio...</td><td>9</td></tr>\n",
       "<tr><td>wnunes@bol.com.br</td><td>_8az1W%n7g</td><td>SE</td><td>Azul</td><td>Cadeirinha</td><td>7</td></tr>\n",
       "<tr><td>jribeiro@bol.com.br</td><td>MEf1X7fj_0</td><td>PA</td><td>Marrom</td><td>Ge&oacute;logo</td><td>9</td></tr>\n",
       "<tr><td>murilo05@gmail.com</td><td>Te&amp;gO7GkKs</td><td>MT</td><td>Marrom</td><td>T&eacute;cnico De Som</td><td>9</td></tr>\n",
       "<tr><td>joaquim57@ig.com.br</td><td>&amp;2E1NY+ARc</td><td>BA</td><td>Rosa</td><td>Esteticista</td><td>10</td></tr>\n",
       "<tr><td>alexiada-rocha@ig...</td><td>@f@!Z!2c*2</td><td>MS</td><td>Laranja</td><td>Microfonista</td><td>15</td></tr>\n",
       "<tr><td>pmendes@gmail.com</td><td>M+^XDBfe(2</td><td>RR</td><td>Verde Claro</td><td>Fiscal</td><td>8</td></tr>\n",
       "<tr><td>renan46@bol.com.br</td><td>Rp%2pVqfe$</td><td>PA</td><td>Verde Escuro</td><td>Contabilista</td><td>8</td></tr>\n",
       "<tr><td>manuelada-rosa@ho...</td><td>#hEIEOztQ3</td><td>SE</td><td>Violeta</td><td>Seguidor De Compras</td><td>15</td></tr>\n",
       "<tr><td>usales@ig.com.br</td><td>b_8xaY$ozJ</td><td>AM</td><td>Rosa</td><td>Almirante</td><td>7</td></tr>\n",
       "<tr><td>pereiranicolas@ho...</td><td>YA9I85Wb+2</td><td>MA</td><td>Amarelo</td><td>Consultor De Moda</td><td>15</td></tr>\n",
       "<tr><td>cardosolivia@ig.c...</td><td>yXkDW7Ebh*</td><td>GO</td><td>Laranja</td><td>Barbeiro</td><td>13</td></tr>\n",
       "<tr><td>brenda39@ig.com.br</td><td>XS$84Hpsnw</td><td>RJ</td><td>Branco</td><td>Promotor De Vendas</td><td>9</td></tr>\n",
       "<tr><td>luizapeixoto@gmai...</td><td>TbKy82Kda$</td><td>DF</td><td>Ciano</td><td>Implantodontista</td><td>13</td></tr>\n",
       "</table>\n",
       "only showing top 20 rows\n"
      ],
      "text/plain": [
       "+--------------------+----------+------+------------+--------------------+-----------+\n",
       "|               email|     senha|estado|cor_favorita|           profissao|instr_email|\n",
       "+--------------------+----------+------+------------+--------------------+-----------+\n",
       "|pedro-lucas53@gma...|+7^7E%xFBc|    RR|        Roxo|    Jogador De Golfe|         14|\n",
       "|rezendeisaac@hotm...|_O_2GRnGOe|    GO|       Ciano|Atleta De Arremes...|         13|\n",
       "|felipepires@uol.c...|*Aw5EOAvy9|    MG|        Azul|      Papiloscopista|         12|\n",
       "|stellamoraes@bol....|mw0AWYAs#s|    AC|      Marrom|            Aeromoça|         13|\n",
       "| wcarvalho@ig.com.br|pGD%!2Pq5X|    AP|     Laranja|       Fonoaudiólogo|         10|\n",
       "|da-conceicaodavi-...|uhBbFxPA&9|    MG|        Rosa|             Taxista|         23|\n",
       "| efreitas@bol.com.br|s#q9VZt&xl|    MG|      Branco|Produtor De Audio...|          9|\n",
       "|   wnunes@bol.com.br|_8az1W%n7g|    SE|        Azul|          Cadeirinha|          7|\n",
       "| jribeiro@bol.com.br|MEf1X7fj_0|    PA|      Marrom|             Geólogo|          9|\n",
       "|  murilo05@gmail.com|Te&gO7GkKs|    MT|      Marrom|      Técnico De Som|          9|\n",
       "| joaquim57@ig.com.br|&2E1NY+ARc|    BA|        Rosa|         Esteticista|         10|\n",
       "|alexiada-rocha@ig...|@f@!Z!2c*2|    MS|     Laranja|        Microfonista|         15|\n",
       "|   pmendes@gmail.com|M+^XDBfe(2|    RR| Verde Claro|              Fiscal|          8|\n",
       "|  renan46@bol.com.br|Rp%2pVqfe$|    PA|Verde Escuro|        Contabilista|          8|\n",
       "|manuelada-rosa@ho...|#hEIEOztQ3|    SE|     Violeta| Seguidor De Compras|         15|\n",
       "|    usales@ig.com.br|b_8xaY$ozJ|    AM|        Rosa|           Almirante|          7|\n",
       "|pereiranicolas@ho...|YA9I85Wb+2|    MA|     Amarelo|   Consultor De Moda|         15|\n",
       "|cardosolivia@ig.c...|yXkDW7Ebh*|    GO|     Laranja|            Barbeiro|         13|\n",
       "|  brenda39@ig.com.br|XS$84Hpsnw|    RJ|      Branco|  Promotor De Vendas|          9|\n",
       "|luizapeixoto@gmai...|TbKy82Kda$|    DF|       Ciano|    Implantodontista|         13|\n",
       "+--------------------+----------+------+------------+--------------------+-----------+\n",
       "only showing top 20 rows"
      ]
     },
     "execution_count": 128,
     "metadata": {},
     "output_type": "execute_result"
    }
   ],
   "source": [
    "(\n",
    "    df\n",
    "    .withColumn(\"instr_email\", F.instr(F.col(\"email\"), \"@\"))\n",
    ")"
   ]
  },
  {
   "cell_type": "markdown",
   "id": "a25052b1-3acd-4721-b823-00aed759783a",
   "metadata": {},
   "source": [
    "### Tamanho de strings\n",
    "- Função: **F.length()** retorna o comprimento da string na coluna **profissao**."
   ]
  },
  {
   "cell_type": "code",
   "execution_count": 129,
   "id": "974e4387-fa3c-4914-bc25-79b89c28d8e0",
   "metadata": {
    "scrolled": true
   },
   "outputs": [
    {
     "data": {
      "text/html": [
       "<table border='1'>\n",
       "<tr><th>email</th><th>senha</th><th>estado</th><th>cor_favorita</th><th>profissao</th><th>length_profissao</th></tr>\n",
       "<tr><td>pedro-lucas53@gma...</td><td>+7^7E%xFBc</td><td>RR</td><td>Roxo</td><td>Jogador De Golfe</td><td>16</td></tr>\n",
       "<tr><td>rezendeisaac@hotm...</td><td>_O_2GRnGOe</td><td>GO</td><td>Ciano</td><td>Atleta De Arremes...</td><td>27</td></tr>\n",
       "<tr><td>felipepires@uol.c...</td><td>*Aw5EOAvy9</td><td>MG</td><td>Azul</td><td>Papiloscopista</td><td>14</td></tr>\n",
       "<tr><td>stellamoraes@bol....</td><td>mw0AWYAs#s</td><td>AC</td><td>Marrom</td><td>Aeromo&ccedil;a</td><td>8</td></tr>\n",
       "<tr><td>wcarvalho@ig.com.br</td><td>pGD%!2Pq5X</td><td>AP</td><td>Laranja</td><td>Fonoaudi&oacute;logo</td><td>13</td></tr>\n",
       "<tr><td>da-conceicaodavi-...</td><td>uhBbFxPA&amp;9</td><td>MG</td><td>Rosa</td><td>Taxista</td><td>7</td></tr>\n",
       "<tr><td>efreitas@bol.com.br</td><td>s#q9VZt&amp;xl</td><td>MG</td><td>Branco</td><td>Produtor De Audio...</td><td>24</td></tr>\n",
       "<tr><td>wnunes@bol.com.br</td><td>_8az1W%n7g</td><td>SE</td><td>Azul</td><td>Cadeirinha</td><td>10</td></tr>\n",
       "<tr><td>jribeiro@bol.com.br</td><td>MEf1X7fj_0</td><td>PA</td><td>Marrom</td><td>Ge&oacute;logo</td><td>7</td></tr>\n",
       "<tr><td>murilo05@gmail.com</td><td>Te&amp;gO7GkKs</td><td>MT</td><td>Marrom</td><td>T&eacute;cnico De Som</td><td>14</td></tr>\n",
       "<tr><td>joaquim57@ig.com.br</td><td>&amp;2E1NY+ARc</td><td>BA</td><td>Rosa</td><td>Esteticista</td><td>11</td></tr>\n",
       "<tr><td>alexiada-rocha@ig...</td><td>@f@!Z!2c*2</td><td>MS</td><td>Laranja</td><td>Microfonista</td><td>12</td></tr>\n",
       "<tr><td>pmendes@gmail.com</td><td>M+^XDBfe(2</td><td>RR</td><td>Verde Claro</td><td>Fiscal</td><td>6</td></tr>\n",
       "<tr><td>renan46@bol.com.br</td><td>Rp%2pVqfe$</td><td>PA</td><td>Verde Escuro</td><td>Contabilista</td><td>12</td></tr>\n",
       "<tr><td>manuelada-rosa@ho...</td><td>#hEIEOztQ3</td><td>SE</td><td>Violeta</td><td>Seguidor De Compras</td><td>19</td></tr>\n",
       "<tr><td>usales@ig.com.br</td><td>b_8xaY$ozJ</td><td>AM</td><td>Rosa</td><td>Almirante</td><td>9</td></tr>\n",
       "<tr><td>pereiranicolas@ho...</td><td>YA9I85Wb+2</td><td>MA</td><td>Amarelo</td><td>Consultor De Moda</td><td>17</td></tr>\n",
       "<tr><td>cardosolivia@ig.c...</td><td>yXkDW7Ebh*</td><td>GO</td><td>Laranja</td><td>Barbeiro</td><td>8</td></tr>\n",
       "<tr><td>brenda39@ig.com.br</td><td>XS$84Hpsnw</td><td>RJ</td><td>Branco</td><td>Promotor De Vendas</td><td>18</td></tr>\n",
       "<tr><td>luizapeixoto@gmai...</td><td>TbKy82Kda$</td><td>DF</td><td>Ciano</td><td>Implantodontista</td><td>16</td></tr>\n",
       "</table>\n",
       "only showing top 20 rows\n"
      ],
      "text/plain": [
       "+--------------------+----------+------+------------+--------------------+----------------+\n",
       "|               email|     senha|estado|cor_favorita|           profissao|length_profissao|\n",
       "+--------------------+----------+------+------------+--------------------+----------------+\n",
       "|pedro-lucas53@gma...|+7^7E%xFBc|    RR|        Roxo|    Jogador De Golfe|              16|\n",
       "|rezendeisaac@hotm...|_O_2GRnGOe|    GO|       Ciano|Atleta De Arremes...|              27|\n",
       "|felipepires@uol.c...|*Aw5EOAvy9|    MG|        Azul|      Papiloscopista|              14|\n",
       "|stellamoraes@bol....|mw0AWYAs#s|    AC|      Marrom|            Aeromoça|               8|\n",
       "| wcarvalho@ig.com.br|pGD%!2Pq5X|    AP|     Laranja|       Fonoaudiólogo|              13|\n",
       "|da-conceicaodavi-...|uhBbFxPA&9|    MG|        Rosa|             Taxista|               7|\n",
       "| efreitas@bol.com.br|s#q9VZt&xl|    MG|      Branco|Produtor De Audio...|              24|\n",
       "|   wnunes@bol.com.br|_8az1W%n7g|    SE|        Azul|          Cadeirinha|              10|\n",
       "| jribeiro@bol.com.br|MEf1X7fj_0|    PA|      Marrom|             Geólogo|               7|\n",
       "|  murilo05@gmail.com|Te&gO7GkKs|    MT|      Marrom|      Técnico De Som|              14|\n",
       "| joaquim57@ig.com.br|&2E1NY+ARc|    BA|        Rosa|         Esteticista|              11|\n",
       "|alexiada-rocha@ig...|@f@!Z!2c*2|    MS|     Laranja|        Microfonista|              12|\n",
       "|   pmendes@gmail.com|M+^XDBfe(2|    RR| Verde Claro|              Fiscal|               6|\n",
       "|  renan46@bol.com.br|Rp%2pVqfe$|    PA|Verde Escuro|        Contabilista|              12|\n",
       "|manuelada-rosa@ho...|#hEIEOztQ3|    SE|     Violeta| Seguidor De Compras|              19|\n",
       "|    usales@ig.com.br|b_8xaY$ozJ|    AM|        Rosa|           Almirante|               9|\n",
       "|pereiranicolas@ho...|YA9I85Wb+2|    MA|     Amarelo|   Consultor De Moda|              17|\n",
       "|cardosolivia@ig.c...|yXkDW7Ebh*|    GO|     Laranja|            Barbeiro|               8|\n",
       "|  brenda39@ig.com.br|XS$84Hpsnw|    RJ|      Branco|  Promotor De Vendas|              18|\n",
       "|luizapeixoto@gmai...|TbKy82Kda$|    DF|       Ciano|    Implantodontista|              16|\n",
       "+--------------------+----------+------+------------+--------------------+----------------+\n",
       "only showing top 20 rows"
      ]
     },
     "execution_count": 129,
     "metadata": {},
     "output_type": "execute_result"
    }
   ],
   "source": [
    "(\n",
    "    df\n",
    "    .withColumn(\"length_profissao\", F.length(F.col(\"profissao\")))\n",
    ")"
   ]
  },
  {
   "cell_type": "markdown",
   "id": "e16eb778-f592-44ce-8f46-eaa8c7c451c9",
   "metadata": {},
   "source": [
    "### Repetir valores de uma coluna\n",
    "- Função: **F.repeat()** repete o valor da coluna **estado** duas vezes."
   ]
  },
  {
   "cell_type": "code",
   "execution_count": 130,
   "id": "d43d41aa-8433-4f4c-9b52-d4eb383de827",
   "metadata": {
    "scrolled": true
   },
   "outputs": [
    {
     "data": {
      "text/html": [
       "<table border='1'>\n",
       "<tr><th>email</th><th>senha</th><th>estado</th><th>cor_favorita</th><th>profissao</th><th>repeat</th></tr>\n",
       "<tr><td>pedro-lucas53@gma...</td><td>+7^7E%xFBc</td><td>RR</td><td>Roxo</td><td>Jogador De Golfe</td><td>RRRR</td></tr>\n",
       "<tr><td>rezendeisaac@hotm...</td><td>_O_2GRnGOe</td><td>GO</td><td>Ciano</td><td>Atleta De Arremes...</td><td>GOGO</td></tr>\n",
       "<tr><td>felipepires@uol.c...</td><td>*Aw5EOAvy9</td><td>MG</td><td>Azul</td><td>Papiloscopista</td><td>MGMG</td></tr>\n",
       "<tr><td>stellamoraes@bol....</td><td>mw0AWYAs#s</td><td>AC</td><td>Marrom</td><td>Aeromo&ccedil;a</td><td>ACAC</td></tr>\n",
       "<tr><td>wcarvalho@ig.com.br</td><td>pGD%!2Pq5X</td><td>AP</td><td>Laranja</td><td>Fonoaudi&oacute;logo</td><td>APAP</td></tr>\n",
       "<tr><td>da-conceicaodavi-...</td><td>uhBbFxPA&amp;9</td><td>MG</td><td>Rosa</td><td>Taxista</td><td>MGMG</td></tr>\n",
       "<tr><td>efreitas@bol.com.br</td><td>s#q9VZt&amp;xl</td><td>MG</td><td>Branco</td><td>Produtor De Audio...</td><td>MGMG</td></tr>\n",
       "<tr><td>wnunes@bol.com.br</td><td>_8az1W%n7g</td><td>SE</td><td>Azul</td><td>Cadeirinha</td><td>SESE</td></tr>\n",
       "<tr><td>jribeiro@bol.com.br</td><td>MEf1X7fj_0</td><td>PA</td><td>Marrom</td><td>Ge&oacute;logo</td><td>PAPA</td></tr>\n",
       "<tr><td>murilo05@gmail.com</td><td>Te&amp;gO7GkKs</td><td>MT</td><td>Marrom</td><td>T&eacute;cnico De Som</td><td>MTMT</td></tr>\n",
       "<tr><td>joaquim57@ig.com.br</td><td>&amp;2E1NY+ARc</td><td>BA</td><td>Rosa</td><td>Esteticista</td><td>BABA</td></tr>\n",
       "<tr><td>alexiada-rocha@ig...</td><td>@f@!Z!2c*2</td><td>MS</td><td>Laranja</td><td>Microfonista</td><td>MSMS</td></tr>\n",
       "<tr><td>pmendes@gmail.com</td><td>M+^XDBfe(2</td><td>RR</td><td>Verde Claro</td><td>Fiscal</td><td>RRRR</td></tr>\n",
       "<tr><td>renan46@bol.com.br</td><td>Rp%2pVqfe$</td><td>PA</td><td>Verde Escuro</td><td>Contabilista</td><td>PAPA</td></tr>\n",
       "<tr><td>manuelada-rosa@ho...</td><td>#hEIEOztQ3</td><td>SE</td><td>Violeta</td><td>Seguidor De Compras</td><td>SESE</td></tr>\n",
       "<tr><td>usales@ig.com.br</td><td>b_8xaY$ozJ</td><td>AM</td><td>Rosa</td><td>Almirante</td><td>AMAM</td></tr>\n",
       "<tr><td>pereiranicolas@ho...</td><td>YA9I85Wb+2</td><td>MA</td><td>Amarelo</td><td>Consultor De Moda</td><td>MAMA</td></tr>\n",
       "<tr><td>cardosolivia@ig.c...</td><td>yXkDW7Ebh*</td><td>GO</td><td>Laranja</td><td>Barbeiro</td><td>GOGO</td></tr>\n",
       "<tr><td>brenda39@ig.com.br</td><td>XS$84Hpsnw</td><td>RJ</td><td>Branco</td><td>Promotor De Vendas</td><td>RJRJ</td></tr>\n",
       "<tr><td>luizapeixoto@gmai...</td><td>TbKy82Kda$</td><td>DF</td><td>Ciano</td><td>Implantodontista</td><td>DFDF</td></tr>\n",
       "</table>\n",
       "only showing top 20 rows\n"
      ],
      "text/plain": [
       "+--------------------+----------+------+------------+--------------------+------+\n",
       "|               email|     senha|estado|cor_favorita|           profissao|repeat|\n",
       "+--------------------+----------+------+------------+--------------------+------+\n",
       "|pedro-lucas53@gma...|+7^7E%xFBc|    RR|        Roxo|    Jogador De Golfe|  RRRR|\n",
       "|rezendeisaac@hotm...|_O_2GRnGOe|    GO|       Ciano|Atleta De Arremes...|  GOGO|\n",
       "|felipepires@uol.c...|*Aw5EOAvy9|    MG|        Azul|      Papiloscopista|  MGMG|\n",
       "|stellamoraes@bol....|mw0AWYAs#s|    AC|      Marrom|            Aeromoça|  ACAC|\n",
       "| wcarvalho@ig.com.br|pGD%!2Pq5X|    AP|     Laranja|       Fonoaudiólogo|  APAP|\n",
       "|da-conceicaodavi-...|uhBbFxPA&9|    MG|        Rosa|             Taxista|  MGMG|\n",
       "| efreitas@bol.com.br|s#q9VZt&xl|    MG|      Branco|Produtor De Audio...|  MGMG|\n",
       "|   wnunes@bol.com.br|_8az1W%n7g|    SE|        Azul|          Cadeirinha|  SESE|\n",
       "| jribeiro@bol.com.br|MEf1X7fj_0|    PA|      Marrom|             Geólogo|  PAPA|\n",
       "|  murilo05@gmail.com|Te&gO7GkKs|    MT|      Marrom|      Técnico De Som|  MTMT|\n",
       "| joaquim57@ig.com.br|&2E1NY+ARc|    BA|        Rosa|         Esteticista|  BABA|\n",
       "|alexiada-rocha@ig...|@f@!Z!2c*2|    MS|     Laranja|        Microfonista|  MSMS|\n",
       "|   pmendes@gmail.com|M+^XDBfe(2|    RR| Verde Claro|              Fiscal|  RRRR|\n",
       "|  renan46@bol.com.br|Rp%2pVqfe$|    PA|Verde Escuro|        Contabilista|  PAPA|\n",
       "|manuelada-rosa@ho...|#hEIEOztQ3|    SE|     Violeta| Seguidor De Compras|  SESE|\n",
       "|    usales@ig.com.br|b_8xaY$ozJ|    AM|        Rosa|           Almirante|  AMAM|\n",
       "|pereiranicolas@ho...|YA9I85Wb+2|    MA|     Amarelo|   Consultor De Moda|  MAMA|\n",
       "|cardosolivia@ig.c...|yXkDW7Ebh*|    GO|     Laranja|            Barbeiro|  GOGO|\n",
       "|  brenda39@ig.com.br|XS$84Hpsnw|    RJ|      Branco|  Promotor De Vendas|  RJRJ|\n",
       "|luizapeixoto@gmai...|TbKy82Kda$|    DF|       Ciano|    Implantodontista|  DFDF|\n",
       "+--------------------+----------+------+------------+--------------------+------+\n",
       "only showing top 20 rows"
      ]
     },
     "execution_count": 130,
     "metadata": {},
     "output_type": "execute_result"
    }
   ],
   "source": [
    "(\n",
    "    df\n",
    "    .withColumn(\"repeat\", F.repeat(F.col(\"estado\"), 2))\n",
    ")"
   ]
  },
  {
   "cell_type": "markdown",
   "id": "7c2fce5f-2d47-4e97-a032-8eb2dd89d72f",
   "metadata": {},
   "source": [
    "### Remover espaços em branco\n",
    "- Função: **F.trim()** remove os espaços em branco no início e fim da string."
   ]
  },
  {
   "cell_type": "code",
   "execution_count": 131,
   "id": "304b1f4b-45de-4e5e-8830-d968aca8941e",
   "metadata": {
    "scrolled": true
   },
   "outputs": [
    {
     "data": {
      "text/html": [
       "<table border='1'>\n",
       "<tr><th>email</th><th>senha</th><th>estado</th><th>cor_favorita</th><th>profissao</th><th>trim</th></tr>\n",
       "<tr><td>pedro-lucas53@gma...</td><td>+7^7E%xFBc</td><td>RR</td><td>Roxo</td><td>Jogador De Golfe</td><td>RR</td></tr>\n",
       "<tr><td>rezendeisaac@hotm...</td><td>_O_2GRnGOe</td><td>GO</td><td>Ciano</td><td>Atleta De Arremes...</td><td>GO</td></tr>\n",
       "<tr><td>felipepires@uol.c...</td><td>*Aw5EOAvy9</td><td>MG</td><td>Azul</td><td>Papiloscopista</td><td>MG</td></tr>\n",
       "<tr><td>stellamoraes@bol....</td><td>mw0AWYAs#s</td><td>AC</td><td>Marrom</td><td>Aeromo&ccedil;a</td><td>AC</td></tr>\n",
       "<tr><td>wcarvalho@ig.com.br</td><td>pGD%!2Pq5X</td><td>AP</td><td>Laranja</td><td>Fonoaudi&oacute;logo</td><td>AP</td></tr>\n",
       "<tr><td>da-conceicaodavi-...</td><td>uhBbFxPA&amp;9</td><td>MG</td><td>Rosa</td><td>Taxista</td><td>MG</td></tr>\n",
       "<tr><td>efreitas@bol.com.br</td><td>s#q9VZt&amp;xl</td><td>MG</td><td>Branco</td><td>Produtor De Audio...</td><td>MG</td></tr>\n",
       "<tr><td>wnunes@bol.com.br</td><td>_8az1W%n7g</td><td>SE</td><td>Azul</td><td>Cadeirinha</td><td>SE</td></tr>\n",
       "<tr><td>jribeiro@bol.com.br</td><td>MEf1X7fj_0</td><td>PA</td><td>Marrom</td><td>Ge&oacute;logo</td><td>PA</td></tr>\n",
       "<tr><td>murilo05@gmail.com</td><td>Te&amp;gO7GkKs</td><td>MT</td><td>Marrom</td><td>T&eacute;cnico De Som</td><td>MT</td></tr>\n",
       "<tr><td>joaquim57@ig.com.br</td><td>&amp;2E1NY+ARc</td><td>BA</td><td>Rosa</td><td>Esteticista</td><td>BA</td></tr>\n",
       "<tr><td>alexiada-rocha@ig...</td><td>@f@!Z!2c*2</td><td>MS</td><td>Laranja</td><td>Microfonista</td><td>MS</td></tr>\n",
       "<tr><td>pmendes@gmail.com</td><td>M+^XDBfe(2</td><td>RR</td><td>Verde Claro</td><td>Fiscal</td><td>RR</td></tr>\n",
       "<tr><td>renan46@bol.com.br</td><td>Rp%2pVqfe$</td><td>PA</td><td>Verde Escuro</td><td>Contabilista</td><td>PA</td></tr>\n",
       "<tr><td>manuelada-rosa@ho...</td><td>#hEIEOztQ3</td><td>SE</td><td>Violeta</td><td>Seguidor De Compras</td><td>SE</td></tr>\n",
       "<tr><td>usales@ig.com.br</td><td>b_8xaY$ozJ</td><td>AM</td><td>Rosa</td><td>Almirante</td><td>AM</td></tr>\n",
       "<tr><td>pereiranicolas@ho...</td><td>YA9I85Wb+2</td><td>MA</td><td>Amarelo</td><td>Consultor De Moda</td><td>MA</td></tr>\n",
       "<tr><td>cardosolivia@ig.c...</td><td>yXkDW7Ebh*</td><td>GO</td><td>Laranja</td><td>Barbeiro</td><td>GO</td></tr>\n",
       "<tr><td>brenda39@ig.com.br</td><td>XS$84Hpsnw</td><td>RJ</td><td>Branco</td><td>Promotor De Vendas</td><td>RJ</td></tr>\n",
       "<tr><td>luizapeixoto@gmai...</td><td>TbKy82Kda$</td><td>DF</td><td>Ciano</td><td>Implantodontista</td><td>DF</td></tr>\n",
       "</table>\n",
       "only showing top 20 rows\n"
      ],
      "text/plain": [
       "+--------------------+----------+------+------------+--------------------+----+\n",
       "|               email|     senha|estado|cor_favorita|           profissao|trim|\n",
       "+--------------------+----------+------+------------+--------------------+----+\n",
       "|pedro-lucas53@gma...|+7^7E%xFBc|    RR|        Roxo|    Jogador De Golfe|  RR|\n",
       "|rezendeisaac@hotm...|_O_2GRnGOe|    GO|       Ciano|Atleta De Arremes...|  GO|\n",
       "|felipepires@uol.c...|*Aw5EOAvy9|    MG|        Azul|      Papiloscopista|  MG|\n",
       "|stellamoraes@bol....|mw0AWYAs#s|    AC|      Marrom|            Aeromoça|  AC|\n",
       "| wcarvalho@ig.com.br|pGD%!2Pq5X|    AP|     Laranja|       Fonoaudiólogo|  AP|\n",
       "|da-conceicaodavi-...|uhBbFxPA&9|    MG|        Rosa|             Taxista|  MG|\n",
       "| efreitas@bol.com.br|s#q9VZt&xl|    MG|      Branco|Produtor De Audio...|  MG|\n",
       "|   wnunes@bol.com.br|_8az1W%n7g|    SE|        Azul|          Cadeirinha|  SE|\n",
       "| jribeiro@bol.com.br|MEf1X7fj_0|    PA|      Marrom|             Geólogo|  PA|\n",
       "|  murilo05@gmail.com|Te&gO7GkKs|    MT|      Marrom|      Técnico De Som|  MT|\n",
       "| joaquim57@ig.com.br|&2E1NY+ARc|    BA|        Rosa|         Esteticista|  BA|\n",
       "|alexiada-rocha@ig...|@f@!Z!2c*2|    MS|     Laranja|        Microfonista|  MS|\n",
       "|   pmendes@gmail.com|M+^XDBfe(2|    RR| Verde Claro|              Fiscal|  RR|\n",
       "|  renan46@bol.com.br|Rp%2pVqfe$|    PA|Verde Escuro|        Contabilista|  PA|\n",
       "|manuelada-rosa@ho...|#hEIEOztQ3|    SE|     Violeta| Seguidor De Compras|  SE|\n",
       "|    usales@ig.com.br|b_8xaY$ozJ|    AM|        Rosa|           Almirante|  AM|\n",
       "|pereiranicolas@ho...|YA9I85Wb+2|    MA|     Amarelo|   Consultor De Moda|  MA|\n",
       "|cardosolivia@ig.c...|yXkDW7Ebh*|    GO|     Laranja|            Barbeiro|  GO|\n",
       "|  brenda39@ig.com.br|XS$84Hpsnw|    RJ|      Branco|  Promotor De Vendas|  RJ|\n",
       "|luizapeixoto@gmai...|TbKy82Kda$|    DF|       Ciano|    Implantodontista|  DF|\n",
       "+--------------------+----------+------+------------+--------------------+----+\n",
       "only showing top 20 rows"
      ]
     },
     "execution_count": 131,
     "metadata": {},
     "output_type": "execute_result"
    }
   ],
   "source": [
    "(\n",
    "    df\n",
    "    .withColumn(\"trim\", F.trim(F.col(\"estado\")))\n",
    ")"
   ]
  },
  {
   "cell_type": "markdown",
   "id": "be2d8851-0108-4824-9613-b3ace2f6f2f6",
   "metadata": {},
   "source": [
    "### Preencher com caracteres à esquerda ou à direita\n",
    "- Função: **F.lpad()** preenche a string à esquerda até o comprimento especificado (10, neste caso), usando o caractere **\">\"**.\n",
    "- Função: **F.rpad()** preenche a string à direita até o comprimento especificado, usando o caractere **\"<\"**."
   ]
  },
  {
   "cell_type": "code",
   "execution_count": 132,
   "id": "09ac0d66-44bd-4fdb-a2d1-5d5da9a859a8",
   "metadata": {
    "scrolled": true
   },
   "outputs": [
    {
     "data": {
      "text/html": [
       "<table border='1'>\n",
       "<tr><th>email</th><th>senha</th><th>estado</th><th>cor_favorita</th><th>profissao</th><th>lpad</th><th>rpad</th></tr>\n",
       "<tr><td>pedro-lucas53@gma...</td><td>+7^7E%xFBc</td><td>RR</td><td>Roxo</td><td>Jogador De Golfe</td><td>&gt;&gt;&gt;&gt;&gt;&gt;Roxo</td><td>Roxo&lt;&lt;&lt;&lt;&lt;&lt;</td></tr>\n",
       "<tr><td>rezendeisaac@hotm...</td><td>_O_2GRnGOe</td><td>GO</td><td>Ciano</td><td>Atleta De Arremes...</td><td>&gt;&gt;&gt;&gt;&gt;Ciano</td><td>Ciano&lt;&lt;&lt;&lt;&lt;</td></tr>\n",
       "<tr><td>felipepires@uol.c...</td><td>*Aw5EOAvy9</td><td>MG</td><td>Azul</td><td>Papiloscopista</td><td>&gt;&gt;&gt;&gt;&gt;&gt;Azul</td><td>Azul&lt;&lt;&lt;&lt;&lt;&lt;</td></tr>\n",
       "<tr><td>stellamoraes@bol....</td><td>mw0AWYAs#s</td><td>AC</td><td>Marrom</td><td>Aeromo&ccedil;a</td><td>&gt;&gt;&gt;&gt;Marrom</td><td>Marrom&lt;&lt;&lt;&lt;</td></tr>\n",
       "<tr><td>wcarvalho@ig.com.br</td><td>pGD%!2Pq5X</td><td>AP</td><td>Laranja</td><td>Fonoaudi&oacute;logo</td><td>&gt;&gt;&gt;Laranja</td><td>Laranja&lt;&lt;&lt;</td></tr>\n",
       "<tr><td>da-conceicaodavi-...</td><td>uhBbFxPA&amp;9</td><td>MG</td><td>Rosa</td><td>Taxista</td><td>&gt;&gt;&gt;&gt;&gt;&gt;Rosa</td><td>Rosa&lt;&lt;&lt;&lt;&lt;&lt;</td></tr>\n",
       "<tr><td>efreitas@bol.com.br</td><td>s#q9VZt&amp;xl</td><td>MG</td><td>Branco</td><td>Produtor De Audio...</td><td>&gt;&gt;&gt;&gt;Branco</td><td>Branco&lt;&lt;&lt;&lt;</td></tr>\n",
       "<tr><td>wnunes@bol.com.br</td><td>_8az1W%n7g</td><td>SE</td><td>Azul</td><td>Cadeirinha</td><td>&gt;&gt;&gt;&gt;&gt;&gt;Azul</td><td>Azul&lt;&lt;&lt;&lt;&lt;&lt;</td></tr>\n",
       "<tr><td>jribeiro@bol.com.br</td><td>MEf1X7fj_0</td><td>PA</td><td>Marrom</td><td>Ge&oacute;logo</td><td>&gt;&gt;&gt;&gt;Marrom</td><td>Marrom&lt;&lt;&lt;&lt;</td></tr>\n",
       "<tr><td>murilo05@gmail.com</td><td>Te&amp;gO7GkKs</td><td>MT</td><td>Marrom</td><td>T&eacute;cnico De Som</td><td>&gt;&gt;&gt;&gt;Marrom</td><td>Marrom&lt;&lt;&lt;&lt;</td></tr>\n",
       "<tr><td>joaquim57@ig.com.br</td><td>&amp;2E1NY+ARc</td><td>BA</td><td>Rosa</td><td>Esteticista</td><td>&gt;&gt;&gt;&gt;&gt;&gt;Rosa</td><td>Rosa&lt;&lt;&lt;&lt;&lt;&lt;</td></tr>\n",
       "<tr><td>alexiada-rocha@ig...</td><td>@f@!Z!2c*2</td><td>MS</td><td>Laranja</td><td>Microfonista</td><td>&gt;&gt;&gt;Laranja</td><td>Laranja&lt;&lt;&lt;</td></tr>\n",
       "<tr><td>pmendes@gmail.com</td><td>M+^XDBfe(2</td><td>RR</td><td>Verde Claro</td><td>Fiscal</td><td>Verde Clar</td><td>Verde Clar</td></tr>\n",
       "<tr><td>renan46@bol.com.br</td><td>Rp%2pVqfe$</td><td>PA</td><td>Verde Escuro</td><td>Contabilista</td><td>Verde Escu</td><td>Verde Escu</td></tr>\n",
       "<tr><td>manuelada-rosa@ho...</td><td>#hEIEOztQ3</td><td>SE</td><td>Violeta</td><td>Seguidor De Compras</td><td>&gt;&gt;&gt;Violeta</td><td>Violeta&lt;&lt;&lt;</td></tr>\n",
       "<tr><td>usales@ig.com.br</td><td>b_8xaY$ozJ</td><td>AM</td><td>Rosa</td><td>Almirante</td><td>&gt;&gt;&gt;&gt;&gt;&gt;Rosa</td><td>Rosa&lt;&lt;&lt;&lt;&lt;&lt;</td></tr>\n",
       "<tr><td>pereiranicolas@ho...</td><td>YA9I85Wb+2</td><td>MA</td><td>Amarelo</td><td>Consultor De Moda</td><td>&gt;&gt;&gt;Amarelo</td><td>Amarelo&lt;&lt;&lt;</td></tr>\n",
       "<tr><td>cardosolivia@ig.c...</td><td>yXkDW7Ebh*</td><td>GO</td><td>Laranja</td><td>Barbeiro</td><td>&gt;&gt;&gt;Laranja</td><td>Laranja&lt;&lt;&lt;</td></tr>\n",
       "<tr><td>brenda39@ig.com.br</td><td>XS$84Hpsnw</td><td>RJ</td><td>Branco</td><td>Promotor De Vendas</td><td>&gt;&gt;&gt;&gt;Branco</td><td>Branco&lt;&lt;&lt;&lt;</td></tr>\n",
       "<tr><td>luizapeixoto@gmai...</td><td>TbKy82Kda$</td><td>DF</td><td>Ciano</td><td>Implantodontista</td><td>&gt;&gt;&gt;&gt;&gt;Ciano</td><td>Ciano&lt;&lt;&lt;&lt;&lt;</td></tr>\n",
       "</table>\n",
       "only showing top 20 rows\n"
      ],
      "text/plain": [
       "+--------------------+----------+------+------------+--------------------+----------+----------+\n",
       "|               email|     senha|estado|cor_favorita|           profissao|      lpad|      rpad|\n",
       "+--------------------+----------+------+------------+--------------------+----------+----------+\n",
       "|pedro-lucas53@gma...|+7^7E%xFBc|    RR|        Roxo|    Jogador De Golfe|>>>>>>Roxo|Roxo<<<<<<|\n",
       "|rezendeisaac@hotm...|_O_2GRnGOe|    GO|       Ciano|Atleta De Arremes...|>>>>>Ciano|Ciano<<<<<|\n",
       "|felipepires@uol.c...|*Aw5EOAvy9|    MG|        Azul|      Papiloscopista|>>>>>>Azul|Azul<<<<<<|\n",
       "|stellamoraes@bol....|mw0AWYAs#s|    AC|      Marrom|            Aeromoça|>>>>Marrom|Marrom<<<<|\n",
       "| wcarvalho@ig.com.br|pGD%!2Pq5X|    AP|     Laranja|       Fonoaudiólogo|>>>Laranja|Laranja<<<|\n",
       "|da-conceicaodavi-...|uhBbFxPA&9|    MG|        Rosa|             Taxista|>>>>>>Rosa|Rosa<<<<<<|\n",
       "| efreitas@bol.com.br|s#q9VZt&xl|    MG|      Branco|Produtor De Audio...|>>>>Branco|Branco<<<<|\n",
       "|   wnunes@bol.com.br|_8az1W%n7g|    SE|        Azul|          Cadeirinha|>>>>>>Azul|Azul<<<<<<|\n",
       "| jribeiro@bol.com.br|MEf1X7fj_0|    PA|      Marrom|             Geólogo|>>>>Marrom|Marrom<<<<|\n",
       "|  murilo05@gmail.com|Te&gO7GkKs|    MT|      Marrom|      Técnico De Som|>>>>Marrom|Marrom<<<<|\n",
       "| joaquim57@ig.com.br|&2E1NY+ARc|    BA|        Rosa|         Esteticista|>>>>>>Rosa|Rosa<<<<<<|\n",
       "|alexiada-rocha@ig...|@f@!Z!2c*2|    MS|     Laranja|        Microfonista|>>>Laranja|Laranja<<<|\n",
       "|   pmendes@gmail.com|M+^XDBfe(2|    RR| Verde Claro|              Fiscal|Verde Clar|Verde Clar|\n",
       "|  renan46@bol.com.br|Rp%2pVqfe$|    PA|Verde Escuro|        Contabilista|Verde Escu|Verde Escu|\n",
       "|manuelada-rosa@ho...|#hEIEOztQ3|    SE|     Violeta| Seguidor De Compras|>>>Violeta|Violeta<<<|\n",
       "|    usales@ig.com.br|b_8xaY$ozJ|    AM|        Rosa|           Almirante|>>>>>>Rosa|Rosa<<<<<<|\n",
       "|pereiranicolas@ho...|YA9I85Wb+2|    MA|     Amarelo|   Consultor De Moda|>>>Amarelo|Amarelo<<<|\n",
       "|cardosolivia@ig.c...|yXkDW7Ebh*|    GO|     Laranja|            Barbeiro|>>>Laranja|Laranja<<<|\n",
       "|  brenda39@ig.com.br|XS$84Hpsnw|    RJ|      Branco|  Promotor De Vendas|>>>>Branco|Branco<<<<|\n",
       "|luizapeixoto@gmai...|TbKy82Kda$|    DF|       Ciano|    Implantodontista|>>>>>Ciano|Ciano<<<<<|\n",
       "+--------------------+----------+------+------------+--------------------+----------+----------+\n",
       "only showing top 20 rows"
      ]
     },
     "execution_count": 132,
     "metadata": {},
     "output_type": "execute_result"
    }
   ],
   "source": [
    "(\n",
    "    df\n",
    "    .withColumn(\"lpad\", F.lpad(F.col(\"cor_favorita\"), 10, \">\"))\n",
    "    .withColumn(\"rpad\", F.rpad(F.col(\"cor_favorita\"), 10, \"<\"))\n",
    ")"
   ]
  }
 ],
 "metadata": {
  "kernelspec": {
   "display_name": "Python 3 (ipykernel)",
   "language": "python",
   "name": "python3"
  },
  "language_info": {
   "codemirror_mode": {
    "name": "ipython",
    "version": 3
   },
   "file_extension": ".py",
   "mimetype": "text/x-python",
   "name": "python",
   "nbconvert_exporter": "python",
   "pygments_lexer": "ipython3",
   "version": "3.12.7"
  }
 },
 "nbformat": 4,
 "nbformat_minor": 5
}
