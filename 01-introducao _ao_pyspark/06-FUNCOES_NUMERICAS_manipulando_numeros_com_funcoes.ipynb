{
 "cells": [
  {
   "cell_type": "code",
   "execution_count": 76,
   "id": "252e2bf0-cac3-44ae-a823-1994f3338608",
   "metadata": {},
   "outputs": [],
   "source": [
    "from pyspark.sql import SparkSession\n",
    "import pyspark.sql.functions as F"
   ]
  },
  {
   "cell_type": "code",
   "execution_count": 77,
   "id": "c35df458-a66e-4d14-a952-117eb6feafc5",
   "metadata": {},
   "outputs": [],
   "source": [
    "spark = (\n",
    "    SparkSession.builder\n",
    "    .appName(\"Curso de PySpark\")\n",
    "    .config(\"spark.sql.repl.eagerEval.enabled\", True)\n",
    "    .getOrCreate()\n",
    ")"
   ]
  },
  {
   "cell_type": "code",
   "execution_count": 78,
   "id": "f173f8cc-5c0c-42c9-b6dd-e2f5949bc9da",
   "metadata": {},
   "outputs": [
    {
     "data": {
      "text/html": [
       "\n",
       "            <div>\n",
       "                <p><b>SparkSession - in-memory</b></p>\n",
       "                \n",
       "        <div>\n",
       "            <p><b>SparkContext</b></p>\n",
       "\n",
       "            <p><a href=\"http://COLTWFGLFV04:4045\">Spark UI</a></p>\n",
       "\n",
       "            <dl>\n",
       "              <dt>Version</dt>\n",
       "                <dd><code>v3.5.5</code></dd>\n",
       "              <dt>Master</dt>\n",
       "                <dd><code>local[*]</code></dd>\n",
       "              <dt>AppName</dt>\n",
       "                <dd><code>Curso de PySpark</code></dd>\n",
       "            </dl>\n",
       "        </div>\n",
       "        \n",
       "            </div>\n",
       "        "
      ],
      "text/plain": [
       "<pyspark.sql.session.SparkSession at 0x1a40e736750>"
      ]
     },
     "execution_count": 78,
     "metadata": {},
     "output_type": "execute_result"
    }
   ],
   "source": [
    "spark"
   ]
  },
  {
   "cell_type": "code",
   "execution_count": 79,
   "id": "c9823213-a741-4131-acf9-1fb31b01152f",
   "metadata": {},
   "outputs": [],
   "source": [
    "path = \"C:/Users/marlos.barros/Cursos/pyspark_na_pratica/DATASETS/IMC.parquet\""
   ]
  },
  {
   "cell_type": "code",
   "execution_count": 80,
   "id": "846298f5-6981-4c2f-8384-bb4f15dd0ad0",
   "metadata": {},
   "outputs": [],
   "source": [
    "df = spark.read.format(\"parquet\").load(path)"
   ]
  },
  {
   "cell_type": "code",
   "execution_count": 81,
   "id": "e60ea40f-8031-4910-9f2a-23a550e285b5",
   "metadata": {
    "scrolled": true
   },
   "outputs": [
    {
     "data": {
      "text/html": [
       "<table border='1'>\n",
       "<tr><th>nome</th><th>altura</th><th>peso</th></tr>\n",
       "<tr><td>Pietra Fernandes</td><td>176</td><td>97.88</td></tr>\n",
       "<tr><td>Ana J&uacute;lia da Rosa</td><td>163</td><td>80.56</td></tr>\n",
       "<tr><td>Fernando Martins</td><td>150</td><td>85.55</td></tr>\n",
       "<tr><td>Isis Silveira</td><td>173</td><td>70.1</td></tr>\n",
       "<tr><td>Cec&iacute;lia Porto</td><td>190</td><td>93.42</td></tr>\n",
       "<tr><td>Sra. Bruna Almeida</td><td>198</td><td>73.07</td></tr>\n",
       "<tr><td>Maria Julia Silva</td><td>170</td><td>71.36</td></tr>\n",
       "<tr><td>Pedro Henrique da...</td><td>188</td><td>105.57</td></tr>\n",
       "<tr><td>Davi Lucas Campos</td><td>180</td><td>98.49</td></tr>\n",
       "<tr><td>Juan Gon&ccedil;alves</td><td>175</td><td>71.87</td></tr>\n",
       "</table>\n"
      ],
      "text/plain": [
       "+--------------------+------+------+\n",
       "|                nome|altura|  peso|\n",
       "+--------------------+------+------+\n",
       "|    Pietra Fernandes|   176| 97.88|\n",
       "|   Ana Júlia da Rosa|   163| 80.56|\n",
       "|    Fernando Martins|   150| 85.55|\n",
       "|       Isis Silveira|   173|  70.1|\n",
       "|       Cecília Porto|   190| 93.42|\n",
       "|  Sra. Bruna Almeida|   198| 73.07|\n",
       "|   Maria Julia Silva|   170| 71.36|\n",
       "|Pedro Henrique da...|   188|105.57|\n",
       "|   Davi Lucas Campos|   180| 98.49|\n",
       "|      Juan Gonçalves|   175| 71.87|\n",
       "+--------------------+------+------+"
      ]
     },
     "execution_count": 81,
     "metadata": {},
     "output_type": "execute_result"
    }
   ],
   "source": [
    "df"
   ]
  },
  {
   "cell_type": "markdown",
   "id": "fcf034c4-b833-473b-90f8-67596ce0b7fd",
   "metadata": {},
   "source": [
    "### Arredondamento com **round()**\n",
    "- Função: **F.round()** arredonda o valor da coluna **peso** para o número de casas decimais especificado (neste caso, 1 casa decimal).\n",
    "- **Exemplo:** Se o valor da coluna **peso** for, por exemplo, 72.456, o resultado será 72.5."
   ]
  },
  {
   "cell_type": "code",
   "execution_count": 82,
   "id": "1a25c008-8a20-448d-9110-a3f8a7ac1f9e",
   "metadata": {
    "scrolled": true
   },
   "outputs": [
    {
     "data": {
      "text/html": [
       "<table border='1'>\n",
       "<tr><th>nome</th><th>altura</th><th>peso</th><th>round</th></tr>\n",
       "<tr><td>Pietra Fernandes</td><td>176</td><td>97.88</td><td>97.9</td></tr>\n",
       "<tr><td>Ana J&uacute;lia da Rosa</td><td>163</td><td>80.56</td><td>80.6</td></tr>\n",
       "<tr><td>Fernando Martins</td><td>150</td><td>85.55</td><td>85.6</td></tr>\n",
       "<tr><td>Isis Silveira</td><td>173</td><td>70.1</td><td>70.1</td></tr>\n",
       "<tr><td>Cec&iacute;lia Porto</td><td>190</td><td>93.42</td><td>93.4</td></tr>\n",
       "<tr><td>Sra. Bruna Almeida</td><td>198</td><td>73.07</td><td>73.1</td></tr>\n",
       "<tr><td>Maria Julia Silva</td><td>170</td><td>71.36</td><td>71.4</td></tr>\n",
       "<tr><td>Pedro Henrique da...</td><td>188</td><td>105.57</td><td>105.6</td></tr>\n",
       "<tr><td>Davi Lucas Campos</td><td>180</td><td>98.49</td><td>98.5</td></tr>\n",
       "<tr><td>Juan Gon&ccedil;alves</td><td>175</td><td>71.87</td><td>71.9</td></tr>\n",
       "</table>\n"
      ],
      "text/plain": [
       "+--------------------+------+------+-----+\n",
       "|                nome|altura|  peso|round|\n",
       "+--------------------+------+------+-----+\n",
       "|    Pietra Fernandes|   176| 97.88| 97.9|\n",
       "|   Ana Júlia da Rosa|   163| 80.56| 80.6|\n",
       "|    Fernando Martins|   150| 85.55| 85.6|\n",
       "|       Isis Silveira|   173|  70.1| 70.1|\n",
       "|       Cecília Porto|   190| 93.42| 93.4|\n",
       "|  Sra. Bruna Almeida|   198| 73.07| 73.1|\n",
       "|   Maria Julia Silva|   170| 71.36| 71.4|\n",
       "|Pedro Henrique da...|   188|105.57|105.6|\n",
       "|   Davi Lucas Campos|   180| 98.49| 98.5|\n",
       "|      Juan Gonçalves|   175| 71.87| 71.9|\n",
       "+--------------------+------+------+-----+"
      ]
     },
     "execution_count": 82,
     "metadata": {},
     "output_type": "execute_result"
    }
   ],
   "source": [
    "(\n",
    "    df\n",
    "    .withColumn(\"round\", F.round(F.col(\"peso\"), 1))\n",
    ")"
   ]
  },
  {
   "cell_type": "markdown",
   "id": "bcb3017d-a832-474a-bec2-129b150afa7b",
   "metadata": {},
   "source": [
    "### Arredondamento para o valor superior com **ceil()**\n",
    "- Função: **F.ceil()** arredonda o valor da coluna **peso** para o próximo número inteiro superior.\n",
    "- **Exemplo:** Se o valor da coluna **peso** for, por exemplo, **72.456**, o resultado será **73**."
   ]
  },
  {
   "cell_type": "code",
   "execution_count": 83,
   "id": "c9459bd9-7e01-4e60-970b-dd0f0533d397",
   "metadata": {
    "scrolled": true
   },
   "outputs": [
    {
     "data": {
      "text/html": [
       "<table border='1'>\n",
       "<tr><th>nome</th><th>altura</th><th>peso</th><th>ceil</th></tr>\n",
       "<tr><td>Pietra Fernandes</td><td>176</td><td>97.88</td><td>98</td></tr>\n",
       "<tr><td>Ana J&uacute;lia da Rosa</td><td>163</td><td>80.56</td><td>81</td></tr>\n",
       "<tr><td>Fernando Martins</td><td>150</td><td>85.55</td><td>86</td></tr>\n",
       "<tr><td>Isis Silveira</td><td>173</td><td>70.1</td><td>71</td></tr>\n",
       "<tr><td>Cec&iacute;lia Porto</td><td>190</td><td>93.42</td><td>94</td></tr>\n",
       "<tr><td>Sra. Bruna Almeida</td><td>198</td><td>73.07</td><td>74</td></tr>\n",
       "<tr><td>Maria Julia Silva</td><td>170</td><td>71.36</td><td>72</td></tr>\n",
       "<tr><td>Pedro Henrique da...</td><td>188</td><td>105.57</td><td>106</td></tr>\n",
       "<tr><td>Davi Lucas Campos</td><td>180</td><td>98.49</td><td>99</td></tr>\n",
       "<tr><td>Juan Gon&ccedil;alves</td><td>175</td><td>71.87</td><td>72</td></tr>\n",
       "</table>\n"
      ],
      "text/plain": [
       "+--------------------+------+------+----+\n",
       "|                nome|altura|  peso|ceil|\n",
       "+--------------------+------+------+----+\n",
       "|    Pietra Fernandes|   176| 97.88|  98|\n",
       "|   Ana Júlia da Rosa|   163| 80.56|  81|\n",
       "|    Fernando Martins|   150| 85.55|  86|\n",
       "|       Isis Silveira|   173|  70.1|  71|\n",
       "|       Cecília Porto|   190| 93.42|  94|\n",
       "|  Sra. Bruna Almeida|   198| 73.07|  74|\n",
       "|   Maria Julia Silva|   170| 71.36|  72|\n",
       "|Pedro Henrique da...|   188|105.57| 106|\n",
       "|   Davi Lucas Campos|   180| 98.49|  99|\n",
       "|      Juan Gonçalves|   175| 71.87|  72|\n",
       "+--------------------+------+------+----+"
      ]
     },
     "execution_count": 83,
     "metadata": {},
     "output_type": "execute_result"
    }
   ],
   "source": [
    "(\n",
    "    df\n",
    "    .withColumn(\"ceil\", F.ceil(F.col(\"peso\")))\n",
    ")"
   ]
  },
  {
   "cell_type": "markdown",
   "id": "5da0a23d-a31c-447c-80e1-a672a9b44c24",
   "metadata": {},
   "source": [
    "### Arredondamento para o valor inferior com **floor()**\n",
    "- Função: **F.floor()** arredonda o valor da coluna **peso** para o número inteiro inferior mais próximo.\n",
    "- **Exemplo:** Se o valor for **72.45**6, o resultado será **72**."
   ]
  },
  {
   "cell_type": "code",
   "execution_count": 84,
   "id": "98ee9e80-9b87-46d9-bfa5-7251da9dcb16",
   "metadata": {},
   "outputs": [
    {
     "data": {
      "text/html": [
       "<table border='1'>\n",
       "<tr><th>nome</th><th>altura</th><th>peso</th><th>floor</th></tr>\n",
       "<tr><td>Pietra Fernandes</td><td>176</td><td>97.88</td><td>97</td></tr>\n",
       "<tr><td>Ana J&uacute;lia da Rosa</td><td>163</td><td>80.56</td><td>80</td></tr>\n",
       "<tr><td>Fernando Martins</td><td>150</td><td>85.55</td><td>85</td></tr>\n",
       "<tr><td>Isis Silveira</td><td>173</td><td>70.1</td><td>70</td></tr>\n",
       "<tr><td>Cec&iacute;lia Porto</td><td>190</td><td>93.42</td><td>93</td></tr>\n",
       "<tr><td>Sra. Bruna Almeida</td><td>198</td><td>73.07</td><td>73</td></tr>\n",
       "<tr><td>Maria Julia Silva</td><td>170</td><td>71.36</td><td>71</td></tr>\n",
       "<tr><td>Pedro Henrique da...</td><td>188</td><td>105.57</td><td>105</td></tr>\n",
       "<tr><td>Davi Lucas Campos</td><td>180</td><td>98.49</td><td>98</td></tr>\n",
       "<tr><td>Juan Gon&ccedil;alves</td><td>175</td><td>71.87</td><td>71</td></tr>\n",
       "</table>\n"
      ],
      "text/plain": [
       "+--------------------+------+------+-----+\n",
       "|                nome|altura|  peso|floor|\n",
       "+--------------------+------+------+-----+\n",
       "|    Pietra Fernandes|   176| 97.88|   97|\n",
       "|   Ana Júlia da Rosa|   163| 80.56|   80|\n",
       "|    Fernando Martins|   150| 85.55|   85|\n",
       "|       Isis Silveira|   173|  70.1|   70|\n",
       "|       Cecília Porto|   190| 93.42|   93|\n",
       "|  Sra. Bruna Almeida|   198| 73.07|   73|\n",
       "|   Maria Julia Silva|   170| 71.36|   71|\n",
       "|Pedro Henrique da...|   188|105.57|  105|\n",
       "|   Davi Lucas Campos|   180| 98.49|   98|\n",
       "|      Juan Gonçalves|   175| 71.87|   71|\n",
       "+--------------------+------+------+-----+"
      ]
     },
     "execution_count": 84,
     "metadata": {},
     "output_type": "execute_result"
    }
   ],
   "source": [
    "(\n",
    "    df\n",
    "    .withColumn(\"floor\", F.floor(F.col(\"peso\")))\n",
    ")"
   ]
  },
  {
   "cell_type": "markdown",
   "id": "61fed8ae-9be4-49e4-a6c6-71fc07762904",
   "metadata": {},
   "source": [
    "### Criação de valor negativo e módulo \"valor absoluto\" (abs)\n",
    "- Função: **F.abs()** retorna o valor absoluto da coluna **altura**, ou seja, transforma números negativos em positivos.\n",
    "- Criei uma coluna chamada **altura_negativa** como exemplo para demonstra."
   ]
  },
  {
   "cell_type": "code",
   "execution_count": 85,
   "id": "4daeaf19-849e-416a-881e-8d907ca9490c",
   "metadata": {
    "scrolled": true
   },
   "outputs": [
    {
     "data": {
      "text/html": [
       "<table border='1'>\n",
       "<tr><th>nome</th><th>altura</th><th>peso</th><th>altura_negaviva</th><th>abs</th></tr>\n",
       "<tr><td>Pietra Fernandes</td><td>176</td><td>97.88</td><td>-176</td><td>176</td></tr>\n",
       "<tr><td>Ana J&uacute;lia da Rosa</td><td>163</td><td>80.56</td><td>-163</td><td>163</td></tr>\n",
       "<tr><td>Fernando Martins</td><td>150</td><td>85.55</td><td>-150</td><td>150</td></tr>\n",
       "<tr><td>Isis Silveira</td><td>173</td><td>70.1</td><td>-173</td><td>173</td></tr>\n",
       "<tr><td>Cec&iacute;lia Porto</td><td>190</td><td>93.42</td><td>-190</td><td>190</td></tr>\n",
       "<tr><td>Sra. Bruna Almeida</td><td>198</td><td>73.07</td><td>-198</td><td>198</td></tr>\n",
       "<tr><td>Maria Julia Silva</td><td>170</td><td>71.36</td><td>-170</td><td>170</td></tr>\n",
       "<tr><td>Pedro Henrique da...</td><td>188</td><td>105.57</td><td>-188</td><td>188</td></tr>\n",
       "<tr><td>Davi Lucas Campos</td><td>180</td><td>98.49</td><td>-180</td><td>180</td></tr>\n",
       "<tr><td>Juan Gon&ccedil;alves</td><td>175</td><td>71.87</td><td>-175</td><td>175</td></tr>\n",
       "</table>\n"
      ],
      "text/plain": [
       "+--------------------+------+------+---------------+---+\n",
       "|                nome|altura|  peso|altura_negaviva|abs|\n",
       "+--------------------+------+------+---------------+---+\n",
       "|    Pietra Fernandes|   176| 97.88|           -176|176|\n",
       "|   Ana Júlia da Rosa|   163| 80.56|           -163|163|\n",
       "|    Fernando Martins|   150| 85.55|           -150|150|\n",
       "|       Isis Silveira|   173|  70.1|           -173|173|\n",
       "|       Cecília Porto|   190| 93.42|           -190|190|\n",
       "|  Sra. Bruna Almeida|   198| 73.07|           -198|198|\n",
       "|   Maria Julia Silva|   170| 71.36|           -170|170|\n",
       "|Pedro Henrique da...|   188|105.57|           -188|188|\n",
       "|   Davi Lucas Campos|   180| 98.49|           -180|180|\n",
       "|      Juan Gonçalves|   175| 71.87|           -175|175|\n",
       "+--------------------+------+------+---------------+---+"
      ]
     },
     "execution_count": 85,
     "metadata": {},
     "output_type": "execute_result"
    }
   ],
   "source": [
    "(\n",
    "    df\n",
    "    # criei a coluna altura_negaviva de exemplo\n",
    "    .withColumn(\"altura_negaviva\", -F.col(\"altura\"))\n",
    "    .withColumn(\"abs\", F.abs(F.col(\"altura\")))\n",
    ")"
   ]
  },
  {
   "cell_type": "markdown",
   "id": "a82ccf95-50d0-4281-b7ae-1e53452c0e61",
   "metadata": {},
   "source": [
    "### Potência e Raiz Quadrada\n",
    "- Função: **F.pow(coluna, expoente)** eleva o valor da coluna **peso** ao quadrado.\n",
    "- **F.sqrt()** retorna a raiz quadrada da coluna **pow_peso**."
   ]
  },
  {
   "cell_type": "code",
   "execution_count": 86,
   "id": "ca21e646-50c0-4bee-8ede-8cc3f209612d",
   "metadata": {},
   "outputs": [
    {
     "data": {
      "text/html": [
       "<table border='1'>\n",
       "<tr><th>nome</th><th>altura</th><th>peso</th><th>pow_peso</th><th>sqrt_pow</th></tr>\n",
       "<tr><td>Pietra Fernandes</td><td>176</td><td>97.88</td><td>9580.4944</td><td>97.88</td></tr>\n",
       "<tr><td>Ana J&uacute;lia da Rosa</td><td>163</td><td>80.56</td><td>6489.913600000001</td><td>80.56</td></tr>\n",
       "<tr><td>Fernando Martins</td><td>150</td><td>85.55</td><td>7318.8025</td><td>85.55</td></tr>\n",
       "<tr><td>Isis Silveira</td><td>173</td><td>70.1</td><td>4914.009999999999</td><td>70.1</td></tr>\n",
       "<tr><td>Cec&iacute;lia Porto</td><td>190</td><td>93.42</td><td>8727.296400000001</td><td>93.42</td></tr>\n",
       "<tr><td>Sra. Bruna Almeida</td><td>198</td><td>73.07</td><td>5339.224899999999</td><td>73.07</td></tr>\n",
       "<tr><td>Maria Julia Silva</td><td>170</td><td>71.36</td><td>5092.2496</td><td>71.36</td></tr>\n",
       "<tr><td>Pedro Henrique da...</td><td>188</td><td>105.57</td><td>11145.024899999999</td><td>105.57</td></tr>\n",
       "<tr><td>Davi Lucas Campos</td><td>180</td><td>98.49</td><td>9700.280099999998</td><td>98.49</td></tr>\n",
       "<tr><td>Juan Gon&ccedil;alves</td><td>175</td><td>71.87</td><td>5165.2969</td><td>71.87</td></tr>\n",
       "</table>\n"
      ],
      "text/plain": [
       "+--------------------+------+------+------------------+--------+\n",
       "|                nome|altura|  peso|          pow_peso|sqrt_pow|\n",
       "+--------------------+------+------+------------------+--------+\n",
       "|    Pietra Fernandes|   176| 97.88|         9580.4944|   97.88|\n",
       "|   Ana Júlia da Rosa|   163| 80.56| 6489.913600000001|   80.56|\n",
       "|    Fernando Martins|   150| 85.55|         7318.8025|   85.55|\n",
       "|       Isis Silveira|   173|  70.1| 4914.009999999999|    70.1|\n",
       "|       Cecília Porto|   190| 93.42| 8727.296400000001|   93.42|\n",
       "|  Sra. Bruna Almeida|   198| 73.07| 5339.224899999999|   73.07|\n",
       "|   Maria Julia Silva|   170| 71.36|         5092.2496|   71.36|\n",
       "|Pedro Henrique da...|   188|105.57|11145.024899999999|  105.57|\n",
       "|   Davi Lucas Campos|   180| 98.49| 9700.280099999998|   98.49|\n",
       "|      Juan Gonçalves|   175| 71.87|         5165.2969|   71.87|\n",
       "+--------------------+------+------+------------------+--------+"
      ]
     },
     "execution_count": 86,
     "metadata": {},
     "output_type": "execute_result"
    }
   ],
   "source": [
    "(\n",
    "    df\n",
    "    .withColumn(\"pow_peso\", F.pow(F.col(\"peso\"), 2))\n",
    "    .withColumn(\"sqrt_pow\", F.sqrt(F.col(\"pow_peso\")))\n",
    ")"
   ]
  },
  {
   "cell_type": "markdown",
   "id": "bc7ffec2-850f-4baa-9c49-9442925bb738",
   "metadata": {},
   "source": [
    "### Cálculo do IMC (Índice de Massa Corporal)\n",
    "- Altura convertida para metros: **F.col(\"altura\") / 100**\n",
    "- Altura ao quadrado: **F.pow(F.col(\"altura\") / 100, 2)**\n",
    "- Divisão do peso pela altura ao quadrado: **F.col(\"peso\") / F.pow(F.col(\"altura\") / 100, 2)**\n",
    "- Arredondamento do resultado: **F.round(..., 2)**"
   ]
  },
  {
   "cell_type": "code",
   "execution_count": 87,
   "id": "f0baff03-9d24-490e-8cb3-531860354fd5",
   "metadata": {},
   "outputs": [
    {
     "data": {
      "text/html": [
       "<table border='1'>\n",
       "<tr><th>nome</th><th>altura</th><th>peso</th><th>imc</th></tr>\n",
       "<tr><td>Pietra Fernandes</td><td>176</td><td>97.88</td><td>31.6</td></tr>\n",
       "<tr><td>Ana J&uacute;lia da Rosa</td><td>163</td><td>80.56</td><td>30.32</td></tr>\n",
       "<tr><td>Fernando Martins</td><td>150</td><td>85.55</td><td>38.02</td></tr>\n",
       "<tr><td>Isis Silveira</td><td>173</td><td>70.1</td><td>23.42</td></tr>\n",
       "<tr><td>Cec&iacute;lia Porto</td><td>190</td><td>93.42</td><td>25.88</td></tr>\n",
       "<tr><td>Sra. Bruna Almeida</td><td>198</td><td>73.07</td><td>18.64</td></tr>\n",
       "<tr><td>Maria Julia Silva</td><td>170</td><td>71.36</td><td>24.69</td></tr>\n",
       "<tr><td>Pedro Henrique da...</td><td>188</td><td>105.57</td><td>29.87</td></tr>\n",
       "<tr><td>Davi Lucas Campos</td><td>180</td><td>98.49</td><td>30.4</td></tr>\n",
       "<tr><td>Juan Gon&ccedil;alves</td><td>175</td><td>71.87</td><td>23.47</td></tr>\n",
       "</table>\n"
      ],
      "text/plain": [
       "+--------------------+------+------+-----+\n",
       "|                nome|altura|  peso|  imc|\n",
       "+--------------------+------+------+-----+\n",
       "|    Pietra Fernandes|   176| 97.88| 31.6|\n",
       "|   Ana Júlia da Rosa|   163| 80.56|30.32|\n",
       "|    Fernando Martins|   150| 85.55|38.02|\n",
       "|       Isis Silveira|   173|  70.1|23.42|\n",
       "|       Cecília Porto|   190| 93.42|25.88|\n",
       "|  Sra. Bruna Almeida|   198| 73.07|18.64|\n",
       "|   Maria Julia Silva|   170| 71.36|24.69|\n",
       "|Pedro Henrique da...|   188|105.57|29.87|\n",
       "|   Davi Lucas Campos|   180| 98.49| 30.4|\n",
       "|      Juan Gonçalves|   175| 71.87|23.47|\n",
       "+--------------------+------+------+-----+"
      ]
     },
     "execution_count": 87,
     "metadata": {},
     "output_type": "execute_result"
    }
   ],
   "source": [
    "(\n",
    "    df\n",
    "    .withColumn(\"imc\", F.round(F.col(\"peso\") / F.pow(F.col(\"altura\") / 100, 2), 2))\n",
    ")"
   ]
  }
 ],
 "metadata": {
  "kernelspec": {
   "display_name": "Python 3 (ipykernel)",
   "language": "python",
   "name": "python3"
  },
  "language_info": {
   "codemirror_mode": {
    "name": "ipython",
    "version": 3
   },
   "file_extension": ".py",
   "mimetype": "text/x-python",
   "name": "python",
   "nbconvert_exporter": "python",
   "pygments_lexer": "ipython3",
   "version": "3.12.7"
  }
 },
 "nbformat": 4,
 "nbformat_minor": 5
}
