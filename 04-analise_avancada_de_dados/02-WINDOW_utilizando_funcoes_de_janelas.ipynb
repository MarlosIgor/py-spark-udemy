{
 "cells": [
  {
   "cell_type": "code",
   "execution_count": 1,
   "id": "07f04c0e-29c3-456e-a802-2b7356a46d91",
   "metadata": {},
   "outputs": [],
   "source": [
    "from pyspark.sql import SparkSession\n",
    "import pyspark.sql.functions as F"
   ]
  },
  {
   "cell_type": "code",
   "execution_count": 2,
   "id": "7fe7a6c6-633f-44ff-b86f-8c16fdb8a7ab",
   "metadata": {},
   "outputs": [],
   "source": [
    "spark = (\n",
    "    SparkSession.builder\n",
    "    .appName(\"Curso de PySpark\")\n",
    "    .config(\"spark.sql.repl.eagerEval.enabled\", True)\n",
    "    .getOrCreate()\n",
    ")"
   ]
  },
  {
   "cell_type": "code",
   "execution_count": 3,
   "id": "3e287b72-a2ee-40c7-aa94-721ef9b7a85a",
   "metadata": {},
   "outputs": [
    {
     "data": {
      "text/html": [
       "\n",
       "            <div>\n",
       "                <p><b>SparkSession - in-memory</b></p>\n",
       "                \n",
       "        <div>\n",
       "            <p><b>SparkContext</b></p>\n",
       "\n",
       "            <p><a href=\"http://COLTWFGLFV04:4041\">Spark UI</a></p>\n",
       "\n",
       "            <dl>\n",
       "              <dt>Version</dt>\n",
       "                <dd><code>v3.5.5</code></dd>\n",
       "              <dt>Master</dt>\n",
       "                <dd><code>local[*]</code></dd>\n",
       "              <dt>AppName</dt>\n",
       "                <dd><code>Curso de PySpark</code></dd>\n",
       "            </dl>\n",
       "        </div>\n",
       "        \n",
       "            </div>\n",
       "        "
      ],
      "text/plain": [
       "<pyspark.sql.session.SparkSession at 0x19e902aa780>"
      ]
     },
     "execution_count": 3,
     "metadata": {},
     "output_type": "execute_result"
    }
   ],
   "source": [
    "spark"
   ]
  },
  {
   "cell_type": "code",
   "execution_count": 5,
   "id": "4e530345-1bb2-4d21-b141-9aee68fc8cd5",
   "metadata": {},
   "outputs": [],
   "source": [
    "compras = spark.read.parquet(\"C:/Users/marlos.barros/Cursos/pyspark_na_pratica/DATASETS/COMPRAS.parquet\").select(\"id\",\"data\",\"cd_livro\",\"cd_cliente\").alias(\"compras\")\n",
    "livros = spark.read.parquet(\"C:/Users/marlos.barros/Cursos/pyspark_na_pratica/DATASETS/LIVROS.parquet\").select(\"id\", \"data_lancamento\", \"preco\").alias(\"livros\")\n",
    "autores = spark.read.parquet(\"C:/Users/marlos.barros/Cursos/pyspark_na_pratica/DATASETS/AUTORES.parquet\").alias(\"autores\")"
   ]
  },
  {
   "cell_type": "markdown",
   "id": "c7ac01c3-1861-4b08-9c95-1e320106f337",
   "metadata": {},
   "source": [
    "### Join entre tabelas e Drop de IDs repetidos\n",
    "- Função: Realiza um **join** entre as tabelas **compras**, **livros** e **autores**, usando chaves de ligação entre as tabelas **(compras.cd_livro == livros.id e livros.id == autores.id)**. Depois, **remove as colunas id duplicadas de livros e autores**, que já não são mais necessárias no DataFrame resultante."
   ]
  },
  {
   "cell_type": "code",
   "execution_count": 9,
   "id": "326880c2-bac1-40c2-8498-1b746302d079",
   "metadata": {
    "scrolled": true
   },
   "outputs": [
    {
     "data": {
      "text/html": [
       "<table border='1'>\n",
       "<tr><th>id</th><th>data</th><th>cd_livro</th><th>cd_cliente</th><th>id</th><th>data_lancamento</th><th>preco</th><th>id</th><th>titulo</th><th>autor</th></tr>\n",
       "<tr><td>012389</td><td>2021-07-24</td><td>030334762</td><td>3339828</td><td>030334762</td><td>2013-05-08</td><td>123.47</td><td>030334762</td><td>Em Busca do Tempo...</td><td>Marcel Proust</td></tr>\n",
       "<tr><td>012534</td><td>2021-07-15</td><td>014347542</td><td>7799936</td><td>014347542</td><td>2007-04-05</td><td>182.43</td><td>014347542</td><td>Fogo Morto&nbsp;</td><td>Jos&eacute; Lins do Rego</td></tr>\n",
       "<tr><td>012574</td><td>2020-05-19</td><td>010325500</td><td>6273720</td><td>010325500</td><td>2000-09-09</td><td>30.62</td><td>010325500</td><td>A Obscena Senhora D&nbsp;</td><td>Hilda Hilst</td></tr>\n",
       "<tr><td>012675</td><td>2021-07-11</td><td>035940339</td><td>649001</td><td>035940339</td><td>2014-08-11</td><td>213.6</td><td>035940339</td><td>Adeus &agrave;s Armas&nbsp;</td><td>Ernest Hemingway</td></tr>\n",
       "<tr><td>013457</td><td>2021-10-26</td><td>021006591</td><td>4312106</td><td>021006591</td><td>2019-02-24</td><td>96.84</td><td>021006591</td><td>Paulic&eacute;ia Desvair...</td><td>M&aacute;rio de Andrade</td></tr>\n",
       "<tr><td>013478</td><td>2020-05-10</td><td>019488257</td><td>670483</td><td>019488257</td><td>2013-05-19</td><td>17.11</td><td>019488257</td><td>O &Oacute;dio que Voc&ecirc; S...</td><td>Angie Thomas</td></tr>\n",
       "<tr><td>013562</td><td>2021-10-28</td><td>035940339</td><td>1275633</td><td>035940339</td><td>2014-08-11</td><td>213.6</td><td>035940339</td><td>Adeus &agrave;s Armas&nbsp;</td><td>Ernest Hemingway</td></tr>\n",
       "<tr><td>013679</td><td>2020-10-19</td><td>030144651</td><td>1261140</td><td>030144651</td><td>2011-04-14</td><td>242.2</td><td>030144651</td><td>Zero&nbsp;</td><td>Ign&aacute;cio De Loyola...</td></tr>\n",
       "<tr><td>013687</td><td>2020-05-29</td><td>021923195</td><td>4098904</td><td>021923195</td><td>2015-02-22</td><td>38.89</td><td>021923195</td><td>O Ex-M&aacute;gico&nbsp;</td><td>Murilo Rubi&atilde;o</td></tr>\n",
       "<tr><td>013796</td><td>2021-10-15</td><td>016778973</td><td>4024706</td><td>016778973</td><td>2017-06-23</td><td>99.81</td><td>016778973</td><td>Crime e Castigo&nbsp;</td><td>Fi&oacute;dor Dostoi&eacute;vski</td></tr>\n",
       "<tr><td>013872</td><td>2021-08-22</td><td>019488257</td><td>6697506</td><td>019488257</td><td>2013-05-19</td><td>17.11</td><td>019488257</td><td>O &Oacute;dio que Voc&ecirc; S...</td><td>Angie Thomas</td></tr>\n",
       "<tr><td>013926</td><td>2022-01-01</td><td>010325500</td><td>7857991</td><td>010325500</td><td>2000-09-09</td><td>30.62</td><td>010325500</td><td>A Obscena Senhora D&nbsp;</td><td>Hilda Hilst</td></tr>\n",
       "<tr><td>014638</td><td>2022-05-25</td><td>036896107</td><td>5628104</td><td>036896107</td><td>2005-12-08</td><td>174.92</td><td>036896107</td><td>Mem&oacute;rias Sentimen...</td><td>Oswald de Andrade</td></tr>\n",
       "<tr><td>014837</td><td>2020-08-12</td><td>020414016</td><td>6349397</td><td>020414016</td><td>2011-06-09</td><td>212.1</td><td>020414016</td><td>Vidas Secas&nbsp;</td><td>Graciliano Ramos</td></tr>\n",
       "<tr><td>014973</td><td>2022-09-20</td><td>017551704</td><td>6204999</td><td>017551704</td><td>2018-10-19</td><td>44.38</td><td>017551704</td><td>200 Cr&ocirc;nicas Esco...</td><td>Rubem Braga</td></tr>\n",
       "<tr><td>015238</td><td>2022-07-17</td><td>035940339</td><td>7564726</td><td>035940339</td><td>2014-08-11</td><td>213.6</td><td>035940339</td><td>Adeus &agrave;s Armas&nbsp;</td><td>Ernest Hemingway</td></tr>\n",
       "<tr><td>015769</td><td>2020-04-27</td><td>020396192</td><td>7001961</td><td>020396192</td><td>2018-12-21</td><td>71.89</td><td>020396192</td><td>O Picapau Amarelo&nbsp;</td><td>Monteiro Lobato</td></tr>\n",
       "<tr><td>015846</td><td>2021-01-06</td><td>036030824</td><td>1086227</td><td>036030824</td><td>2005-01-26</td><td>226.36</td><td>036030824</td><td>Tremor de Terra&nbsp;</td><td>Luiz Vilela</td></tr>\n",
       "<tr><td>015863</td><td>2021-04-08</td><td>019488257</td><td>53125</td><td>019488257</td><td>2013-05-19</td><td>17.11</td><td>019488257</td><td>O &Oacute;dio que Voc&ecirc; S...</td><td>Angie Thomas</td></tr>\n",
       "<tr><td>015938</td><td>2022-04-17</td><td>017063409</td><td>6085405</td><td>017063409</td><td>2015-06-29</td><td>212.35</td><td>017063409</td><td>Anna Karenina&nbsp;</td><td>Lev Tolst&oacute;i</td></tr>\n",
       "</table>\n",
       "only showing top 20 rows\n"
      ],
      "text/plain": [
       "+------+----------+---------+----------+---------+---------------+------+---------+--------------------+--------------------+\n",
       "|    id|      data| cd_livro|cd_cliente|       id|data_lancamento| preco|       id|              titulo|               autor|\n",
       "+------+----------+---------+----------+---------+---------------+------+---------+--------------------+--------------------+\n",
       "|012389|2021-07-24|030334762|   3339828|030334762|     2013-05-08|123.47|030334762|Em Busca do Tempo...|       Marcel Proust|\n",
       "|012534|2021-07-15|014347542|   7799936|014347542|     2007-04-05|182.43|014347542|         Fogo Morto |   José Lins do Rego|\n",
       "|012574|2020-05-19|010325500|   6273720|010325500|     2000-09-09| 30.62|010325500|A Obscena Senhora D |         Hilda Hilst|\n",
       "|012675|2021-07-11|035940339|    649001|035940339|     2014-08-11| 213.6|035940339|     Adeus às Armas |    Ernest Hemingway|\n",
       "|013457|2021-10-26|021006591|   4312106|021006591|     2019-02-24| 96.84|021006591|Paulicéia Desvair...|    Mário de Andrade|\n",
       "|013478|2020-05-10|019488257|    670483|019488257|     2013-05-19| 17.11|019488257|O Ódio que Você S...|        Angie Thomas|\n",
       "|013562|2021-10-28|035940339|   1275633|035940339|     2014-08-11| 213.6|035940339|     Adeus às Armas |    Ernest Hemingway|\n",
       "|013679|2020-10-19|030144651|   1261140|030144651|     2011-04-14| 242.2|030144651|               Zero |Ignácio De Loyola...|\n",
       "|013687|2020-05-29|021923195|   4098904|021923195|     2015-02-22| 38.89|021923195|        O Ex-Mágico |       Murilo Rubião|\n",
       "|013796|2021-10-15|016778973|   4024706|016778973|     2017-06-23| 99.81|016778973|    Crime e Castigo |  Fiódor Dostoiévski|\n",
       "|013872|2021-08-22|019488257|   6697506|019488257|     2013-05-19| 17.11|019488257|O Ódio que Você S...|        Angie Thomas|\n",
       "|013926|2022-01-01|010325500|   7857991|010325500|     2000-09-09| 30.62|010325500|A Obscena Senhora D |         Hilda Hilst|\n",
       "|014638|2022-05-25|036896107|   5628104|036896107|     2005-12-08|174.92|036896107|Memórias Sentimen...|   Oswald de Andrade|\n",
       "|014837|2020-08-12|020414016|   6349397|020414016|     2011-06-09| 212.1|020414016|        Vidas Secas |    Graciliano Ramos|\n",
       "|014973|2022-09-20|017551704|   6204999|017551704|     2018-10-19| 44.38|017551704|200 Crônicas Esco...|         Rubem Braga|\n",
       "|015238|2022-07-17|035940339|   7564726|035940339|     2014-08-11| 213.6|035940339|     Adeus às Armas |    Ernest Hemingway|\n",
       "|015769|2020-04-27|020396192|   7001961|020396192|     2018-12-21| 71.89|020396192|  O Picapau Amarelo |     Monteiro Lobato|\n",
       "|015846|2021-01-06|036030824|   1086227|036030824|     2005-01-26|226.36|036030824|    Tremor de Terra |         Luiz Vilela|\n",
       "|015863|2021-04-08|019488257|     53125|019488257|     2013-05-19| 17.11|019488257|O Ódio que Você S...|        Angie Thomas|\n",
       "|015938|2022-04-17|017063409|   6085405|017063409|     2015-06-29|212.35|017063409|      Anna Karenina |         Lev Tolstói|\n",
       "+------+----------+---------+----------+---------+---------------+------+---------+--------------------+--------------------+\n",
       "only showing top 20 rows"
      ]
     },
     "execution_count": 9,
     "metadata": {},
     "output_type": "execute_result"
    }
   ],
   "source": [
    "df = compras.join(livros, compras.cd_livro == livros.id, \"inner\").join(autores, livros.id == autores.id, \"inner\").drop(\"livros.id\",\"autores.id\")\n",
    "df"
   ]
  },
  {
   "cell_type": "markdown",
   "id": "88ca6a90-f9f9-4364-81e6-4c5eeff48208",
   "metadata": {},
   "source": [
    "### Janela com row_number para numerar linhas por ID de compra e ordem de compra por cliente\n",
    "- **window_1**: Cria uma janela para **ordenar as linhas pelo ID da compra**.\n",
    "- **window_2**: Cria uma janela que **agrupa os dados pelo código do cliente (cd_cliente) e ordena as compras pela data**.\n",
    "- **num_linha**: Adiciona uma nova **coluna** com a **numeração de cada linha**, usando **row_number()** sobre **window_1**, que numera as linhas de acordo com o **ID da compra**.\n",
    "- **ordem_compra**: Adiciona uma nova **coluna** para **indicar a ordem** em que cada **cliente** fez suas **compras**, de acordo com a **data**."
   ]
  },
  {
   "cell_type": "code",
   "execution_count": 10,
   "id": "12cbc013-295d-4ec0-8a87-f5dc3b80febf",
   "metadata": {},
   "outputs": [],
   "source": [
    "from pyspark.sql.window import Window"
   ]
  },
  {
   "cell_type": "code",
   "execution_count": 23,
   "id": "a3b6c5b5-331e-4e39-991c-b039384eb6b0",
   "metadata": {},
   "outputs": [],
   "source": [
    "window_1 = Window.orderBy(\"compras.id\")\n",
    "window_2 = Window.partitionBy(\"cd_cliente\").orderBy(\"data\")"
   ]
  },
  {
   "cell_type": "code",
   "execution_count": 24,
   "id": "b10ebee5-4d65-4b25-892b-ac8ebc806de3",
   "metadata": {
    "scrolled": true
   },
   "outputs": [
    {
     "data": {
      "text/html": [
       "<table border='1'>\n",
       "<tr><th>id</th><th>data</th><th>cd_livro</th><th>cd_cliente</th><th>id</th><th>data_lancamento</th><th>preco</th><th>id</th><th>titulo</th><th>autor</th><th>num_linha</th><th>ordem_compra</th></tr>\n",
       "<tr><td>184365</td><td>2020-10-31</td><td>100520231</td><td>1010444</td><td>100520231</td><td>2009-08-17</td><td>35.55</td><td>100520231</td><td>Gal&aacute;xias&nbsp;</td><td>Haroldo de Campos</td><td>3330</td><td>1</td></tr>\n",
       "<tr><td>162408</td><td>2021-06-16</td><td>036059407</td><td>1010444</td><td>036059407</td><td>2021-01-20</td><td>222.98</td><td>036059407</td><td>As Hist&oacute;rias Comp...</td><td>Franz Kafka</td><td>2874</td><td>2</td></tr>\n",
       "<tr><td>629783</td><td>2021-09-14</td><td>016581063</td><td>1010444</td><td>016581063</td><td>2013-05-16</td><td>145.25</td><td>016581063</td><td>Macuna&iacute;ma &ndash; O Her...</td><td>M&aacute;rio de Andrade</td><td>11521</td><td>3</td></tr>\n",
       "<tr><td>594608</td><td>2021-10-11</td><td>030099528</td><td>1010444</td><td>030099528</td><td>2000-02-06</td><td>208.39</td><td>030099528</td><td>Retrato do Artist...</td><td>James Joyce</td><td>10824</td><td>4</td></tr>\n",
       "<tr><td>561293</td><td>2021-11-02</td><td>030144651</td><td>1010444</td><td>030144651</td><td>2011-04-14</td><td>242.2</td><td>030144651</td><td>Zero&nbsp;</td><td>Ign&aacute;cio De Loyola...</td><td>10118</td><td>5</td></tr>\n",
       "<tr><td>648950</td><td>2022-01-15</td><td>022112497</td><td>1010444</td><td>022112497</td><td>2021-01-06</td><td>10.84</td><td>022112497</td><td>Mrs Dalloway&nbsp;</td><td>Virginia Woolf</td><td>11896</td><td>6</td></tr>\n",
       "<tr><td>184567</td><td>2022-03-29</td><td>020414016</td><td>1010444</td><td>020414016</td><td>2011-06-09</td><td>212.1</td><td>020414016</td><td>Vidas Secas&nbsp;</td><td>Graciliano Ramos</td><td>3335</td><td>7</td></tr>\n",
       "<tr><td>026947</td><td>2022-05-04</td><td>036030824</td><td>1010444</td><td>036030824</td><td>2005-01-26</td><td>226.36</td><td>036030824</td><td>Tremor de Terra&nbsp;</td><td>Luiz Vilela</td><td>317</td><td>8</td></tr>\n",
       "<tr><td>472081</td><td>2022-06-19</td><td>026925428</td><td>1010444</td><td>026925428</td><td>2011-09-04</td><td>193.19</td><td>026925428</td><td>Sing, Unburied, S...</td><td>Jesmyn Ward</td><td>8520</td><td>9</td></tr>\n",
       "<tr><td>027189</td><td>2022-06-26</td><td>012489208</td><td>1010444</td><td>012489208</td><td>2011-10-30</td><td>160.53</td><td>012489208</td><td>Triste Fim de Pol...</td><td>Lima Barreto</td><td>322</td><td>10</td></tr>\n",
       "<tr><td>394678</td><td>2022-07-07</td><td>012489208</td><td>1010444</td><td>012489208</td><td>2011-10-30</td><td>160.53</td><td>012489208</td><td>Triste Fim de Pol...</td><td>Lima Barreto</td><td>7111</td><td>11</td></tr>\n",
       "<tr><td>845072</td><td>2023-03-11</td><td>060875372</td><td>1010444</td><td>060875372</td><td>2016-08-14</td><td>247.14</td><td>060875372</td><td>O Sonho da C&acirc;mara...</td><td>Cao Xueqin</td><td>15506</td><td>12</td></tr>\n",
       "<tr><td>397624</td><td>2020-05-25</td><td>019328498</td><td>1012185</td><td>019328498</td><td>2018-10-20</td><td>95.59</td><td>019328498</td><td>Serm&otilde;es&nbsp;</td><td>Padre Vieira</td><td>7194</td><td>1</td></tr>\n",
       "<tr><td>238450</td><td>2020-06-13</td><td>028590563</td><td>1012185</td><td>028590563</td><td>2017-10-01</td><td>18.31</td><td>028590563</td><td>Br&aacute;s, Bexiga e Ba...</td><td>Ant&ocirc;nio de Alc&acirc;nt...</td><td>4212</td><td>2</td></tr>\n",
       "<tr><td>201586</td><td>2020-09-01</td><td>069309548</td><td>1012185</td><td>069309548</td><td>2004-02-01</td><td>196.92</td><td>069309548</td><td>Os Melhores Conto...</td><td>Edgar Allan Poe</td><td>3659</td><td>3</td></tr>\n",
       "<tr><td>734085</td><td>2020-11-03</td><td>016581063</td><td>1012185</td><td>016581063</td><td>2013-05-16</td><td>145.25</td><td>016581063</td><td>Macuna&iacute;ma &ndash; O Her...</td><td>M&aacute;rio de Andrade</td><td>13416</td><td>4</td></tr>\n",
       "<tr><td>801632</td><td>2020-12-07</td><td>036896107</td><td>1012185</td><td>036896107</td><td>2005-12-08</td><td>174.92</td><td>036896107</td><td>Mem&oacute;rias Sentimen...</td><td>Oswald de Andrade</td><td>14597</td><td>5</td></tr>\n",
       "<tr><td>315209</td><td>2020-12-23</td><td>017101222</td><td>1012185</td><td>017101222</td><td>2009-10-05</td><td>24.87</td><td>017101222</td><td>Retrato de Uma Se...</td><td>Henry James</td><td>5744</td><td>6</td></tr>\n",
       "<tr><td>706354</td><td>2021-01-04</td><td>013465823</td><td>1012185</td><td>013465823</td><td>2017-05-13</td><td>54.54</td><td>013465823</td><td>O Quinze&nbsp;</td><td>Rachel de Queiroz</td><td>12859</td><td>7</td></tr>\n",
       "<tr><td>485162</td><td>2021-04-29</td><td>030144651</td><td>1012185</td><td>030144651</td><td>2011-04-14</td><td>242.2</td><td>030144651</td><td>Zero&nbsp;</td><td>Ign&aacute;cio De Loyola...</td><td>8755</td><td>8</td></tr>\n",
       "</table>\n",
       "only showing top 20 rows\n"
      ],
      "text/plain": [
       "+------+----------+---------+----------+---------+---------------+------+---------+--------------------+--------------------+---------+------------+\n",
       "|    id|      data| cd_livro|cd_cliente|       id|data_lancamento| preco|       id|              titulo|               autor|num_linha|ordem_compra|\n",
       "+------+----------+---------+----------+---------+---------------+------+---------+--------------------+--------------------+---------+------------+\n",
       "|184365|2020-10-31|100520231|   1010444|100520231|     2009-08-17| 35.55|100520231|           Galáxias |   Haroldo de Campos|     3330|           1|\n",
       "|162408|2021-06-16|036059407|   1010444|036059407|     2021-01-20|222.98|036059407|As Histórias Comp...|         Franz Kafka|     2874|           2|\n",
       "|629783|2021-09-14|016581063|   1010444|016581063|     2013-05-16|145.25|016581063|Macunaíma – O Her...|    Mário de Andrade|    11521|           3|\n",
       "|594608|2021-10-11|030099528|   1010444|030099528|     2000-02-06|208.39|030099528|Retrato do Artist...|         James Joyce|    10824|           4|\n",
       "|561293|2021-11-02|030144651|   1010444|030144651|     2011-04-14| 242.2|030144651|               Zero |Ignácio De Loyola...|    10118|           5|\n",
       "|648950|2022-01-15|022112497|   1010444|022112497|     2021-01-06| 10.84|022112497|       Mrs Dalloway |      Virginia Woolf|    11896|           6|\n",
       "|184567|2022-03-29|020414016|   1010444|020414016|     2011-06-09| 212.1|020414016|        Vidas Secas |    Graciliano Ramos|     3335|           7|\n",
       "|026947|2022-05-04|036030824|   1010444|036030824|     2005-01-26|226.36|036030824|    Tremor de Terra |         Luiz Vilela|      317|           8|\n",
       "|472081|2022-06-19|026925428|   1010444|026925428|     2011-09-04|193.19|026925428|Sing, Unburied, S...|         Jesmyn Ward|     8520|           9|\n",
       "|027189|2022-06-26|012489208|   1010444|012489208|     2011-10-30|160.53|012489208|Triste Fim de Pol...|        Lima Barreto|      322|          10|\n",
       "|394678|2022-07-07|012489208|   1010444|012489208|     2011-10-30|160.53|012489208|Triste Fim de Pol...|        Lima Barreto|     7111|          11|\n",
       "|845072|2023-03-11|060875372|   1010444|060875372|     2016-08-14|247.14|060875372|O Sonho da Câmara...|          Cao Xueqin|    15506|          12|\n",
       "|397624|2020-05-25|019328498|   1012185|019328498|     2018-10-20| 95.59|019328498|            Sermões |        Padre Vieira|     7194|           1|\n",
       "|238450|2020-06-13|028590563|   1012185|028590563|     2017-10-01| 18.31|028590563|Brás, Bexiga e Ba...|Antônio de Alcânt...|     4212|           2|\n",
       "|201586|2020-09-01|069309548|   1012185|069309548|     2004-02-01|196.92|069309548|Os Melhores Conto...|     Edgar Allan Poe|     3659|           3|\n",
       "|734085|2020-11-03|016581063|   1012185|016581063|     2013-05-16|145.25|016581063|Macunaíma – O Her...|    Mário de Andrade|    13416|           4|\n",
       "|801632|2020-12-07|036896107|   1012185|036896107|     2005-12-08|174.92|036896107|Memórias Sentimen...|   Oswald de Andrade|    14597|           5|\n",
       "|315209|2020-12-23|017101222|   1012185|017101222|     2009-10-05| 24.87|017101222|Retrato de Uma Se...|         Henry James|     5744|           6|\n",
       "|706354|2021-01-04|013465823|   1012185|013465823|     2017-05-13| 54.54|013465823|           O Quinze |   Rachel de Queiroz|    12859|           7|\n",
       "|485162|2021-04-29|030144651|   1012185|030144651|     2011-04-14| 242.2|030144651|               Zero |Ignácio De Loyola...|     8755|           8|\n",
       "+------+----------+---------+----------+---------+---------------+------+---------+--------------------+--------------------+---------+------------+\n",
       "only showing top 20 rows"
      ]
     },
     "execution_count": 24,
     "metadata": {},
     "output_type": "execute_result"
    }
   ],
   "source": [
    "(\n",
    "    df\n",
    "    .withColumn(\"num_linha\", F.row_number().over(window_1))\n",
    "    .withColumn(\"ordem_compra\", F.row_number().over(window_2))\n",
    ")"
   ]
  },
  {
   "cell_type": "markdown",
   "id": "927362a9-8a21-4556-920c-7242b61310a7",
   "metadata": {},
   "source": [
    "### Janela para ordenação por autor e data de lançamento\n",
    "- **window_3**: Cria uma janela que **agrupa os dados pelo autor** e **ordena os livros de cada autor** pela **data de lançamento (data_lancamento)**.\n",
    "- **ordem_lancamento**: Adiciona uma **coluna** que **indica a ordem de lançamento dos livros de cada autor**."
   ]
  },
  {
   "cell_type": "code",
   "execution_count": 29,
   "id": "ce1c38d2-1e61-49a4-9cbb-9e3a0edc31c6",
   "metadata": {},
   "outputs": [],
   "source": [
    "window_1 = Window.orderBy(\"compras.id\")\n",
    "window_3 = Window.partitionBy(\"autor\").orderBy(\"data_lancamento\")"
   ]
  },
  {
   "cell_type": "code",
   "execution_count": 30,
   "id": "2877fa93-8ce9-46e5-bd65-38210af2cfa0",
   "metadata": {
    "scrolled": true
   },
   "outputs": [
    {
     "data": {
      "text/html": [
       "<table border='1'>\n",
       "<tr><th>id</th><th>data</th><th>cd_livro</th><th>cd_cliente</th><th>id</th><th>data_lancamento</th><th>preco</th><th>id</th><th>titulo</th><th>autor</th><th>num_linha</th><th>ordem_lancamento</th></tr>\n",
       "<tr><td>016345</td><td>2021-05-14</td><td>022360906</td><td>7760116</td><td>022360906</td><td>2000-08-21</td><td>26.58</td><td>022360906</td><td>Bagagem&nbsp;</td><td>Ad&eacute;lia Prado</td><td>113</td><td>1</td></tr>\n",
       "<tr><td>016935</td><td>2020-09-08</td><td>022360906</td><td>5112548</td><td>022360906</td><td>2000-08-21</td><td>26.58</td><td>022360906</td><td>Bagagem&nbsp;</td><td>Ad&eacute;lia Prado</td><td>137</td><td>2</td></tr>\n",
       "<tr><td>017835</td><td>2021-06-17</td><td>022360906</td><td>3136976</td><td>022360906</td><td>2000-08-21</td><td>26.58</td><td>022360906</td><td>Bagagem&nbsp;</td><td>Ad&eacute;lia Prado</td><td>153</td><td>3</td></tr>\n",
       "<tr><td>026719</td><td>2022-07-03</td><td>022360906</td><td>3956557</td><td>022360906</td><td>2000-08-21</td><td>26.58</td><td>022360906</td><td>Bagagem&nbsp;</td><td>Ad&eacute;lia Prado</td><td>301</td><td>4</td></tr>\n",
       "<tr><td>026893</td><td>2020-01-12</td><td>022360906</td><td>4297935</td><td>022360906</td><td>2000-08-21</td><td>26.58</td><td>022360906</td><td>Bagagem&nbsp;</td><td>Ad&eacute;lia Prado</td><td>314</td><td>5</td></tr>\n",
       "<tr><td>031462</td><td>2022-06-15</td><td>022360906</td><td>613234</td><td>022360906</td><td>2000-08-21</td><td>26.58</td><td>022360906</td><td>Bagagem&nbsp;</td><td>Ad&eacute;lia Prado</td><td>399</td><td>6</td></tr>\n",
       "<tr><td>034792</td><td>2020-09-09</td><td>022360906</td><td>1442665</td><td>022360906</td><td>2000-08-21</td><td>26.58</td><td>022360906</td><td>Bagagem&nbsp;</td><td>Ad&eacute;lia Prado</td><td>457</td><td>7</td></tr>\n",
       "<tr><td>038126</td><td>2022-11-29</td><td>022360906</td><td>7241902</td><td>022360906</td><td>2000-08-21</td><td>26.58</td><td>022360906</td><td>Bagagem&nbsp;</td><td>Ad&eacute;lia Prado</td><td>543</td><td>8</td></tr>\n",
       "<tr><td>041567</td><td>2020-04-22</td><td>022360906</td><td>742676</td><td>022360906</td><td>2000-08-21</td><td>26.58</td><td>022360906</td><td>Bagagem&nbsp;</td><td>Ad&eacute;lia Prado</td><td>607</td><td>9</td></tr>\n",
       "<tr><td>043275</td><td>2022-06-11</td><td>022360906</td><td>5348711</td><td>022360906</td><td>2000-08-21</td><td>26.58</td><td>022360906</td><td>Bagagem&nbsp;</td><td>Ad&eacute;lia Prado</td><td>649</td><td>10</td></tr>\n",
       "<tr><td>051729</td><td>2021-07-16</td><td>022360906</td><td>3945329</td><td>022360906</td><td>2000-08-21</td><td>26.58</td><td>022360906</td><td>Bagagem&nbsp;</td><td>Ad&eacute;lia Prado</td><td>828</td><td>11</td></tr>\n",
       "<tr><td>052196</td><td>2022-06-05</td><td>022360906</td><td>4657042</td><td>022360906</td><td>2000-08-21</td><td>26.58</td><td>022360906</td><td>Bagagem&nbsp;</td><td>Ad&eacute;lia Prado</td><td>839</td><td>12</td></tr>\n",
       "<tr><td>053984</td><td>2020-11-23</td><td>022360906</td><td>128047</td><td>022360906</td><td>2000-08-21</td><td>26.58</td><td>022360906</td><td>Bagagem&nbsp;</td><td>Ad&eacute;lia Prado</td><td>892</td><td>13</td></tr>\n",
       "<tr><td>058173</td><td>2021-02-28</td><td>022360906</td><td>5769630</td><td>022360906</td><td>2000-08-21</td><td>26.58</td><td>022360906</td><td>Bagagem&nbsp;</td><td>Ad&eacute;lia Prado</td><td>957</td><td>14</td></tr>\n",
       "<tr><td>062895</td><td>2020-11-20</td><td>022360906</td><td>1058117</td><td>022360906</td><td>2000-08-21</td><td>26.58</td><td>022360906</td><td>Bagagem&nbsp;</td><td>Ad&eacute;lia Prado</td><td>1061</td><td>15</td></tr>\n",
       "<tr><td>064359</td><td>2022-07-19</td><td>022360906</td><td>3443569</td><td>022360906</td><td>2000-08-21</td><td>26.58</td><td>022360906</td><td>Bagagem&nbsp;</td><td>Ad&eacute;lia Prado</td><td>1103</td><td>16</td></tr>\n",
       "<tr><td>071354</td><td>2022-06-25</td><td>022360906</td><td>1052974</td><td>022360906</td><td>2000-08-21</td><td>26.58</td><td>022360906</td><td>Bagagem&nbsp;</td><td>Ad&eacute;lia Prado</td><td>1242</td><td>17</td></tr>\n",
       "<tr><td>072159</td><td>2020-04-11</td><td>022360906</td><td>7241902</td><td>022360906</td><td>2000-08-21</td><td>26.58</td><td>022360906</td><td>Bagagem&nbsp;</td><td>Ad&eacute;lia Prado</td><td>1264</td><td>18</td></tr>\n",
       "<tr><td>073124</td><td>2020-05-20</td><td>022360906</td><td>6100692</td><td>022360906</td><td>2000-08-21</td><td>26.58</td><td>022360906</td><td>Bagagem&nbsp;</td><td>Ad&eacute;lia Prado</td><td>1280</td><td>19</td></tr>\n",
       "<tr><td>078153</td><td>2021-07-03</td><td>022360906</td><td>2307076</td><td>022360906</td><td>2000-08-21</td><td>26.58</td><td>022360906</td><td>Bagagem&nbsp;</td><td>Ad&eacute;lia Prado</td><td>1396</td><td>20</td></tr>\n",
       "</table>\n",
       "only showing top 20 rows\n"
      ],
      "text/plain": [
       "+------+----------+---------+----------+---------+---------------+-----+---------+--------+------------+---------+----------------+\n",
       "|    id|      data| cd_livro|cd_cliente|       id|data_lancamento|preco|       id|  titulo|       autor|num_linha|ordem_lancamento|\n",
       "+------+----------+---------+----------+---------+---------------+-----+---------+--------+------------+---------+----------------+\n",
       "|016345|2021-05-14|022360906|   7760116|022360906|     2000-08-21|26.58|022360906|Bagagem |Adélia Prado|      113|               1|\n",
       "|016935|2020-09-08|022360906|   5112548|022360906|     2000-08-21|26.58|022360906|Bagagem |Adélia Prado|      137|               2|\n",
       "|017835|2021-06-17|022360906|   3136976|022360906|     2000-08-21|26.58|022360906|Bagagem |Adélia Prado|      153|               3|\n",
       "|026719|2022-07-03|022360906|   3956557|022360906|     2000-08-21|26.58|022360906|Bagagem |Adélia Prado|      301|               4|\n",
       "|026893|2020-01-12|022360906|   4297935|022360906|     2000-08-21|26.58|022360906|Bagagem |Adélia Prado|      314|               5|\n",
       "|031462|2022-06-15|022360906|    613234|022360906|     2000-08-21|26.58|022360906|Bagagem |Adélia Prado|      399|               6|\n",
       "|034792|2020-09-09|022360906|   1442665|022360906|     2000-08-21|26.58|022360906|Bagagem |Adélia Prado|      457|               7|\n",
       "|038126|2022-11-29|022360906|   7241902|022360906|     2000-08-21|26.58|022360906|Bagagem |Adélia Prado|      543|               8|\n",
       "|041567|2020-04-22|022360906|    742676|022360906|     2000-08-21|26.58|022360906|Bagagem |Adélia Prado|      607|               9|\n",
       "|043275|2022-06-11|022360906|   5348711|022360906|     2000-08-21|26.58|022360906|Bagagem |Adélia Prado|      649|              10|\n",
       "|051729|2021-07-16|022360906|   3945329|022360906|     2000-08-21|26.58|022360906|Bagagem |Adélia Prado|      828|              11|\n",
       "|052196|2022-06-05|022360906|   4657042|022360906|     2000-08-21|26.58|022360906|Bagagem |Adélia Prado|      839|              12|\n",
       "|053984|2020-11-23|022360906|    128047|022360906|     2000-08-21|26.58|022360906|Bagagem |Adélia Prado|      892|              13|\n",
       "|058173|2021-02-28|022360906|   5769630|022360906|     2000-08-21|26.58|022360906|Bagagem |Adélia Prado|      957|              14|\n",
       "|062895|2020-11-20|022360906|   1058117|022360906|     2000-08-21|26.58|022360906|Bagagem |Adélia Prado|     1061|              15|\n",
       "|064359|2022-07-19|022360906|   3443569|022360906|     2000-08-21|26.58|022360906|Bagagem |Adélia Prado|     1103|              16|\n",
       "|071354|2022-06-25|022360906|   1052974|022360906|     2000-08-21|26.58|022360906|Bagagem |Adélia Prado|     1242|              17|\n",
       "|072159|2020-04-11|022360906|   7241902|022360906|     2000-08-21|26.58|022360906|Bagagem |Adélia Prado|     1264|              18|\n",
       "|073124|2020-05-20|022360906|   6100692|022360906|     2000-08-21|26.58|022360906|Bagagem |Adélia Prado|     1280|              19|\n",
       "|078153|2021-07-03|022360906|   2307076|022360906|     2000-08-21|26.58|022360906|Bagagem |Adélia Prado|     1396|              20|\n",
       "+------+----------+---------+----------+---------+---------------+-----+---------+--------+------------+---------+----------------+\n",
       "only showing top 20 rows"
      ]
     },
     "execution_count": 30,
     "metadata": {},
     "output_type": "execute_result"
    }
   ],
   "source": [
    "(\n",
    "    df\n",
    "    .withColumn(\"num_linha\", F.row_number().over(window_1))\n",
    "    .withColumn(\"ordem_lancamento\", F.row_number().over(window_3))\n",
    ")"
   ]
  },
  {
   "cell_type": "markdown",
   "id": "ca369e2c-c87c-47d4-8aeb-9aaf8103832e",
   "metadata": {},
   "source": [
    "### Total acumulado por cliente com janela\n",
    "- **total_acumulado_cliente**: Adiciona uma **coluna** que **calcula o total acumulado gasto por cada cliente em suas compras**. Usando a função **F.sum(\"preco\").over(window_2)**, o **total é somado de forma incremental para cada cliente**, sendo **arredondado para duas casas decimais com F.round()**."
   ]
  },
  {
   "cell_type": "code",
   "execution_count": 33,
   "id": "cecad793-f1e4-487b-bdf4-25dd3a40c413",
   "metadata": {},
   "outputs": [],
   "source": [
    "window_1 = Window.orderBy(\"compras.id\")\n",
    "window_2 = Window.partitionBy(\"cd_cliente\").orderBy(\"data\")"
   ]
  },
  {
   "cell_type": "code",
   "execution_count": 35,
   "id": "c8d8ea4e-ac38-4c34-a286-20e5dac8c24b",
   "metadata": {
    "scrolled": true
   },
   "outputs": [
    {
     "data": {
      "text/html": [
       "<table border='1'>\n",
       "<tr><th>id</th><th>data</th><th>cd_livro</th><th>cd_cliente</th><th>id</th><th>data_lancamento</th><th>preco</th><th>id</th><th>titulo</th><th>autor</th><th>num_linha</th><th>ordem_compra</th><th>total_acumulado_cliente</th></tr>\n",
       "<tr><td>184365</td><td>2020-10-31</td><td>100520231</td><td>1010444</td><td>100520231</td><td>2009-08-17</td><td>35.55</td><td>100520231</td><td>Gal&aacute;xias&nbsp;</td><td>Haroldo de Campos</td><td>3330</td><td>1</td><td>35.55</td></tr>\n",
       "<tr><td>162408</td><td>2021-06-16</td><td>036059407</td><td>1010444</td><td>036059407</td><td>2021-01-20</td><td>222.98</td><td>036059407</td><td>As Hist&oacute;rias Comp...</td><td>Franz Kafka</td><td>2874</td><td>2</td><td>258.53</td></tr>\n",
       "<tr><td>629783</td><td>2021-09-14</td><td>016581063</td><td>1010444</td><td>016581063</td><td>2013-05-16</td><td>145.25</td><td>016581063</td><td>Macuna&iacute;ma &ndash; O Her...</td><td>M&aacute;rio de Andrade</td><td>11521</td><td>3</td><td>403.78</td></tr>\n",
       "<tr><td>594608</td><td>2021-10-11</td><td>030099528</td><td>1010444</td><td>030099528</td><td>2000-02-06</td><td>208.39</td><td>030099528</td><td>Retrato do Artist...</td><td>James Joyce</td><td>10824</td><td>4</td><td>612.17</td></tr>\n",
       "<tr><td>561293</td><td>2021-11-02</td><td>030144651</td><td>1010444</td><td>030144651</td><td>2011-04-14</td><td>242.2</td><td>030144651</td><td>Zero&nbsp;</td><td>Ign&aacute;cio De Loyola...</td><td>10118</td><td>5</td><td>854.37</td></tr>\n",
       "<tr><td>648950</td><td>2022-01-15</td><td>022112497</td><td>1010444</td><td>022112497</td><td>2021-01-06</td><td>10.84</td><td>022112497</td><td>Mrs Dalloway&nbsp;</td><td>Virginia Woolf</td><td>11896</td><td>6</td><td>865.21</td></tr>\n",
       "<tr><td>184567</td><td>2022-03-29</td><td>020414016</td><td>1010444</td><td>020414016</td><td>2011-06-09</td><td>212.1</td><td>020414016</td><td>Vidas Secas&nbsp;</td><td>Graciliano Ramos</td><td>3335</td><td>7</td><td>1077.31</td></tr>\n",
       "<tr><td>026947</td><td>2022-05-04</td><td>036030824</td><td>1010444</td><td>036030824</td><td>2005-01-26</td><td>226.36</td><td>036030824</td><td>Tremor de Terra&nbsp;</td><td>Luiz Vilela</td><td>317</td><td>8</td><td>1303.67</td></tr>\n",
       "<tr><td>472081</td><td>2022-06-19</td><td>026925428</td><td>1010444</td><td>026925428</td><td>2011-09-04</td><td>193.19</td><td>026925428</td><td>Sing, Unburied, S...</td><td>Jesmyn Ward</td><td>8520</td><td>9</td><td>1496.86</td></tr>\n",
       "<tr><td>027189</td><td>2022-06-26</td><td>012489208</td><td>1010444</td><td>012489208</td><td>2011-10-30</td><td>160.53</td><td>012489208</td><td>Triste Fim de Pol...</td><td>Lima Barreto</td><td>322</td><td>10</td><td>1657.39</td></tr>\n",
       "<tr><td>394678</td><td>2022-07-07</td><td>012489208</td><td>1010444</td><td>012489208</td><td>2011-10-30</td><td>160.53</td><td>012489208</td><td>Triste Fim de Pol...</td><td>Lima Barreto</td><td>7111</td><td>11</td><td>1817.92</td></tr>\n",
       "<tr><td>845072</td><td>2023-03-11</td><td>060875372</td><td>1010444</td><td>060875372</td><td>2016-08-14</td><td>247.14</td><td>060875372</td><td>O Sonho da C&acirc;mara...</td><td>Cao Xueqin</td><td>15506</td><td>12</td><td>2065.06</td></tr>\n",
       "<tr><td>397624</td><td>2020-05-25</td><td>019328498</td><td>1012185</td><td>019328498</td><td>2018-10-20</td><td>95.59</td><td>019328498</td><td>Serm&otilde;es&nbsp;</td><td>Padre Vieira</td><td>7194</td><td>1</td><td>95.59</td></tr>\n",
       "<tr><td>238450</td><td>2020-06-13</td><td>028590563</td><td>1012185</td><td>028590563</td><td>2017-10-01</td><td>18.31</td><td>028590563</td><td>Br&aacute;s, Bexiga e Ba...</td><td>Ant&ocirc;nio de Alc&acirc;nt...</td><td>4212</td><td>2</td><td>113.9</td></tr>\n",
       "<tr><td>201586</td><td>2020-09-01</td><td>069309548</td><td>1012185</td><td>069309548</td><td>2004-02-01</td><td>196.92</td><td>069309548</td><td>Os Melhores Conto...</td><td>Edgar Allan Poe</td><td>3659</td><td>3</td><td>310.82</td></tr>\n",
       "<tr><td>734085</td><td>2020-11-03</td><td>016581063</td><td>1012185</td><td>016581063</td><td>2013-05-16</td><td>145.25</td><td>016581063</td><td>Macuna&iacute;ma &ndash; O Her...</td><td>M&aacute;rio de Andrade</td><td>13416</td><td>4</td><td>456.07</td></tr>\n",
       "<tr><td>801632</td><td>2020-12-07</td><td>036896107</td><td>1012185</td><td>036896107</td><td>2005-12-08</td><td>174.92</td><td>036896107</td><td>Mem&oacute;rias Sentimen...</td><td>Oswald de Andrade</td><td>14597</td><td>5</td><td>630.99</td></tr>\n",
       "<tr><td>315209</td><td>2020-12-23</td><td>017101222</td><td>1012185</td><td>017101222</td><td>2009-10-05</td><td>24.87</td><td>017101222</td><td>Retrato de Uma Se...</td><td>Henry James</td><td>5744</td><td>6</td><td>655.86</td></tr>\n",
       "<tr><td>706354</td><td>2021-01-04</td><td>013465823</td><td>1012185</td><td>013465823</td><td>2017-05-13</td><td>54.54</td><td>013465823</td><td>O Quinze&nbsp;</td><td>Rachel de Queiroz</td><td>12859</td><td>7</td><td>710.4</td></tr>\n",
       "<tr><td>485162</td><td>2021-04-29</td><td>030144651</td><td>1012185</td><td>030144651</td><td>2011-04-14</td><td>242.2</td><td>030144651</td><td>Zero&nbsp;</td><td>Ign&aacute;cio De Loyola...</td><td>8755</td><td>8</td><td>952.6</td></tr>\n",
       "</table>\n",
       "only showing top 20 rows\n"
      ],
      "text/plain": [
       "+------+----------+---------+----------+---------+---------------+------+---------+--------------------+--------------------+---------+------------+-----------------------+\n",
       "|    id|      data| cd_livro|cd_cliente|       id|data_lancamento| preco|       id|              titulo|               autor|num_linha|ordem_compra|total_acumulado_cliente|\n",
       "+------+----------+---------+----------+---------+---------------+------+---------+--------------------+--------------------+---------+------------+-----------------------+\n",
       "|184365|2020-10-31|100520231|   1010444|100520231|     2009-08-17| 35.55|100520231|           Galáxias |   Haroldo de Campos|     3330|           1|                  35.55|\n",
       "|162408|2021-06-16|036059407|   1010444|036059407|     2021-01-20|222.98|036059407|As Histórias Comp...|         Franz Kafka|     2874|           2|                 258.53|\n",
       "|629783|2021-09-14|016581063|   1010444|016581063|     2013-05-16|145.25|016581063|Macunaíma – O Her...|    Mário de Andrade|    11521|           3|                 403.78|\n",
       "|594608|2021-10-11|030099528|   1010444|030099528|     2000-02-06|208.39|030099528|Retrato do Artist...|         James Joyce|    10824|           4|                 612.17|\n",
       "|561293|2021-11-02|030144651|   1010444|030144651|     2011-04-14| 242.2|030144651|               Zero |Ignácio De Loyola...|    10118|           5|                 854.37|\n",
       "|648950|2022-01-15|022112497|   1010444|022112497|     2021-01-06| 10.84|022112497|       Mrs Dalloway |      Virginia Woolf|    11896|           6|                 865.21|\n",
       "|184567|2022-03-29|020414016|   1010444|020414016|     2011-06-09| 212.1|020414016|        Vidas Secas |    Graciliano Ramos|     3335|           7|                1077.31|\n",
       "|026947|2022-05-04|036030824|   1010444|036030824|     2005-01-26|226.36|036030824|    Tremor de Terra |         Luiz Vilela|      317|           8|                1303.67|\n",
       "|472081|2022-06-19|026925428|   1010444|026925428|     2011-09-04|193.19|026925428|Sing, Unburied, S...|         Jesmyn Ward|     8520|           9|                1496.86|\n",
       "|027189|2022-06-26|012489208|   1010444|012489208|     2011-10-30|160.53|012489208|Triste Fim de Pol...|        Lima Barreto|      322|          10|                1657.39|\n",
       "|394678|2022-07-07|012489208|   1010444|012489208|     2011-10-30|160.53|012489208|Triste Fim de Pol...|        Lima Barreto|     7111|          11|                1817.92|\n",
       "|845072|2023-03-11|060875372|   1010444|060875372|     2016-08-14|247.14|060875372|O Sonho da Câmara...|          Cao Xueqin|    15506|          12|                2065.06|\n",
       "|397624|2020-05-25|019328498|   1012185|019328498|     2018-10-20| 95.59|019328498|            Sermões |        Padre Vieira|     7194|           1|                  95.59|\n",
       "|238450|2020-06-13|028590563|   1012185|028590563|     2017-10-01| 18.31|028590563|Brás, Bexiga e Ba...|Antônio de Alcânt...|     4212|           2|                  113.9|\n",
       "|201586|2020-09-01|069309548|   1012185|069309548|     2004-02-01|196.92|069309548|Os Melhores Conto...|     Edgar Allan Poe|     3659|           3|                 310.82|\n",
       "|734085|2020-11-03|016581063|   1012185|016581063|     2013-05-16|145.25|016581063|Macunaíma – O Her...|    Mário de Andrade|    13416|           4|                 456.07|\n",
       "|801632|2020-12-07|036896107|   1012185|036896107|     2005-12-08|174.92|036896107|Memórias Sentimen...|   Oswald de Andrade|    14597|           5|                 630.99|\n",
       "|315209|2020-12-23|017101222|   1012185|017101222|     2009-10-05| 24.87|017101222|Retrato de Uma Se...|         Henry James|     5744|           6|                 655.86|\n",
       "|706354|2021-01-04|013465823|   1012185|013465823|     2017-05-13| 54.54|013465823|           O Quinze |   Rachel de Queiroz|    12859|           7|                  710.4|\n",
       "|485162|2021-04-29|030144651|   1012185|030144651|     2011-04-14| 242.2|030144651|               Zero |Ignácio De Loyola...|     8755|           8|                  952.6|\n",
       "+------+----------+---------+----------+---------+---------------+------+---------+--------------------+--------------------+---------+------------+-----------------------+\n",
       "only showing top 20 rows"
      ]
     },
     "execution_count": 35,
     "metadata": {},
     "output_type": "execute_result"
    }
   ],
   "source": [
    "(\n",
    "    df\n",
    "    .withColumn(\"num_linha\", F.row_number().over(window_1))\n",
    "    .withColumn(\"ordem_compra\", F.row_number().over(window_2))\n",
    "    .withColumn(\"total_acumulado_cliente\", F.round(F.sum(\"preco\").over(window_2), 2))\n",
    ")"
   ]
  }
 ],
 "metadata": {
  "kernelspec": {
   "display_name": "Python 3 (ipykernel)",
   "language": "python",
   "name": "python3"
  },
  "language_info": {
   "codemirror_mode": {
    "name": "ipython",
    "version": 3
   },
   "file_extension": ".py",
   "mimetype": "text/x-python",
   "name": "python",
   "nbconvert_exporter": "python",
   "pygments_lexer": "ipython3",
   "version": "3.12.7"
  }
 },
 "nbformat": 4,
 "nbformat_minor": 5
}
